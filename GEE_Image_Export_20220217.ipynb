{
  "nbformat": 4,
  "nbformat_minor": 0,
  "metadata": {
    "colab": {
      "name": "GEE_Image_Export_20220217.ipynb",
      "provenance": [],
      "collapsed_sections": [],
      "mount_file_id": "1gDrVNNrzwu7hG2zeKpQ5EHGwOvIJCKV4",
      "authorship_tag": "ABX9TyNQRZOE3K0W2VP7zsJLTKGE",
      "include_colab_link": true
    },
    "kernelspec": {
      "name": "python3",
      "display_name": "Python 3"
    },
    "language_info": {
      "name": "python"
    },
    "widgets": {
      "application/vnd.jupyter.widget-state+json": {
        "1b146fa34b1542b6ba4a8c1d06309c95": {
          "model_module": "jupyter-leaflet",
          "model_name": "LeafletMapModel",
          "model_module_version": "^0.15.0",
          "state": {
            "_view_name": "LeafletMapView",
            "keyboard_pan_offset": 80,
            "right": 20200,
            "tap": true,
            "_view_module": "jupyter-leaflet",
            "max_zoom": 24,
            "_model_module_version": "^0.15.0",
            "_view_count": null,
            "zoom_snap": 1,
            "min_zoom": 1,
            "bounce_at_zoom_limits": true,
            "keyboard": true,
            "north": 42.309815415686664,
            "scroll_wheel_zoom": true,
            "dragging": true,
            "_model_module": "jupyter-leaflet",
            "zoom_delta": 1,
            "close_popup_on_click": true,
            "fullscreen": false,
            "style": "IPY_MODEL_175c98f463d64212a0b2e7448a7ea0b0",
            "layout": "IPY_MODEL_65392e99226d4ac394d5613f1256c021",
            "bottom": 12726,
            "prefer_canvas": false,
            "inertia_max_speed": 1500,
            "top": 12126,
            "box_zoom": true,
            "controls": [
              "IPY_MODEL_f25fc0e12a744a318156f962345f28dc",
              "IPY_MODEL_263168f062374bab83bb3d731252f60e",
              "IPY_MODEL_0758f65a8ae74f51b442d2a2630afa76",
              "IPY_MODEL_7afa5c0de48f4899ad7357d48217b566",
              "IPY_MODEL_f36fa8406432453699ad172aaf817152",
              "IPY_MODEL_710b75b7f9234f89b99234ba7598be39",
              "IPY_MODEL_190b4750affa45bd92cbe88987c7b675",
              "IPY_MODEL_10849f5c8e414071ba17079d7e22ccb3"
            ],
            "default_style": "IPY_MODEL_5b4f99f54dd74a68a03d341044db289c",
            "east": 41.92382812500001,
            "double_click_zoom": true,
            "interpolation": "bilinear",
            "layers": [
              "IPY_MODEL_0bdc7a6407744c9cb92d0884781c31dc",
              "IPY_MODEL_1e19b6e1dc3a4acbae332bbe84176a55",
              "IPY_MODEL_859b6e3fef8c4f8cbc2f35866bfdbee8"
            ],
            "dragging_style": "IPY_MODEL_a4c941b32d364c359ece57b91e5d258e",
            "_dom_classes": [],
            "zoom_animation_threshold": 4,
            "_model_name": "LeafletMapModel",
            "zoom_start": 12,
            "modisdate": "2022-02-19",
            "keyboard_zoom_offset": 1,
            "inertia_deceleration": 3000,
            "inertia": true,
            "crs": {
              "name": "EPSG3857",
              "custom": false
            },
            "center": [
              39.824942,
              32.717443
            ],
            "zoom": 7,
            "world_copy_jump": false,
            "_view_module_version": "^0.15.0",
            "window_url": "https://xm6sl2wt808-496ff2e9c6d22116-0-colab.googleusercontent.com/outputframe.html?vrz=colab-20220217-060102-RC00_429270882",
            "tap_tolerance": 15,
            "west": 23.521728515625004,
            "touch_zoom": true,
            "options": [
              "bounce_at_zoom_limits",
              "box_zoom",
              "center",
              "close_popup_on_click",
              "double_click_zoom",
              "dragging",
              "fullscreen",
              "inertia",
              "inertia_deceleration",
              "inertia_max_speed",
              "interpolation",
              "keyboard",
              "keyboard_pan_offset",
              "keyboard_zoom_offset",
              "max_zoom",
              "min_zoom",
              "prefer_canvas",
              "scroll_wheel_zoom",
              "tap",
              "tap_tolerance",
              "touch_zoom",
              "world_copy_jump",
              "zoom",
              "zoom_animation_threshold",
              "zoom_delta",
              "zoom_snap",
              "zoom_start"
            ],
            "south": 37.2478212015543,
            "left": 18525
          }
        },
        "175c98f463d64212a0b2e7448a7ea0b0": {
          "model_module": "jupyter-leaflet",
          "model_name": "LeafletMapStyleModel",
          "model_module_version": "^0.15.0",
          "state": {
            "_view_name": "StyleView",
            "_model_name": "LeafletMapStyleModel",
            "_view_module": "@jupyter-widgets/base",
            "_model_module_version": "^0.15.0",
            "_view_count": null,
            "cursor": "grab",
            "_view_module_version": "1.2.0",
            "_model_module": "jupyter-leaflet"
          }
        },
        "65392e99226d4ac394d5613f1256c021": {
          "model_module": "@jupyter-widgets/base",
          "model_name": "LayoutModel",
          "model_module_version": "1.2.0",
          "state": {
            "_view_name": "LayoutView",
            "grid_template_rows": null,
            "right": null,
            "justify_content": null,
            "_view_module": "@jupyter-widgets/base",
            "overflow": null,
            "_model_module_version": "1.2.0",
            "_view_count": null,
            "flex_flow": null,
            "width": null,
            "min_width": null,
            "border": null,
            "align_items": null,
            "bottom": null,
            "_model_module": "@jupyter-widgets/base",
            "top": null,
            "grid_column": null,
            "overflow_y": null,
            "overflow_x": null,
            "grid_auto_flow": null,
            "grid_area": null,
            "grid_template_columns": null,
            "flex": null,
            "_model_name": "LayoutModel",
            "justify_items": null,
            "grid_row": null,
            "max_height": null,
            "align_content": null,
            "visibility": null,
            "align_self": null,
            "height": "600px",
            "min_height": null,
            "padding": null,
            "grid_auto_rows": null,
            "grid_gap": null,
            "max_width": null,
            "order": null,
            "_view_module_version": "1.2.0",
            "grid_template_areas": null,
            "object_position": null,
            "object_fit": null,
            "grid_auto_columns": null,
            "margin": null,
            "display": null,
            "left": null
          }
        },
        "f25fc0e12a744a318156f962345f28dc": {
          "model_module": "jupyter-leaflet",
          "model_name": "LeafletWidgetControlModel",
          "model_module_version": "^0.15.0",
          "state": {
            "_view_name": "LeafletWidgetControlView",
            "widget": "IPY_MODEL_95d817e69631412e8d0818489235f618",
            "_model_name": "LeafletWidgetControlModel",
            "_view_module": "jupyter-leaflet",
            "_model_module_version": "^0.15.0",
            "max_height": null,
            "_view_count": null,
            "min_height": null,
            "_view_module_version": "^0.15.0",
            "max_width": null,
            "transparent_bg": false,
            "min_width": null,
            "position": "topleft",
            "_model_module": "jupyter-leaflet",
            "options": [
              "position",
              "transparent_bg"
            ]
          }
        },
        "263168f062374bab83bb3d731252f60e": {
          "model_module": "jupyter-leaflet",
          "model_name": "LeafletZoomControlModel",
          "model_module_version": "^0.15.0",
          "state": {
            "_view_name": "LeafletZoomControlView",
            "zoom_in_title": "Zoom in",
            "_model_name": "LeafletZoomControlModel",
            "_view_module": "jupyter-leaflet",
            "_model_module_version": "^0.15.0",
            "_view_count": null,
            "_view_module_version": "^0.15.0",
            "zoom_out_title": "Zoom out",
            "position": "topleft",
            "zoom_in_text": "+",
            "_model_module": "jupyter-leaflet",
            "options": [
              "position",
              "zoom_in_text",
              "zoom_in_title",
              "zoom_out_text",
              "zoom_out_title"
            ],
            "zoom_out_text": "-"
          }
        },
        "0758f65a8ae74f51b442d2a2630afa76": {
          "model_module": "jupyter-leaflet",
          "model_name": "LeafletScaleControlModel",
          "model_module_version": "^0.15.0",
          "state": {
            "_view_name": "LeafletScaleControlView",
            "_model_name": "LeafletScaleControlModel",
            "metric": true,
            "_view_module": "jupyter-leaflet",
            "_model_module_version": "^0.15.0",
            "max_width": 100,
            "_view_count": null,
            "_view_module_version": "^0.15.0",
            "update_when_idle": false,
            "position": "bottomleft",
            "imperial": true,
            "_model_module": "jupyter-leaflet",
            "options": [
              "imperial",
              "max_width",
              "metric",
              "position",
              "update_when_idle"
            ]
          }
        },
        "7afa5c0de48f4899ad7357d48217b566": {
          "model_module": "jupyter-leaflet",
          "model_name": "LeafletFullScreenControlModel",
          "model_module_version": "^0.15.0",
          "state": {
            "_view_name": "LeafletFullScreenControlView",
            "_model_name": "LeafletFullScreenControlModel",
            "_view_module": "jupyter-leaflet",
            "_model_module_version": "^0.15.0",
            "_view_count": null,
            "_view_module_version": "^0.15.0",
            "position": "topleft",
            "_model_module": "jupyter-leaflet",
            "options": [
              "position"
            ]
          }
        },
        "f36fa8406432453699ad172aaf817152": {
          "model_module": "jupyter-leaflet",
          "model_name": "LeafletMeasureControlModel",
          "model_module_version": "^0.15.0",
          "state": {
            "_view_name": "LeafletMeasureControlView",
            "primary_area_unit": "acres",
            "capture_z_index": 10000,
            "secondary_area_unit": null,
            "primary_length_unit": "kilometers",
            "active_color": "orange",
            "_model_name": "LeafletMeasureControlModel",
            "popup_options": {
              "className": "leaflet-measure-resultpopup",
              "autoPanPadding": [
                10,
                10
              ]
            },
            "_view_module": "jupyter-leaflet",
            "_model_module_version": "^0.15.0",
            "_view_count": null,
            "_view_module_version": "^0.15.0",
            "secondary_length_unit": null,
            "completed_color": "#C8F2BE",
            "position": "bottomleft",
            "_model_module": "jupyter-leaflet",
            "options": [
              "active_color",
              "capture_z_index",
              "completed_color",
              "popup_options",
              "position",
              "primary_area_unit",
              "primary_length_unit",
              "secondary_area_unit",
              "secondary_length_unit"
            ],
            "_custom_units": {}
          }
        },
        "710b75b7f9234f89b99234ba7598be39": {
          "model_module": "jupyter-leaflet",
          "model_name": "LeafletAttributionControlModel",
          "model_module_version": "^0.15.0",
          "state": {
            "_view_name": "LeafletAttributionControlView",
            "prefix": "ipyleaflet",
            "_model_name": "LeafletAttributionControlModel",
            "_view_module": "jupyter-leaflet",
            "_model_module_version": "^0.15.0",
            "_view_count": null,
            "_view_module_version": "^0.15.0",
            "position": "bottomright",
            "_model_module": "jupyter-leaflet",
            "options": [
              "position",
              "prefix"
            ]
          }
        },
        "190b4750affa45bd92cbe88987c7b675": {
          "model_module": "jupyter-leaflet",
          "model_name": "LeafletDrawControlModel",
          "model_module_version": "^0.15.0",
          "state": {
            "_view_name": "LeafletDrawControlView",
            "polygon": {
              "shapeOptions": {}
            },
            "circlemarker": {},
            "_model_name": "LeafletDrawControlModel",
            "edit": true,
            "data": [],
            "_view_module": "jupyter-leaflet",
            "_model_module_version": "^0.15.0",
            "remove": true,
            "_view_count": null,
            "_view_module_version": "^0.15.0",
            "polyline": {
              "shapeOptions": {}
            },
            "marker": {
              "shapeOptions": {
                "color": "#3388ff"
              }
            },
            "position": "topleft",
            "circle": {
              "shapeOptions": {
                "color": "#3388ff"
              }
            },
            "_model_module": "jupyter-leaflet",
            "options": [
              "position"
            ],
            "rectangle": {
              "shapeOptions": {
                "color": "#3388ff"
              }
            }
          }
        },
        "10849f5c8e414071ba17079d7e22ccb3": {
          "model_module": "jupyter-leaflet",
          "model_name": "LeafletWidgetControlModel",
          "model_module_version": "^0.15.0",
          "state": {
            "_view_name": "LeafletWidgetControlView",
            "widget": "IPY_MODEL_5cd49a783ec94d06ab7ebcf715de4bd0",
            "_model_name": "LeafletWidgetControlModel",
            "_view_module": "jupyter-leaflet",
            "_model_module_version": "^0.15.0",
            "max_height": null,
            "_view_count": null,
            "min_height": null,
            "_view_module_version": "^0.15.0",
            "max_width": null,
            "transparent_bg": false,
            "min_width": null,
            "position": "topright",
            "_model_module": "jupyter-leaflet",
            "options": [
              "position",
              "transparent_bg"
            ]
          }
        },
        "5b4f99f54dd74a68a03d341044db289c": {
          "model_module": "jupyter-leaflet",
          "model_name": "LeafletMapStyleModel",
          "model_module_version": "^0.15.0",
          "state": {
            "_view_name": "StyleView",
            "_model_name": "LeafletMapStyleModel",
            "_view_module": "@jupyter-widgets/base",
            "_model_module_version": "^0.15.0",
            "_view_count": null,
            "cursor": "grab",
            "_view_module_version": "1.2.0",
            "_model_module": "jupyter-leaflet"
          }
        },
        "0bdc7a6407744c9cb92d0884781c31dc": {
          "model_module": "jupyter-leaflet",
          "model_name": "LeafletTileLayerModel",
          "model_module_version": "^0.15.0",
          "state": {
            "_view_name": "LeafletTileLayerView",
            "_view_module": "jupyter-leaflet",
            "max_zoom": 19,
            "_model_module_version": "^0.15.0",
            "_view_count": null,
            "visible": true,
            "min_zoom": 1,
            "tms": false,
            "_model_module": "jupyter-leaflet",
            "loading": false,
            "bottom": true,
            "no_wrap": false,
            "tile_size": 256,
            "popup_min_width": 50,
            "opacity": 1,
            "popup": null,
            "attribution": "&copy; <a href=\"https://www.openstreetmap.org/copyright\">OpenStreetMap</a> contributors",
            "_model_name": "LeafletTileLayerModel",
            "max_native_zoom": 18,
            "base": true,
            "min_native_zoom": 0,
            "show_loading": false,
            "name": "OpenStreetMap.Mapnik",
            "url": "https://a.tile.openstreetmap.org/{z}/{x}/{y}.png",
            "popup_max_height": null,
            "popup_max_width": 300,
            "detect_retina": false,
            "_view_module_version": "^0.15.0",
            "options": [
              "attribution",
              "detect_retina",
              "max_native_zoom",
              "max_zoom",
              "min_native_zoom",
              "min_zoom",
              "no_wrap",
              "tile_size",
              "tms"
            ]
          }
        },
        "1e19b6e1dc3a4acbae332bbe84176a55": {
          "model_module": "jupyter-leaflet",
          "model_name": "LeafletTileLayerModel",
          "model_module_version": "^0.15.0",
          "state": {
            "_view_name": "LeafletTileLayerView",
            "_view_module": "jupyter-leaflet",
            "max_zoom": 22,
            "_model_module_version": "^0.15.0",
            "_view_count": null,
            "visible": true,
            "min_zoom": 0,
            "tms": false,
            "_model_module": "jupyter-leaflet",
            "loading": false,
            "bottom": true,
            "no_wrap": false,
            "tile_size": 256,
            "popup_min_width": 50,
            "opacity": 1,
            "popup": null,
            "attribution": "Google",
            "_model_name": "LeafletTileLayerModel",
            "max_native_zoom": 18,
            "base": false,
            "min_native_zoom": 0,
            "show_loading": false,
            "name": "Google Maps",
            "url": "https://mt1.google.com/vt/lyrs=m&x={x}&y={y}&z={z}",
            "popup_max_height": null,
            "popup_max_width": 300,
            "detect_retina": false,
            "_view_module_version": "^0.15.0",
            "options": [
              "attribution",
              "detect_retina",
              "max_native_zoom",
              "max_zoom",
              "min_native_zoom",
              "min_zoom",
              "no_wrap",
              "tile_size",
              "tms"
            ]
          }
        },
        "859b6e3fef8c4f8cbc2f35866bfdbee8": {
          "model_module": "jupyter-leaflet",
          "model_name": "LeafletTileLayerModel",
          "model_module_version": "^0.15.0",
          "state": {
            "_view_name": "LeafletTileLayerView",
            "_view_module": "jupyter-leaflet",
            "max_zoom": 24,
            "_model_module_version": "^0.15.0",
            "_view_count": null,
            "visible": true,
            "min_zoom": 0,
            "tms": false,
            "_model_module": "jupyter-leaflet",
            "loading": false,
            "bottom": true,
            "no_wrap": false,
            "tile_size": 256,
            "popup_min_width": 50,
            "opacity": 1,
            "popup": null,
            "attribution": "Google Earth Engine",
            "_model_name": "LeafletTileLayerModel",
            "max_native_zoom": 18,
            "base": false,
            "min_native_zoom": 0,
            "show_loading": false,
            "name": "S2",
            "url": "https://earthengine.googleapis.com/v1alpha/projects/earthengine-legacy/maps/11a354596ec0ea55c0ed955abdf50ad8-5644fd90288340a1b06a8b54af5d5ceb/tiles/{z}/{x}/{y}",
            "popup_max_height": null,
            "popup_max_width": 300,
            "detect_retina": false,
            "_view_module_version": "^0.15.0",
            "options": [
              "attribution",
              "detect_retina",
              "max_native_zoom",
              "max_zoom",
              "min_native_zoom",
              "min_zoom",
              "no_wrap",
              "tile_size",
              "tms"
            ]
          }
        },
        "a4c941b32d364c359ece57b91e5d258e": {
          "model_module": "jupyter-leaflet",
          "model_name": "LeafletMapStyleModel",
          "model_module_version": "^0.15.0",
          "state": {
            "_view_name": "StyleView",
            "_model_name": "LeafletMapStyleModel",
            "_view_module": "@jupyter-widgets/base",
            "_model_module_version": "^0.15.0",
            "_view_count": null,
            "cursor": "move",
            "_view_module_version": "1.2.0",
            "_model_module": "jupyter-leaflet"
          }
        },
        "95d817e69631412e8d0818489235f618": {
          "model_module": "@jupyter-widgets/controls",
          "model_name": "HBoxModel",
          "model_module_version": "1.5.0",
          "state": {
            "_view_name": "HBoxView",
            "_dom_classes": [],
            "_model_name": "HBoxModel",
            "_view_module": "@jupyter-widgets/controls",
            "_model_module_version": "1.5.0",
            "_view_count": null,
            "_view_module_version": "1.5.0",
            "box_style": "",
            "layout": "IPY_MODEL_889f4d1ebe8740ad8a45068552a4a404",
            "_model_module": "@jupyter-widgets/controls",
            "children": [
              "IPY_MODEL_38c83666db4d4bb48e9a1107b042494b"
            ]
          }
        },
        "5cd49a783ec94d06ab7ebcf715de4bd0": {
          "model_module": "@jupyter-widgets/controls",
          "model_name": "VBoxModel",
          "model_module_version": "1.5.0",
          "state": {
            "_view_name": "VBoxView",
            "_dom_classes": [],
            "_model_name": "VBoxModel",
            "_view_module": "@jupyter-widgets/controls",
            "_model_module_version": "1.5.0",
            "_view_count": null,
            "_view_module_version": "1.5.0",
            "box_style": "",
            "layout": "IPY_MODEL_1d580099e2174760bba713fd864c18b1",
            "_model_module": "@jupyter-widgets/controls",
            "children": [
              "IPY_MODEL_254726b3451744b7878c8ccb072da19d"
            ]
          }
        },
        "889f4d1ebe8740ad8a45068552a4a404": {
          "model_module": "@jupyter-widgets/base",
          "model_name": "LayoutModel",
          "model_module_version": "1.2.0",
          "state": {
            "_view_name": "LayoutView",
            "grid_template_rows": null,
            "right": null,
            "justify_content": null,
            "_view_module": "@jupyter-widgets/base",
            "overflow": null,
            "_model_module_version": "1.2.0",
            "_view_count": null,
            "flex_flow": null,
            "width": null,
            "min_width": null,
            "border": null,
            "align_items": null,
            "bottom": null,
            "_model_module": "@jupyter-widgets/base",
            "top": null,
            "grid_column": null,
            "overflow_y": null,
            "overflow_x": null,
            "grid_auto_flow": null,
            "grid_area": null,
            "grid_template_columns": null,
            "flex": null,
            "_model_name": "LayoutModel",
            "justify_items": null,
            "grid_row": null,
            "max_height": null,
            "align_content": null,
            "visibility": null,
            "align_self": null,
            "height": null,
            "min_height": null,
            "padding": null,
            "grid_auto_rows": null,
            "grid_gap": null,
            "max_width": null,
            "order": null,
            "_view_module_version": "1.2.0",
            "grid_template_areas": null,
            "object_position": null,
            "object_fit": null,
            "grid_auto_columns": null,
            "margin": null,
            "display": null,
            "left": null
          }
        },
        "38c83666db4d4bb48e9a1107b042494b": {
          "model_module": "@jupyter-widgets/controls",
          "model_name": "ToggleButtonModel",
          "model_module_version": "1.5.0",
          "state": {
            "_view_name": "ToggleButtonView",
            "style": "IPY_MODEL_5563cd45948c4f8f980f289a894a2d6c",
            "_dom_classes": [],
            "description": "",
            "_model_name": "ToggleButtonModel",
            "button_style": "",
            "_view_module": "@jupyter-widgets/controls",
            "_model_module_version": "1.5.0",
            "tooltip": "Search location/data",
            "_view_count": null,
            "disabled": false,
            "_view_module_version": "1.5.0",
            "value": false,
            "description_tooltip": null,
            "_model_module": "@jupyter-widgets/controls",
            "layout": "IPY_MODEL_f5a694f863a041c1a2c2273f72aaf82d",
            "icon": "globe"
          }
        },
        "1d580099e2174760bba713fd864c18b1": {
          "model_module": "@jupyter-widgets/base",
          "model_name": "LayoutModel",
          "model_module_version": "1.2.0",
          "state": {
            "_view_name": "LayoutView",
            "grid_template_rows": null,
            "right": null,
            "justify_content": null,
            "_view_module": "@jupyter-widgets/base",
            "overflow": null,
            "_model_module_version": "1.2.0",
            "_view_count": null,
            "flex_flow": null,
            "width": null,
            "min_width": null,
            "border": null,
            "align_items": null,
            "bottom": null,
            "_model_module": "@jupyter-widgets/base",
            "top": null,
            "grid_column": null,
            "overflow_y": null,
            "overflow_x": null,
            "grid_auto_flow": null,
            "grid_area": null,
            "grid_template_columns": null,
            "flex": null,
            "_model_name": "LayoutModel",
            "justify_items": null,
            "grid_row": null,
            "max_height": null,
            "align_content": null,
            "visibility": null,
            "align_self": null,
            "height": null,
            "min_height": null,
            "padding": null,
            "grid_auto_rows": null,
            "grid_gap": null,
            "max_width": null,
            "order": null,
            "_view_module_version": "1.2.0",
            "grid_template_areas": null,
            "object_position": null,
            "object_fit": null,
            "grid_auto_columns": null,
            "margin": null,
            "display": null,
            "left": null
          }
        },
        "254726b3451744b7878c8ccb072da19d": {
          "model_module": "@jupyter-widgets/controls",
          "model_name": "ToggleButtonModel",
          "model_module_version": "1.5.0",
          "state": {
            "_view_name": "ToggleButtonView",
            "style": "IPY_MODEL_d3b3d182c8a84ed3a6cedeed9ce2ffd6",
            "_dom_classes": [],
            "description": "",
            "_model_name": "ToggleButtonModel",
            "button_style": "",
            "_view_module": "@jupyter-widgets/controls",
            "_model_module_version": "1.5.0",
            "tooltip": "Toolbar",
            "_view_count": null,
            "disabled": false,
            "_view_module_version": "1.5.0",
            "value": false,
            "description_tooltip": null,
            "_model_module": "@jupyter-widgets/controls",
            "layout": "IPY_MODEL_7c60bfc7fe314763882b3d25c37f014e",
            "icon": "wrench"
          }
        },
        "5563cd45948c4f8f980f289a894a2d6c": {
          "model_module": "@jupyter-widgets/controls",
          "model_name": "DescriptionStyleModel",
          "model_module_version": "1.5.0",
          "state": {
            "_view_name": "StyleView",
            "_model_name": "DescriptionStyleModel",
            "description_width": "",
            "_view_module": "@jupyter-widgets/base",
            "_model_module_version": "1.5.0",
            "_view_count": null,
            "_view_module_version": "1.2.0",
            "_model_module": "@jupyter-widgets/controls"
          }
        },
        "f5a694f863a041c1a2c2273f72aaf82d": {
          "model_module": "@jupyter-widgets/base",
          "model_name": "LayoutModel",
          "model_module_version": "1.2.0",
          "state": {
            "_view_name": "LayoutView",
            "grid_template_rows": null,
            "right": null,
            "justify_content": null,
            "_view_module": "@jupyter-widgets/base",
            "overflow": null,
            "_model_module_version": "1.2.0",
            "_view_count": null,
            "flex_flow": null,
            "width": "28px",
            "min_width": null,
            "border": null,
            "align_items": null,
            "bottom": null,
            "_model_module": "@jupyter-widgets/base",
            "top": null,
            "grid_column": null,
            "overflow_y": null,
            "overflow_x": null,
            "grid_auto_flow": null,
            "grid_area": null,
            "grid_template_columns": null,
            "flex": null,
            "_model_name": "LayoutModel",
            "justify_items": null,
            "grid_row": null,
            "max_height": null,
            "align_content": null,
            "visibility": null,
            "align_self": null,
            "height": "28px",
            "min_height": null,
            "padding": "0px 0px 0px 4px",
            "grid_auto_rows": null,
            "grid_gap": null,
            "max_width": null,
            "order": null,
            "_view_module_version": "1.2.0",
            "grid_template_areas": null,
            "object_position": null,
            "object_fit": null,
            "grid_auto_columns": null,
            "margin": null,
            "display": null,
            "left": null
          }
        },
        "d3b3d182c8a84ed3a6cedeed9ce2ffd6": {
          "model_module": "@jupyter-widgets/controls",
          "model_name": "DescriptionStyleModel",
          "model_module_version": "1.5.0",
          "state": {
            "_view_name": "StyleView",
            "_model_name": "DescriptionStyleModel",
            "description_width": "",
            "_view_module": "@jupyter-widgets/base",
            "_model_module_version": "1.5.0",
            "_view_count": null,
            "_view_module_version": "1.2.0",
            "_model_module": "@jupyter-widgets/controls"
          }
        },
        "7c60bfc7fe314763882b3d25c37f014e": {
          "model_module": "@jupyter-widgets/base",
          "model_name": "LayoutModel",
          "model_module_version": "1.2.0",
          "state": {
            "_view_name": "LayoutView",
            "grid_template_rows": null,
            "right": null,
            "justify_content": null,
            "_view_module": "@jupyter-widgets/base",
            "overflow": null,
            "_model_module_version": "1.2.0",
            "_view_count": null,
            "flex_flow": null,
            "width": "28px",
            "min_width": null,
            "border": null,
            "align_items": null,
            "bottom": null,
            "_model_module": "@jupyter-widgets/base",
            "top": null,
            "grid_column": null,
            "overflow_y": null,
            "overflow_x": null,
            "grid_auto_flow": null,
            "grid_area": null,
            "grid_template_columns": null,
            "flex": null,
            "_model_name": "LayoutModel",
            "justify_items": null,
            "grid_row": null,
            "max_height": null,
            "align_content": null,
            "visibility": null,
            "align_self": null,
            "height": "28px",
            "min_height": null,
            "padding": "0px 0px 0px 4px",
            "grid_auto_rows": null,
            "grid_gap": null,
            "max_width": null,
            "order": null,
            "_view_module_version": "1.2.0",
            "grid_template_areas": null,
            "object_position": null,
            "object_fit": null,
            "grid_auto_columns": null,
            "margin": null,
            "display": null,
            "left": null
          }
        },
        "1ac5cda5588f4443a1c7b9025f99da89": {
          "model_module": "jupyter-leaflet",
          "model_name": "LeafletMapModel",
          "model_module_version": "^0.15.0",
          "state": {
            "_view_name": "LeafletMapView",
            "keyboard_pan_offset": 80,
            "right": 20200,
            "tap": true,
            "_view_module": "jupyter-leaflet",
            "max_zoom": 24,
            "_model_module_version": "^0.15.0",
            "_view_count": null,
            "zoom_snap": 1,
            "min_zoom": 1,
            "bounce_at_zoom_limits": true,
            "keyboard": true,
            "north": 42.309815415686664,
            "scroll_wheel_zoom": true,
            "dragging": true,
            "_model_module": "jupyter-leaflet",
            "zoom_delta": 1,
            "close_popup_on_click": true,
            "fullscreen": false,
            "style": "IPY_MODEL_7102f2ea06d047a0a724e6ccb21081bd",
            "layout": "IPY_MODEL_d5719538ae354c25937c15688303093b",
            "bottom": 12726,
            "prefer_canvas": false,
            "inertia_max_speed": 1500,
            "top": 12126,
            "box_zoom": true,
            "controls": [
              "IPY_MODEL_ce0654c5ed3548de8c9dd978b082a6f1",
              "IPY_MODEL_41242f7f6b5849379061f6c799e0cd4b",
              "IPY_MODEL_2775da81774c4aadbcc1f2f7779f9a75",
              "IPY_MODEL_87ee9b01b0f24e8b867ef2606b6c66a6",
              "IPY_MODEL_29652e1831ef45fd83d7c27321fc262f",
              "IPY_MODEL_9067d00895334cc9bb62454eafd83ff7",
              "IPY_MODEL_5cee2fbdc879418abb03a008a08231fa",
              "IPY_MODEL_62dc3616a4a4400e96fe67ba1f3686a0"
            ],
            "default_style": "IPY_MODEL_4fd155fc501748e69f9f50fdf7afb67c",
            "east": 41.92382812500001,
            "double_click_zoom": true,
            "interpolation": "bilinear",
            "layers": [
              "IPY_MODEL_3e9d6b8a307a49249488664455c0ecef",
              "IPY_MODEL_1e19b6e1dc3a4acbae332bbe84176a55",
              "IPY_MODEL_4557bf716bf14e33a8c174d9532742c3"
            ],
            "dragging_style": "IPY_MODEL_22c2628b0d6e4946a1b4a1865d5f6e33",
            "_dom_classes": [],
            "zoom_animation_threshold": 4,
            "_model_name": "LeafletMapModel",
            "zoom_start": 12,
            "modisdate": "2022-02-19",
            "keyboard_zoom_offset": 1,
            "inertia_deceleration": 3000,
            "inertia": true,
            "crs": {
              "name": "EPSG3857",
              "custom": false
            },
            "center": [
              39.824942,
              32.717443
            ],
            "zoom": 7,
            "world_copy_jump": false,
            "_view_module_version": "^0.15.0",
            "window_url": "https://xm6sl2wt808-496ff2e9c6d22116-0-colab.googleusercontent.com/outputframe.html?vrz=colab-20220217-060102-RC00_429270882",
            "tap_tolerance": 15,
            "west": 23.521728515625004,
            "touch_zoom": true,
            "options": [
              "bounce_at_zoom_limits",
              "box_zoom",
              "center",
              "close_popup_on_click",
              "double_click_zoom",
              "dragging",
              "fullscreen",
              "inertia",
              "inertia_deceleration",
              "inertia_max_speed",
              "interpolation",
              "keyboard",
              "keyboard_pan_offset",
              "keyboard_zoom_offset",
              "max_zoom",
              "min_zoom",
              "prefer_canvas",
              "scroll_wheel_zoom",
              "tap",
              "tap_tolerance",
              "touch_zoom",
              "world_copy_jump",
              "zoom",
              "zoom_animation_threshold",
              "zoom_delta",
              "zoom_snap",
              "zoom_start"
            ],
            "south": 37.2478212015543,
            "left": 18525
          }
        },
        "7102f2ea06d047a0a724e6ccb21081bd": {
          "model_module": "jupyter-leaflet",
          "model_name": "LeafletMapStyleModel",
          "model_module_version": "^0.15.0",
          "state": {
            "_view_name": "StyleView",
            "_model_name": "LeafletMapStyleModel",
            "_view_module": "@jupyter-widgets/base",
            "_model_module_version": "^0.15.0",
            "_view_count": null,
            "cursor": "grab",
            "_view_module_version": "1.2.0",
            "_model_module": "jupyter-leaflet"
          }
        },
        "d5719538ae354c25937c15688303093b": {
          "model_module": "@jupyter-widgets/base",
          "model_name": "LayoutModel",
          "model_module_version": "1.2.0",
          "state": {
            "_view_name": "LayoutView",
            "grid_template_rows": null,
            "right": null,
            "justify_content": null,
            "_view_module": "@jupyter-widgets/base",
            "overflow": null,
            "_model_module_version": "1.2.0",
            "_view_count": null,
            "flex_flow": null,
            "width": null,
            "min_width": null,
            "border": null,
            "align_items": null,
            "bottom": null,
            "_model_module": "@jupyter-widgets/base",
            "top": null,
            "grid_column": null,
            "overflow_y": null,
            "overflow_x": null,
            "grid_auto_flow": null,
            "grid_area": null,
            "grid_template_columns": null,
            "flex": null,
            "_model_name": "LayoutModel",
            "justify_items": null,
            "grid_row": null,
            "max_height": null,
            "align_content": null,
            "visibility": null,
            "align_self": null,
            "height": "600px",
            "min_height": null,
            "padding": null,
            "grid_auto_rows": null,
            "grid_gap": null,
            "max_width": null,
            "order": null,
            "_view_module_version": "1.2.0",
            "grid_template_areas": null,
            "object_position": null,
            "object_fit": null,
            "grid_auto_columns": null,
            "margin": null,
            "display": null,
            "left": null
          }
        },
        "ce0654c5ed3548de8c9dd978b082a6f1": {
          "model_module": "jupyter-leaflet",
          "model_name": "LeafletWidgetControlModel",
          "model_module_version": "^0.15.0",
          "state": {
            "_view_name": "LeafletWidgetControlView",
            "widget": "IPY_MODEL_d4dc752fb0c344daadfd8f4bfc4acc41",
            "_model_name": "LeafletWidgetControlModel",
            "_view_module": "jupyter-leaflet",
            "_model_module_version": "^0.15.0",
            "max_height": null,
            "_view_count": null,
            "min_height": null,
            "_view_module_version": "^0.15.0",
            "max_width": null,
            "transparent_bg": false,
            "min_width": null,
            "position": "topleft",
            "_model_module": "jupyter-leaflet",
            "options": [
              "position",
              "transparent_bg"
            ]
          }
        },
        "41242f7f6b5849379061f6c799e0cd4b": {
          "model_module": "jupyter-leaflet",
          "model_name": "LeafletZoomControlModel",
          "model_module_version": "^0.15.0",
          "state": {
            "_view_name": "LeafletZoomControlView",
            "zoom_in_title": "Zoom in",
            "_model_name": "LeafletZoomControlModel",
            "_view_module": "jupyter-leaflet",
            "_model_module_version": "^0.15.0",
            "_view_count": null,
            "_view_module_version": "^0.15.0",
            "zoom_out_title": "Zoom out",
            "position": "topleft",
            "zoom_in_text": "+",
            "_model_module": "jupyter-leaflet",
            "options": [
              "position",
              "zoom_in_text",
              "zoom_in_title",
              "zoom_out_text",
              "zoom_out_title"
            ],
            "zoom_out_text": "-"
          }
        },
        "2775da81774c4aadbcc1f2f7779f9a75": {
          "model_module": "jupyter-leaflet",
          "model_name": "LeafletScaleControlModel",
          "model_module_version": "^0.15.0",
          "state": {
            "_view_name": "LeafletScaleControlView",
            "_model_name": "LeafletScaleControlModel",
            "metric": true,
            "_view_module": "jupyter-leaflet",
            "_model_module_version": "^0.15.0",
            "max_width": 100,
            "_view_count": null,
            "_view_module_version": "^0.15.0",
            "update_when_idle": false,
            "position": "bottomleft",
            "imperial": true,
            "_model_module": "jupyter-leaflet",
            "options": [
              "imperial",
              "max_width",
              "metric",
              "position",
              "update_when_idle"
            ]
          }
        },
        "87ee9b01b0f24e8b867ef2606b6c66a6": {
          "model_module": "jupyter-leaflet",
          "model_name": "LeafletFullScreenControlModel",
          "model_module_version": "^0.15.0",
          "state": {
            "_view_name": "LeafletFullScreenControlView",
            "_model_name": "LeafletFullScreenControlModel",
            "_view_module": "jupyter-leaflet",
            "_model_module_version": "^0.15.0",
            "_view_count": null,
            "_view_module_version": "^0.15.0",
            "position": "topleft",
            "_model_module": "jupyter-leaflet",
            "options": [
              "position"
            ]
          }
        },
        "29652e1831ef45fd83d7c27321fc262f": {
          "model_module": "jupyter-leaflet",
          "model_name": "LeafletMeasureControlModel",
          "model_module_version": "^0.15.0",
          "state": {
            "_view_name": "LeafletMeasureControlView",
            "primary_area_unit": "acres",
            "capture_z_index": 10000,
            "secondary_area_unit": null,
            "primary_length_unit": "kilometers",
            "active_color": "orange",
            "_model_name": "LeafletMeasureControlModel",
            "popup_options": {
              "className": "leaflet-measure-resultpopup",
              "autoPanPadding": [
                10,
                10
              ]
            },
            "_view_module": "jupyter-leaflet",
            "_model_module_version": "^0.15.0",
            "_view_count": null,
            "_view_module_version": "^0.15.0",
            "secondary_length_unit": null,
            "completed_color": "#C8F2BE",
            "position": "bottomleft",
            "_model_module": "jupyter-leaflet",
            "options": [
              "active_color",
              "capture_z_index",
              "completed_color",
              "popup_options",
              "position",
              "primary_area_unit",
              "primary_length_unit",
              "secondary_area_unit",
              "secondary_length_unit"
            ],
            "_custom_units": {}
          }
        },
        "9067d00895334cc9bb62454eafd83ff7": {
          "model_module": "jupyter-leaflet",
          "model_name": "LeafletAttributionControlModel",
          "model_module_version": "^0.15.0",
          "state": {
            "_view_name": "LeafletAttributionControlView",
            "prefix": "ipyleaflet",
            "_model_name": "LeafletAttributionControlModel",
            "_view_module": "jupyter-leaflet",
            "_model_module_version": "^0.15.0",
            "_view_count": null,
            "_view_module_version": "^0.15.0",
            "position": "bottomright",
            "_model_module": "jupyter-leaflet",
            "options": [
              "position",
              "prefix"
            ]
          }
        },
        "5cee2fbdc879418abb03a008a08231fa": {
          "model_module": "jupyter-leaflet",
          "model_name": "LeafletDrawControlModel",
          "model_module_version": "^0.15.0",
          "state": {
            "_view_name": "LeafletDrawControlView",
            "polygon": {
              "shapeOptions": {}
            },
            "circlemarker": {},
            "_model_name": "LeafletDrawControlModel",
            "edit": true,
            "data": [],
            "_view_module": "jupyter-leaflet",
            "_model_module_version": "^0.15.0",
            "remove": true,
            "_view_count": null,
            "_view_module_version": "^0.15.0",
            "polyline": {
              "shapeOptions": {}
            },
            "marker": {
              "shapeOptions": {
                "color": "#3388ff"
              }
            },
            "position": "topleft",
            "circle": {
              "shapeOptions": {
                "color": "#3388ff"
              }
            },
            "_model_module": "jupyter-leaflet",
            "options": [
              "position"
            ],
            "rectangle": {
              "shapeOptions": {
                "color": "#3388ff"
              }
            }
          }
        },
        "62dc3616a4a4400e96fe67ba1f3686a0": {
          "model_module": "jupyter-leaflet",
          "model_name": "LeafletWidgetControlModel",
          "model_module_version": "^0.15.0",
          "state": {
            "_view_name": "LeafletWidgetControlView",
            "widget": "IPY_MODEL_af9de674f56443fbab7bf2eb96e63ac0",
            "_model_name": "LeafletWidgetControlModel",
            "_view_module": "jupyter-leaflet",
            "_model_module_version": "^0.15.0",
            "max_height": null,
            "_view_count": null,
            "min_height": null,
            "_view_module_version": "^0.15.0",
            "max_width": null,
            "transparent_bg": false,
            "min_width": null,
            "position": "topright",
            "_model_module": "jupyter-leaflet",
            "options": [
              "position",
              "transparent_bg"
            ]
          }
        },
        "4fd155fc501748e69f9f50fdf7afb67c": {
          "model_module": "jupyter-leaflet",
          "model_name": "LeafletMapStyleModel",
          "model_module_version": "^0.15.0",
          "state": {
            "_view_name": "StyleView",
            "_model_name": "LeafletMapStyleModel",
            "_view_module": "@jupyter-widgets/base",
            "_model_module_version": "^0.15.0",
            "_view_count": null,
            "cursor": "grab",
            "_view_module_version": "1.2.0",
            "_model_module": "jupyter-leaflet"
          }
        },
        "3e9d6b8a307a49249488664455c0ecef": {
          "model_module": "jupyter-leaflet",
          "model_name": "LeafletTileLayerModel",
          "model_module_version": "^0.15.0",
          "state": {
            "_view_name": "LeafletTileLayerView",
            "_view_module": "jupyter-leaflet",
            "max_zoom": 19,
            "_model_module_version": "^0.15.0",
            "_view_count": null,
            "visible": true,
            "min_zoom": 1,
            "tms": false,
            "_model_module": "jupyter-leaflet",
            "loading": false,
            "bottom": true,
            "no_wrap": false,
            "tile_size": 256,
            "popup_min_width": 50,
            "opacity": 1,
            "popup": null,
            "attribution": "&copy; <a href=\"https://www.openstreetmap.org/copyright\">OpenStreetMap</a> contributors",
            "_model_name": "LeafletTileLayerModel",
            "max_native_zoom": 18,
            "base": true,
            "min_native_zoom": 0,
            "show_loading": false,
            "name": "OpenStreetMap.Mapnik",
            "url": "https://a.tile.openstreetmap.org/{z}/{x}/{y}.png",
            "popup_max_height": null,
            "popup_max_width": 300,
            "detect_retina": false,
            "_view_module_version": "^0.15.0",
            "options": [
              "attribution",
              "detect_retina",
              "max_native_zoom",
              "max_zoom",
              "min_native_zoom",
              "min_zoom",
              "no_wrap",
              "tile_size",
              "tms"
            ]
          }
        },
        "4557bf716bf14e33a8c174d9532742c3": {
          "model_module": "jupyter-leaflet",
          "model_name": "LeafletTileLayerModel",
          "model_module_version": "^0.15.0",
          "state": {
            "_view_name": "LeafletTileLayerView",
            "_view_module": "jupyter-leaflet",
            "max_zoom": 24,
            "_model_module_version": "^0.15.0",
            "_view_count": null,
            "visible": true,
            "min_zoom": 0,
            "tms": false,
            "_model_module": "jupyter-leaflet",
            "loading": false,
            "bottom": true,
            "no_wrap": false,
            "tile_size": 256,
            "popup_min_width": 50,
            "opacity": 1,
            "popup": null,
            "attribution": "Google Earth Engine",
            "_model_name": "LeafletTileLayerModel",
            "max_native_zoom": 18,
            "base": false,
            "min_native_zoom": 0,
            "show_loading": false,
            "name": "Landsat 8",
            "url": "https://earthengine.googleapis.com/v1alpha/projects/earthengine-legacy/maps/9e03243cf172329b6f81b5d7d890bdaf-9eed56bed59336cdeda5ca842a667888/tiles/{z}/{x}/{y}",
            "popup_max_height": null,
            "popup_max_width": 300,
            "detect_retina": false,
            "_view_module_version": "^0.15.0",
            "options": [
              "attribution",
              "detect_retina",
              "max_native_zoom",
              "max_zoom",
              "min_native_zoom",
              "min_zoom",
              "no_wrap",
              "tile_size",
              "tms"
            ]
          }
        },
        "22c2628b0d6e4946a1b4a1865d5f6e33": {
          "model_module": "jupyter-leaflet",
          "model_name": "LeafletMapStyleModel",
          "model_module_version": "^0.15.0",
          "state": {
            "_view_name": "StyleView",
            "_model_name": "LeafletMapStyleModel",
            "_view_module": "@jupyter-widgets/base",
            "_model_module_version": "^0.15.0",
            "_view_count": null,
            "cursor": "move",
            "_view_module_version": "1.2.0",
            "_model_module": "jupyter-leaflet"
          }
        },
        "d4dc752fb0c344daadfd8f4bfc4acc41": {
          "model_module": "@jupyter-widgets/controls",
          "model_name": "HBoxModel",
          "model_module_version": "1.5.0",
          "state": {
            "_view_name": "HBoxView",
            "_dom_classes": [],
            "_model_name": "HBoxModel",
            "_view_module": "@jupyter-widgets/controls",
            "_model_module_version": "1.5.0",
            "_view_count": null,
            "_view_module_version": "1.5.0",
            "box_style": "",
            "layout": "IPY_MODEL_0c9a05e39b5e45769a680127a5a2c533",
            "_model_module": "@jupyter-widgets/controls",
            "children": [
              "IPY_MODEL_74b2ed6b8c8744468b9a6a4d9f93bf57"
            ]
          }
        },
        "af9de674f56443fbab7bf2eb96e63ac0": {
          "model_module": "@jupyter-widgets/controls",
          "model_name": "VBoxModel",
          "model_module_version": "1.5.0",
          "state": {
            "_view_name": "VBoxView",
            "_dom_classes": [],
            "_model_name": "VBoxModel",
            "_view_module": "@jupyter-widgets/controls",
            "_model_module_version": "1.5.0",
            "_view_count": null,
            "_view_module_version": "1.5.0",
            "box_style": "",
            "layout": "IPY_MODEL_6bf74ace64d343e0b378f8ae2493450a",
            "_model_module": "@jupyter-widgets/controls",
            "children": [
              "IPY_MODEL_ff6feea5df32453682fa94fcadbc1cfd"
            ]
          }
        },
        "0c9a05e39b5e45769a680127a5a2c533": {
          "model_module": "@jupyter-widgets/base",
          "model_name": "LayoutModel",
          "model_module_version": "1.2.0",
          "state": {
            "_view_name": "LayoutView",
            "grid_template_rows": null,
            "right": null,
            "justify_content": null,
            "_view_module": "@jupyter-widgets/base",
            "overflow": null,
            "_model_module_version": "1.2.0",
            "_view_count": null,
            "flex_flow": null,
            "width": null,
            "min_width": null,
            "border": null,
            "align_items": null,
            "bottom": null,
            "_model_module": "@jupyter-widgets/base",
            "top": null,
            "grid_column": null,
            "overflow_y": null,
            "overflow_x": null,
            "grid_auto_flow": null,
            "grid_area": null,
            "grid_template_columns": null,
            "flex": null,
            "_model_name": "LayoutModel",
            "justify_items": null,
            "grid_row": null,
            "max_height": null,
            "align_content": null,
            "visibility": null,
            "align_self": null,
            "height": null,
            "min_height": null,
            "padding": null,
            "grid_auto_rows": null,
            "grid_gap": null,
            "max_width": null,
            "order": null,
            "_view_module_version": "1.2.0",
            "grid_template_areas": null,
            "object_position": null,
            "object_fit": null,
            "grid_auto_columns": null,
            "margin": null,
            "display": null,
            "left": null
          }
        },
        "74b2ed6b8c8744468b9a6a4d9f93bf57": {
          "model_module": "@jupyter-widgets/controls",
          "model_name": "ToggleButtonModel",
          "model_module_version": "1.5.0",
          "state": {
            "_view_name": "ToggleButtonView",
            "style": "IPY_MODEL_8414dcc8259d4893809e57ec3f35a1ac",
            "_dom_classes": [],
            "description": "",
            "_model_name": "ToggleButtonModel",
            "button_style": "",
            "_view_module": "@jupyter-widgets/controls",
            "_model_module_version": "1.5.0",
            "tooltip": "Search location/data",
            "_view_count": null,
            "disabled": false,
            "_view_module_version": "1.5.0",
            "value": false,
            "description_tooltip": null,
            "_model_module": "@jupyter-widgets/controls",
            "layout": "IPY_MODEL_827448a4006f440fa03799c9c1a35699",
            "icon": "globe"
          }
        },
        "6bf74ace64d343e0b378f8ae2493450a": {
          "model_module": "@jupyter-widgets/base",
          "model_name": "LayoutModel",
          "model_module_version": "1.2.0",
          "state": {
            "_view_name": "LayoutView",
            "grid_template_rows": null,
            "right": null,
            "justify_content": null,
            "_view_module": "@jupyter-widgets/base",
            "overflow": null,
            "_model_module_version": "1.2.0",
            "_view_count": null,
            "flex_flow": null,
            "width": null,
            "min_width": null,
            "border": null,
            "align_items": null,
            "bottom": null,
            "_model_module": "@jupyter-widgets/base",
            "top": null,
            "grid_column": null,
            "overflow_y": null,
            "overflow_x": null,
            "grid_auto_flow": null,
            "grid_area": null,
            "grid_template_columns": null,
            "flex": null,
            "_model_name": "LayoutModel",
            "justify_items": null,
            "grid_row": null,
            "max_height": null,
            "align_content": null,
            "visibility": null,
            "align_self": null,
            "height": null,
            "min_height": null,
            "padding": null,
            "grid_auto_rows": null,
            "grid_gap": null,
            "max_width": null,
            "order": null,
            "_view_module_version": "1.2.0",
            "grid_template_areas": null,
            "object_position": null,
            "object_fit": null,
            "grid_auto_columns": null,
            "margin": null,
            "display": null,
            "left": null
          }
        },
        "ff6feea5df32453682fa94fcadbc1cfd": {
          "model_module": "@jupyter-widgets/controls",
          "model_name": "ToggleButtonModel",
          "model_module_version": "1.5.0",
          "state": {
            "_view_name": "ToggleButtonView",
            "style": "IPY_MODEL_5e2246d36e7b42ed859c0fdd09447914",
            "_dom_classes": [],
            "description": "",
            "_model_name": "ToggleButtonModel",
            "button_style": "",
            "_view_module": "@jupyter-widgets/controls",
            "_model_module_version": "1.5.0",
            "tooltip": "Toolbar",
            "_view_count": null,
            "disabled": false,
            "_view_module_version": "1.5.0",
            "value": false,
            "description_tooltip": null,
            "_model_module": "@jupyter-widgets/controls",
            "layout": "IPY_MODEL_ce0ec18bbb114e9e9a8c03d37da2cab7",
            "icon": "wrench"
          }
        },
        "8414dcc8259d4893809e57ec3f35a1ac": {
          "model_module": "@jupyter-widgets/controls",
          "model_name": "DescriptionStyleModel",
          "model_module_version": "1.5.0",
          "state": {
            "_view_name": "StyleView",
            "_model_name": "DescriptionStyleModel",
            "description_width": "",
            "_view_module": "@jupyter-widgets/base",
            "_model_module_version": "1.5.0",
            "_view_count": null,
            "_view_module_version": "1.2.0",
            "_model_module": "@jupyter-widgets/controls"
          }
        },
        "827448a4006f440fa03799c9c1a35699": {
          "model_module": "@jupyter-widgets/base",
          "model_name": "LayoutModel",
          "model_module_version": "1.2.0",
          "state": {
            "_view_name": "LayoutView",
            "grid_template_rows": null,
            "right": null,
            "justify_content": null,
            "_view_module": "@jupyter-widgets/base",
            "overflow": null,
            "_model_module_version": "1.2.0",
            "_view_count": null,
            "flex_flow": null,
            "width": "28px",
            "min_width": null,
            "border": null,
            "align_items": null,
            "bottom": null,
            "_model_module": "@jupyter-widgets/base",
            "top": null,
            "grid_column": null,
            "overflow_y": null,
            "overflow_x": null,
            "grid_auto_flow": null,
            "grid_area": null,
            "grid_template_columns": null,
            "flex": null,
            "_model_name": "LayoutModel",
            "justify_items": null,
            "grid_row": null,
            "max_height": null,
            "align_content": null,
            "visibility": null,
            "align_self": null,
            "height": "28px",
            "min_height": null,
            "padding": "0px 0px 0px 4px",
            "grid_auto_rows": null,
            "grid_gap": null,
            "max_width": null,
            "order": null,
            "_view_module_version": "1.2.0",
            "grid_template_areas": null,
            "object_position": null,
            "object_fit": null,
            "grid_auto_columns": null,
            "margin": null,
            "display": null,
            "left": null
          }
        },
        "5e2246d36e7b42ed859c0fdd09447914": {
          "model_module": "@jupyter-widgets/controls",
          "model_name": "DescriptionStyleModel",
          "model_module_version": "1.5.0",
          "state": {
            "_view_name": "StyleView",
            "_model_name": "DescriptionStyleModel",
            "description_width": "",
            "_view_module": "@jupyter-widgets/base",
            "_model_module_version": "1.5.0",
            "_view_count": null,
            "_view_module_version": "1.2.0",
            "_model_module": "@jupyter-widgets/controls"
          }
        },
        "ce0ec18bbb114e9e9a8c03d37da2cab7": {
          "model_module": "@jupyter-widgets/base",
          "model_name": "LayoutModel",
          "model_module_version": "1.2.0",
          "state": {
            "_view_name": "LayoutView",
            "grid_template_rows": null,
            "right": null,
            "justify_content": null,
            "_view_module": "@jupyter-widgets/base",
            "overflow": null,
            "_model_module_version": "1.2.0",
            "_view_count": null,
            "flex_flow": null,
            "width": "28px",
            "min_width": null,
            "border": null,
            "align_items": null,
            "bottom": null,
            "_model_module": "@jupyter-widgets/base",
            "top": null,
            "grid_column": null,
            "overflow_y": null,
            "overflow_x": null,
            "grid_auto_flow": null,
            "grid_area": null,
            "grid_template_columns": null,
            "flex": null,
            "_model_name": "LayoutModel",
            "justify_items": null,
            "grid_row": null,
            "max_height": null,
            "align_content": null,
            "visibility": null,
            "align_self": null,
            "height": "28px",
            "min_height": null,
            "padding": "0px 0px 0px 4px",
            "grid_auto_rows": null,
            "grid_gap": null,
            "max_width": null,
            "order": null,
            "_view_module_version": "1.2.0",
            "grid_template_areas": null,
            "object_position": null,
            "object_fit": null,
            "grid_auto_columns": null,
            "margin": null,
            "display": null,
            "left": null
          }
        },
        "0d785baef35744ac9bed8f7e4123a58e": {
          "model_module": "jupyter-leaflet",
          "model_name": "LeafletMapModel",
          "model_module_version": "^0.15.0",
          "state": {
            "_view_name": "LeafletMapView",
            "keyboard_pan_offset": 80,
            "right": 38958,
            "tap": true,
            "_view_module": "jupyter-leaflet",
            "max_zoom": 24,
            "_model_module_version": "^0.15.0",
            "_view_count": null,
            "zoom_snap": 1,
            "min_zoom": 1,
            "bounce_at_zoom_limits": true,
            "keyboard": true,
            "north": 40.16208338164619,
            "scroll_wheel_zoom": true,
            "dragging": true,
            "_model_module": "jupyter-leaflet",
            "zoom_delta": 1,
            "close_popup_on_click": true,
            "fullscreen": false,
            "style": "IPY_MODEL_a88e30fa9fb544a893cd793f749f4d17",
            "layout": "IPY_MODEL_689d21f43ec24ae28d012d5e84bf0dd0",
            "bottom": 25372,
            "prefer_canvas": false,
            "inertia_max_speed": 1500,
            "top": 24772,
            "box_zoom": true,
            "controls": [
              "IPY_MODEL_90ff80e6d7c5478f8cdcbe424429ef68",
              "IPY_MODEL_3419cfbaae1246f4a766b2fa8ccd2e51",
              "IPY_MODEL_455c6e6f01e0489da0b42c6908a9fc54",
              "IPY_MODEL_8510f71b16654fffaa7d506439d63ead",
              "IPY_MODEL_05f73ce66ec34a63bf3c2bc1910f5a9c",
              "IPY_MODEL_68af19a74fd54a7b941bac0d7e85c1cc",
              "IPY_MODEL_0698126ae5e44aac91a7188585fd169a",
              "IPY_MODEL_71b60f5cd91c4433a9f534099b096fbc"
            ],
            "default_style": "IPY_MODEL_a88e30fa9fb544a893cd793f749f4d17",
            "east": 34.00268554687501,
            "double_click_zoom": true,
            "interpolation": "bilinear",
            "layers": [
              "IPY_MODEL_7f0795866533405bb77280b49cb08912",
              "IPY_MODEL_1e19b6e1dc3a4acbae332bbe84176a55",
              "IPY_MODEL_e179b1d45ba1403ea223189e33d2e4bf"
            ],
            "dragging_style": "IPY_MODEL_640b2f9398c0488496c4b6b381f89ab9",
            "_dom_classes": [],
            "zoom_animation_threshold": 4,
            "_model_name": "LeafletMapModel",
            "zoom_start": 12,
            "modisdate": "2022-02-19",
            "keyboard_zoom_offset": 1,
            "inertia_deceleration": 3000,
            "inertia": true,
            "crs": {
              "name": "EPSG3857",
              "custom": false
            },
            "center": [
              38.890966020877165,
              29.40238268244047
            ],
            "zoom": 8,
            "world_copy_jump": false,
            "_view_module_version": "^0.15.0",
            "window_url": "https://xm6sl2wt808-496ff2e9c6d22116-0-colab.googleusercontent.com/outputframe.html?vrz=colab-20220217-060102-RC00_429270882",
            "tap_tolerance": 15,
            "west": 24.8016357421875,
            "touch_zoom": true,
            "options": [
              "bounce_at_zoom_limits",
              "box_zoom",
              "center",
              "close_popup_on_click",
              "double_click_zoom",
              "dragging",
              "fullscreen",
              "inertia",
              "inertia_deceleration",
              "inertia_max_speed",
              "interpolation",
              "keyboard",
              "keyboard_pan_offset",
              "keyboard_zoom_offset",
              "max_zoom",
              "min_zoom",
              "prefer_canvas",
              "scroll_wheel_zoom",
              "tap",
              "tap_tolerance",
              "touch_zoom",
              "world_copy_jump",
              "zoom",
              "zoom_animation_threshold",
              "zoom_delta",
              "zoom_snap",
              "zoom_start"
            ],
            "south": 37.59682400108367,
            "left": 37283,
            "_dragging": false
          }
        },
        "e8cff2b1fc8244cb8a8f4b447801b090": {
          "model_module": "jupyter-leaflet",
          "model_name": "LeafletMapStyleModel",
          "model_module_version": "^0.15.0",
          "state": {
            "_view_name": "StyleView",
            "_model_name": "LeafletMapStyleModel",
            "_view_module": "@jupyter-widgets/base",
            "_model_module_version": "^0.15.0",
            "_view_count": null,
            "cursor": "grab",
            "_view_module_version": "1.2.0",
            "_model_module": "jupyter-leaflet"
          }
        },
        "689d21f43ec24ae28d012d5e84bf0dd0": {
          "model_module": "@jupyter-widgets/base",
          "model_name": "LayoutModel",
          "model_module_version": "1.2.0",
          "state": {
            "_view_name": "LayoutView",
            "grid_template_rows": null,
            "right": null,
            "justify_content": null,
            "_view_module": "@jupyter-widgets/base",
            "overflow": null,
            "_model_module_version": "1.2.0",
            "_view_count": null,
            "flex_flow": null,
            "width": null,
            "min_width": null,
            "border": null,
            "align_items": null,
            "bottom": null,
            "_model_module": "@jupyter-widgets/base",
            "top": null,
            "grid_column": null,
            "overflow_y": null,
            "overflow_x": null,
            "grid_auto_flow": null,
            "grid_area": null,
            "grid_template_columns": null,
            "flex": null,
            "_model_name": "LayoutModel",
            "justify_items": null,
            "grid_row": null,
            "max_height": null,
            "align_content": null,
            "visibility": null,
            "align_self": null,
            "height": "600px",
            "min_height": null,
            "padding": null,
            "grid_auto_rows": null,
            "grid_gap": null,
            "max_width": null,
            "order": null,
            "_view_module_version": "1.2.0",
            "grid_template_areas": null,
            "object_position": null,
            "object_fit": null,
            "grid_auto_columns": null,
            "margin": null,
            "display": null,
            "left": null
          }
        },
        "90ff80e6d7c5478f8cdcbe424429ef68": {
          "model_module": "jupyter-leaflet",
          "model_name": "LeafletWidgetControlModel",
          "model_module_version": "^0.15.0",
          "state": {
            "_view_name": "LeafletWidgetControlView",
            "widget": "IPY_MODEL_f05d00ab516f413a857ca1e99f9df3d5",
            "_model_name": "LeafletWidgetControlModel",
            "_view_module": "jupyter-leaflet",
            "_model_module_version": "^0.15.0",
            "max_height": null,
            "_view_count": null,
            "min_height": null,
            "_view_module_version": "^0.15.0",
            "max_width": null,
            "transparent_bg": false,
            "min_width": null,
            "position": "topleft",
            "_model_module": "jupyter-leaflet",
            "options": [
              "position",
              "transparent_bg"
            ]
          }
        },
        "3419cfbaae1246f4a766b2fa8ccd2e51": {
          "model_module": "jupyter-leaflet",
          "model_name": "LeafletZoomControlModel",
          "model_module_version": "^0.15.0",
          "state": {
            "_view_name": "LeafletZoomControlView",
            "zoom_in_title": "Zoom in",
            "_model_name": "LeafletZoomControlModel",
            "_view_module": "jupyter-leaflet",
            "_model_module_version": "^0.15.0",
            "_view_count": null,
            "_view_module_version": "^0.15.0",
            "zoom_out_title": "Zoom out",
            "position": "topleft",
            "zoom_in_text": "+",
            "_model_module": "jupyter-leaflet",
            "options": [
              "position",
              "zoom_in_text",
              "zoom_in_title",
              "zoom_out_text",
              "zoom_out_title"
            ],
            "zoom_out_text": "-"
          }
        },
        "455c6e6f01e0489da0b42c6908a9fc54": {
          "model_module": "jupyter-leaflet",
          "model_name": "LeafletScaleControlModel",
          "model_module_version": "^0.15.0",
          "state": {
            "_view_name": "LeafletScaleControlView",
            "_model_name": "LeafletScaleControlModel",
            "metric": true,
            "_view_module": "jupyter-leaflet",
            "_model_module_version": "^0.15.0",
            "max_width": 100,
            "_view_count": null,
            "_view_module_version": "^0.15.0",
            "update_when_idle": false,
            "position": "bottomleft",
            "imperial": true,
            "_model_module": "jupyter-leaflet",
            "options": [
              "imperial",
              "max_width",
              "metric",
              "position",
              "update_when_idle"
            ]
          }
        },
        "8510f71b16654fffaa7d506439d63ead": {
          "model_module": "jupyter-leaflet",
          "model_name": "LeafletFullScreenControlModel",
          "model_module_version": "^0.15.0",
          "state": {
            "_view_name": "LeafletFullScreenControlView",
            "_model_name": "LeafletFullScreenControlModel",
            "_view_module": "jupyter-leaflet",
            "_model_module_version": "^0.15.0",
            "_view_count": null,
            "_view_module_version": "^0.15.0",
            "position": "topleft",
            "_model_module": "jupyter-leaflet",
            "options": [
              "position"
            ]
          }
        },
        "05f73ce66ec34a63bf3c2bc1910f5a9c": {
          "model_module": "jupyter-leaflet",
          "model_name": "LeafletMeasureControlModel",
          "model_module_version": "^0.15.0",
          "state": {
            "_view_name": "LeafletMeasureControlView",
            "primary_area_unit": "acres",
            "capture_z_index": 10000,
            "secondary_area_unit": null,
            "primary_length_unit": "kilometers",
            "active_color": "orange",
            "_model_name": "LeafletMeasureControlModel",
            "popup_options": {
              "className": "leaflet-measure-resultpopup",
              "autoPanPadding": [
                10,
                10
              ]
            },
            "_view_module": "jupyter-leaflet",
            "_model_module_version": "^0.15.0",
            "_view_count": null,
            "_view_module_version": "^0.15.0",
            "secondary_length_unit": null,
            "completed_color": "#C8F2BE",
            "position": "bottomleft",
            "_model_module": "jupyter-leaflet",
            "options": [
              "active_color",
              "capture_z_index",
              "completed_color",
              "popup_options",
              "position",
              "primary_area_unit",
              "primary_length_unit",
              "secondary_area_unit",
              "secondary_length_unit"
            ],
            "_custom_units": {}
          }
        },
        "68af19a74fd54a7b941bac0d7e85c1cc": {
          "model_module": "jupyter-leaflet",
          "model_name": "LeafletAttributionControlModel",
          "model_module_version": "^0.15.0",
          "state": {
            "_view_name": "LeafletAttributionControlView",
            "prefix": "ipyleaflet",
            "_model_name": "LeafletAttributionControlModel",
            "_view_module": "jupyter-leaflet",
            "_model_module_version": "^0.15.0",
            "_view_count": null,
            "_view_module_version": "^0.15.0",
            "position": "bottomright",
            "_model_module": "jupyter-leaflet",
            "options": [
              "position",
              "prefix"
            ]
          }
        },
        "0698126ae5e44aac91a7188585fd169a": {
          "model_module": "jupyter-leaflet",
          "model_name": "LeafletDrawControlModel",
          "model_module_version": "^0.15.0",
          "state": {
            "_view_name": "LeafletDrawControlView",
            "polygon": {
              "shapeOptions": {}
            },
            "circlemarker": {},
            "_model_name": "LeafletDrawControlModel",
            "edit": true,
            "data": [],
            "_view_module": "jupyter-leaflet",
            "_model_module_version": "^0.15.0",
            "remove": true,
            "_view_count": null,
            "_view_module_version": "^0.15.0",
            "polyline": {
              "shapeOptions": {}
            },
            "marker": {
              "shapeOptions": {
                "color": "#3388ff"
              }
            },
            "position": "topleft",
            "circle": {
              "shapeOptions": {
                "color": "#3388ff"
              }
            },
            "_model_module": "jupyter-leaflet",
            "options": [
              "position"
            ],
            "rectangle": {
              "shapeOptions": {
                "color": "#3388ff"
              }
            }
          }
        },
        "71b60f5cd91c4433a9f534099b096fbc": {
          "model_module": "jupyter-leaflet",
          "model_name": "LeafletWidgetControlModel",
          "model_module_version": "^0.15.0",
          "state": {
            "_view_name": "LeafletWidgetControlView",
            "widget": "IPY_MODEL_469905390fa24da09b28d6fd1c6c926d",
            "_model_name": "LeafletWidgetControlModel",
            "_view_module": "jupyter-leaflet",
            "_model_module_version": "^0.15.0",
            "max_height": null,
            "_view_count": null,
            "min_height": null,
            "_view_module_version": "^0.15.0",
            "max_width": null,
            "transparent_bg": false,
            "min_width": null,
            "position": "topright",
            "_model_module": "jupyter-leaflet",
            "options": [
              "position",
              "transparent_bg"
            ]
          }
        },
        "a88e30fa9fb544a893cd793f749f4d17": {
          "model_module": "jupyter-leaflet",
          "model_name": "LeafletMapStyleModel",
          "model_module_version": "^0.15.0",
          "state": {
            "_view_name": "StyleView",
            "_model_name": "LeafletMapStyleModel",
            "_view_module": "@jupyter-widgets/base",
            "_model_module_version": "^0.15.0",
            "_view_count": null,
            "cursor": "grab",
            "_view_module_version": "1.2.0",
            "_model_module": "jupyter-leaflet"
          }
        },
        "7f0795866533405bb77280b49cb08912": {
          "model_module": "jupyter-leaflet",
          "model_name": "LeafletTileLayerModel",
          "model_module_version": "^0.15.0",
          "state": {
            "_view_name": "LeafletTileLayerView",
            "_view_module": "jupyter-leaflet",
            "max_zoom": 19,
            "_model_module_version": "^0.15.0",
            "_view_count": null,
            "visible": true,
            "min_zoom": 1,
            "tms": false,
            "_model_module": "jupyter-leaflet",
            "loading": false,
            "bottom": true,
            "no_wrap": false,
            "tile_size": 256,
            "popup_min_width": 50,
            "opacity": 1,
            "popup": null,
            "attribution": "&copy; <a href=\"https://www.openstreetmap.org/copyright\">OpenStreetMap</a> contributors",
            "_model_name": "LeafletTileLayerModel",
            "max_native_zoom": 18,
            "base": true,
            "min_native_zoom": 0,
            "show_loading": false,
            "name": "OpenStreetMap.Mapnik",
            "url": "https://a.tile.openstreetmap.org/{z}/{x}/{y}.png",
            "popup_max_height": null,
            "popup_max_width": 300,
            "detect_retina": false,
            "_view_module_version": "^0.15.0",
            "options": [
              "attribution",
              "detect_retina",
              "max_native_zoom",
              "max_zoom",
              "min_native_zoom",
              "min_zoom",
              "no_wrap",
              "tile_size",
              "tms"
            ]
          }
        },
        "e179b1d45ba1403ea223189e33d2e4bf": {
          "model_module": "jupyter-leaflet",
          "model_name": "LeafletTileLayerModel",
          "model_module_version": "^0.15.0",
          "state": {
            "_view_name": "LeafletTileLayerView",
            "_view_module": "jupyter-leaflet",
            "max_zoom": 24,
            "_model_module_version": "^0.15.0",
            "_view_count": null,
            "visible": true,
            "min_zoom": 0,
            "tms": false,
            "_model_module": "jupyter-leaflet",
            "loading": false,
            "bottom": true,
            "no_wrap": false,
            "tile_size": 256,
            "popup_min_width": 50,
            "opacity": 1,
            "popup": null,
            "attribution": "Google Earth Engine",
            "_model_name": "LeafletTileLayerModel",
            "max_native_zoom": 18,
            "base": false,
            "min_native_zoom": 0,
            "show_loading": false,
            "name": "Landsat 7",
            "url": "https://earthengine.googleapis.com/v1alpha/projects/earthengine-legacy/maps/b2942ce0cd5db928c6a3d13c4d29f3bf-5d8b3f86ada25f54d29ae6a941feb343/tiles/{z}/{x}/{y}",
            "popup_max_height": null,
            "popup_max_width": 300,
            "detect_retina": false,
            "_view_module_version": "^0.15.0",
            "options": [
              "attribution",
              "detect_retina",
              "max_native_zoom",
              "max_zoom",
              "min_native_zoom",
              "min_zoom",
              "no_wrap",
              "tile_size",
              "tms"
            ]
          }
        },
        "640b2f9398c0488496c4b6b381f89ab9": {
          "model_module": "jupyter-leaflet",
          "model_name": "LeafletMapStyleModel",
          "model_module_version": "^0.15.0",
          "state": {
            "_view_name": "StyleView",
            "_model_name": "LeafletMapStyleModel",
            "_view_module": "@jupyter-widgets/base",
            "_model_module_version": "^0.15.0",
            "_view_count": null,
            "cursor": "move",
            "_view_module_version": "1.2.0",
            "_model_module": "jupyter-leaflet"
          }
        },
        "f05d00ab516f413a857ca1e99f9df3d5": {
          "model_module": "@jupyter-widgets/controls",
          "model_name": "HBoxModel",
          "model_module_version": "1.5.0",
          "state": {
            "_view_name": "HBoxView",
            "_dom_classes": [],
            "_model_name": "HBoxModel",
            "_view_module": "@jupyter-widgets/controls",
            "_model_module_version": "1.5.0",
            "_view_count": null,
            "_view_module_version": "1.5.0",
            "box_style": "",
            "layout": "IPY_MODEL_9d9f4b6c36cc4d3d85bc06d02552002b",
            "_model_module": "@jupyter-widgets/controls",
            "children": [
              "IPY_MODEL_4efc23cd5d8544e880e698af35701731"
            ]
          }
        },
        "469905390fa24da09b28d6fd1c6c926d": {
          "model_module": "@jupyter-widgets/controls",
          "model_name": "VBoxModel",
          "model_module_version": "1.5.0",
          "state": {
            "_view_name": "VBoxView",
            "_dom_classes": [],
            "_model_name": "VBoxModel",
            "_view_module": "@jupyter-widgets/controls",
            "_model_module_version": "1.5.0",
            "_view_count": null,
            "_view_module_version": "1.5.0",
            "box_style": "",
            "layout": "IPY_MODEL_c7b5609a39d34fbdbecb8a61bb2b87e4",
            "_model_module": "@jupyter-widgets/controls",
            "children": [
              "IPY_MODEL_2e0d6491a89a4b62a1650820df655626"
            ]
          }
        },
        "9d9f4b6c36cc4d3d85bc06d02552002b": {
          "model_module": "@jupyter-widgets/base",
          "model_name": "LayoutModel",
          "model_module_version": "1.2.0",
          "state": {
            "_view_name": "LayoutView",
            "grid_template_rows": null,
            "right": null,
            "justify_content": null,
            "_view_module": "@jupyter-widgets/base",
            "overflow": null,
            "_model_module_version": "1.2.0",
            "_view_count": null,
            "flex_flow": null,
            "width": null,
            "min_width": null,
            "border": null,
            "align_items": null,
            "bottom": null,
            "_model_module": "@jupyter-widgets/base",
            "top": null,
            "grid_column": null,
            "overflow_y": null,
            "overflow_x": null,
            "grid_auto_flow": null,
            "grid_area": null,
            "grid_template_columns": null,
            "flex": null,
            "_model_name": "LayoutModel",
            "justify_items": null,
            "grid_row": null,
            "max_height": null,
            "align_content": null,
            "visibility": null,
            "align_self": null,
            "height": null,
            "min_height": null,
            "padding": null,
            "grid_auto_rows": null,
            "grid_gap": null,
            "max_width": null,
            "order": null,
            "_view_module_version": "1.2.0",
            "grid_template_areas": null,
            "object_position": null,
            "object_fit": null,
            "grid_auto_columns": null,
            "margin": null,
            "display": null,
            "left": null
          }
        },
        "4efc23cd5d8544e880e698af35701731": {
          "model_module": "@jupyter-widgets/controls",
          "model_name": "ToggleButtonModel",
          "model_module_version": "1.5.0",
          "state": {
            "_view_name": "ToggleButtonView",
            "style": "IPY_MODEL_4677ac126c2644b6af31583273ea5c25",
            "_dom_classes": [],
            "description": "",
            "_model_name": "ToggleButtonModel",
            "button_style": "",
            "_view_module": "@jupyter-widgets/controls",
            "_model_module_version": "1.5.0",
            "tooltip": "Search location/data",
            "_view_count": null,
            "disabled": false,
            "_view_module_version": "1.5.0",
            "value": false,
            "description_tooltip": null,
            "_model_module": "@jupyter-widgets/controls",
            "layout": "IPY_MODEL_1f2c9d096a8d442d98970c07268db828",
            "icon": "globe"
          }
        },
        "c7b5609a39d34fbdbecb8a61bb2b87e4": {
          "model_module": "@jupyter-widgets/base",
          "model_name": "LayoutModel",
          "model_module_version": "1.2.0",
          "state": {
            "_view_name": "LayoutView",
            "grid_template_rows": null,
            "right": null,
            "justify_content": null,
            "_view_module": "@jupyter-widgets/base",
            "overflow": null,
            "_model_module_version": "1.2.0",
            "_view_count": null,
            "flex_flow": null,
            "width": null,
            "min_width": null,
            "border": null,
            "align_items": null,
            "bottom": null,
            "_model_module": "@jupyter-widgets/base",
            "top": null,
            "grid_column": null,
            "overflow_y": null,
            "overflow_x": null,
            "grid_auto_flow": null,
            "grid_area": null,
            "grid_template_columns": null,
            "flex": null,
            "_model_name": "LayoutModel",
            "justify_items": null,
            "grid_row": null,
            "max_height": null,
            "align_content": null,
            "visibility": null,
            "align_self": null,
            "height": null,
            "min_height": null,
            "padding": null,
            "grid_auto_rows": null,
            "grid_gap": null,
            "max_width": null,
            "order": null,
            "_view_module_version": "1.2.0",
            "grid_template_areas": null,
            "object_position": null,
            "object_fit": null,
            "grid_auto_columns": null,
            "margin": null,
            "display": null,
            "left": null
          }
        },
        "2e0d6491a89a4b62a1650820df655626": {
          "model_module": "@jupyter-widgets/controls",
          "model_name": "ToggleButtonModel",
          "model_module_version": "1.5.0",
          "state": {
            "_view_name": "ToggleButtonView",
            "style": "IPY_MODEL_5ebe15c9d86b46cdbd6c54743d4baa03",
            "_dom_classes": [],
            "description": "",
            "_model_name": "ToggleButtonModel",
            "button_style": "",
            "_view_module": "@jupyter-widgets/controls",
            "_model_module_version": "1.5.0",
            "tooltip": "Toolbar",
            "_view_count": null,
            "disabled": false,
            "_view_module_version": "1.5.0",
            "value": false,
            "description_tooltip": null,
            "_model_module": "@jupyter-widgets/controls",
            "layout": "IPY_MODEL_0a803d845288419da2fcef17dc84a103",
            "icon": "wrench"
          }
        },
        "4677ac126c2644b6af31583273ea5c25": {
          "model_module": "@jupyter-widgets/controls",
          "model_name": "DescriptionStyleModel",
          "model_module_version": "1.5.0",
          "state": {
            "_view_name": "StyleView",
            "_model_name": "DescriptionStyleModel",
            "description_width": "",
            "_view_module": "@jupyter-widgets/base",
            "_model_module_version": "1.5.0",
            "_view_count": null,
            "_view_module_version": "1.2.0",
            "_model_module": "@jupyter-widgets/controls"
          }
        },
        "1f2c9d096a8d442d98970c07268db828": {
          "model_module": "@jupyter-widgets/base",
          "model_name": "LayoutModel",
          "model_module_version": "1.2.0",
          "state": {
            "_view_name": "LayoutView",
            "grid_template_rows": null,
            "right": null,
            "justify_content": null,
            "_view_module": "@jupyter-widgets/base",
            "overflow": null,
            "_model_module_version": "1.2.0",
            "_view_count": null,
            "flex_flow": null,
            "width": "28px",
            "min_width": null,
            "border": null,
            "align_items": null,
            "bottom": null,
            "_model_module": "@jupyter-widgets/base",
            "top": null,
            "grid_column": null,
            "overflow_y": null,
            "overflow_x": null,
            "grid_auto_flow": null,
            "grid_area": null,
            "grid_template_columns": null,
            "flex": null,
            "_model_name": "LayoutModel",
            "justify_items": null,
            "grid_row": null,
            "max_height": null,
            "align_content": null,
            "visibility": null,
            "align_self": null,
            "height": "28px",
            "min_height": null,
            "padding": "0px 0px 0px 4px",
            "grid_auto_rows": null,
            "grid_gap": null,
            "max_width": null,
            "order": null,
            "_view_module_version": "1.2.0",
            "grid_template_areas": null,
            "object_position": null,
            "object_fit": null,
            "grid_auto_columns": null,
            "margin": null,
            "display": null,
            "left": null
          }
        },
        "5ebe15c9d86b46cdbd6c54743d4baa03": {
          "model_module": "@jupyter-widgets/controls",
          "model_name": "DescriptionStyleModel",
          "model_module_version": "1.5.0",
          "state": {
            "_view_name": "StyleView",
            "_model_name": "DescriptionStyleModel",
            "description_width": "",
            "_view_module": "@jupyter-widgets/base",
            "_model_module_version": "1.5.0",
            "_view_count": null,
            "_view_module_version": "1.2.0",
            "_model_module": "@jupyter-widgets/controls"
          }
        },
        "0a803d845288419da2fcef17dc84a103": {
          "model_module": "@jupyter-widgets/base",
          "model_name": "LayoutModel",
          "model_module_version": "1.2.0",
          "state": {
            "_view_name": "LayoutView",
            "grid_template_rows": null,
            "right": null,
            "justify_content": null,
            "_view_module": "@jupyter-widgets/base",
            "overflow": null,
            "_model_module_version": "1.2.0",
            "_view_count": null,
            "flex_flow": null,
            "width": "28px",
            "min_width": null,
            "border": null,
            "align_items": null,
            "bottom": null,
            "_model_module": "@jupyter-widgets/base",
            "top": null,
            "grid_column": null,
            "overflow_y": null,
            "overflow_x": null,
            "grid_auto_flow": null,
            "grid_area": null,
            "grid_template_columns": null,
            "flex": null,
            "_model_name": "LayoutModel",
            "justify_items": null,
            "grid_row": null,
            "max_height": null,
            "align_content": null,
            "visibility": null,
            "align_self": null,
            "height": "28px",
            "min_height": null,
            "padding": "0px 0px 0px 4px",
            "grid_auto_rows": null,
            "grid_gap": null,
            "max_width": null,
            "order": null,
            "_view_module_version": "1.2.0",
            "grid_template_areas": null,
            "object_position": null,
            "object_fit": null,
            "grid_auto_columns": null,
            "margin": null,
            "display": null,
            "left": null
          }
        },
        "ba9b026f0b944401a711e825750af0f5": {
          "model_module": "jupyter-leaflet",
          "model_name": "LeafletMapModel",
          "model_module_version": "^0.15.0",
          "state": {
            "_view_name": "LeafletMapView",
            "keyboard_pan_offset": 80,
            "right": 620228,
            "tap": true,
            "_view_module": "jupyter-leaflet",
            "max_zoom": 24,
            "_model_module_version": "^0.15.0",
            "_view_count": null,
            "zoom_snap": 1,
            "min_zoom": 1,
            "bounce_at_zoom_limits": true,
            "keyboard": true,
            "north": 39.98685368305097,
            "scroll_wheel_zoom": true,
            "dragging": true,
            "_model_module": "jupyter-leaflet",
            "zoom_delta": 1,
            "close_popup_on_click": true,
            "fullscreen": false,
            "style": "IPY_MODEL_6bed0edabc2d44809cf6ac84463b5902",
            "layout": "IPY_MODEL_56eb196c0e7448999ffd940be7127030",
            "bottom": 397619,
            "prefer_canvas": false,
            "inertia_max_speed": 1500,
            "top": 397019,
            "box_zoom": true,
            "controls": [
              "IPY_MODEL_7694d256f95044318352916c921fc527",
              "IPY_MODEL_3812b93baeb3446d94e9227625b2e670",
              "IPY_MODEL_306b4f2d211e41f8ad11ce713cbdc47f",
              "IPY_MODEL_9b49c9af906c4b6b8cc123b90cad34ac",
              "IPY_MODEL_0a4263a2f00e4544a2b8b2e7e0002f76",
              "IPY_MODEL_34d6e12ad80f42a6806249e1b51ffad9",
              "IPY_MODEL_7fc0c6ad48fe4f1abf50acbccffc6bce",
              "IPY_MODEL_e3b2b558d1eb4180a28fda2dadf8f21d"
            ],
            "default_style": "IPY_MODEL_1b93f5644fa94fe78d5da67fc84a3797",
            "east": 32.93838500976563,
            "double_click_zoom": true,
            "interpolation": "bilinear",
            "layers": [
              "IPY_MODEL_355023450f114a6f8f2729b5d585de6e",
              "IPY_MODEL_1e19b6e1dc3a4acbae332bbe84176a55",
              "IPY_MODEL_309e0026f7e64b86ae61785472736094",
              "IPY_MODEL_3542a1dc38ce42b3aacdcdd16d382d63"
            ],
            "dragging_style": "IPY_MODEL_a24925094af349be88ec5234b0fbbe16",
            "_dom_classes": [],
            "zoom_animation_threshold": 4,
            "_model_name": "LeafletMapModel",
            "zoom_start": 12,
            "modisdate": "2022-02-19",
            "keyboard_zoom_offset": 1,
            "inertia_deceleration": 3000,
            "inertia": true,
            "crs": {
              "name": "EPSG3857",
              "custom": false
            },
            "center": [
              39.907833856581554,
              32.65090935545272
            ],
            "zoom": 12,
            "world_copy_jump": false,
            "_view_module_version": "^0.15.0",
            "window_url": "https://xm6sl2wt808-496ff2e9c6d22116-0-colab.googleusercontent.com/outputframe.html?vrz=colab-20220217-060102-RC00_429270882",
            "tap_tolerance": 15,
            "west": 32.36331939697266,
            "touch_zoom": true,
            "options": [
              "bounce_at_zoom_limits",
              "box_zoom",
              "center",
              "close_popup_on_click",
              "double_click_zoom",
              "dragging",
              "fullscreen",
              "inertia",
              "inertia_deceleration",
              "inertia_max_speed",
              "interpolation",
              "keyboard",
              "keyboard_pan_offset",
              "keyboard_zoom_offset",
              "max_zoom",
              "min_zoom",
              "prefer_canvas",
              "scroll_wheel_zoom",
              "tap",
              "tap_tolerance",
              "touch_zoom",
              "world_copy_jump",
              "zoom",
              "zoom_animation_threshold",
              "zoom_delta",
              "zoom_snap",
              "zoom_start"
            ],
            "south": 39.828840750207796,
            "left": 618553
          }
        },
        "6bed0edabc2d44809cf6ac84463b5902": {
          "model_module": "jupyter-leaflet",
          "model_name": "LeafletMapStyleModel",
          "model_module_version": "^0.15.0",
          "state": {
            "_view_name": "StyleView",
            "_model_name": "LeafletMapStyleModel",
            "_view_module": "@jupyter-widgets/base",
            "_model_module_version": "^0.15.0",
            "_view_count": null,
            "cursor": "grab",
            "_view_module_version": "1.2.0",
            "_model_module": "jupyter-leaflet"
          }
        },
        "56eb196c0e7448999ffd940be7127030": {
          "model_module": "@jupyter-widgets/base",
          "model_name": "LayoutModel",
          "model_module_version": "1.2.0",
          "state": {
            "_view_name": "LayoutView",
            "grid_template_rows": null,
            "right": null,
            "justify_content": null,
            "_view_module": "@jupyter-widgets/base",
            "overflow": null,
            "_model_module_version": "1.2.0",
            "_view_count": null,
            "flex_flow": null,
            "width": null,
            "min_width": null,
            "border": null,
            "align_items": null,
            "bottom": null,
            "_model_module": "@jupyter-widgets/base",
            "top": null,
            "grid_column": null,
            "overflow_y": null,
            "overflow_x": null,
            "grid_auto_flow": null,
            "grid_area": null,
            "grid_template_columns": null,
            "flex": null,
            "_model_name": "LayoutModel",
            "justify_items": null,
            "grid_row": null,
            "max_height": null,
            "align_content": null,
            "visibility": null,
            "align_self": null,
            "height": "600px",
            "min_height": null,
            "padding": null,
            "grid_auto_rows": null,
            "grid_gap": null,
            "max_width": null,
            "order": null,
            "_view_module_version": "1.2.0",
            "grid_template_areas": null,
            "object_position": null,
            "object_fit": null,
            "grid_auto_columns": null,
            "margin": null,
            "display": null,
            "left": null
          }
        },
        "7694d256f95044318352916c921fc527": {
          "model_module": "jupyter-leaflet",
          "model_name": "LeafletWidgetControlModel",
          "model_module_version": "^0.15.0",
          "state": {
            "_view_name": "LeafletWidgetControlView",
            "widget": "IPY_MODEL_f9d4e245605146eabbf0343437cf7ca4",
            "_model_name": "LeafletWidgetControlModel",
            "_view_module": "jupyter-leaflet",
            "_model_module_version": "^0.15.0",
            "max_height": null,
            "_view_count": null,
            "min_height": null,
            "_view_module_version": "^0.15.0",
            "max_width": null,
            "transparent_bg": false,
            "min_width": null,
            "position": "topleft",
            "_model_module": "jupyter-leaflet",
            "options": [
              "position",
              "transparent_bg"
            ]
          }
        },
        "3812b93baeb3446d94e9227625b2e670": {
          "model_module": "jupyter-leaflet",
          "model_name": "LeafletZoomControlModel",
          "model_module_version": "^0.15.0",
          "state": {
            "_view_name": "LeafletZoomControlView",
            "zoom_in_title": "Zoom in",
            "_model_name": "LeafletZoomControlModel",
            "_view_module": "jupyter-leaflet",
            "_model_module_version": "^0.15.0",
            "_view_count": null,
            "_view_module_version": "^0.15.0",
            "zoom_out_title": "Zoom out",
            "position": "topleft",
            "zoom_in_text": "+",
            "_model_module": "jupyter-leaflet",
            "options": [
              "position",
              "zoom_in_text",
              "zoom_in_title",
              "zoom_out_text",
              "zoom_out_title"
            ],
            "zoom_out_text": "-"
          }
        },
        "306b4f2d211e41f8ad11ce713cbdc47f": {
          "model_module": "jupyter-leaflet",
          "model_name": "LeafletScaleControlModel",
          "model_module_version": "^0.15.0",
          "state": {
            "_view_name": "LeafletScaleControlView",
            "_model_name": "LeafletScaleControlModel",
            "metric": true,
            "_view_module": "jupyter-leaflet",
            "_model_module_version": "^0.15.0",
            "max_width": 100,
            "_view_count": null,
            "_view_module_version": "^0.15.0",
            "update_when_idle": false,
            "position": "bottomleft",
            "imperial": true,
            "_model_module": "jupyter-leaflet",
            "options": [
              "imperial",
              "max_width",
              "metric",
              "position",
              "update_when_idle"
            ]
          }
        },
        "9b49c9af906c4b6b8cc123b90cad34ac": {
          "model_module": "jupyter-leaflet",
          "model_name": "LeafletFullScreenControlModel",
          "model_module_version": "^0.15.0",
          "state": {
            "_view_name": "LeafletFullScreenControlView",
            "_model_name": "LeafletFullScreenControlModel",
            "_view_module": "jupyter-leaflet",
            "_model_module_version": "^0.15.0",
            "_view_count": null,
            "_view_module_version": "^0.15.0",
            "position": "topleft",
            "_model_module": "jupyter-leaflet",
            "options": [
              "position"
            ]
          }
        },
        "0a4263a2f00e4544a2b8b2e7e0002f76": {
          "model_module": "jupyter-leaflet",
          "model_name": "LeafletMeasureControlModel",
          "model_module_version": "^0.15.0",
          "state": {
            "_view_name": "LeafletMeasureControlView",
            "primary_area_unit": "acres",
            "capture_z_index": 10000,
            "secondary_area_unit": null,
            "primary_length_unit": "kilometers",
            "active_color": "orange",
            "_model_name": "LeafletMeasureControlModel",
            "popup_options": {
              "className": "leaflet-measure-resultpopup",
              "autoPanPadding": [
                10,
                10
              ]
            },
            "_view_module": "jupyter-leaflet",
            "_model_module_version": "^0.15.0",
            "_view_count": null,
            "_view_module_version": "^0.15.0",
            "secondary_length_unit": null,
            "completed_color": "#C8F2BE",
            "position": "bottomleft",
            "_model_module": "jupyter-leaflet",
            "options": [
              "active_color",
              "capture_z_index",
              "completed_color",
              "popup_options",
              "position",
              "primary_area_unit",
              "primary_length_unit",
              "secondary_area_unit",
              "secondary_length_unit"
            ],
            "_custom_units": {}
          }
        },
        "34d6e12ad80f42a6806249e1b51ffad9": {
          "model_module": "jupyter-leaflet",
          "model_name": "LeafletAttributionControlModel",
          "model_module_version": "^0.15.0",
          "state": {
            "_view_name": "LeafletAttributionControlView",
            "prefix": "ipyleaflet",
            "_model_name": "LeafletAttributionControlModel",
            "_view_module": "jupyter-leaflet",
            "_model_module_version": "^0.15.0",
            "_view_count": null,
            "_view_module_version": "^0.15.0",
            "position": "bottomright",
            "_model_module": "jupyter-leaflet",
            "options": [
              "position",
              "prefix"
            ]
          }
        },
        "7fc0c6ad48fe4f1abf50acbccffc6bce": {
          "model_module": "jupyter-leaflet",
          "model_name": "LeafletDrawControlModel",
          "model_module_version": "^0.15.0",
          "state": {
            "_view_name": "LeafletDrawControlView",
            "polygon": {
              "shapeOptions": {}
            },
            "circlemarker": {},
            "_model_name": "LeafletDrawControlModel",
            "edit": true,
            "data": [],
            "_view_module": "jupyter-leaflet",
            "_model_module_version": "^0.15.0",
            "remove": true,
            "_view_count": null,
            "_view_module_version": "^0.15.0",
            "polyline": {
              "shapeOptions": {}
            },
            "marker": {
              "shapeOptions": {
                "color": "#3388ff"
              }
            },
            "position": "topleft",
            "circle": {
              "shapeOptions": {
                "color": "#3388ff"
              }
            },
            "_model_module": "jupyter-leaflet",
            "options": [
              "position"
            ],
            "rectangle": {
              "shapeOptions": {
                "color": "#3388ff"
              }
            }
          }
        },
        "e3b2b558d1eb4180a28fda2dadf8f21d": {
          "model_module": "jupyter-leaflet",
          "model_name": "LeafletWidgetControlModel",
          "model_module_version": "^0.15.0",
          "state": {
            "_view_name": "LeafletWidgetControlView",
            "widget": "IPY_MODEL_36c855fc8b3a4e179943c910880e3929",
            "_model_name": "LeafletWidgetControlModel",
            "_view_module": "jupyter-leaflet",
            "_model_module_version": "^0.15.0",
            "max_height": null,
            "_view_count": null,
            "min_height": null,
            "_view_module_version": "^0.15.0",
            "max_width": null,
            "transparent_bg": false,
            "min_width": null,
            "position": "topright",
            "_model_module": "jupyter-leaflet",
            "options": [
              "position",
              "transparent_bg"
            ]
          }
        },
        "1b93f5644fa94fe78d5da67fc84a3797": {
          "model_module": "jupyter-leaflet",
          "model_name": "LeafletMapStyleModel",
          "model_module_version": "^0.15.0",
          "state": {
            "_view_name": "StyleView",
            "_model_name": "LeafletMapStyleModel",
            "_view_module": "@jupyter-widgets/base",
            "_model_module_version": "^0.15.0",
            "_view_count": null,
            "cursor": "grab",
            "_view_module_version": "1.2.0",
            "_model_module": "jupyter-leaflet"
          }
        },
        "355023450f114a6f8f2729b5d585de6e": {
          "model_module": "jupyter-leaflet",
          "model_name": "LeafletTileLayerModel",
          "model_module_version": "^0.15.0",
          "state": {
            "_view_name": "LeafletTileLayerView",
            "_view_module": "jupyter-leaflet",
            "max_zoom": 19,
            "_model_module_version": "^0.15.0",
            "_view_count": null,
            "visible": true,
            "min_zoom": 1,
            "tms": false,
            "_model_module": "jupyter-leaflet",
            "loading": false,
            "bottom": true,
            "no_wrap": false,
            "tile_size": 256,
            "popup_min_width": 50,
            "opacity": 1,
            "popup": null,
            "attribution": "&copy; <a href=\"https://www.openstreetmap.org/copyright\">OpenStreetMap</a> contributors",
            "_model_name": "LeafletTileLayerModel",
            "max_native_zoom": 18,
            "base": true,
            "min_native_zoom": 0,
            "show_loading": false,
            "name": "OpenStreetMap.Mapnik",
            "url": "https://a.tile.openstreetmap.org/{z}/{x}/{y}.png",
            "popup_max_height": null,
            "popup_max_width": 300,
            "detect_retina": false,
            "_view_module_version": "^0.15.0",
            "options": [
              "attribution",
              "detect_retina",
              "max_native_zoom",
              "max_zoom",
              "min_native_zoom",
              "min_zoom",
              "no_wrap",
              "tile_size",
              "tms"
            ]
          }
        },
        "309e0026f7e64b86ae61785472736094": {
          "model_module": "jupyter-leaflet",
          "model_name": "LeafletTileLayerModel",
          "model_module_version": "^0.15.0",
          "state": {
            "_view_name": "LeafletTileLayerView",
            "_view_module": "jupyter-leaflet",
            "max_zoom": 24,
            "_model_module_version": "^0.15.0",
            "_view_count": null,
            "visible": true,
            "min_zoom": 0,
            "tms": false,
            "_model_module": "jupyter-leaflet",
            "loading": false,
            "bottom": true,
            "no_wrap": false,
            "tile_size": 256,
            "popup_min_width": 50,
            "opacity": 1,
            "popup": null,
            "attribution": "Google Earth Engine",
            "_model_name": "LeafletTileLayerModel",
            "max_native_zoom": 18,
            "base": false,
            "min_native_zoom": 0,
            "show_loading": false,
            "name": "Etimesgut",
            "url": "https://earthengine.googleapis.com/v1alpha/projects/earthengine-legacy/maps/d33cc7f3a24a4bbd8736c0a069da097c-fb4405e4307dbd1e8bcffe51e0bc3aaa/tiles/{z}/{x}/{y}",
            "popup_max_height": null,
            "popup_max_width": 300,
            "detect_retina": false,
            "_view_module_version": "^0.15.0",
            "options": [
              "attribution",
              "detect_retina",
              "max_native_zoom",
              "max_zoom",
              "min_native_zoom",
              "min_zoom",
              "no_wrap",
              "tile_size",
              "tms"
            ]
          }
        },
        "3542a1dc38ce42b3aacdcdd16d382d63": {
          "model_module": "jupyter-leaflet",
          "model_name": "LeafletTileLayerModel",
          "model_module_version": "^0.15.0",
          "state": {
            "_view_name": "LeafletTileLayerView",
            "_view_module": "jupyter-leaflet",
            "max_zoom": 24,
            "_model_module_version": "^0.15.0",
            "_view_count": null,
            "visible": true,
            "min_zoom": 0,
            "tms": false,
            "_model_module": "jupyter-leaflet",
            "loading": false,
            "bottom": true,
            "no_wrap": false,
            "tile_size": 256,
            "popup_min_width": 50,
            "opacity": 1,
            "popup": null,
            "attribution": "Google Earth Engine",
            "_model_name": "LeafletTileLayerModel",
            "max_native_zoom": 18,
            "base": false,
            "min_native_zoom": 0,
            "show_loading": false,
            "name": "S2",
            "url": "https://earthengine.googleapis.com/v1alpha/projects/earthengine-legacy/maps/0edc0214c5d9694afe4c3319ba83bd53-2dc51d623bd08cdd2100cc129022d81a/tiles/{z}/{x}/{y}",
            "popup_max_height": null,
            "popup_max_width": 300,
            "detect_retina": false,
            "_view_module_version": "^0.15.0",
            "options": [
              "attribution",
              "detect_retina",
              "max_native_zoom",
              "max_zoom",
              "min_native_zoom",
              "min_zoom",
              "no_wrap",
              "tile_size",
              "tms"
            ]
          }
        },
        "a24925094af349be88ec5234b0fbbe16": {
          "model_module": "jupyter-leaflet",
          "model_name": "LeafletMapStyleModel",
          "model_module_version": "^0.15.0",
          "state": {
            "_view_name": "StyleView",
            "_model_name": "LeafletMapStyleModel",
            "_view_module": "@jupyter-widgets/base",
            "_model_module_version": "^0.15.0",
            "_view_count": null,
            "cursor": "move",
            "_view_module_version": "1.2.0",
            "_model_module": "jupyter-leaflet"
          }
        },
        "f9d4e245605146eabbf0343437cf7ca4": {
          "model_module": "@jupyter-widgets/controls",
          "model_name": "HBoxModel",
          "model_module_version": "1.5.0",
          "state": {
            "_view_name": "HBoxView",
            "_dom_classes": [],
            "_model_name": "HBoxModel",
            "_view_module": "@jupyter-widgets/controls",
            "_model_module_version": "1.5.0",
            "_view_count": null,
            "_view_module_version": "1.5.0",
            "box_style": "",
            "layout": "IPY_MODEL_ccdb5c26218e4717add7e4019f15eae1",
            "_model_module": "@jupyter-widgets/controls",
            "children": [
              "IPY_MODEL_b6e1d30cde834411b3668dee60b82822"
            ]
          }
        },
        "36c855fc8b3a4e179943c910880e3929": {
          "model_module": "@jupyter-widgets/controls",
          "model_name": "VBoxModel",
          "model_module_version": "1.5.0",
          "state": {
            "_view_name": "VBoxView",
            "_dom_classes": [],
            "_model_name": "VBoxModel",
            "_view_module": "@jupyter-widgets/controls",
            "_model_module_version": "1.5.0",
            "_view_count": null,
            "_view_module_version": "1.5.0",
            "box_style": "",
            "layout": "IPY_MODEL_2241dc5e67b54014bce02740a38e251b",
            "_model_module": "@jupyter-widgets/controls",
            "children": [
              "IPY_MODEL_8a7daced1fe64a13a015730db08f1b11"
            ]
          }
        },
        "ccdb5c26218e4717add7e4019f15eae1": {
          "model_module": "@jupyter-widgets/base",
          "model_name": "LayoutModel",
          "model_module_version": "1.2.0",
          "state": {
            "_view_name": "LayoutView",
            "grid_template_rows": null,
            "right": null,
            "justify_content": null,
            "_view_module": "@jupyter-widgets/base",
            "overflow": null,
            "_model_module_version": "1.2.0",
            "_view_count": null,
            "flex_flow": null,
            "width": null,
            "min_width": null,
            "border": null,
            "align_items": null,
            "bottom": null,
            "_model_module": "@jupyter-widgets/base",
            "top": null,
            "grid_column": null,
            "overflow_y": null,
            "overflow_x": null,
            "grid_auto_flow": null,
            "grid_area": null,
            "grid_template_columns": null,
            "flex": null,
            "_model_name": "LayoutModel",
            "justify_items": null,
            "grid_row": null,
            "max_height": null,
            "align_content": null,
            "visibility": null,
            "align_self": null,
            "height": null,
            "min_height": null,
            "padding": null,
            "grid_auto_rows": null,
            "grid_gap": null,
            "max_width": null,
            "order": null,
            "_view_module_version": "1.2.0",
            "grid_template_areas": null,
            "object_position": null,
            "object_fit": null,
            "grid_auto_columns": null,
            "margin": null,
            "display": null,
            "left": null
          }
        },
        "b6e1d30cde834411b3668dee60b82822": {
          "model_module": "@jupyter-widgets/controls",
          "model_name": "ToggleButtonModel",
          "model_module_version": "1.5.0",
          "state": {
            "_view_name": "ToggleButtonView",
            "style": "IPY_MODEL_87108e085e8d45b9b8a16ea83572789c",
            "_dom_classes": [],
            "description": "",
            "_model_name": "ToggleButtonModel",
            "button_style": "",
            "_view_module": "@jupyter-widgets/controls",
            "_model_module_version": "1.5.0",
            "tooltip": "Search location/data",
            "_view_count": null,
            "disabled": false,
            "_view_module_version": "1.5.0",
            "value": false,
            "description_tooltip": null,
            "_model_module": "@jupyter-widgets/controls",
            "layout": "IPY_MODEL_2c47eeeb63e34ec99e6afbd0f1e8a017",
            "icon": "globe"
          }
        },
        "2241dc5e67b54014bce02740a38e251b": {
          "model_module": "@jupyter-widgets/base",
          "model_name": "LayoutModel",
          "model_module_version": "1.2.0",
          "state": {
            "_view_name": "LayoutView",
            "grid_template_rows": null,
            "right": null,
            "justify_content": null,
            "_view_module": "@jupyter-widgets/base",
            "overflow": null,
            "_model_module_version": "1.2.0",
            "_view_count": null,
            "flex_flow": null,
            "width": null,
            "min_width": null,
            "border": null,
            "align_items": null,
            "bottom": null,
            "_model_module": "@jupyter-widgets/base",
            "top": null,
            "grid_column": null,
            "overflow_y": null,
            "overflow_x": null,
            "grid_auto_flow": null,
            "grid_area": null,
            "grid_template_columns": null,
            "flex": null,
            "_model_name": "LayoutModel",
            "justify_items": null,
            "grid_row": null,
            "max_height": null,
            "align_content": null,
            "visibility": null,
            "align_self": null,
            "height": null,
            "min_height": null,
            "padding": null,
            "grid_auto_rows": null,
            "grid_gap": null,
            "max_width": null,
            "order": null,
            "_view_module_version": "1.2.0",
            "grid_template_areas": null,
            "object_position": null,
            "object_fit": null,
            "grid_auto_columns": null,
            "margin": null,
            "display": null,
            "left": null
          }
        },
        "8a7daced1fe64a13a015730db08f1b11": {
          "model_module": "@jupyter-widgets/controls",
          "model_name": "ToggleButtonModel",
          "model_module_version": "1.5.0",
          "state": {
            "_view_name": "ToggleButtonView",
            "style": "IPY_MODEL_eb3ea563b4fa492b81e3d9060fe60a6b",
            "_dom_classes": [],
            "description": "",
            "_model_name": "ToggleButtonModel",
            "button_style": "",
            "_view_module": "@jupyter-widgets/controls",
            "_model_module_version": "1.5.0",
            "tooltip": "Toolbar",
            "_view_count": null,
            "disabled": false,
            "_view_module_version": "1.5.0",
            "value": false,
            "description_tooltip": null,
            "_model_module": "@jupyter-widgets/controls",
            "layout": "IPY_MODEL_cd683dfb9ead454389c92617f9c42bce",
            "icon": "wrench"
          }
        },
        "87108e085e8d45b9b8a16ea83572789c": {
          "model_module": "@jupyter-widgets/controls",
          "model_name": "DescriptionStyleModel",
          "model_module_version": "1.5.0",
          "state": {
            "_view_name": "StyleView",
            "_model_name": "DescriptionStyleModel",
            "description_width": "",
            "_view_module": "@jupyter-widgets/base",
            "_model_module_version": "1.5.0",
            "_view_count": null,
            "_view_module_version": "1.2.0",
            "_model_module": "@jupyter-widgets/controls"
          }
        },
        "2c47eeeb63e34ec99e6afbd0f1e8a017": {
          "model_module": "@jupyter-widgets/base",
          "model_name": "LayoutModel",
          "model_module_version": "1.2.0",
          "state": {
            "_view_name": "LayoutView",
            "grid_template_rows": null,
            "right": null,
            "justify_content": null,
            "_view_module": "@jupyter-widgets/base",
            "overflow": null,
            "_model_module_version": "1.2.0",
            "_view_count": null,
            "flex_flow": null,
            "width": "28px",
            "min_width": null,
            "border": null,
            "align_items": null,
            "bottom": null,
            "_model_module": "@jupyter-widgets/base",
            "top": null,
            "grid_column": null,
            "overflow_y": null,
            "overflow_x": null,
            "grid_auto_flow": null,
            "grid_area": null,
            "grid_template_columns": null,
            "flex": null,
            "_model_name": "LayoutModel",
            "justify_items": null,
            "grid_row": null,
            "max_height": null,
            "align_content": null,
            "visibility": null,
            "align_self": null,
            "height": "28px",
            "min_height": null,
            "padding": "0px 0px 0px 4px",
            "grid_auto_rows": null,
            "grid_gap": null,
            "max_width": null,
            "order": null,
            "_view_module_version": "1.2.0",
            "grid_template_areas": null,
            "object_position": null,
            "object_fit": null,
            "grid_auto_columns": null,
            "margin": null,
            "display": null,
            "left": null
          }
        },
        "eb3ea563b4fa492b81e3d9060fe60a6b": {
          "model_module": "@jupyter-widgets/controls",
          "model_name": "DescriptionStyleModel",
          "model_module_version": "1.5.0",
          "state": {
            "_view_name": "StyleView",
            "_model_name": "DescriptionStyleModel",
            "description_width": "",
            "_view_module": "@jupyter-widgets/base",
            "_model_module_version": "1.5.0",
            "_view_count": null,
            "_view_module_version": "1.2.0",
            "_model_module": "@jupyter-widgets/controls"
          }
        },
        "cd683dfb9ead454389c92617f9c42bce": {
          "model_module": "@jupyter-widgets/base",
          "model_name": "LayoutModel",
          "model_module_version": "1.2.0",
          "state": {
            "_view_name": "LayoutView",
            "grid_template_rows": null,
            "right": null,
            "justify_content": null,
            "_view_module": "@jupyter-widgets/base",
            "overflow": null,
            "_model_module_version": "1.2.0",
            "_view_count": null,
            "flex_flow": null,
            "width": "28px",
            "min_width": null,
            "border": null,
            "align_items": null,
            "bottom": null,
            "_model_module": "@jupyter-widgets/base",
            "top": null,
            "grid_column": null,
            "overflow_y": null,
            "overflow_x": null,
            "grid_auto_flow": null,
            "grid_area": null,
            "grid_template_columns": null,
            "flex": null,
            "_model_name": "LayoutModel",
            "justify_items": null,
            "grid_row": null,
            "max_height": null,
            "align_content": null,
            "visibility": null,
            "align_self": null,
            "height": "28px",
            "min_height": null,
            "padding": "0px 0px 0px 4px",
            "grid_auto_rows": null,
            "grid_gap": null,
            "max_width": null,
            "order": null,
            "_view_module_version": "1.2.0",
            "grid_template_areas": null,
            "object_position": null,
            "object_fit": null,
            "grid_auto_columns": null,
            "margin": null,
            "display": null,
            "left": null
          }
        }
      }
    }
  },
  "cells": [
    {
      "cell_type": "markdown",
      "metadata": {
        "id": "view-in-github",
        "colab_type": "text"
      },
      "source": [
        "<a href=\"https://colab.research.google.com/github/celikn/GEE_Repository/blob/main/GEE_Image_Export_20220217.ipynb\" target=\"_parent\"><img src=\"https://colab.research.google.com/assets/colab-badge.svg\" alt=\"Open In Colab\"/></a>"
      ]
    },
    {
      "cell_type": "code",
      "source": [
        "from google.colab import drive\n",
        "drive.mount('/content/drive')"
      ],
      "metadata": {
        "colab": {
          "base_uri": "https://localhost:8080/"
        },
        "id": "WL67txbYX_0B",
        "outputId": "15e45533-640a-4018-98df-9479939559dd"
      },
      "execution_count": null,
      "outputs": [
        {
          "output_type": "stream",
          "name": "stdout",
          "text": [
            "Mounted at /content/drive\n"
          ]
        }
      ]
    },
    {
      "cell_type": "code",
      "source": [
        "!pip install earthengine-api\n",
        "!pip install earthengine-api --upgrade\n"
      ],
      "metadata": {
        "id": "-_cLROAIn5QE",
        "colab": {
          "base_uri": "https://localhost:8080/"
        },
        "outputId": "ac6c136d-5808-4986-9f0b-65e286fdec78"
      },
      "execution_count": null,
      "outputs": [
        {
          "output_type": "stream",
          "name": "stdout",
          "text": [
            "Successfully installed earthengine-api-0.1.299\n"
          ]
        }
      ]
    },
    {
      "cell_type": "code",
      "source": [
        "import ee\n",
        "# Trigger the authentication flow.\n",
        "ee.Authenticate()\n",
        "\n",
        "# Initialize the library.\n",
        "ee.Initialize()"
      ],
      "metadata": {
        "id": "YkhkUH3hNORq"
      },
      "execution_count": null,
      "outputs": []
    },
    {
      "cell_type": "code",
      "source": [
        "!pip install geetools\n",
        "!pip install --upgrade geetools\n",
        "!pip install geemap\n"
      ],
      "metadata": {
        "id": "IxVjzSEloLXR"
      },
      "execution_count": null,
      "outputs": []
    },
    {
      "cell_type": "code",
      "source": [
        "### SENTINEL \n",
        "## Image'i goruntuleme, Ankarada bir lokasyona denk gelen nokta.\n",
        "import geemap\n",
        "import ee\n",
        "\n",
        "lon,lat =32.717443, 39.824942 ## Ankara\n",
        "\n",
        "Map = geemap.Map(center=[lon,lat], zoom=9) ## Haritayi olusturur. \n",
        "aoi = ee.Geometry.Point(lon,lat) ## filtrede kullanmak uzere bir nokta olusturuyoruz. Cakisan imageleri belirlemek icin. \n",
        "\n",
        "##Sentinel_2A verisinin collection icinde tarih ve nokta ile cakisan ve cloud pixel %5 dan az olan imagelerin ortalamasini alir. \n",
        "se2= ee.ImageCollection('COPERNICUS/S2')\\\n",
        ".filterDate(\"2019-01-01\",\"2019-12-31\")\\\n",
        ".filterBounds(aoi)\\\n",
        ".filter(ee.Filter.lt('CLOUDY_PIXEL_PERCENTAGE', 5))\n",
        "##.select([\"B2\", \"B3\", \"B4\", \"B5\", \"B6\", \"B7\", \"B8\", \"B8A\", \"B11\", \"B12\"])\n",
        "\n",
        "se2_median=se2.median() ## haritada goruntulemek icin median image olusturuyoruz. \n",
        "\n",
        "## Harita da gormek icin rgb bandlarini visualize ediyoruz. \n",
        "rgb = ['B4','B3','B2']\n",
        "rgbViz = {\"min\":0.0, \"max\":3000,\"bands\":rgb}\n",
        "Map.centerObject(aoi, 7)\n",
        "Map.addLayer(se2_median, rgbViz, \"S2\")\n",
        "Map"
      ],
      "metadata": {
        "colab": {
          "base_uri": "https://localhost:8080/",
          "height": 621,
          "referenced_widgets": [
            "1b146fa34b1542b6ba4a8c1d06309c95",
            "175c98f463d64212a0b2e7448a7ea0b0",
            "65392e99226d4ac394d5613f1256c021",
            "f25fc0e12a744a318156f962345f28dc",
            "263168f062374bab83bb3d731252f60e",
            "0758f65a8ae74f51b442d2a2630afa76",
            "7afa5c0de48f4899ad7357d48217b566",
            "f36fa8406432453699ad172aaf817152",
            "710b75b7f9234f89b99234ba7598be39",
            "190b4750affa45bd92cbe88987c7b675",
            "10849f5c8e414071ba17079d7e22ccb3",
            "5b4f99f54dd74a68a03d341044db289c",
            "0bdc7a6407744c9cb92d0884781c31dc",
            "1e19b6e1dc3a4acbae332bbe84176a55",
            "859b6e3fef8c4f8cbc2f35866bfdbee8",
            "a4c941b32d364c359ece57b91e5d258e",
            "95d817e69631412e8d0818489235f618",
            "5cd49a783ec94d06ab7ebcf715de4bd0",
            "889f4d1ebe8740ad8a45068552a4a404",
            "38c83666db4d4bb48e9a1107b042494b",
            "1d580099e2174760bba713fd864c18b1",
            "254726b3451744b7878c8ccb072da19d",
            "5563cd45948c4f8f980f289a894a2d6c",
            "f5a694f863a041c1a2c2273f72aaf82d",
            "d3b3d182c8a84ed3a6cedeed9ce2ffd6",
            "7c60bfc7fe314763882b3d25c37f014e"
          ]
        },
        "id": "AWSFO20lnQuT",
        "outputId": "df878d78-febd-4e22-bd4e-318e32c30af6"
      },
      "execution_count": null,
      "outputs": [
        {
          "output_type": "display_data",
          "data": {
            "application/vnd.jupyter.widget-view+json": {
              "model_id": "1b146fa34b1542b6ba4a8c1d06309c95",
              "version_minor": 0,
              "version_major": 2
            },
            "text/plain": [
              "Map(center=[39.824942, 32.717443], controls=(WidgetControl(options=['position', 'transparent_bg'], widget=HBox…"
            ]
          },
          "metadata": {
            "application/vnd.jupyter.widget-view+json": {
              "colab": {
                "custom_widget_manager": {
                  "url": "https://ssl.gstatic.com/colaboratory-static/widgets/colab-cdn-widget-manager/a8874ba6619b6106/manager.min.js"
                }
              }
            }
          }
        }
      ]
    },
    {
      "cell_type": "code",
      "source": [
        "############# Calisan Ornek Sentinel Imageleri Tiff olarak Google Drive'a indirme ################################\n",
        "## Read More : https://github.com/gee-community/gee_tools\n",
        "import geetools\n",
        "images_info= se2.aggregate_array('system:index').getInfo()\n",
        "print(images_info)\n",
        "print(\"image sayisi:\"+str(len(images_info)))\n",
        "\n",
        "data_type = 'float32'\n",
        "name_pattern = 'S2SR_{system_date}'\n",
        "date_pattern = 'yMMdd' # dd: day, MMM: month (JAN), y: year\n",
        "scale = 10\n",
        "folder_name = 'SentinelImages_Ankara'\n",
        "\n",
        "tasks = geetools.batch.Export.imagecollection.toDrive(\n",
        "            collection=se2,\n",
        "            folder=folder_name,\n",
        "            namePattern=name_pattern,\n",
        "            scale=scale,\n",
        "            datePattern=date_pattern,\n",
        "            verbose=True,\n",
        "            maxPixels=1e10)"
      ],
      "metadata": {
        "id": "5RhqWSrGqRMH",
        "colab": {
          "base_uri": "https://localhost:8080/"
        },
        "outputId": "d8d20bba-b887-4415-c9f4-15dfcd8b0a65"
      },
      "execution_count": null,
      "outputs": [
        {
          "output_type": "stream",
          "name": "stdout",
          "text": [
            "['20190308T083811_20190308T084001_T36TVK', '20190427T083601_20190427T083603_T36TVK', '20190701T083609_20190701T084549_T36TVK', '20190721T083609_20190721T084751_T36TVK', '20190731T083609_20190731T084610_T36TVK', '20190810T083609_20190810T084403_T36TVK', '20190825T083601_20190825T084818_T36TVK', '20190909T083559_20190909T084314_T36TVK', '20190919T083619_20190919T084115_T36TVK', '20190929T083729_20190929T083853_T36TVK', '20191004T083811_20191004T084807_T36TVK', '20191009T084019_20191009T084014_T36TVK', '20191014T083921_20191014T084358_T36TVK', '20191019T083949_20191019T084241_T36TVK', '20191029T084009_20191029T084844_T36TVK', '20191103T084121_20191103T084123_T36TVK', '20191108T084059_20191108T084733_T36TVK', '20191203T084331_20191203T084325_T36TVK']\n",
            "image sayisi:18\n",
            "exporting S2SR_20190308 to folder 'SentinelImages_Ankara' in GDrive\n",
            "exporting S2SR_20190427 to folder 'SentinelImages_Ankara' in GDrive\n",
            "exporting S2SR_20190701 to folder 'SentinelImages_Ankara' in GDrive\n",
            "exporting S2SR_20190721 to folder 'SentinelImages_Ankara' in GDrive\n",
            "exporting S2SR_20190731 to folder 'SentinelImages_Ankara' in GDrive\n",
            "exporting S2SR_20190810 to folder 'SentinelImages_Ankara' in GDrive\n",
            "exporting S2SR_20190825 to folder 'SentinelImages_Ankara' in GDrive\n",
            "exporting S2SR_20190909 to folder 'SentinelImages_Ankara' in GDrive\n",
            "exporting S2SR_20190919 to folder 'SentinelImages_Ankara' in GDrive\n",
            "exporting S2SR_20190929 to folder 'SentinelImages_Ankara' in GDrive\n",
            "exporting S2SR_20191004 to folder 'SentinelImages_Ankara' in GDrive\n",
            "exporting S2SR_20191009 to folder 'SentinelImages_Ankara' in GDrive\n",
            "exporting S2SR_20191014 to folder 'SentinelImages_Ankara' in GDrive\n",
            "exporting S2SR_20191019 to folder 'SentinelImages_Ankara' in GDrive\n",
            "exporting S2SR_20191029 to folder 'SentinelImages_Ankara' in GDrive\n",
            "exporting S2SR_20191103 to folder 'SentinelImages_Ankara' in GDrive\n",
            "exporting S2SR_20191108 to folder 'SentinelImages_Ankara' in GDrive\n",
            "exporting S2SR_20191203 to folder 'SentinelImages_Ankara' in GDrive\n"
          ]
        }
      ]
    },
    {
      "cell_type": "code",
      "source": [
        "### LANDSAT \n",
        "## Image'i goruntuleme, Ankarada bir lokasyona denk gelen nokta.\n",
        "import geemap\n",
        "import ee\n",
        "\n",
        "lon,lat =32.717443, 39.824942 ## Ankara\n",
        "\n",
        "Map = geemap.Map(center=[lon,lat], zoom=9) ## Haritayi olusturur. \n",
        "aoi = ee.Geometry.Point(lon,lat) ## filtrede kullanmak uzere bir nokta olusturuyoruz. Cakisan imageleri belirlemek icin. \n",
        "\n",
        "##Sentinel_2A verisinin collection icinde tarih ve nokta ile cakisan ve cloud pixel %5 dan az olan imagelerin ortalamasini alir. \n",
        "la8= ee.ImageCollection('LANDSAT/LC08/C01/T1_TOA').filterBounds(aoi)\\\n",
        ".filter(ee.Filter.lt('CLOUD_COVER', 5))\\\n",
        ".filterDate(\"2019-10-01\",\"2019-12-31\")\n",
        "\n",
        "\n",
        "la8_first=la8.median() ## haritada goruntulemek icin median image olusturuyoruz. \n",
        "\n",
        "## Harita da gormek icin rgb bandlarini visualize ediyoruz. \n",
        "rgb = ['B3', 'B2', 'B1']\n",
        "rgbViz = {\"min\":0.0, \"max\":0.3,\"bands\":rgb}\n",
        "Map.centerObject(aoi, 7)\n",
        "Map.addLayer(la8_first, rgbViz, \"Landsat 8\")\n",
        "Map"
      ],
      "metadata": {
        "colab": {
          "base_uri": "https://localhost:8080/",
          "height": 621,
          "referenced_widgets": [
            "1ac5cda5588f4443a1c7b9025f99da89",
            "7102f2ea06d047a0a724e6ccb21081bd",
            "d5719538ae354c25937c15688303093b",
            "ce0654c5ed3548de8c9dd978b082a6f1",
            "41242f7f6b5849379061f6c799e0cd4b",
            "2775da81774c4aadbcc1f2f7779f9a75",
            "87ee9b01b0f24e8b867ef2606b6c66a6",
            "29652e1831ef45fd83d7c27321fc262f",
            "9067d00895334cc9bb62454eafd83ff7",
            "5cee2fbdc879418abb03a008a08231fa",
            "62dc3616a4a4400e96fe67ba1f3686a0",
            "4fd155fc501748e69f9f50fdf7afb67c",
            "3e9d6b8a307a49249488664455c0ecef",
            "1e19b6e1dc3a4acbae332bbe84176a55",
            "4557bf716bf14e33a8c174d9532742c3",
            "22c2628b0d6e4946a1b4a1865d5f6e33",
            "d4dc752fb0c344daadfd8f4bfc4acc41",
            "af9de674f56443fbab7bf2eb96e63ac0",
            "0c9a05e39b5e45769a680127a5a2c533",
            "74b2ed6b8c8744468b9a6a4d9f93bf57",
            "6bf74ace64d343e0b378f8ae2493450a",
            "ff6feea5df32453682fa94fcadbc1cfd",
            "8414dcc8259d4893809e57ec3f35a1ac",
            "827448a4006f440fa03799c9c1a35699",
            "5e2246d36e7b42ed859c0fdd09447914",
            "ce0ec18bbb114e9e9a8c03d37da2cab7"
          ]
        },
        "id": "N94W1mH7yAps",
        "outputId": "1881c0b6-234d-472d-e36e-855665d707c0"
      },
      "execution_count": null,
      "outputs": [
        {
          "output_type": "display_data",
          "data": {
            "application/vnd.jupyter.widget-view+json": {
              "model_id": "1ac5cda5588f4443a1c7b9025f99da89",
              "version_minor": 0,
              "version_major": 2
            },
            "text/plain": [
              "Map(center=[39.824942, 32.717443], controls=(WidgetControl(options=['position', 'transparent_bg'], widget=HBox…"
            ]
          },
          "metadata": {
            "application/vnd.jupyter.widget-view+json": {
              "colab": {
                "custom_widget_manager": {
                  "url": "https://ssl.gstatic.com/colaboratory-static/widgets/colab-cdn-widget-manager/a8874ba6619b6106/manager.min.js"
                }
              }
            }
          }
        }
      ]
    },
    {
      "cell_type": "code",
      "source": [
        "############# Calisan Ornek Landsat Imageleri Tiff olarak Google Drive'a indirme ################################\n",
        "## Read More : https://github.com/gee-community/gee_tools\n",
        "import geetools\n",
        "\n",
        "imagesMetadata=la8.toList(la8.size()).getInfo()  ## collection listeye cevirip getInfo methodunu uyguluyor. \n",
        "imagesName =[val[1][\"properties\"]['system:index'] for val in enumerate(imagesMetadata)]  ## gelen metadata verilerinden image index \n",
        "\n",
        "print(imagesName)\n",
        "print(\"image sayisi:\"+str(len(imagesName)))\n",
        "\n",
        "data_type = 'float32'\n",
        "name_pattern = 'L8SR_{system_date}'\n",
        "date_pattern = 'yMMdd' # dd: day, MMM: month (JAN), y: year\n",
        "scale = 30\n",
        "folder_name = 'LandsatImages_Ankara'\n",
        "\n",
        "tasks = geetools.batch.Export.imagecollection.toDrive(\n",
        "            collection=la8,\n",
        "            folder=folder_name,\n",
        "            namePattern=name_pattern,\n",
        "            scale=scale,\n",
        "            datePattern=date_pattern,\n",
        "            verbose=True,\n",
        "            maxPixels=1e10)"
      ],
      "metadata": {
        "colab": {
          "base_uri": "https://localhost:8080/"
        },
        "id": "RiCJDKew5Ies",
        "outputId": "3b92c4bf-af13-41f6-c58a-f51976ab4944"
      },
      "execution_count": null,
      "outputs": [
        {
          "output_type": "stream",
          "name": "stdout",
          "text": [
            "['LC08_177032_20191014', 'LC08_177032_20191030', 'LC08_177033_20191014', 'LC08_177033_20191030', 'LC08_178032_20191106']\n",
            "image sayisi:5\n",
            "exporting L8SR_20191014 to folder 'LandsatImages_Ankara' in GDrive\n",
            "exporting L8SR_20191030 to folder 'LandsatImages_Ankara' in GDrive\n",
            "exporting L8SR_20191014 to folder 'LandsatImages_Ankara' in GDrive\n",
            "exporting L8SR_20191030 to folder 'LandsatImages_Ankara' in GDrive\n",
            "exporting L8SR_20191106 to folder 'LandsatImages_Ankara' in GDrive\n"
          ]
        }
      ]
    },
    {
      "cell_type": "code",
      "source": [
        "### LANDSAT \n",
        "## Image'i goruntuleme, Ankarada bir lokasyona denk gelen nokta.\n",
        "import geemap\n",
        "import ee\n",
        "\n",
        "lon,lat =32.717443, 39.824942 ## Ankara\n",
        "\n",
        "Map = geemap.Map(center=[lon,lat], zoom=9) ## Haritayi olusturur. \n",
        "aoi = ee.Geometry.Point(lon,lat) ## filtrede kullanmak uzere bir nokta olusturuyoruz. Cakisan imageleri belirlemek icin. \n",
        "\n",
        "##Sentinel_2A verisinin collection icinde tarih ve nokta ile cakisan ve cloud pixel %5 dan az olan imagelerin ortalamasini alir. \n",
        "la7= ee.ImageCollection('LANDSAT/LE07/C02/T1_L2').filterBounds(aoi)\\\n",
        ".filterDate(\"2000-10-01\",\"2000-12-31\")\n",
        "\n",
        "\n",
        "la7_first=la7.median() ## haritada goruntulemek icin median image olusturuyoruz. \n",
        "\n",
        "## Harita da gormek icin rgb bandlarini visualize ediyoruz. \n",
        "rgb = ['SR_B3', 'SR_B2', 'SR_B1']\n",
        "rgbViz = {\"min\":5000, \"max\":50000,\"bands\":rgb}\n",
        "Map.centerObject(aoi, 7)\n",
        "Map.addLayer(la7_first, rgbViz, \"Landsat 7\")\n",
        "Map"
      ],
      "metadata": {
        "id": "gjhi-4aLcRH-",
        "outputId": "0b789701-6a4f-412e-fcc0-11c27270d020",
        "colab": {
          "base_uri": "https://localhost:8080/",
          "height": 621,
          "referenced_widgets": [
            "0d785baef35744ac9bed8f7e4123a58e",
            "e8cff2b1fc8244cb8a8f4b447801b090",
            "689d21f43ec24ae28d012d5e84bf0dd0",
            "90ff80e6d7c5478f8cdcbe424429ef68",
            "3419cfbaae1246f4a766b2fa8ccd2e51",
            "455c6e6f01e0489da0b42c6908a9fc54",
            "8510f71b16654fffaa7d506439d63ead",
            "05f73ce66ec34a63bf3c2bc1910f5a9c",
            "68af19a74fd54a7b941bac0d7e85c1cc",
            "0698126ae5e44aac91a7188585fd169a",
            "71b60f5cd91c4433a9f534099b096fbc",
            "a88e30fa9fb544a893cd793f749f4d17",
            "7f0795866533405bb77280b49cb08912",
            "1e19b6e1dc3a4acbae332bbe84176a55",
            "e179b1d45ba1403ea223189e33d2e4bf",
            "640b2f9398c0488496c4b6b381f89ab9",
            "f05d00ab516f413a857ca1e99f9df3d5",
            "469905390fa24da09b28d6fd1c6c926d",
            "9d9f4b6c36cc4d3d85bc06d02552002b",
            "4efc23cd5d8544e880e698af35701731",
            "c7b5609a39d34fbdbecb8a61bb2b87e4",
            "2e0d6491a89a4b62a1650820df655626",
            "4677ac126c2644b6af31583273ea5c25",
            "1f2c9d096a8d442d98970c07268db828",
            "5ebe15c9d86b46cdbd6c54743d4baa03",
            "0a803d845288419da2fcef17dc84a103"
          ]
        }
      },
      "execution_count": null,
      "outputs": [
        {
          "output_type": "display_data",
          "data": {
            "application/vnd.jupyter.widget-view+json": {
              "model_id": "0d785baef35744ac9bed8f7e4123a58e",
              "version_minor": 0,
              "version_major": 2
            },
            "text/plain": [
              "Map(center=[39.824942, 32.717443], controls=(WidgetControl(options=['position', 'transparent_bg'], widget=HBox…"
            ]
          },
          "metadata": {
            "application/vnd.jupyter.widget-view+json": {
              "colab": {
                "custom_widget_manager": {
                  "url": "https://ssl.gstatic.com/colaboratory-static/widgets/colab-cdn-widget-manager/a8874ba6619b6106/manager.min.js"
                }
              }
            }
          }
        }
      ]
    },
    {
      "cell_type": "code",
      "source": [
        "############# Calisan Ornek Landsat 7 Imageleri Tiff olarak Google Drive'a indirme ################################\n",
        "## Read More : https://github.com/gee-community/gee_tools\n",
        "import geetools\n",
        "\n",
        "imagesMetadata=la7.toList(la7.size()).getInfo()  ## collection listeye cevirip getInfo methodunu uyguluyor. \n",
        "imagesName =[val[1][\"properties\"]['system:index'] for val in enumerate(imagesMetadata)]  ## gelen metadata verilerinden image index \n",
        "\n",
        "print(imagesName)\n",
        "print(\"image sayisi:\"+str(len(imagesName)))\n",
        "\n",
        "data_type = 'float32'\n",
        "name_pattern = 'L7SR_{system_date}'\n",
        "date_pattern = 'yMMdd' # dd: day, MMM: month (JAN), y: year\n",
        "scale = 30\n",
        "folder_name = 'LandsatImages_Ankara'\n",
        "\n",
        "tasks = geetools.batch.Export.imagecollection.toDrive(\n",
        "            collection=la7,\n",
        "            folder=folder_name,\n",
        "            namePattern=name_pattern,\n",
        "            scale=scale,\n",
        "            datePattern=date_pattern,\n",
        "            verbose=True,\n",
        "            maxPixels=1e10)"
      ],
      "metadata": {
        "id": "K9qy0XOBd-pN",
        "outputId": "03fe9bb7-634c-4047-d609-34606b98d16f",
        "colab": {
          "base_uri": "https://localhost:8080/"
        }
      },
      "execution_count": null,
      "outputs": [
        {
          "output_type": "stream",
          "name": "stdout",
          "text": [
            "['LE07_177032_20001001', 'LE07_177032_20001017', 'LE07_177032_20001102', 'LE07_177032_20001204', 'LE07_177032_20001220']\n",
            "image sayisi:5\n",
            "exporting L7SR_20001001 to folder 'LandsatImages_Ankara' in GDrive\n",
            "exporting L7SR_20001017 to folder 'LandsatImages_Ankara' in GDrive\n",
            "exporting L7SR_20001102 to folder 'LandsatImages_Ankara' in GDrive\n",
            "exporting L7SR_20001204 to folder 'LandsatImages_Ankara' in GDrive\n",
            "exporting L7SR_20001220 to folder 'LandsatImages_Ankara' in GDrive\n"
          ]
        }
      ]
    },
    {
      "cell_type": "code",
      "source": [
        "## Ekstra : Administrative alanlara gore filtreleme\n",
        "\n",
        "lon,lat =32.717443, 39.824942 ## Ankara\n",
        "Map = geemap.Map(center=[lon,lat], zoom=9) ## Haritayi olusturur. \n",
        "\n",
        "#### administrative sinirlari kullanarak filtreleme \n",
        "s2 = ee.ImageCollection(\"COPERNICUS/S2\")\n",
        "admin2 = ee.FeatureCollection(\"FAO/GAUL_SIMPLIFIED_500m/2015/level2\")\n",
        "admin1 =ee.FeatureCollection(\"FAO/GAUL/2015/level1\")\n",
        "\n",
        "administrativeArea = admin2.filter(ee.Filter.eq('ADM2_NAME', 'Etimesgut'))\n",
        "##administrativeArea = admin1.filter(ee.Filter.eq('ADM1_NAME', 'Ankara'))\n",
        "aoi_geometry = administrativeArea.geometry()\n",
        "s2= ee.ImageCollection('COPERNICUS/S2')\\\n",
        ".filterDate(\"2018-11-01\",\"2019-12-31\")\\\n",
        ".filterBounds(aoi)\\\n",
        ".filter(ee.Filter.lt('CLOUDY_PIXEL_PERCENTAGE', 10)) ## .select([\"B2\", \"B3\", \"B4\", \"B5\", \"B6\", \"B7\", \"B8\", \"B8A\", \"B11\", \"B12\"])\n",
        "\n",
        "## CollectionInfo\n",
        "images_info= s2.aggregate_array('system:index').getInfo()\n",
        "print(images_info)\n",
        "print(\"image sayisi:\"+str(len(images_info)))\n",
        "\n",
        "## Harita da gormek icin rgb bandlarini visualize ediyoruz. \n",
        "rgb = ['B4','B3','B2']\n",
        "rgbViz = {\"min\":0.0, \"max\":3000,\"bands\":rgb}\n",
        "firstImageClipped = s2.first().clip(aoi_geometry)\n",
        "Map.centerObject(aoi_geometry,12)\n",
        "Map.addLayer(administrativeArea, {}, 'Etimesgut');\n",
        "Map.addLayer(firstImageClipped, rgbViz, \"S2\")\n",
        "Map"
      ],
      "metadata": {
        "id": "mebeoRRLwecF",
        "colab": {
          "base_uri": "https://localhost:8080/",
          "height": 677,
          "referenced_widgets": [
            "ba9b026f0b944401a711e825750af0f5",
            "6bed0edabc2d44809cf6ac84463b5902",
            "56eb196c0e7448999ffd940be7127030",
            "7694d256f95044318352916c921fc527",
            "3812b93baeb3446d94e9227625b2e670",
            "306b4f2d211e41f8ad11ce713cbdc47f",
            "9b49c9af906c4b6b8cc123b90cad34ac",
            "0a4263a2f00e4544a2b8b2e7e0002f76",
            "34d6e12ad80f42a6806249e1b51ffad9",
            "7fc0c6ad48fe4f1abf50acbccffc6bce",
            "e3b2b558d1eb4180a28fda2dadf8f21d",
            "1b93f5644fa94fe78d5da67fc84a3797",
            "355023450f114a6f8f2729b5d585de6e",
            "1e19b6e1dc3a4acbae332bbe84176a55",
            "309e0026f7e64b86ae61785472736094",
            "3542a1dc38ce42b3aacdcdd16d382d63",
            "a24925094af349be88ec5234b0fbbe16",
            "f9d4e245605146eabbf0343437cf7ca4",
            "36c855fc8b3a4e179943c910880e3929",
            "ccdb5c26218e4717add7e4019f15eae1",
            "b6e1d30cde834411b3668dee60b82822",
            "2241dc5e67b54014bce02740a38e251b",
            "8a7daced1fe64a13a015730db08f1b11",
            "87108e085e8d45b9b8a16ea83572789c",
            "2c47eeeb63e34ec99e6afbd0f1e8a017",
            "eb3ea563b4fa492b81e3d9060fe60a6b",
            "cd683dfb9ead454389c92617f9c42bce"
          ]
        },
        "outputId": "115b7a6e-73db-4894-dca6-4d2149814b64"
      },
      "execution_count": null,
      "outputs": [
        {
          "output_type": "stream",
          "name": "stdout",
          "text": [
            "['20181103T084119_20181103T084639_T36TVK', '20181108T084141_20181108T084334_T36TVK', '20181208T084331_20181208T084330_T36TVK', '20190221T083959_20190221T083956_T36TVK', '20190308T083811_20190308T084001_T36TVK', '20190318T083701_20190318T083954_T36TVK', '20190422T083609_20190422T084547_T36TVK', '20190427T083601_20190427T083603_T36TVK', '20190517T083601_20190517T083604_T36TVK', '20190527T083601_20190527T084710_T36TVK', '20190606T083601_20190606T084745_T36TVK', '20190701T083609_20190701T084549_T36TVK', '20190721T083609_20190721T084751_T36TVK', '20190726T083611_20190726T083840_T36TVK', '20190731T083609_20190731T084610_T36TVK', '20190810T083609_20190810T084403_T36TVK', '20190825T083601_20190825T084818_T36TVK', '20190830T083609_20190830T084008_T36TVK', '20190904T083601_20190904T084432_T36TVK', '20190909T083559_20190909T084314_T36TVK', '20190914T083601_20190914T083726_T36TVK', '20190919T083619_20190919T084115_T36TVK', '20190929T083729_20190929T083853_T36TVK', '20191004T083811_20191004T084807_T36TVK', '20191009T084019_20191009T084014_T36TVK', '20191014T083921_20191014T084358_T36TVK', '20191019T083949_20191019T084241_T36TVK', '20191024T084021_20191024T084512_T36TVK', '20191029T084009_20191029T084844_T36TVK', '20191103T084121_20191103T084123_T36TVK', '20191108T084059_20191108T084733_T36TVK', '20191118T084139_20191118T084214_T36TVK', '20191203T084331_20191203T084325_T36TVK']\n",
            "image sayisi:33\n"
          ]
        },
        {
          "output_type": "display_data",
          "data": {
            "application/vnd.jupyter.widget-view+json": {
              "model_id": "ba9b026f0b944401a711e825750af0f5",
              "version_minor": 0,
              "version_major": 2
            },
            "text/plain": [
              "Map(center=[39.907833856581554, 32.65090935545272], controls=(WidgetControl(options=['position', 'transparent_…"
            ]
          },
          "metadata": {
            "application/vnd.jupyter.widget-view+json": {
              "colab": {
                "custom_widget_manager": {
                  "url": "https://ssl.gstatic.com/colaboratory-static/widgets/colab-cdn-widget-manager/a8874ba6619b6106/manager.min.js"
                }
              }
            }
          }
        }
      ]
    }
  ]
}