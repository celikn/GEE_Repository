{
  "nbformat": 4,
  "nbformat_minor": 0,
  "metadata": {
    "colab": {
      "name": "GEE_Image_Export_AOI_20220222",
      "provenance": [],
      "collapsed_sections": [],
      "authorship_tag": "ABX9TyPfmDPzOZWUMJWwXCmYgMzT",
      "include_colab_link": true
    },
    "kernelspec": {
      "name": "python3",
      "display_name": "Python 3"
    },
    "language_info": {
      "name": "python"
    },
    "widgets": {
      "application/vnd.jupyter.widget-state+json": {
        "1d3f3e9eda774d40b7da98c3e90907f4": {
          "model_module": "jupyter-leaflet",
          "model_name": "LeafletMapModel",
          "model_module_version": "^0.15.0",
          "state": {
            "_view_name": "LeafletMapView",
            "keyboard_pan_offset": 80,
            "right": 1238757.160397327,
            "tap": true,
            "_view_module": "jupyter-leaflet",
            "max_zoom": 24,
            "_model_module_version": "^0.15.0",
            "_view_count": null,
            "zoom_snap": 1,
            "min_zoom": 1,
            "bounce_at_zoom_limits": true,
            "keyboard": true,
            "north": 39.79259191572778,
            "scroll_wheel_zoom": true,
            "dragging": true,
            "_model_module": "jupyter-leaflet",
            "zoom_delta": 1,
            "close_popup_on_click": true,
            "fullscreen": false,
            "style": "IPY_MODEL_a4bced3a1123478c9792f7d1908f6523",
            "layout": "IPY_MODEL_96a87df258a8436cb490bd7b7cf2bc84",
            "bottom": 796112.8955078125,
            "prefer_canvas": false,
            "inertia_max_speed": 1500,
            "top": 795512.8955078125,
            "box_zoom": true,
            "controls": [
              "IPY_MODEL_f3c125c92df04e6cb451843e9bf0d476",
              "IPY_MODEL_7cac4f6c148148349a1933390015fb07",
              "IPY_MODEL_d983bd112c62440d9fdd8fc42032623f",
              "IPY_MODEL_c7be556e86ec497fbc41ce59deafc5e1",
              "IPY_MODEL_0c4ea5f7d2af4764989af55f9980f8ae",
              "IPY_MODEL_88c56d6850d94beba2d2d1896728f6e3",
              "IPY_MODEL_2e5b5739f9f749b6a7820a137928b774",
              "IPY_MODEL_2bd74a5f90684ee4b98405d0bb620d30"
            ],
            "default_style": "IPY_MODEL_a4bced3a1123478c9792f7d1908f6523",
            "east": 32.64675986434829,
            "double_click_zoom": true,
            "interpolation": "bilinear",
            "layers": [
              "IPY_MODEL_c34cf78ef6ee46b8ac7db99e6caede04",
              "IPY_MODEL_0adc8dc340614964a91aa0cc6b3d3fb4",
              "IPY_MODEL_128b403b50c347d49d3416590df6036e",
              "IPY_MODEL_f534af8d68cb4ac787324c621a238f19",
              "IPY_MODEL_75c8ca602bd747eab793df4d7827fe31"
            ],
            "dragging_style": "IPY_MODEL_ec216b47a6804669ab88017d6aa8bcf7",
            "_dom_classes": [],
            "zoom_animation_threshold": 4,
            "_model_name": "LeafletMapModel",
            "zoom_start": 12,
            "modisdate": "2022-02-27",
            "keyboard_zoom_offset": 1,
            "inertia_deceleration": 3000,
            "inertia": true,
            "crs": {
              "name": "EPSG3857",
              "custom": false
            },
            "center": [
              39.753010891320336,
              32.50299346115005
            ],
            "zoom": 13,
            "world_copy_jump": false,
            "_view_module_version": "^0.15.0",
            "window_url": "https://eaygmhemby6-496ff2e9c6d22116-0-colab.googleusercontent.com/outputframe.html?vrz=colab-20220224-060059-RC00_430667398",
            "tap_tolerance": 15,
            "west": 32.359227057951806,
            "touch_zoom": true,
            "options": [
              "bounce_at_zoom_limits",
              "box_zoom",
              "center",
              "close_popup_on_click",
              "double_click_zoom",
              "dragging",
              "fullscreen",
              "inertia",
              "inertia_deceleration",
              "inertia_max_speed",
              "interpolation",
              "keyboard",
              "keyboard_pan_offset",
              "keyboard_zoom_offset",
              "max_zoom",
              "min_zoom",
              "prefer_canvas",
              "scroll_wheel_zoom",
              "tap",
              "tap_tolerance",
              "touch_zoom",
              "world_copy_jump",
              "zoom",
              "zoom_animation_threshold",
              "zoom_delta",
              "zoom_snap",
              "zoom_start"
            ],
            "south": 39.713407110197934,
            "left": 1237082.160397327,
            "_dragging": false
          }
        },
        "7cbde69beb3a4e95a1bdf75c1736b1cd": {
          "model_module": "jupyter-leaflet",
          "model_name": "LeafletMapStyleModel",
          "model_module_version": "^0.15.0",
          "state": {
            "_view_name": "StyleView",
            "_model_name": "LeafletMapStyleModel",
            "_view_module": "@jupyter-widgets/base",
            "_model_module_version": "^0.15.0",
            "_view_count": null,
            "cursor": "grab",
            "_view_module_version": "1.2.0",
            "_model_module": "jupyter-leaflet"
          }
        },
        "96a87df258a8436cb490bd7b7cf2bc84": {
          "model_module": "@jupyter-widgets/base",
          "model_name": "LayoutModel",
          "model_module_version": "1.2.0",
          "state": {
            "_view_name": "LayoutView",
            "grid_template_rows": null,
            "right": null,
            "justify_content": null,
            "_view_module": "@jupyter-widgets/base",
            "overflow": null,
            "_model_module_version": "1.2.0",
            "_view_count": null,
            "flex_flow": null,
            "width": null,
            "min_width": null,
            "border": null,
            "align_items": null,
            "bottom": null,
            "_model_module": "@jupyter-widgets/base",
            "top": null,
            "grid_column": null,
            "overflow_y": null,
            "overflow_x": null,
            "grid_auto_flow": null,
            "grid_area": null,
            "grid_template_columns": null,
            "flex": null,
            "_model_name": "LayoutModel",
            "justify_items": null,
            "grid_row": null,
            "max_height": null,
            "align_content": null,
            "visibility": null,
            "align_self": null,
            "height": "600px",
            "min_height": null,
            "padding": null,
            "grid_auto_rows": null,
            "grid_gap": null,
            "max_width": null,
            "order": null,
            "_view_module_version": "1.2.0",
            "grid_template_areas": null,
            "object_position": null,
            "object_fit": null,
            "grid_auto_columns": null,
            "margin": null,
            "display": null,
            "left": null
          }
        },
        "f3c125c92df04e6cb451843e9bf0d476": {
          "model_module": "jupyter-leaflet",
          "model_name": "LeafletWidgetControlModel",
          "model_module_version": "^0.15.0",
          "state": {
            "_view_name": "LeafletWidgetControlView",
            "widget": "IPY_MODEL_ad98d5b7231341f0b38c73c1665ff94e",
            "_model_name": "LeafletWidgetControlModel",
            "_view_module": "jupyter-leaflet",
            "_model_module_version": "^0.15.0",
            "max_height": null,
            "_view_count": null,
            "min_height": null,
            "_view_module_version": "^0.15.0",
            "max_width": null,
            "transparent_bg": false,
            "min_width": null,
            "position": "topleft",
            "_model_module": "jupyter-leaflet",
            "options": [
              "position",
              "transparent_bg"
            ]
          }
        },
        "7cac4f6c148148349a1933390015fb07": {
          "model_module": "jupyter-leaflet",
          "model_name": "LeafletZoomControlModel",
          "model_module_version": "^0.15.0",
          "state": {
            "_view_name": "LeafletZoomControlView",
            "zoom_in_title": "Zoom in",
            "_model_name": "LeafletZoomControlModel",
            "_view_module": "jupyter-leaflet",
            "_model_module_version": "^0.15.0",
            "_view_count": null,
            "_view_module_version": "^0.15.0",
            "zoom_out_title": "Zoom out",
            "position": "topleft",
            "zoom_in_text": "+",
            "_model_module": "jupyter-leaflet",
            "options": [
              "position",
              "zoom_in_text",
              "zoom_in_title",
              "zoom_out_text",
              "zoom_out_title"
            ],
            "zoom_out_text": "-"
          }
        },
        "d983bd112c62440d9fdd8fc42032623f": {
          "model_module": "jupyter-leaflet",
          "model_name": "LeafletScaleControlModel",
          "model_module_version": "^0.15.0",
          "state": {
            "_view_name": "LeafletScaleControlView",
            "_model_name": "LeafletScaleControlModel",
            "metric": true,
            "_view_module": "jupyter-leaflet",
            "_model_module_version": "^0.15.0",
            "max_width": 100,
            "_view_count": null,
            "_view_module_version": "^0.15.0",
            "update_when_idle": false,
            "position": "bottomleft",
            "imperial": true,
            "_model_module": "jupyter-leaflet",
            "options": [
              "imperial",
              "max_width",
              "metric",
              "position",
              "update_when_idle"
            ]
          }
        },
        "c7be556e86ec497fbc41ce59deafc5e1": {
          "model_module": "jupyter-leaflet",
          "model_name": "LeafletFullScreenControlModel",
          "model_module_version": "^0.15.0",
          "state": {
            "_view_name": "LeafletFullScreenControlView",
            "_model_name": "LeafletFullScreenControlModel",
            "_view_module": "jupyter-leaflet",
            "_model_module_version": "^0.15.0",
            "_view_count": null,
            "_view_module_version": "^0.15.0",
            "position": "topleft",
            "_model_module": "jupyter-leaflet",
            "options": [
              "position"
            ]
          }
        },
        "0c4ea5f7d2af4764989af55f9980f8ae": {
          "model_module": "jupyter-leaflet",
          "model_name": "LeafletMeasureControlModel",
          "model_module_version": "^0.15.0",
          "state": {
            "_view_name": "LeafletMeasureControlView",
            "primary_area_unit": "acres",
            "capture_z_index": 10000,
            "secondary_area_unit": null,
            "primary_length_unit": "kilometers",
            "active_color": "orange",
            "_model_name": "LeafletMeasureControlModel",
            "popup_options": {
              "className": "leaflet-measure-resultpopup",
              "autoPanPadding": [
                10,
                10
              ]
            },
            "_view_module": "jupyter-leaflet",
            "_model_module_version": "^0.15.0",
            "_view_count": null,
            "_view_module_version": "^0.15.0",
            "secondary_length_unit": null,
            "completed_color": "#C8F2BE",
            "position": "bottomleft",
            "_model_module": "jupyter-leaflet",
            "options": [
              "active_color",
              "capture_z_index",
              "completed_color",
              "popup_options",
              "position",
              "primary_area_unit",
              "primary_length_unit",
              "secondary_area_unit",
              "secondary_length_unit"
            ],
            "_custom_units": {}
          }
        },
        "88c56d6850d94beba2d2d1896728f6e3": {
          "model_module": "jupyter-leaflet",
          "model_name": "LeafletAttributionControlModel",
          "model_module_version": "^0.15.0",
          "state": {
            "_view_name": "LeafletAttributionControlView",
            "prefix": "ipyleaflet",
            "_model_name": "LeafletAttributionControlModel",
            "_view_module": "jupyter-leaflet",
            "_model_module_version": "^0.15.0",
            "_view_count": null,
            "_view_module_version": "^0.15.0",
            "position": "bottomright",
            "_model_module": "jupyter-leaflet",
            "options": [
              "position",
              "prefix"
            ]
          }
        },
        "2e5b5739f9f749b6a7820a137928b774": {
          "model_module": "jupyter-leaflet",
          "model_name": "LeafletDrawControlModel",
          "model_module_version": "^0.15.0",
          "state": {
            "_view_name": "LeafletDrawControlView",
            "polygon": {
              "shapeOptions": {}
            },
            "circlemarker": {},
            "_model_name": "LeafletDrawControlModel",
            "edit": true,
            "data": [],
            "_view_module": "jupyter-leaflet",
            "_model_module_version": "^0.15.0",
            "remove": true,
            "_view_count": null,
            "_view_module_version": "^0.15.0",
            "polyline": {
              "shapeOptions": {}
            },
            "marker": {
              "shapeOptions": {
                "color": "#3388ff"
              }
            },
            "position": "topleft",
            "circle": {
              "shapeOptions": {
                "color": "#3388ff"
              }
            },
            "_model_module": "jupyter-leaflet",
            "options": [
              "position"
            ],
            "rectangle": {
              "shapeOptions": {
                "color": "#3388ff"
              }
            }
          }
        },
        "2bd74a5f90684ee4b98405d0bb620d30": {
          "model_module": "jupyter-leaflet",
          "model_name": "LeafletWidgetControlModel",
          "model_module_version": "^0.15.0",
          "state": {
            "_view_name": "LeafletWidgetControlView",
            "widget": "IPY_MODEL_11600aae8a5244a98e1356f9812f9ea1",
            "_model_name": "LeafletWidgetControlModel",
            "_view_module": "jupyter-leaflet",
            "_model_module_version": "^0.15.0",
            "max_height": null,
            "_view_count": null,
            "min_height": null,
            "_view_module_version": "^0.15.0",
            "max_width": null,
            "transparent_bg": false,
            "min_width": null,
            "position": "topright",
            "_model_module": "jupyter-leaflet",
            "options": [
              "position",
              "transparent_bg"
            ]
          }
        },
        "a4bced3a1123478c9792f7d1908f6523": {
          "model_module": "jupyter-leaflet",
          "model_name": "LeafletMapStyleModel",
          "model_module_version": "^0.15.0",
          "state": {
            "_view_name": "StyleView",
            "_model_name": "LeafletMapStyleModel",
            "_view_module": "@jupyter-widgets/base",
            "_model_module_version": "^0.15.0",
            "_view_count": null,
            "cursor": "grab",
            "_view_module_version": "1.2.0",
            "_model_module": "jupyter-leaflet"
          }
        },
        "c34cf78ef6ee46b8ac7db99e6caede04": {
          "model_module": "jupyter-leaflet",
          "model_name": "LeafletTileLayerModel",
          "model_module_version": "^0.15.0",
          "state": {
            "_view_name": "LeafletTileLayerView",
            "_view_module": "jupyter-leaflet",
            "max_zoom": 19,
            "_model_module_version": "^0.15.0",
            "_view_count": null,
            "visible": true,
            "min_zoom": 1,
            "tms": false,
            "_model_module": "jupyter-leaflet",
            "loading": false,
            "bottom": true,
            "no_wrap": false,
            "tile_size": 256,
            "popup_min_width": 50,
            "opacity": 1,
            "popup": null,
            "attribution": "&copy; <a href=\"https://www.openstreetmap.org/copyright\">OpenStreetMap</a> contributors",
            "_model_name": "LeafletTileLayerModel",
            "max_native_zoom": 18,
            "base": true,
            "min_native_zoom": 0,
            "show_loading": false,
            "name": "OpenStreetMap.Mapnik",
            "url": "https://a.tile.openstreetmap.org/{z}/{x}/{y}.png",
            "popup_max_height": null,
            "popup_max_width": 300,
            "detect_retina": false,
            "_view_module_version": "^0.15.0",
            "options": [
              "attribution",
              "detect_retina",
              "max_native_zoom",
              "max_zoom",
              "min_native_zoom",
              "min_zoom",
              "no_wrap",
              "tile_size",
              "tms"
            ]
          }
        },
        "0adc8dc340614964a91aa0cc6b3d3fb4": {
          "model_module": "jupyter-leaflet",
          "model_name": "LeafletTileLayerModel",
          "model_module_version": "^0.15.0",
          "state": {
            "_view_name": "LeafletTileLayerView",
            "_view_module": "jupyter-leaflet",
            "max_zoom": 22,
            "_model_module_version": "^0.15.0",
            "_view_count": null,
            "visible": true,
            "min_zoom": 0,
            "tms": false,
            "_model_module": "jupyter-leaflet",
            "loading": false,
            "bottom": true,
            "no_wrap": false,
            "tile_size": 256,
            "popup_min_width": 50,
            "opacity": 1,
            "popup": null,
            "attribution": "Google",
            "_model_name": "LeafletTileLayerModel",
            "max_native_zoom": 18,
            "base": false,
            "min_native_zoom": 0,
            "show_loading": false,
            "name": "Google Maps",
            "url": "https://mt1.google.com/vt/lyrs=m&x={x}&y={y}&z={z}",
            "popup_max_height": null,
            "popup_max_width": 300,
            "detect_retina": false,
            "_view_module_version": "^0.15.0",
            "options": [
              "attribution",
              "detect_retina",
              "max_native_zoom",
              "max_zoom",
              "min_native_zoom",
              "min_zoom",
              "no_wrap",
              "tile_size",
              "tms"
            ]
          }
        },
        "128b403b50c347d49d3416590df6036e": {
          "model_module": "jupyter-leaflet",
          "model_name": "LeafletTileLayerModel",
          "model_module_version": "^0.15.0",
          "state": {
            "_view_name": "LeafletTileLayerView",
            "_view_module": "jupyter-leaflet",
            "max_zoom": 24,
            "_model_module_version": "^0.15.0",
            "_view_count": null,
            "visible": true,
            "min_zoom": 0,
            "tms": false,
            "_model_module": "jupyter-leaflet",
            "loading": false,
            "bottom": true,
            "no_wrap": false,
            "tile_size": 256,
            "popup_min_width": 50,
            "opacity": 1,
            "popup": null,
            "attribution": "Google Earth Engine",
            "_model_name": "LeafletTileLayerModel",
            "max_native_zoom": 18,
            "base": false,
            "min_native_zoom": 0,
            "show_loading": false,
            "name": "Mahalleler",
            "url": "https://earthengine.googleapis.com/v1alpha/projects/earthengine-legacy/maps/cfdf327e4a5b43ad2a17b78f97381bf3-459e73f2924064d32436a93cf4e8130a/tiles/{z}/{x}/{y}",
            "popup_max_height": null,
            "popup_max_width": 300,
            "detect_retina": false,
            "_view_module_version": "^0.15.0",
            "options": [
              "attribution",
              "detect_retina",
              "max_native_zoom",
              "max_zoom",
              "min_native_zoom",
              "min_zoom",
              "no_wrap",
              "tile_size",
              "tms"
            ]
          }
        },
        "f534af8d68cb4ac787324c621a238f19": {
          "model_module": "jupyter-leaflet",
          "model_name": "LeafletTileLayerModel",
          "model_module_version": "^0.15.0",
          "state": {
            "_view_name": "LeafletTileLayerView",
            "_view_module": "jupyter-leaflet",
            "max_zoom": 24,
            "_model_module_version": "^0.15.0",
            "_view_count": null,
            "visible": true,
            "min_zoom": 0,
            "tms": false,
            "_model_module": "jupyter-leaflet",
            "loading": false,
            "bottom": true,
            "no_wrap": false,
            "tile_size": 256,
            "popup_min_width": 50,
            "opacity": 1,
            "popup": null,
            "attribution": "Google Earth Engine",
            "_model_name": "LeafletTileLayerModel",
            "max_native_zoom": 18,
            "base": false,
            "min_native_zoom": 0,
            "show_loading": false,
            "name": "S2",
            "url": "https://earthengine.googleapis.com/v1alpha/projects/earthengine-legacy/maps/cbbbd9585fa16ebed18762ebdfdd9f19-8e72b1618af008a686a77477c4528fcc/tiles/{z}/{x}/{y}",
            "popup_max_height": null,
            "popup_max_width": 300,
            "detect_retina": false,
            "_view_module_version": "^0.15.0",
            "options": [
              "attribution",
              "detect_retina",
              "max_native_zoom",
              "max_zoom",
              "min_native_zoom",
              "min_zoom",
              "no_wrap",
              "tile_size",
              "tms"
            ]
          }
        },
        "75c8ca602bd747eab793df4d7827fe31": {
          "model_module": "jupyter-leaflet",
          "model_name": "LeafletGeoJSONModel",
          "model_module_version": "^0.15.0",
          "state": {
            "_view_name": "LeafletGeoJSONView",
            "layers": [],
            "style": {},
            "bottom": false,
            "name": "Ankara Mahalleler JSON",
            "hover_style": {
              "fillColor": "red",
              "fillOpacity": 0.5
            },
            "_model_name": "LeafletGeoJSONModel",
            "data": {
              "type": "FeatureCollection",
              "features": [
                {
                  "geometry": {
                    "type": "Polygon",
                    "coordinates": [
                      [
                        [
                          32.66558686716756,
                          39.78868814216332
                        ],
                        [
                          32.668052809375844,
                          39.7884725142255
                        ],
                        [
                          32.669701191968194,
                          39.78859829878445
                        ],
                        [
                          32.66960239838077,
                          39.78763709837098
                        ],
                        [
                          32.66984938217096,
                          39.786671391273636
                        ],
                        [
                          32.67069834669936,
                          39.785499081124605
                        ],
                        [
                          32.672283843280205,
                          39.78401234640966
                        ],
                        [
                          32.676106192695705,
                          39.78152401610453
                        ],
                        [
                          32.67676641087531,
                          39.78016309363173
                        ],
                        [
                          32.67717965926069,
                          39.778986283510775
                        ],
                        [
                          32.67769617429968,
                          39.778424829919544
                        ],
                        [
                          32.67845973599038,
                          39.77813291676975
                        ],
                        [
                          32.67933112722727,
                          39.77809245287712
                        ],
                        [
                          32.6808223622315,
                          39.77857758213614
                        ],
                        [
                          32.68321182713863,
                          39.77998346280877
                        ],
                        [
                          32.68443804293345,
                          39.77981274180678
                        ],
                        [
                          32.68647722126645,
                          39.779669047994894
                        ],
                        [
                          32.688592724606494,
                          39.77960166898425
                        ],
                        [
                          32.68994919572909,
                          39.780010370250395
                        ],
                        [
                          32.69130116704963,
                          39.7801765824972
                        ],
                        [
                          32.69210065412178,
                          39.78003283248253
                        ],
                        [
                          32.693416743110284,
                          39.78056281381056
                        ],
                        [
                          32.694862956291246,
                          39.780028396230016
                        ],
                        [
                          32.69626433288352,
                          39.781577982649864
                        ],
                        [
                          32.69439591268315,
                          39.782054018832106
                        ],
                        [
                          32.69591399053433,
                          39.78267836128064
                        ],
                        [
                          32.69612066250064,
                          39.783136547832406
                        ],
                        [
                          32.69543342057885,
                          39.78423244511866
                        ],
                        [
                          32.6958466798497,
                          39.78496456051558
                        ],
                        [
                          32.69741420578942,
                          39.785283502070975
                        ],
                        [
                          32.69772412285413,
                          39.78562933533608
                        ],
                        [
                          32.69852364594182,
                          39.78600662219117
                        ],
                        [
                          32.698137372874776,
                          39.787385558481716
                        ],
                        [
                          32.69931411363439,
                          39.78758767443119
                        ],
                        [
                          32.70060322130792,
                          39.788265891351
                        ],
                        [
                          32.7012140723805,
                          39.78853540589052
                        ],
                        [
                          32.701667726911474,
                          39.788899192929016
                        ],
                        [
                          32.701991161369634,
                          39.789276478713894
                        ],
                        [
                          32.70373388067516,
                          39.79025118349053
                        ],
                        [
                          32.704740011348136,
                          39.790668871684
                        ],
                        [
                          32.70504094375561,
                          39.7905611021158
                        ],
                        [
                          32.70583144726144,
                          39.791091078901104
                        ],
                        [
                          32.706617463493174,
                          39.79171090393736
                        ],
                        [
                          32.70598415256525,
                          39.79210617234555
                        ],
                        [
                          32.70725077049837,
                          39.79222294856726
                        ],
                        [
                          32.71074522061471,
                          39.7963731745764
                        ],
                        [
                          32.71265410110889,
                          39.7976533216378
                        ],
                        [
                          32.7119804130664,
                          39.79885702861927
                        ],
                        [
                          32.71137850204755,
                          39.801385833782014
                        ],
                        [
                          32.711418916799644,
                          39.80488477104796
                        ],
                        [
                          32.711046135345875,
                          39.80845102148291
                        ],
                        [
                          32.710722729529635,
                          39.80966375054995
                        ],
                        [
                          32.71080812668846,
                          39.811357054720645
                        ],
                        [
                          32.71085302264344,
                          39.812852759865535
                        ],
                        [
                          32.71090688052887,
                          39.8162888223974
                        ],
                        [
                          32.710439737829354,
                          39.81901074247697
                        ],
                        [
                          32.71090239955388,
                          39.819715954166085
                        ],
                        [
                          32.70967624230557,
                          39.82381669444328
                        ],
                        [
                          32.70744389000615,
                          39.82285550934069
                        ],
                        [
                          32.70637039600087,
                          39.822680391471884
                        ],
                        [
                          32.70451543177512,
                          39.82264443797073
                        ],
                        [
                          32.702916386828804,
                          39.82288695398485
                        ],
                        [
                          32.693281946037445,
                          39.82731117911696
                        ],
                        [
                          32.69018277103748,
                          39.82338555622807
                        ],
                        [
                          32.684999514886385,
                          39.823767305672554
                        ],
                        [
                          32.682753694809236,
                          39.82365504579116
                        ],
                        [
                          32.67879660470466,
                          39.817663253661735
                        ],
                        [
                          32.678841514702945,
                          39.81512106461922
                        ],
                        [
                          32.678841514702945,
                          39.814200306536854
                        ],
                        [
                          32.678423790619526,
                          39.81237217207095
                        ],
                        [
                          32.67642505300538,
                          39.80938533182134
                        ],
                        [
                          32.674331969965976,
                          39.80657803717067
                        ],
                        [
                          32.67424662857889,
                          39.80475445666873
                        ],
                        [
                          32.672935120795515,
                          39.8045703588275
                        ],
                        [
                          32.67174488753552,
                          39.80386063783063
                        ],
                        [
                          32.673038393805875,
                          39.802041606144535
                        ],
                        [
                          32.67245452924996,
                          39.80167775530142
                        ],
                        [
                          32.671758335601986,
                          39.80099055565636
                        ],
                        [
                          32.671479805096226,
                          39.80028535991698
                        ],
                        [
                          32.67166850938099,
                          39.7999035579178
                        ],
                        [
                          32.66921610247164,
                          39.798668378904416
                        ],
                        [
                          32.668748941963194,
                          39.79790935450206
                        ],
                        [
                          32.67027610669004,
                          39.79717272640153
                        ],
                        [
                          32.669391276337954,
                          39.79560064592744
                        ],
                        [
                          32.66767099049971,
                          39.79281136528168
                        ],
                        [
                          32.666116889391624,
                          39.79018832582012
                        ],
                        [
                          32.66593274404959,
                          39.78977060396614
                        ],
                        [
                          32.665771013130204,
                          39.78924507424898
                        ],
                        [
                          32.66558686716756,
                          39.78868814216332
                        ]
                      ]
                    ]
                  },
                  "type": "Feature",
                  "id": "00000069d16f8a4d3ad4",
                  "properties": {
                    "TIP": "Mahalle",
                    "IL_ID": 6,
                    "TIPKOD": 7,
                    "ILCE_ID": 1744,
                    "Nufus": 2292,
                    "ID": 14380,
                    "ADI": "İncek Mh."
                  }
                },
                {
                  "geometry": {
                    "type": "Polygon",
                    "coordinates": [
                      [
                        [
                          32.59488054386669,
                          39.819042202589756
                        ],
                        [
                          32.595316206220915,
                          39.818166339907215
                        ],
                        [
                          32.59543292891186,
                          39.81669311565856
                        ],
                        [
                          32.60301927580905,
                          39.82049293767433
                        ],
                        [
                          32.60704820413365,
                          39.81566901879493
                        ],
                        [
                          32.602309586385616,
                          39.812196992958945
                        ],
                        [
                          32.60604206505581,
                          39.80688350510584
                        ],
                        [
                          32.60897057187149,
                          39.80573811025109
                        ],
                        [
                          32.61253685473168,
                          39.80428286804854
                        ],
                        [
                          32.61584270476035,
                          39.80266588146587
                        ],
                        [
                          32.62405326444763,
                          39.7976488291077
                        ],
                        [
                          32.62718841544265,
                          39.79441037661573
                        ],
                        [
                          32.63041781786551,
                          39.79467093278284
                        ],
                        [
                          32.63313978237371,
                          39.79358393341421
                        ],
                        [
                          32.63338228321306,
                          39.788890247683575
                        ],
                        [
                          32.63876768981327,
                          39.78490621638898
                        ],
                        [
                          32.643075122308645,
                          39.786478278288065
                        ],
                        [
                          32.643874640297916,
                          39.784686091388906
                        ],
                        [
                          32.644391150448065,
                          39.782301073918646
                        ],
                        [
                          32.6457296670993,
                          39.779588188421954
                        ],
                        [
                          32.648258426976646,
                          39.78003284484662
                        ],
                        [
                          32.64830783405001,
                          39.78002383211746
                        ],
                        [
                          32.64830783405001,
                          39.77974535728178
                        ],
                        [
                          32.64837517593899,
                          39.779727452774225
                        ],
                        [
                          32.64837069222944,
                          39.780746997644194
                        ],
                        [
                          32.64944419018303,
                          39.78075151033648
                        ],
                        [
                          32.65494187598371,
                          39.7813578441645
                        ],
                        [
                          32.65859804232429,
                          39.78407977535103
                        ],
                        [
                          32.66028235606736,
                          39.78373389793292
                        ],
                        [
                          32.66425291981158,
                          39.78456933985451
                        ],
                        [
                          32.6645718169659,
                          39.7852700407839
                        ],
                        [
                          32.66558686716756,
                          39.78868814216332
                        ],
                        [
                          32.665771013130204,
                          39.78924507424898
                        ],
                        [
                          32.66593274404959,
                          39.78977060396614
                        ],
                        [
                          32.666116889391624,
                          39.79018832582012
                        ],
                        [
                          32.66767099049971,
                          39.79281136528168
                        ],
                        [
                          32.669391276337954,
                          39.79560064592744
                        ],
                        [
                          32.67027610669004,
                          39.79717272640153
                        ],
                        [
                          32.668748941963194,
                          39.79790935450206
                        ],
                        [
                          32.66921610247164,
                          39.798668378904416
                        ],
                        [
                          32.67166850938099,
                          39.7999035579178
                        ],
                        [
                          32.671479805096226,
                          39.80028535991698
                        ],
                        [
                          32.671758335601986,
                          39.80099055565636
                        ],
                        [
                          32.67245452924996,
                          39.80167775530142
                        ],
                        [
                          32.673038393805875,
                          39.802041606144535
                        ],
                        [
                          32.67174488753552,
                          39.80386063783063
                        ],
                        [
                          32.672935120795515,
                          39.8045703588275
                        ],
                        [
                          32.67424662857889,
                          39.80475445666873
                        ],
                        [
                          32.674331969965976,
                          39.80657803717067
                        ],
                        [
                          32.67642505300538,
                          39.80938533182134
                        ],
                        [
                          32.678423790619526,
                          39.81237217207095
                        ],
                        [
                          32.678841514702945,
                          39.814200306536854
                        ],
                        [
                          32.678841514702945,
                          39.81512106461922
                        ],
                        [
                          32.67664512551987,
                          39.81532766082983
                        ],
                        [
                          32.67542795395142,
                          39.817622839510264
                        ],
                        [
                          32.67631281842715,
                          39.819720370154215
                        ],
                        [
                          32.676793391890804,
                          39.822060522013835
                        ],
                        [
                          32.67359984200017,
                          39.821934749342006
                        ],
                        [
                          32.67086903530743,
                          39.81988655758224
                        ],
                        [
                          32.66908135977154,
                          39.820344772947024
                        ],
                        [
                          32.66733408524034,
                          39.81847179854409
                        ],
                        [
                          32.665964210856636,
                          39.82126100754039
                        ],
                        [
                          32.666507679886614,
                          39.8219751552195
                        ],
                        [
                          32.66982696830877,
                          39.82219973758275
                        ],
                        [
                          32.67167747476551,
                          39.82608051355817
                        ],
                        [
                          32.67173135326172,
                          39.83018580245442
                        ],
                        [
                          32.67068481228747,
                          39.833392758624754
                        ],
                        [
                          32.668430057788974,
                          39.83527923974718
                        ],
                        [
                          32.663152505802664,
                          39.837870884041216
                        ],
                        [
                          32.66139625026547,
                          39.8389174489206
                        ],
                        [
                          32.657600856253005,
                          39.83994600512633
                        ],
                        [
                          32.659428908366124,
                          39.84132939174427
                        ],
                        [
                          32.65712027911749,
                          39.84264991686639
                        ],
                        [
                          32.6520268337408,
                          39.84269036779652
                        ],
                        [
                          32.65153726338757,
                          39.84487773592704
                        ],
                        [
                          32.650629939710015,
                          39.845111300495695
                        ],
                        [
                          32.65016286708563,
                          39.84522804770811
                        ],
                        [
                          32.6494576411706,
                          39.845308922733835
                        ],
                        [
                          32.64858177126678,
                          39.84535833299068
                        ],
                        [
                          32.64789007192202,
                          39.845367354288214
                        ],
                        [
                          32.64773288255379,
                          39.84528646155508
                        ],
                        [
                          32.647620616604435,
                          39.845133758414576
                        ],
                        [
                          32.647512834279645,
                          39.844904673686926
                        ],
                        [
                          32.6474498893497,
                          39.844729525576454
                        ],
                        [
                          32.64743195434891,
                          39.84451393437065
                        ],
                        [
                          32.64449445216678,
                          39.84411419155079
                        ],
                        [
                          32.64430130028781,
                          39.84204805149877
                        ],
                        [
                          32.64468760368295,
                          39.84063318004973
                        ],
                        [
                          32.64199267611067,
                          39.840098694900114
                        ],
                        [
                          32.641781583546674,
                          39.840422099945634
                        ],
                        [
                          32.63676447220673,
                          39.83885900780849
                        ],
                        [
                          32.63493636197828,
                          39.839388999961024
                        ],
                        [
                          32.63426268064027,
                          39.839892056027416
                        ],
                        [
                          32.63266814592607,
                          39.84100149357471
                        ],
                        [
                          32.63238519751572,
                          39.84108231072645
                        ],
                        [
                          32.63288822595625,
                          39.84330121605204
                        ],
                        [
                          32.63257828552769,
                          39.84344045231063
                        ],
                        [
                          32.63265020834802,
                          39.84365152875016
                        ],
                        [
                          32.63217408524182,
                          39.84379974277812
                        ],
                        [
                          32.632111217164834,
                          39.844392607070006
                        ],
                        [
                          32.636926162547795,
                          39.84258704493464
                        ],
                        [
                          32.63816129590051,
                          39.84357970979909
                        ],
                        [
                          32.63827814255958,
                          39.843759300049435
                        ],
                        [
                          32.635978437942484,
                          39.84490465735533
                        ],
                        [
                          32.6371327808752,
                          39.84697079209581
                        ],
                        [
                          32.63774357878846,
                          39.84814308773213
                        ],
                        [
                          32.6341683373052,
                          39.84821500297664
                        ],
                        [
                          32.633144266747195,
                          39.84869556670829
                        ],
                        [
                          32.63267711471393,
                          39.84927501750443
                        ],
                        [
                          32.632313274510246,
                          39.85018677253009
                        ],
                        [
                          32.63092094215861,
                          39.84989029011612
                        ],
                        [
                          32.62970366001512,
                          39.84972413030226
                        ],
                        [
                          32.629070391640965,
                          39.84977800961038
                        ],
                        [
                          32.62849998969277,
                          39.84938280664083
                        ],
                        [
                          32.628100171747725,
                          39.849849941585134
                        ],
                        [
                          32.62729621905877,
                          39.85087397843274
                        ],
                        [
                          32.626537106715354,
                          39.8522888588582
                        ],
                        [
                          32.625764620937964,
                          39.85066736346956
                        ],
                        [
                          32.62102151581623,
                          39.84802631822154
                        ],
                        [
                          32.619894074478296,
                          39.84774338281671
                        ],
                        [
                          32.6167994123188,
                          39.847393023714815
                        ],
                        [
                          32.615856160139174,
                          39.84677314571711
                        ],
                        [
                          32.61352050433166,
                          39.84311255492774
                        ],
                        [
                          32.6114409766046,
                          39.836999494464855
                        ],
                        [
                          32.60770394896196,
                          39.82889218331606
                        ],
                        [
                          32.60690898074114,
                          39.8276480691215
                        ],
                        [
                          32.603171961482126,
                          39.823758307850646
                        ],
                        [
                          32.60171669393625,
                          39.82280614717018
                        ],
                        [
                          32.597234047698294,
                          39.82112630982696
                        ],
                        [
                          32.59488054386669,
                          39.819042202589756
                        ]
                      ]
                    ]
                  },
                  "type": "Feature",
                  "id": "000011ec35af1a02fc51",
                  "properties": {
                    "TIP": "Mahalle",
                    "IL_ID": 6,
                    "TIPKOD": 7,
                    "ILCE_ID": 1723,
                    "Nufus": 8104,
                    "ID": 15191,
                    "ADI": "Dodurga Mh."
                  }
                },
                {
                  "geometry": {
                    "type": "Polygon",
                    "coordinates": [
                      [
                        [
                          32.66871299318858,
                          39.94830077604396
                        ],
                        [
                          32.67350105216763,
                          39.94722731812247
                        ],
                        [
                          32.68248872702943,
                          39.944599735562875
                        ],
                        [
                          32.68755066539216,
                          39.942430296520804
                        ],
                        [
                          32.69392421285138,
                          39.94011714126057
                        ],
                        [
                          32.69427008030769,
                          39.93996887589858
                        ],
                        [
                          32.694508127451876,
                          39.93986113747166
                        ],
                        [
                          32.69477315032284,
                          39.93973532004506
                        ],
                        [
                          32.69501119629706,
                          39.93961409015968
                        ],
                        [
                          32.69572084925779,
                          39.93921879005084
                        ],
                        [
                          32.696430583482766,
                          39.93875164954937
                        ],
                        [
                          32.70166324553156,
                          39.93463742886654
                        ],
                        [
                          32.70519813146517,
                          39.9318481159443
                        ],
                        [
                          32.70821196947126,
                          39.929499062871024
                        ],
                        [
                          32.708989005283975,
                          39.92898250196803
                        ],
                        [
                          32.710192765747834,
                          39.92832226327041
                        ],
                        [
                          32.71142796487628,
                          39.92773386192981
                        ],
                        [
                          32.71222289991101,
                          39.92741047260279
                        ],
                        [
                          32.713691682305814,
                          39.92693883538427
                        ],
                        [
                          32.714387849349556,
                          39.92674123162404
                        ],
                        [
                          32.71591054204015,
                          39.926395367042275
                        ],
                        [
                          32.7187087355027,
                          39.925771036183335
                        ],
                        [
                          32.72164178449414,
                          39.925146687253815
                        ],
                        [
                          32.72257157101015,
                          39.924993957107354
                        ],
                        [
                          32.722683841017364,
                          39.92461667897358
                        ],
                        [
                          32.72295327129846,
                          39.924522408219055
                        ],
                        [
                          32.72324079492992,
                          39.92451340902447
                        ],
                        [
                          32.72339795464272,
                          39.92439660288656
                        ],
                        [
                          32.72370339867758,
                          39.92400587076053
                        ],
                        [
                          32.724085180895585,
                          39.92317037694116
                        ],
                        [
                          32.724085180895585,
                          39.92265833915798
                        ],
                        [
                          32.72419744923824,
                          39.922366426418996
                        ],
                        [
                          32.724588276519405,
                          39.92150852007451
                        ],
                        [
                          32.7248352999573,
                          39.921050381902766
                        ],
                        [
                          32.72487570938501,
                          39.92066412095745
                        ],
                        [
                          32.72479489051359,
                          39.9202913223181
                        ],
                        [
                          32.72454778081682,
                          39.91998586878142
                        ],
                        [
                          32.72445800092528,
                          39.919738801991336
                        ],
                        [
                          32.72445352054474,
                          39.91937502122617
                        ],
                        [
                          32.72436365440907,
                          39.91901118746891
                        ],
                        [
                          32.72437261517783,
                          39.91887645379338
                        ],
                        [
                          32.724516418176535,
                          39.918553050356536
                        ],
                        [
                          32.72481281197461,
                          39.91813086188806
                        ],
                        [
                          32.72527549475877,
                          39.917753548222386
                        ],
                        [
                          32.72542817100125,
                          39.91738074316391
                        ],
                        [
                          32.725535957533786,
                          39.91725501826949
                        ],
                        [
                          32.72569768019923,
                          39.91716515049381
                        ],
                        [
                          32.7261513122007,
                          39.91710228342003
                        ],
                        [
                          32.72660494218596,
                          39.916931616062385
                        ],
                        [
                          32.72694182468797,
                          39.91671600371628
                        ],
                        [
                          32.72704512935518,
                          39.91668009778263
                        ],
                        [
                          32.72713947339276,
                          39.91668904894936
                        ],
                        [
                          32.72733264146063,
                          39.916716004524574
                        ],
                        [
                          32.72745834697833,
                          39.916675613093325
                        ],
                        [
                          32.727808667364144,
                          39.91635223559886
                        ],
                        [
                          32.72817699357565,
                          39.91583567250119
                        ],
                        [
                          32.728248849341234,
                          39.91579973353141
                        ],
                        [
                          32.72832975163545,
                          39.9158087188852
                        ],
                        [
                          32.72847346290087,
                          39.91584463967159
                        ],
                        [
                          32.72851835109037,
                          39.91583114434343
                        ],
                        [
                          32.728936129089305,
                          39.915202309375815
                        ],
                        [
                          32.72912920759893,
                          39.915054098755846
                        ],
                        [
                          32.73001403839753,
                          39.91464990442086
                        ],
                        [
                          32.73077764034642,
                          39.914380393918314
                        ],
                        [
                          32.73069225988652,
                          39.91392223117098
                        ],
                        [
                          32.73122228959853,
                          39.913495539334036
                        ],
                        [
                          32.73155915685609,
                          39.91303739539454
                        ],
                        [
                          32.73237667995596,
                          39.91127222065282
                        ],
                        [
                          32.73277186977238,
                          39.91090840792909
                        ],
                        [
                          32.734613484092655,
                          39.911631529360484
                        ],
                        [
                          32.736095642423415,
                          39.91205825724507
                        ],
                        [
                          32.737851908404046,
                          39.912323232629234
                        ],
                        [
                          32.74331814216166,
                          39.912547810375344
                        ],
                        [
                          32.744279346111725,
                          39.912570292203455
                        ],
                        [
                          32.74555496466885,
                          39.912736447533256
                        ],
                        [
                          32.747302108899525,
                          39.91306440200332
                        ],
                        [
                          32.75324451803975,
                          39.914901388397595
                        ],
                        [
                          32.7546503476298,
                          39.91517092322423
                        ],
                        [
                          32.7688258232452,
                          39.916877713147635
                        ],
                        [
                          32.76997117514468,
                          39.91691361751504
                        ],
                        [
                          32.77094582077878,
                          39.91689118371958
                        ],
                        [
                          32.77421564253029,
                          39.916522847513896
                        ],
                        [
                          32.77493430369368,
                          39.916509394205384
                        ],
                        [
                          32.77574725878673,
                          39.91658575864163
                        ],
                        [
                          32.77637161077142,
                          39.916729464475345
                        ],
                        [
                          32.77743610052815,
                          39.91713374748333
                        ],
                        [
                          32.780126597961605,
                          39.91820717481763
                        ],
                        [
                          32.7807419672209,
                          39.918431784829124
                        ],
                        [
                          32.78152344463788,
                          39.918633944009926
                        ],
                        [
                          32.78215232507252,
                          39.91868777705653
                        ],
                        [
                          32.78278111550051,
                          39.91868333070124
                        ],
                        [
                          32.78333360740934,
                          39.91861596197252
                        ],
                        [
                          32.78782516204244,
                          39.91807242809984
                        ],
                        [
                          32.788804286126926,
                          39.91805899616983
                        ],
                        [
                          32.7893388351538,
                          39.91814428623234
                        ],
                        [
                          32.789823870518056,
                          39.91840035955728
                        ],
                        [
                          32.79091981974965,
                          39.919056110234
                        ],
                        [
                          32.7942840550673,
                          39.92117613595424
                        ],
                        [
                          32.795074554962746,
                          39.92152645217125
                        ],
                        [
                          32.79546080503999,
                          39.92164774526541
                        ],
                        [
                          32.79918434908972,
                          39.922595498102076
                        ],
                        [
                          32.79829504002822,
                          39.92481427862687
                        ],
                        [
                          32.797859293821396,
                          39.92588784842267
                        ],
                        [
                          32.797625793008734,
                          39.92631002264375
                        ],
                        [
                          32.79751799672945,
                          39.92644927095156
                        ],
                        [
                          32.797149663210675,
                          39.92691638208061
                        ],
                        [
                          32.79604026349823,
                          39.92819198386304
                        ],
                        [
                          32.79479162541728,
                          39.92946312305593
                        ],
                        [
                          32.794319959618285,
                          39.929867337285174
                        ],
                        [
                          32.7938214276655,
                          39.93059046036136
                        ],
                        [
                          32.79361478157815,
                          39.9310531092392
                        ],
                        [
                          32.79351593571752,
                          39.93136752700781
                        ],
                        [
                          32.79345308072121,
                          39.93168647080966
                        ],
                        [
                          32.793444126033634,
                          39.932045762730375
                        ],
                        [
                          32.79347107619674,
                          39.93231972220156
                        ],
                        [
                          32.793524976501466,
                          39.93257572412369
                        ],
                        [
                          32.793637254360554,
                          39.9328677040799
                        ],
                        [
                          32.79379000026685,
                          39.93318659391536
                        ],
                        [
                          32.79397408719215,
                          39.933487536789364
                        ],
                        [
                          32.79421215982507,
                          39.933757031377965
                        ],
                        [
                          32.79448613639138,
                          39.934013100288894
                        ],
                        [
                          32.79615253857291,
                          39.93552671044879
                        ],
                        [
                          32.79687569383979,
                          39.9361690263825
                        ],
                        [
                          32.797100242014956,
                          39.93635318326898
                        ],
                        [
                          32.797320312520114,
                          39.93645646541167
                        ],
                        [
                          32.79714518603018,
                          39.9367753907783
                        ],
                        [
                          32.7960806446552,
                          39.93935357749731
                        ],
                        [
                          32.79600427345565,
                          39.93966349740631
                        ],
                        [
                          32.79585609422235,
                          39.94005875055438
                        ],
                        [
                          32.794773630176046,
                          39.939789242253234
                        ],
                        [
                          32.79253229361221,
                          39.939146949428995
                        ],
                        [
                          32.79043478962422,
                          39.938423770164235
                        ],
                        [
                          32.78930284273365,
                          39.938006089079906
                        ],
                        [
                          32.78667983922522,
                          39.937044836446276
                        ],
                        [
                          32.78492355488004,
                          39.9363621629751
                        ],
                        [
                          32.78411962874677,
                          39.93608368240371
                        ],
                        [
                          32.782367864054166,
                          39.935540206832506
                        ],
                        [
                          32.78019841706819,
                          39.93477666569091
                        ],
                        [
                          32.777552874229144,
                          39.93384240870358
                        ],
                        [
                          32.7761694933834,
                          39.93331236843746
                        ],
                        [
                          32.77561257048994,
                          39.933110250820825
                        ],
                        [
                          32.77494782429238,
                          39.9328722048232
                        ],
                        [
                          32.77475018224061,
                          39.93280483872397
                        ],
                        [
                          32.7744268062898,
                          39.93270603072743
                        ],
                        [
                          32.774368417659566,
                          39.932688013054054
                        ],
                        [
                          32.77363623172254,
                          39.93249941265742
                        ],
                        [
                          32.772814303233034,
                          39.93233319872651
                        ],
                        [
                          32.77228431773765,
                          39.93223438845991
                        ],
                        [
                          32.77005195818121,
                          39.93183018720586
                        ],
                        [
                          32.76783763574295,
                          39.93143935921921
                        ],
                        [
                          32.767797243352945,
                          39.93143487769619
                        ],
                        [
                          32.76774780786872,
                          39.93142588624815
                        ],
                        [
                          32.76526394528111,
                          39.930999193462476
                        ],
                        [
                          32.76490014561148,
                          39.93095429244814
                        ],
                        [
                          32.76452282265695,
                          39.930909388440035
                        ],
                        [
                          32.7638311320445,
                          39.93085996712463
                        ],
                        [
                          32.763431411791025,
                          39.9308330381102
                        ],
                        [
                          32.762762193370584,
                          39.93081055331557
                        ],
                        [
                          32.762425257024574,
                          39.9308060861208
                        ],
                        [
                          32.76223215547656,
                          39.93080157483322
                        ],
                        [
                          32.76180099164277,
                          39.93080608874529
                        ],
                        [
                          32.76042652629718,
                          39.93086001084193
                        ],
                        [
                          32.75980216251954,
                          39.9309049107799
                        ],
                        [
                          32.75958209684544,
                          39.93092283964908
                        ],
                        [
                          32.759595619485715,
                          39.93109802200081
                        ],
                        [
                          32.759564181497595,
                          39.93145285913217
                        ],
                        [
                          32.75983368656539,
                          39.931488809436516
                        ],
                        [
                          32.760004312447336,
                          39.93153373852607
                        ],
                        [
                          32.760183981794654,
                          39.931596593840545
                        ],
                        [
                          32.76039060976492,
                          39.93168645145643
                        ],
                        [
                          32.760565799636915,
                          39.931785211535875
                        ],
                        [
                          32.760731945505256,
                          39.93188409587843
                        ],
                        [
                          32.760911613567636,
                          39.93204127954444
                        ],
                        [
                          32.76114519880042,
                          39.93228379280638
                        ],
                        [
                          32.76127542750266,
                          39.93249041694775
                        ],
                        [
                          32.76142813594711,
                          39.93279583846629
                        ],
                        [
                          32.761535970536855,
                          39.93315515470336
                        ],
                        [
                          32.763638033165364,
                          39.93924128276804
                        ],
                        [
                          32.763399974988225,
                          39.941576849157805
                        ],
                        [
                          32.76335053736638,
                          39.94179251588517
                        ],
                        [
                          32.763301185848825,
                          39.941940666930776
                        ],
                        [
                          32.763184395774736,
                          39.94216074340706
                        ],
                        [
                          32.76253756926393,
                          39.94406523731549
                        ],
                        [
                          32.762281593641966,
                          39.94448290771249
                        ],
                        [
                          32.762137843927164,
                          39.94498145801833
                        ],
                        [
                          32.75836487959662,
                          39.94501295886751
                        ],
                        [
                          32.75390475474508,
                          39.945044363989766
                        ],
                        [
                          32.750760645946265,
                          39.94505336057263
                        ],
                        [
                          32.74475546519782,
                          39.94509377497836
                        ],
                        [
                          32.73876362819642,
                          39.94515670287171
                        ],
                        [
                          32.7374386467331,
                          39.94516114254218
                        ],
                        [
                          32.7310381752334,
                          39.94521956169555
                        ],
                        [
                          32.72805576916579,
                          39.94523748520171
                        ],
                        [
                          32.725365273931274,
                          39.945255453822746
                        ],
                        [
                          32.72328568542082,
                          39.9452779697692
                        ],
                        [
                          32.72002930729313,
                          39.94529587853466
                        ],
                        [
                          32.71794521560004,
                          39.945318396211
                        ],
                        [
                          32.71565901624579,
                          39.945322851852445
                        ],
                        [
                          32.71440585880662,
                          39.94539469280622
                        ],
                        [
                          32.713655749307016,
                          39.94546207621963
                        ],
                        [
                          32.712712525112046,
                          39.94556992608845
                        ],
                        [
                          32.712047799304834,
                          39.94567766576669
                        ],
                        [
                          32.71138746395558,
                          39.94579447882208
                        ],
                        [
                          32.710327454364524,
                          39.946037007154274
                        ],
                        [
                          32.709240547496044,
                          39.94635588487316
                        ],
                        [
                          32.70859820449061,
                          39.946567021661075
                        ],
                        [
                          32.70735409508181,
                          39.947043120535184
                        ],
                        [
                          32.70623113481432,
                          39.94755965647485
                        ],
                        [
                          32.70575509452401,
                          39.94784711161267
                        ],
                        [
                          32.703940450666664,
                          39.9489520338051
                        ],
                        [
                          32.701497089614975,
                          39.9505016258323
                        ],
                        [
                          32.69988455310892,
                          39.951534719370585
                        ],
                        [
                          32.69416234698661,
                          39.955136907771376
                        ],
                        [
                          32.692644156969,
                          39.95609811602517
                        ],
                        [
                          32.69140450774156,
                          39.95688419400926
                        ],
                        [
                          32.68989980870451,
                          39.95784087984146
                        ],
                        [
                          32.6893069039793,
                          39.9582181966468
                        ],
                        [
                          32.688341217819726,
                          39.95876616437855
                        ],
                        [
                          32.68733061629657,
                          39.95933659829534
                        ],
                        [
                          32.682870490734025,
                          39.961488066602826
                        ],
                        [
                          32.67882358518583,
                          39.963432886640426
                        ],
                        [
                          32.67572888631195,
                          39.96326222703027
                        ],
                        [
                          32.671142998550245,
                          39.96312743295814
                        ],
                        [
                          32.670967827675064,
                          39.962440274572955
                        ],
                        [
                          32.67092291422827,
                          39.961928214725596
                        ],
                        [
                          32.670163779175624,
                          39.95761185399195
                        ],
                        [
                          32.66995722726248,
                          39.95630924720589
                        ],
                        [
                          32.669737140396556,
                          39.95456200087485
                        ],
                        [
                          32.66969222641095,
                          39.954216172384896
                        ],
                        [
                          32.669629295073676,
                          39.9536188088271
                        ],
                        [
                          32.66933291381829,
                          39.95184462093517
                        ],
                        [
                          32.66883877074063,
                          39.948866696505064
                        ],
                        [
                          32.66871299318858,
                          39.94830077604396
                        ]
                      ]
                    ]
                  },
                  "type": "Feature",
                  "id": "000060764dfc2c4b098e",
                  "properties": {
                    "TIP": "Mahalle",
                    "IL_ID": 6,
                    "TIPKOD": 7,
                    "ILCE_ID": 1922,
                    "Nufus": 7153,
                    "ID": 14322,
                    "ADI": "Bahçekapı Mh."
                  }
                },
                {
                  "geometry": {
                    "type": "Polygon",
                    "coordinates": [
                      [
                        [
                          32.65212564424072,
                          39.91049965491146
                        ],
                        [
                          32.65573242111413,
                          39.90897701856167
                        ],
                        [
                          32.656078244974935,
                          39.90660997013668
                        ],
                        [
                          32.65606479485402,
                          39.904772881255646
                        ],
                        [
                          32.654640968887875,
                          39.898309540133
                        ],
                        [
                          32.65690016472711,
                          39.898075969568204
                        ],
                        [
                          32.66018803660743,
                          39.896310752019986
                        ],
                        [
                          32.65973437086473,
                          39.89604130223307
                        ],
                        [
                          32.66290541968158,
                          39.89627034809949
                        ],
                        [
                          32.66469311659661,
                          39.89640507044438
                        ],
                        [
                          32.66587437956276,
                          39.896535360414035
                        ],
                        [
                          32.66869057907813,
                          39.89688120658709
                        ],
                        [
                          32.670630933241576,
                          39.89716864626998
                        ],
                        [
                          32.67134058266268,
                          39.89728098730817
                        ],
                        [
                          32.671704457119944,
                          39.89739772893755
                        ],
                        [
                          32.673168648681504,
                          39.89800411241148
                        ],
                        [
                          32.67366277090148,
                          39.89816130505111
                        ],
                        [
                          32.674147839369404,
                          39.89827810365822
                        ],
                        [
                          32.67444877548671,
                          39.89832299158351
                        ],
                        [
                          32.674718246608556,
                          39.89833196065418
                        ],
                        [
                          32.67501469850583,
                          39.89828705736044
                        ],
                        [
                          32.67525279039478,
                          39.898201715448714
                        ],
                        [
                          32.676092658997476,
                          39.897658241024175
                        ],
                        [
                          32.67769169187062,
                          39.896342183329146
                        ],
                        [
                          32.67927277036429,
                          39.89499026924693
                        ],
                        [
                          32.691831142521494,
                          39.90263045686043
                        ],
                        [
                          32.69346612843846,
                          39.90368144309437
                        ],
                        [
                          32.69441383947473,
                          39.904144051810796
                        ],
                        [
                          32.69574782528127,
                          39.90464266149645
                        ],
                        [
                          32.69676291150202,
                          39.9049031916963
                        ],
                        [
                          32.69801163128289,
                          39.905114219958975
                        ],
                        [
                          32.69885596716365,
                          39.90520411468933
                        ],
                        [
                          32.701586889682254,
                          39.90528494388435
                        ],
                        [
                          32.70815354289548,
                          39.905554464191496
                        ],
                        [
                          32.71118538997313,
                          39.90568467857314
                        ],
                        [
                          32.73183760997447,
                          39.90649320178896
                        ],
                        [
                          32.7339217626282,
                          39.90660096511024
                        ],
                        [
                          32.73407890589111,
                          39.90693786615514
                        ],
                        [
                          32.73432599250562,
                          39.90724328854882
                        ],
                        [
                          32.73444272952287,
                          39.90747686470443
                        ],
                        [
                          32.73450562099706,
                          39.90767898111468
                        ],
                        [
                          32.73451914696658,
                          39.907836133224194
                        ],
                        [
                          32.73451466702784,
                          39.90799335887659
                        ],
                        [
                          32.73449218117843,
                          39.90813259650404
                        ],
                        [
                          32.734429289695946,
                          39.908321231529
                        ],
                        [
                          32.734177723378146,
                          39.908792898390246
                        ],
                        [
                          32.733499525062946,
                          39.909879803447744
                        ],
                        [
                          32.7328077960434,
                          39.910823041852154
                        ],
                        [
                          32.73277186977238,
                          39.91090840792909
                        ],
                        [
                          32.73237667995596,
                          39.91127222065282
                        ],
                        [
                          32.73155915685609,
                          39.91303739539454
                        ],
                        [
                          32.73122228959853,
                          39.913495539334036
                        ],
                        [
                          32.73069225988652,
                          39.91392223117098
                        ],
                        [
                          32.73077764034642,
                          39.914380393918314
                        ],
                        [
                          32.73001403839753,
                          39.91464990442086
                        ],
                        [
                          32.72912920759893,
                          39.915054098755846
                        ],
                        [
                          32.728936129089305,
                          39.915202309375815
                        ],
                        [
                          32.72851835109037,
                          39.91583114434343
                        ],
                        [
                          32.72847346290087,
                          39.91584463967159
                        ],
                        [
                          32.72832975163545,
                          39.9158087188852
                        ],
                        [
                          32.728248849341234,
                          39.91579973353141
                        ],
                        [
                          32.72817699357565,
                          39.91583567250119
                        ],
                        [
                          32.727808667364144,
                          39.91635223559886
                        ],
                        [
                          32.72745834697833,
                          39.916675613093325
                        ],
                        [
                          32.72733264146063,
                          39.916716004524574
                        ],
                        [
                          32.72713947339276,
                          39.91668904894936
                        ],
                        [
                          32.72704512935518,
                          39.91668009778263
                        ],
                        [
                          32.72694182468797,
                          39.91671600371628
                        ],
                        [
                          32.72660494218596,
                          39.916931616062385
                        ],
                        [
                          32.7261513122007,
                          39.91710228342003
                        ],
                        [
                          32.72569768019923,
                          39.91716515049381
                        ],
                        [
                          32.725535957533786,
                          39.91725501826949
                        ],
                        [
                          32.72542817100125,
                          39.91738074316391
                        ],
                        [
                          32.72527549475877,
                          39.917753548222386
                        ],
                        [
                          32.72481281197461,
                          39.91813086188806
                        ],
                        [
                          32.724516418176535,
                          39.918553050356536
                        ],
                        [
                          32.72437261517783,
                          39.91887645379338
                        ],
                        [
                          32.72436365440907,
                          39.91901118746891
                        ],
                        [
                          32.72445352054474,
                          39.91937502122617
                        ],
                        [
                          32.72445800092528,
                          39.919738801991336
                        ],
                        [
                          32.72454778081682,
                          39.91998586878142
                        ],
                        [
                          32.72479489051359,
                          39.9202913223181
                        ],
                        [
                          32.72487570938501,
                          39.92066412095745
                        ],
                        [
                          32.7248352999573,
                          39.921050381902766
                        ],
                        [
                          32.724588276519405,
                          39.92150852007451
                        ],
                        [
                          32.72419744923824,
                          39.922366426418996
                        ],
                        [
                          32.724085180895585,
                          39.92265833915798
                        ],
                        [
                          32.724085180895585,
                          39.92317037694116
                        ],
                        [
                          32.72370339867758,
                          39.92400587076053
                        ],
                        [
                          32.72339795464272,
                          39.92439660288656
                        ],
                        [
                          32.72324079492992,
                          39.92451340902447
                        ],
                        [
                          32.72295327129846,
                          39.924522408219055
                        ],
                        [
                          32.722683841017364,
                          39.92461667897358
                        ],
                        [
                          32.72257157101015,
                          39.924993957107354
                        ],
                        [
                          32.72164178449414,
                          39.925146687253815
                        ],
                        [
                          32.7187087355027,
                          39.925771036183335
                        ],
                        [
                          32.71591054204015,
                          39.926395367042275
                        ],
                        [
                          32.714387849349556,
                          39.92674123162404
                        ],
                        [
                          32.713691682305814,
                          39.92693883538427
                        ],
                        [
                          32.71222289991101,
                          39.92741047260279
                        ],
                        [
                          32.71142796487628,
                          39.92773386192981
                        ],
                        [
                          32.710192765747834,
                          39.92832226327041
                        ],
                        [
                          32.708989005283975,
                          39.92898250196803
                        ],
                        [
                          32.70821196947126,
                          39.929499062871024
                        ],
                        [
                          32.70519813146517,
                          39.9318481159443
                        ],
                        [
                          32.70166324553156,
                          39.93463742886654
                        ],
                        [
                          32.696430583482766,
                          39.93875164954937
                        ],
                        [
                          32.69572084925779,
                          39.93921879005084
                        ],
                        [
                          32.69501119629706,
                          39.93961409015968
                        ],
                        [
                          32.69477315032284,
                          39.93973532004506
                        ],
                        [
                          32.694508127451876,
                          39.93986113747166
                        ],
                        [
                          32.69427008030769,
                          39.93996887589858
                        ],
                        [
                          32.69392421285138,
                          39.94011714126057
                        ],
                        [
                          32.68755066539216,
                          39.942430296520804
                        ],
                        [
                          32.68248872702943,
                          39.944599735562875
                        ],
                        [
                          32.67603878279253,
                          39.94396190851721
                        ],
                        [
                          32.673424675320874,
                          39.94248868848682
                        ],
                        [
                          32.67200540040678,
                          39.94191820850314
                        ],
                        [
                          32.671093602462676,
                          39.94000929156701
                        ],
                        [
                          32.671026189264644,
                          39.93642054845023
                        ],
                        [
                          32.669445156034925,
                          39.93525725444785
                        ],
                        [
                          32.666817604226594,
                          39.934767621258985
                        ],
                        [
                          32.664746998760435,
                          39.93474521363791
                        ],
                        [
                          32.66132443376714,
                          39.93523479288839
                        ],
                        [
                          32.65995896238468,
                          39.931102506424
                        ],
                        [
                          32.65723701801129,
                          39.932418605497276
                        ],
                        [
                          32.656787908792936,
                          39.93257574709659
                        ],
                        [
                          32.65629836112665,
                          39.93279133122677
                        ],
                        [
                          32.65564258086803,
                          39.93308331943815
                        ],
                        [
                          32.65559317732109,
                          39.93310579209408
                        ],
                        [
                          32.65504068368026,
                          39.931906527759494
                        ],
                        [
                          32.65486996875213,
                          39.93145287292573
                        ],
                        [
                          32.654793664260694,
                          39.93078807843381
                        ],
                        [
                          32.65469037289274,
                          39.93004701474082
                        ],
                        [
                          32.65452862426483,
                          39.9289286216091
                        ],
                        [
                          32.6544657698519,
                          39.927212844502805
                        ],
                        [
                          32.65441636573903,
                          39.922555065022
                        ],
                        [
                          32.65464993575964,
                          39.92251914579523
                        ],
                        [
                          32.65475322716825,
                          39.922451766520275
                        ],
                        [
                          32.6550900874929,
                          39.921706115269984
                        ],
                        [
                          32.655611110897595,
                          39.92081680858438
                        ],
                        [
                          32.65584916158525,
                          39.92035870759237
                        ],
                        [
                          32.65604677513797,
                          39.91970736744442
                        ],
                        [
                          32.65612764828858,
                          39.919087572064676
                        ],
                        [
                          32.65614109840127,
                          39.91873721684731
                        ],
                        [
                          32.656132131659675,
                          39.91843625468393
                        ],
                        [
                          32.65603780838814,
                          39.91810393078601
                        ],
                        [
                          32.655471866940125,
                          39.91708433989804
                        ],
                        [
                          32.65484306819212,
                          39.91593000589277
                        ],
                        [
                          32.65407950320528,
                          39.91453309861813
                        ],
                        [
                          32.65393129023817,
                          39.91424115402323
                        ],
                        [
                          32.65388636933739,
                          39.91409740169292
                        ],
                        [
                          32.65389085280629,
                          39.91396717641928
                        ],
                        [
                          32.65390878667996,
                          39.91361235050138
                        ],
                        [
                          32.65387283270893,
                          39.913365291857865
                        ],
                        [
                          32.653688751628906,
                          39.91283075141919
                        ],
                        [
                          32.653252991167655,
                          39.912008820551044
                        ],
                        [
                          32.65302847120583,
                          39.911645014057086
                        ],
                        [
                          32.652745492582746,
                          39.9112497861
                        ],
                        [
                          32.65212564424072,
                          39.91049965491146
                        ]
                      ]
                    ]
                  },
                  "type": "Feature",
                  "id": "000081db3d18d2df3519",
                  "properties": {
                    "TIP": "Mahalle",
                    "IL_ID": 6,
                    "TIPKOD": 7,
                    "ILCE_ID": 1922,
                    "Nufus": 9469,
                    "ID": 14324,
                    "ADI": "Erler Mh."
                  }
                },
                {
                  "geometry": {
                    "type": "Polygon",
                    "coordinates": [
                      [
                        [
                          32.66557790125083,
                          39.88623617720725
                        ],
                        [
                          32.66716795984984,
                          39.88497404901172
                        ],
                        [
                          32.66776530308397,
                          39.88452484679119
                        ],
                        [
                          32.66791349608284,
                          39.88433621998514
                        ],
                        [
                          32.668097724079125,
                          39.88380619557207
                        ],
                        [
                          32.66826833080548,
                          39.88325823796197
                        ],
                        [
                          32.668349194329096,
                          39.883092046773555
                        ],
                        [
                          32.66840764361671,
                          39.88297977308823
                        ],
                        [
                          32.66857376700017,
                          39.88285849799151
                        ],
                        [
                          32.67149782210323,
                          39.88190177711892
                        ],
                        [
                          32.67529321941153,
                          39.880671107177974
                        ],
                        [
                          32.67559863468826,
                          39.88048694014164
                        ],
                        [
                          32.67690114347933,
                          39.8788520453518
                        ],
                        [
                          32.677202157716955,
                          39.87854658801994
                        ],
                        [
                          32.68434822782222,
                          39.88160986207918
                        ],
                        [
                          32.68888474062173,
                          39.88354121961108
                        ],
                        [
                          32.68996264140706,
                          39.88400386785036
                        ],
                        [
                          32.68811212028452,
                          39.887179431141966
                        ],
                        [
                          32.69000315081075,
                          39.888603204161186
                        ],
                        [
                          32.68963477321804,
                          39.888877191572064
                        ],
                        [
                          32.68927544433627,
                          39.8891467025402
                        ],
                        [
                          32.68959883176755,
                          39.889348869366444
                        ],
                        [
                          32.68981448028129,
                          39.889479080119614
                        ],
                        [
                          32.68982344407859,
                          39.89340921294393
                        ],
                        [
                          32.68998961894789,
                          39.89360685497037
                        ],
                        [
                          32.69065888378004,
                          39.8936068791273
                        ],
                        [
                          32.690685861137446,
                          39.893930253058
                        ],
                        [
                          32.690703788578695,
                          39.8940245811666
                        ],
                        [
                          32.69096882129826,
                          39.89532264947519
                        ],
                        [
                          32.69101372596099,
                          39.895448394122944
                        ],
                        [
                          32.691274189854326,
                          39.89608622289657
                        ],
                        [
                          32.691736852078726,
                          39.8971641837811
                        ],
                        [
                          32.69201980933504,
                          39.89817027262618
                        ],
                        [
                          32.69191655545274,
                          39.90072600493694
                        ],
                        [
                          32.691876132994665,
                          39.90163779306202
                        ],
                        [
                          32.691831142521494,
                          39.902342975428695
                        ],
                        [
                          32.691831142521494,
                          39.90263045686043
                        ],
                        [
                          32.67927277036429,
                          39.89499026924693
                        ],
                        [
                          32.67268805823022,
                          39.89099725751133
                        ],
                        [
                          32.66948110455301,
                          39.88896707894913
                        ],
                        [
                          32.66731167082867,
                          39.8874623648459
                        ],
                        [
                          32.66557790125083,
                          39.88623617720725
                        ]
                      ]
                    ]
                  },
                  "type": "Feature",
                  "id": "0000d3f6b1126b7e7c17",
                  "properties": {
                    "TIP": "Mahalle",
                    "IL_ID": 6,
                    "TIPKOD": 7,
                    "ILCE_ID": 1723,
                    "Nufus": 14815,
                    "ID": 15213,
                    "ADI": "Koru Mh."
                  }
                },
                {
                  "geometry": {
                    "type": "Polygon",
                    "coordinates": [
                      [
                        [
                          32.69065888378004,
                          39.8936068791273
                        ],
                        [
                          32.695038172507594,
                          39.891114004132405
                        ],
                        [
                          32.696129625745776,
                          39.89121282731326
                        ],
                        [
                          32.69670008297323,
                          39.89070081841497
                        ],
                        [
                          32.69700095284831,
                          39.890489691204955
                        ],
                        [
                          32.697158152912465,
                          39.89030109058331
                        ],
                        [
                          32.69723451206701,
                          39.89002706392456
                        ],
                        [
                          32.6976747395805,
                          39.889366815432375
                        ],
                        [
                          32.69801163128289,
                          39.88887723735375
                        ],
                        [
                          32.69855510274272,
                          39.88858525216459
                        ],
                        [
                          32.699017732056625,
                          39.88827084342095
                        ],
                        [
                          32.69884252265384,
                          39.887889088572734
                        ],
                        [
                          32.69950276665442,
                          39.88767799468062
                        ],
                        [
                          32.69972287576848,
                          39.888109131819746
                        ],
                        [
                          32.700064242177405,
                          39.888225961693585
                        ],
                        [
                          32.70109729737985,
                          39.88783520376961
                        ],
                        [
                          32.7013353286423,
                          39.888131635553215
                        ],
                        [
                          32.70150157100216,
                          39.8885133958582
                        ],
                        [
                          32.70165428277117,
                          39.88996414906071
                        ],
                        [
                          32.70174408270045,
                          39.89069630388532
                        ],
                        [
                          32.70182043843243,
                          39.8911993959441
                        ],
                        [
                          32.70192824987115,
                          39.89172038962035
                        ],
                        [
                          32.702031579832486,
                          39.89204823893685
                        ],
                        [
                          32.70262441084593,
                          39.89345413708955
                        ],
                        [
                          32.70296576757232,
                          39.894244642629246
                        ],
                        [
                          32.70325326127048,
                          39.89479714056607
                        ],
                        [
                          32.70427284046967,
                          39.896405087891914
                        ],
                        [
                          32.70609195961474,
                          39.89903266721941
                        ],
                        [
                          32.706774648779216,
                          39.89990852136189
                        ],
                        [
                          32.70766846314726,
                          39.90113022027761
                        ],
                        [
                          32.70892609809067,
                          39.90254957410346
                        ],
                        [
                          32.710183803735056,
                          39.903941972981826
                        ],
                        [
                          32.71051617324098,
                          39.90429679649109
                        ],
                        [
                          32.71101916335714,
                          39.90488069183731
                        ],
                        [
                          32.71117642804739,
                          39.90530736581133
                        ],
                        [
                          32.71118538997313,
                          39.90568467857314
                        ],
                        [
                          32.70815354289548,
                          39.905554464191496
                        ],
                        [
                          32.701586889682254,
                          39.90528494388435
                        ],
                        [
                          32.69885596716365,
                          39.90520411468933
                        ],
                        [
                          32.69801163128289,
                          39.905114219958975
                        ],
                        [
                          32.69676291150202,
                          39.9049031916963
                        ],
                        [
                          32.69574782528127,
                          39.90464266149645
                        ],
                        [
                          32.69441383947473,
                          39.904144051810796
                        ],
                        [
                          32.69346612843846,
                          39.90368144309437
                        ],
                        [
                          32.691831142521494,
                          39.90263045686043
                        ],
                        [
                          32.691831142521494,
                          39.902342975428695
                        ],
                        [
                          32.691876132994665,
                          39.90163779306202
                        ],
                        [
                          32.69191655545274,
                          39.90072600493694
                        ],
                        [
                          32.69201980933504,
                          39.89817027262618
                        ],
                        [
                          32.691736852078726,
                          39.8971641837811
                        ],
                        [
                          32.691274189854326,
                          39.89608622289657
                        ],
                        [
                          32.69101372596099,
                          39.895448394122944
                        ],
                        [
                          32.69096882129826,
                          39.89532264947519
                        ],
                        [
                          32.690703788578695,
                          39.8940245811666
                        ],
                        [
                          32.690685861137446,
                          39.893930253058
                        ],
                        [
                          32.69065888378004,
                          39.8936068791273
                        ]
                      ]
                    ]
                  },
                  "type": "Feature",
                  "id": "0000f6a6d20173123dee",
                  "properties": {
                    "TIP": "Mahalle",
                    "IL_ID": 6,
                    "TIPKOD": 7,
                    "ILCE_ID": 1723,
                    "Nufus": 13707,
                    "ID": 15228,
                    "ADI": "Ümit Mh."
                  }
                },
                {
                  "geometry": {
                    "type": "Polygon",
                    "coordinates": [
                      [
                        [
                          32.699655481407184,
                          39.87481861333809
                        ],
                        [
                          32.701470115107206,
                          39.87290070325074
                        ],
                        [
                          32.702557104575824,
                          39.87176430942169
                        ],
                        [
                          32.70302867843265,
                          39.87140496740516
                        ],
                        [
                          32.7058673830109,
                          39.87197090877505
                        ],
                        [
                          32.707834695212185,
                          39.871220842216516
                        ],
                        [
                          32.709492089089125,
                          39.86962633094902
                        ],
                        [
                          32.71066439056175,
                          39.868395644250484
                        ],
                        [
                          32.71358836412893,
                          39.86635199157493
                        ],
                        [
                          32.71762183162065,
                          39.86697626577857
                        ],
                        [
                          32.722364952516116,
                          39.86833719322684
                        ],
                        [
                          32.721834876802504,
                          39.869563421157906
                        ],
                        [
                          32.722225713128324,
                          39.8697341186116
                        ],
                        [
                          32.72239183534634,
                          39.869904821688884
                        ],
                        [
                          32.72259845378598,
                          39.87045275418705
                        ],
                        [
                          32.72366746920101,
                          39.87194395929394
                        ],
                        [
                          32.72132289273824,
                          39.87234374332954
                        ],
                        [
                          32.720262900068946,
                          39.8729635735045
                        ],
                        [
                          32.72167323418103,
                          39.87413589043125
                        ],
                        [
                          32.721313845538,
                          39.87544294572261
                        ],
                        [
                          32.72063564789193,
                          39.8757977748321
                        ],
                        [
                          32.72134081480876,
                          39.87652538186665
                        ],
                        [
                          32.72174061402556,
                          39.87736532745298
                        ],
                        [
                          32.720851230963234,
                          39.8779402162498
                        ],
                        [
                          32.72175405552375,
                          39.87910356819462
                        ],
                        [
                          32.72454778081682,
                          39.8778459361561
                        ],
                        [
                          32.72452089855432,
                          39.87799408597783
                        ],
                        [
                          32.724390622874196,
                          39.87866334700436
                        ],
                        [
                          32.72510481072071,
                          39.879988347858635
                        ],
                        [
                          32.72512273212731,
                          39.88043754609448
                        ],
                        [
                          32.72473199305338,
                          39.88111129912724
                        ],
                        [
                          32.72396843202764,
                          39.88147056714483
                        ],
                        [
                          32.72059523678594,
                          39.882512622987576
                        ],
                        [
                          32.719014193565044,
                          39.882795653941095
                        ],
                        [
                          32.71907261393099,
                          39.88355915061221
                        ],
                        [
                          32.72131841222013,
                          39.88646072766347
                        ],
                        [
                          32.720887161430866,
                          39.88754321546043
                        ],
                        [
                          32.719288200301996,
                          39.887898040364306
                        ],
                        [
                          32.71965647109169,
                          39.88827982372534
                        ],
                        [
                          32.72064917569995,
                          39.88946557117089
                        ],
                        [
                          32.721601373786335,
                          39.89040886616227
                        ],
                        [
                          32.72269728239138,
                          39.891221827047254
                        ],
                        [
                          32.72315092772666,
                          39.8914778551482
                        ],
                        [
                          32.724561308106495,
                          39.89225037740944
                        ],
                        [
                          32.72533382538176,
                          39.89253785753531
                        ],
                        [
                          32.727188842429726,
                          39.89322508624922
                        ],
                        [
                          32.72784916177291,
                          39.8935305001703
                        ],
                        [
                          32.72874744424902,
                          39.89399761899136
                        ],
                        [
                          32.7301487870299,
                          39.89482404572443
                        ],
                        [
                          32.73367915501002,
                          39.89692613730843
                        ],
                        [
                          32.732726983454356,
                          39.90512326728543
                        ],
                        [
                          32.73220592164136,
                          39.905716114472554
                        ],
                        [
                          32.73203972924334,
                          39.905940736300934
                        ],
                        [
                          32.73191402937002,
                          39.90617426603631
                        ],
                        [
                          32.73187362272945,
                          39.90630898692942
                        ],
                        [
                          32.73183760997447,
                          39.90649320178896
                        ],
                        [
                          32.71118538997313,
                          39.90568467857314
                        ],
                        [
                          32.71117642804739,
                          39.90530736581133
                        ],
                        [
                          32.71101916335714,
                          39.90488069183731
                        ],
                        [
                          32.71051617324098,
                          39.90429679649109
                        ],
                        [
                          32.710183803735056,
                          39.903941972981826
                        ],
                        [
                          32.70892609809067,
                          39.90254957410346
                        ],
                        [
                          32.70766846314726,
                          39.90113022027761
                        ],
                        [
                          32.706774648779216,
                          39.89990852136189
                        ],
                        [
                          32.70609195961474,
                          39.89903266721941
                        ],
                        [
                          32.70427284046967,
                          39.896405087891914
                        ],
                        [
                          32.70325326127048,
                          39.89479714056607
                        ],
                        [
                          32.70296576757232,
                          39.894244642629246
                        ],
                        [
                          32.70262441084593,
                          39.89345413708955
                        ],
                        [
                          32.702031579832486,
                          39.89204823893685
                        ],
                        [
                          32.70192824987115,
                          39.89172038962035
                        ],
                        [
                          32.70182043843243,
                          39.8911993959441
                        ],
                        [
                          32.70174408270045,
                          39.89069630388532
                        ],
                        [
                          32.70165428277117,
                          39.88996414906071
                        ],
                        [
                          32.70150157100216,
                          39.8885133958582
                        ],
                        [
                          32.7013353286423,
                          39.888131635553215
                        ],
                        [
                          32.70109729737985,
                          39.88783520376961
                        ],
                        [
                          32.70650965699774,
                          39.885638759458686
                        ],
                        [
                          32.708683603424404,
                          39.883159412271624
                        ],
                        [
                          32.70986039519025,
                          39.88233750192618
                        ],
                        [
                          32.711275181531924,
                          39.88099903375869
                        ],
                        [
                          32.71014330232133,
                          39.879916539767656
                        ],
                        [
                          32.70765950091316,
                          39.87774707433689
                        ],
                        [
                          32.70514418439471,
                          39.876300816082534
                        ],
                        [
                          32.70461867294476,
                          39.876098670195844
                        ],
                        [
                          32.703810234921704,
                          39.875914515971324
                        ],
                        [
                          32.70166324553156,
                          39.87550130221273
                        ],
                        [
                          32.70062123319338,
                          39.87519585553186
                        ],
                        [
                          32.70016757402157,
                          39.87503419439247
                        ],
                        [
                          32.699655481407184,
                          39.87481861333809
                        ]
                      ]
                    ]
                  },
                  "type": "Feature",
                  "id": "0000827ead0cd1a15f2a",
                  "properties": {
                    "TIP": "Mahalle",
                    "IL_ID": 6,
                    "TIPKOD": 7,
                    "ILCE_ID": 1231,
                    "Nufus": 17212,
                    "ID": 14170,
                    "ADI": "Mutlukent Mh."
                  }
                },
                {
                  "geometry": {
                    "type": "Polygon",
                    "coordinates": [
                      [
                        [
                          32.68811212028452,
                          39.887179431141966
                        ],
                        [
                          32.68996264140706,
                          39.88400386785036
                        ],
                        [
                          32.69024112168633,
                          39.88355022777165
                        ],
                        [
                          32.689958159514596,
                          39.88220275996534
                        ],
                        [
                          32.690937362165805,
                          39.88204103828979
                        ],
                        [
                          32.69104966691487,
                          39.88197814667363
                        ],
                        [
                          32.69112154878477,
                          39.88190178669604
                        ],
                        [
                          32.691332626070306,
                          39.88149304992151
                        ],
                        [
                          32.69190302384275,
                          39.88151104666309
                        ],
                        [
                          32.69202429113725,
                          39.88151551232538
                        ],
                        [
                          32.69237464679948,
                          39.88153800692496
                        ],
                        [
                          32.69272500126273,
                          39.8815469968544
                        ],
                        [
                          32.692850749349645,
                          39.88149307952578
                        ],
                        [
                          32.69295408847748,
                          39.881398766640004
                        ],
                        [
                          32.69299899226949,
                          39.88119659619281
                        ],
                        [
                          32.692846267583604,
                          39.880985521693546
                        ],
                        [
                          32.69213211289681,
                          39.87967847353532
                        ],
                        [
                          32.691584125510026,
                          39.879467366511854
                        ],
                        [
                          32.691296685215754,
                          39.87934608227148
                        ],
                        [
                          32.691031653344844,
                          39.87924275854404
                        ],
                        [
                          32.69066784750341,
                          39.87911702930159
                        ],
                        [
                          32.691359603250206,
                          39.87813787070369
                        ],
                        [
                          32.690357909074166,
                          39.87774260336551
                        ],
                        [
                          32.68998513705662,
                          39.87586960052974
                        ],
                        [
                          32.68986834924362,
                          39.8755776513364
                        ],
                        [
                          32.689509021181436,
                          39.874593979951946
                        ],
                        [
                          32.68961684558964,
                          39.87400559599428
                        ],
                        [
                          32.69026361727471,
                          39.874064024445275
                        ],
                        [
                          32.69113499430879,
                          39.873920273579046
                        ],
                        [
                          32.693210065684355,
                          39.873628315441884
                        ],
                        [
                          32.69522683341058,
                          39.87334085923902
                        ],
                        [
                          32.69591399053433,
                          39.87337677608701
                        ],
                        [
                          32.69632276625089,
                          39.87346213180383
                        ],
                        [
                          32.697710678195605,
                          39.87385740286622
                        ],
                        [
                          32.699655481407184,
                          39.87481861333809
                        ],
                        [
                          32.70016757402157,
                          39.87503419439247
                        ],
                        [
                          32.70062123319338,
                          39.87519585553186
                        ],
                        [
                          32.70166324553156,
                          39.87550130221273
                        ],
                        [
                          32.703810234921704,
                          39.875914515971324
                        ],
                        [
                          32.70461867294476,
                          39.876098670195844
                        ],
                        [
                          32.70514418439471,
                          39.876300816082534
                        ],
                        [
                          32.70765950091316,
                          39.87774707433689
                        ],
                        [
                          32.71014330232133,
                          39.879916539767656
                        ],
                        [
                          32.711275181531924,
                          39.88099903375869
                        ],
                        [
                          32.70986039519025,
                          39.88233750192618
                        ],
                        [
                          32.708683603424404,
                          39.883159412271624
                        ],
                        [
                          32.70650965699774,
                          39.885638759458686
                        ],
                        [
                          32.70109729737985,
                          39.88783520376961
                        ],
                        [
                          32.700064242177405,
                          39.888225961693585
                        ],
                        [
                          32.69972287576848,
                          39.888109131819746
                        ],
                        [
                          32.69950276665442,
                          39.88767799468062
                        ],
                        [
                          32.69884252265384,
                          39.887889088572734
                        ],
                        [
                          32.699017732056625,
                          39.88827084342095
                        ],
                        [
                          32.69855510274272,
                          39.88858525216459
                        ],
                        [
                          32.69801163128289,
                          39.88887723735375
                        ],
                        [
                          32.6976747395805,
                          39.889366815432375
                        ],
                        [
                          32.69723451206701,
                          39.89002706392456
                        ],
                        [
                          32.697158152912465,
                          39.89030109058331
                        ],
                        [
                          32.69700095284831,
                          39.890489691204955
                        ],
                        [
                          32.69670008297323,
                          39.89070081841497
                        ],
                        [
                          32.696129625745776,
                          39.89121282731326
                        ],
                        [
                          32.695038172507594,
                          39.891114004132405
                        ],
                        [
                          32.69065888378004,
                          39.8936068791273
                        ],
                        [
                          32.68998961894789,
                          39.89360685497037
                        ],
                        [
                          32.68982344407859,
                          39.89340921294393
                        ],
                        [
                          32.68981448028129,
                          39.889479080119614
                        ],
                        [
                          32.68959883176755,
                          39.889348869366444
                        ],
                        [
                          32.68927544433627,
                          39.8891467025402
                        ],
                        [
                          32.68963477321804,
                          39.888877191572064
                        ],
                        [
                          32.69000315081075,
                          39.888603204161186
                        ],
                        [
                          32.68811212028452,
                          39.887179431141966
                        ]
                      ]
                    ]
                  },
                  "type": "Feature",
                  "id": "0000fea1a927b60b2f81",
                  "properties": {
                    "TIP": "Mahalle",
                    "IL_ID": 6,
                    "TIPKOD": 7,
                    "ILCE_ID": 1723,
                    "Nufus": 5569,
                    "ID": 15186,
                    "ADI": "Çayyolu Mh."
                  }
                },
                {
                  "geometry": {
                    "type": "Polygon",
                    "coordinates": [
                      [
                        [
                          32.69224889812777,
                          39.8480802162025
                        ],
                        [
                          32.694283611604796,
                          39.844841776903564
                        ],
                        [
                          32.69709980620631,
                          39.84186388889219
                        ],
                        [
                          32.70287148738863,
                          39.83898926892755
                        ],
                        [
                          32.710893437603325,
                          39.83173087034177
                        ],
                        [
                          32.71816976566395,
                          39.83377902360448
                        ],
                        [
                          32.7296726858866,
                          39.83423719057448
                        ],
                        [
                          32.7296726858866,
                          39.83431353502207
                        ],
                        [
                          32.72922802988084,
                          39.83549485075655
                        ],
                        [
                          32.72883730652469,
                          39.83614158893436
                        ],
                        [
                          32.72837015967957,
                          39.83683330928795
                        ],
                        [
                          32.72519010969514,
                          39.840907203464134
                        ],
                        [
                          32.72475896142121,
                          39.84180997219043
                        ],
                        [
                          32.72591325258125,
                          39.84262299970912
                        ],
                        [
                          32.72588180420056,
                          39.843337131479686
                        ],
                        [
                          32.726735215039824,
                          39.84330120557415
                        ],
                        [
                          32.72757965825642,
                          39.84499000888959
                        ],
                        [
                          32.72625013736642,
                          39.845016977495085
                        ],
                        [
                          32.72624565706455,
                          39.84568618347157
                        ],
                        [
                          32.72575153025739,
                          39.84618479604839
                        ],
                        [
                          32.72742241882355,
                          39.847716440426325
                        ],
                        [
                          32.72795694574857,
                          39.84677317596636
                        ],
                        [
                          32.73208470201851,
                          39.8479949175887
                        ],
                        [
                          32.73207117572614,
                          39.84908182665245
                        ],
                        [
                          32.73271802341921,
                          39.849611831580546
                        ],
                        [
                          32.73227786072398,
                          39.84996219298353
                        ],
                        [
                          32.732214967876104,
                          39.85221696481092
                        ],
                        [
                          32.734052026139615,
                          39.85128720989268
                        ],
                        [
                          32.734662849512894,
                          39.85263023013184
                        ],
                        [
                          32.73392624259299,
                          39.85342969848997
                        ],
                        [
                          32.73514797333993,
                          39.85422017606206
                        ],
                        [
                          32.73543537645787,
                          39.85477266608066
                        ],
                        [
                          32.73635168386822,
                          39.855145446856724
                        ],
                        [
                          32.739931458438114,
                          39.85401361008319
                        ],
                        [
                          32.742069459393264,
                          39.85483108619378
                        ],
                        [
                          32.743996361305506,
                          39.85512304351874
                        ],
                        [
                          32.74630949138571,
                          39.85521734307193
                        ],
                        [
                          32.749525492237446,
                          39.85522631162055
                        ],
                        [
                          32.748838265144066,
                          39.8540675283408
                        ],
                        [
                          32.75034295738389,
                          39.85336232632754
                        ],
                        [
                          32.74966021507988,
                          39.851579146880816
                        ],
                        [
                          32.74975453819149,
                          39.850829072420716
                        ],
                        [
                          32.75111097240066,
                          39.850811097049416
                        ],
                        [
                          32.751380499850754,
                          39.8495939035495
                        ],
                        [
                          32.753186117248354,
                          39.84960734487416
                        ],
                        [
                          32.760004312447336,
                          39.850555077567435
                        ],
                        [
                          32.760799299533225,
                          39.85121088557473
                        ],
                        [
                          32.76301816778316,
                          39.84980051337188
                        ],
                        [
                          32.76573109522113,
                          39.847698442645076
                        ],
                        [
                          32.767298667307145,
                          39.84778374349007
                        ],
                        [
                          32.76906834713952,
                          39.84684501070687
                        ],
                        [
                          32.77402704157473,
                          39.84611743378332
                        ],
                        [
                          32.77649286378779,
                          39.84468463936603
                        ],
                        [
                          32.77782241773145,
                          39.84503943838413
                        ],
                        [
                          32.77799757756647,
                          39.845075381271585
                        ],
                        [
                          32.77906205028487,
                          39.84521459088875
                        ],
                        [
                          32.77990649016755,
                          39.84529992113225
                        ],
                        [
                          32.78007269054129,
                          39.845308947956205
                        ],
                        [
                          32.78023441271642,
                          39.845290981180796
                        ],
                        [
                          32.78199956164987,
                          39.844778907707116
                        ],
                        [
                          32.7779167147303,
                          39.848152085871575
                        ],
                        [
                          32.7840836344758,
                          39.85232475718929
                        ],
                        [
                          32.78925798134998,
                          39.84773439784265
                        ],
                        [
                          32.78934331267886,
                          39.84773435880224
                        ],
                        [
                          32.78954092632849,
                          39.84772088753519
                        ],
                        [
                          32.789729584577834,
                          39.847676008455245
                        ],
                        [
                          32.78998557715949,
                          39.8475592308449
                        ],
                        [
                          32.79035393669366,
                          39.84724032662604
                        ],
                        [
                          32.79060992770015,
                          39.846988745844186
                        ],
                        [
                          32.791130948772825,
                          39.84648574024065
                        ],
                        [
                          32.79167891780912,
                          39.845937764206305
                        ],
                        [
                          32.79215507328937,
                          39.84551549203022
                        ],
                        [
                          32.79266704556739,
                          39.845147262861545
                        ],
                        [
                          32.79282874767731,
                          39.84485530669224
                        ],
                        [
                          32.793259952043634,
                          39.844760973554784
                        ],
                        [
                          32.79451308627761,
                          39.84436119069176
                        ],
                        [
                          32.79527215744863,
                          39.84419949337559
                        ],
                        [
                          32.7979222321859,
                          39.84362907390877
                        ],
                        [
                          32.801160620917194,
                          39.84279815046713
                        ],
                        [
                          32.801910774479616,
                          39.84273077439406
                        ],
                        [
                          32.802301475467615,
                          39.84279816977221
                        ],
                        [
                          32.803172841725925,
                          39.84300027142162
                        ],
                        [
                          32.80435413758139,
                          39.843310186999105
                        ],
                        [
                          32.804655120024925,
                          39.843368534556696
                        ],
                        [
                          32.80489316757727,
                          39.84337307436233
                        ],
                        [
                          32.80510874433562,
                          39.84333713445719
                        ],
                        [
                          32.805342314003845,
                          39.84326975297063
                        ],
                        [
                          32.80556236661558,
                          39.84315743569572
                        ],
                        [
                          32.806011510075855,
                          39.84282059181321
                        ],
                        [
                          32.80884123166083,
                          39.84499001060093
                        ],
                        [
                          32.80982041107714,
                          39.84606798770245
                        ],
                        [
                          32.81045824142586,
                          39.84719990093727
                        ],
                        [
                          32.8108040576047,
                          39.84849793632918
                        ],
                        [
                          32.810853472117856,
                          39.84894263612389
                        ],
                        [
                          32.810853472117856,
                          39.84921212250048
                        ],
                        [
                          32.81081757342341,
                          39.84951303090884
                        ],
                        [
                          32.81069179876048,
                          39.85025415495044
                        ],
                        [
                          32.81061087589682,
                          39.8505685656726
                        ],
                        [
                          32.81049861683847,
                          39.850878501293444
                        ],
                        [
                          32.8098114578354,
                          39.8524819299638
                        ],
                        [
                          32.80964969672567,
                          39.85288622753977
                        ],
                        [
                          32.809474591539775,
                          39.853348818136205
                        ],
                        [
                          32.809151154075465,
                          39.85427407692633
                        ],
                        [
                          32.80907031607039,
                          39.85459301420851
                        ],
                        [
                          32.80896700862176,
                          39.85525328806202
                        ],
                        [
                          32.808944539237736,
                          39.85571589260821
                        ],
                        [
                          32.80891311652757,
                          39.85617852150376
                        ],
                        [
                          32.80894901589701,
                          39.85679835585685
                        ],
                        [
                          32.809016424031164,
                          39.857283480762064
                        ],
                        [
                          32.8091197314294,
                          39.85773711028601
                        ],
                        [
                          32.80926341462727,
                          39.858258139430966
                        ],
                        [
                          32.809353291850535,
                          39.85852762369393
                        ],
                        [
                          32.80973053426836,
                          39.85962360972051
                        ],
                        [
                          32.81011233797764,
                          39.86078244132378
                        ],
                        [
                          32.810188698546796,
                          39.86110132637854
                        ],
                        [
                          32.81024258996229,
                          39.86145615652892
                        ],
                        [
                          32.81027401226002,
                          39.861963687830865
                        ],
                        [
                          32.81027401226002,
                          39.862367940585706
                        ],
                        [
                          32.81020221444762,
                          39.86479340231569
                        ],
                        [
                          32.81024258996229,
                          39.865305446650545
                        ],
                        [
                          32.81045824142586,
                          39.86733563005892
                        ],
                        [
                          32.810655813920576,
                          39.869177139341986
                        ],
                        [
                          32.81097477001045,
                          39.87217754555823
                        ],
                        [
                          32.81101514521714,
                          39.87258178455713
                        ],
                        [
                          32.810130330495745,
                          39.872559334566276
                        ],
                        [
                          32.79692055185471,
                          39.87162060909924
                        ],
                        [
                          32.79626481352329,
                          39.87136902349392
                        ],
                        [
                          32.79504760522569,
                          39.87083003473253
                        ],
                        [
                          32.79429748698714,
                          39.87057403846099
                        ],
                        [
                          32.79354744930375,
                          39.87039434164786
                        ],
                        [
                          32.79303091800381,
                          39.869963197362324
                        ],
                        [
                          32.79270303679414,
                          39.86953199311716
                        ],
                        [
                          32.79251886145863,
                          39.86910078053506
                        ],
                        [
                          32.792235838680796,
                          39.86856185381696
                        ],
                        [
                          32.79139150135807,
                          39.86784317628491
                        ],
                        [
                          32.790313467151506,
                          39.86716044189656
                        ],
                        [
                          32.78916817241674,
                          39.86699873839081
                        ],
                        [
                          32.788440484639295,
                          39.86687295650375
                        ],
                        [
                          32.78818448815988,
                          39.86681904580302
                        ],
                        [
                          32.78776230352067,
                          39.86672922626051
                        ],
                        [
                          32.787128980214874,
                          39.866621465292006
                        ],
                        [
                          32.78656746755867,
                          39.866567566685035
                        ],
                        [
                          32.78598356343264,
                          39.86662149836569
                        ],
                        [
                          32.78537278975051,
                          39.866783133318904
                        ],
                        [
                          32.78499993442036,
                          39.86690894980092
                        ],
                        [
                          32.78469450202444,
                          39.86696285389347
                        ],
                        [
                          32.784483445721435,
                          39.866944811499415
                        ],
                        [
                          32.784294777720525,
                          39.86685499786829
                        ],
                        [
                          32.784106109368985,
                          39.866747256861835
                        ],
                        [
                          32.78382762700812,
                          39.866675356058394
                        ],
                        [
                          32.78354466610271,
                          39.86676515866907
                        ],
                        [
                          32.78328865727599,
                          39.86694484110498
                        ],
                        [
                          32.78309998705477,
                          39.86716048046852
                        ],
                        [
                          32.78286645227439,
                          39.86737606407348
                        ],
                        [
                          32.782704734290924,
                          39.86739398382585
                        ],
                        [
                          32.78244424551717,
                          39.867304145010344
                        ],
                        [
                          32.78209394088289,
                          39.86726821208853
                        ],
                        [
                          32.78167173091353,
                          39.86723228269191
                        ],
                        [
                          32.78139324187583,
                          39.86721436591652
                        ],
                        [
                          32.78082730570845,
                          39.86705264474088
                        ],
                        [
                          32.779237294097065,
                          39.86669330124256
                        ],
                        [
                          32.77829855209384,
                          39.86645977443462
                        ],
                        [
                          32.7780425300418,
                          39.86631605153084
                        ],
                        [
                          32.777948147043816,
                          39.86615437364421
                        ],
                        [
                          32.7778088975153,
                          39.866154336730624
                        ],
                        [
                          32.77738675584867,
                          39.86636990351151
                        ],
                        [
                          32.77705882410626,
                          39.866657423879936
                        ],
                        [
                          32.77684775193376,
                          39.86698075782925
                        ],
                        [
                          32.776636593205694,
                          39.86734011324279
                        ],
                        [
                          32.776447996743904,
                          39.86773534517811
                        ],
                        [
                          32.776191970028016,
                          39.86804078712861
                        ],
                        [
                          32.77576973552475,
                          39.86822045032418
                        ],
                        [
                          32.775536183889336,
                          39.868256400008775
                        ],
                        [
                          32.77523080914907,
                          39.86822047251703
                        ],
                        [
                          32.774925347372545,
                          39.868094723310676
                        ],
                        [
                          32.77450310760558,
                          39.86775336086622
                        ],
                        [
                          32.77438633039925,
                          39.86760959923621
                        ],
                        [
                          32.77399112984627,
                          39.86735809011522
                        ],
                        [
                          32.77368566434307,
                          39.86723233197725
                        ],
                        [
                          32.77335780677485,
                          39.86726826555701
                        ],
                        [
                          32.77302986202881,
                          39.867429931079904
                        ],
                        [
                          32.77249092112183,
                          39.86771741184074
                        ],
                        [
                          32.77195189123589,
                          39.86773536737935
                        ],
                        [
                          32.771318641577956,
                          39.86768142816688
                        ],
                        [
                          32.77082903948489,
                          39.86750176799876
                        ],
                        [
                          32.77042926061787,
                          39.867070641815964
                        ],
                        [
                          32.76970608920713,
                          39.866693344730024
                        ],
                        [
                          32.76940069694851,
                          39.866657391478064
                        ],
                        [
                          32.76902339069427,
                          39.866801138628084
                        ],
                        [
                          32.768484428544234,
                          39.86708860366725
                        ],
                        [
                          32.76792298506863,
                          39.86708859474712
                        ],
                        [
                          32.76731658129275,
                          39.86680112520955
                        ],
                        [
                          32.76644973024583,
                          39.866334006794325
                        ],
                        [
                          32.76596019083077,
                          39.865947706582666
                        ],
                        [
                          32.76600058395053,
                          39.865444640378136
                        ],
                        [
                          32.76595562614885,
                          39.86499102631303
                        ],
                        [
                          32.765879318416985,
                          39.86456428079362
                        ],
                        [
                          32.76572213808906,
                          39.863796248777334
                        ],
                        [
                          32.765614307937305,
                          39.86334263077805
                        ],
                        [
                          32.76547056293259,
                          39.86294735050156
                        ],
                        [
                          32.765241466219926,
                          39.86261052284788
                        ],
                        [
                          32.7650708491223,
                          39.86240832041503
                        ],
                        [
                          32.764823750960595,
                          39.86217478398055
                        ],
                        [
                          32.76458121694233,
                          39.86199963827089
                        ],
                        [
                          32.764248851380664,
                          39.86180645487363
                        ],
                        [
                          32.763943442731545,
                          39.86167624475634
                        ],
                        [
                          32.76354372291943,
                          39.86154593813778
                        ],
                        [
                          32.7626992332128,
                          39.86129444494961
                        ],
                        [
                          32.76136078233546,
                          39.86089920395988
                        ],
                        [
                          32.76040861109802,
                          39.860620726600004
                        ],
                        [
                          32.75979320486539,
                          39.86041409424903
                        ],
                        [
                          32.759231799544054,
                          39.860176014159315
                        ],
                        [
                          32.75692757637332,
                          39.85967296263576
                        ],
                        [
                          32.75616399808803,
                          39.859569655880385
                        ],
                        [
                          32.75543641850277,
                          39.859488840973704
                        ],
                        [
                          32.75347803473373,
                          39.859336100029374
                        ],
                        [
                          32.75154666071331,
                          39.85983917863701
                        ],
                        [
                          32.74944012747971,
                          39.86073751935197
                        ],
                        [
                          32.747382996075984,
                          39.86080483318732
                        ],
                        [
                          32.746965293661624,
                          39.86073748761958
                        ],
                        [
                          32.746538544571585,
                          39.86062074944164
                        ],
                        [
                          32.746305011965134,
                          39.86055785659796
                        ],
                        [
                          32.74612531812335,
                          39.860463511151515
                        ],
                        [
                          32.74595914841616,
                          39.86031530569366
                        ],
                        [
                          32.74585138346895,
                          39.860158043789276
                        ],
                        [
                          32.74574353226457,
                          39.859839196911814
                        ],
                        [
                          32.74555944412241,
                          39.85934508982874
                        ],
                        [
                          32.74525845886275,
                          39.858972285766285
                        ],
                        [
                          32.74508780826759,
                          39.858657896613884
                        ],
                        [
                          32.744804825706744,
                          39.85853665210727
                        ],
                        [
                          32.744319747835775,
                          39.85833896662163
                        ],
                        [
                          32.74383914718469,
                          39.85806945902887
                        ],
                        [
                          32.7409465363666,
                          39.85945737429621
                        ],
                        [
                          32.74020997484311,
                          39.859223802004145
                        ],
                        [
                          32.738292047040765,
                          39.85894085416787
                        ],
                        [
                          32.73664812943508,
                          39.85894084943627
                        ],
                        [
                          32.73486944310655,
                          39.859259767715585
                        ],
                        [
                          32.73369716106401,
                          39.85958767625625
                        ],
                        [
                          32.73266857090342,
                          39.86009069365472
                        ],
                        [
                          32.73210710224396,
                          39.860378180476296
                        ],
                        [
                          32.731640056525436,
                          39.85994695785797
                        ],
                        [
                          32.73097976171541,
                          39.859731360191134
                        ],
                        [
                          32.73004548550476,
                          39.86001884113188
                        ],
                        [
                          32.72999611784989,
                          39.860485928015095
                        ],
                        [
                          32.72971765970525,
                          39.86167174431434
                        ],
                        [
                          32.72981191511529,
                          39.86332463367289
                        ],
                        [
                          32.72981191511529,
                          39.863683954117995
                        ],
                        [
                          32.728873234181314,
                          39.86361209462563
                        ],
                        [
                          32.7290169446813,
                          39.8646541753397
                        ],
                        [
                          32.72920106269396,
                          39.865772565745864
                        ],
                        [
                          32.72938974669541,
                          39.866886465028934
                        ],
                        [
                          32.72971765970525,
                          39.86753323221325
                        ],
                        [
                          32.72985688887257,
                          39.86803627220114
                        ],
                        [
                          32.728922602379484,
                          39.868467506216696
                        ],
                        [
                          32.72765599468276,
                          39.86983294506508
                        ],
                        [
                          32.72700024051764,
                          39.87022819786881
                        ],
                        [
                          32.72634448213891,
                          39.87101867022643
                        ],
                        [
                          32.72366746920101,
                          39.87194395929394
                        ],
                        [
                          32.72259845378598,
                          39.87045275418705
                        ],
                        [
                          32.72239183534634,
                          39.869904821688884
                        ],
                        [
                          32.722225713128324,
                          39.8697341186116
                        ],
                        [
                          32.721834876802504,
                          39.869563421157906
                        ],
                        [
                          32.722364952516116,
                          39.86833719322684
                        ],
                        [
                          32.71762183162065,
                          39.86697626577857
                        ],
                        [
                          32.71358836412893,
                          39.86635199157493
                        ],
                        [
                          32.71066439056175,
                          39.868395644250484
                        ],
                        [
                          32.709492089089125,
                          39.86962633094902
                        ],
                        [
                          32.707834695212185,
                          39.871220842216516
                        ],
                        [
                          32.7058673830109,
                          39.87197090877505
                        ],
                        [
                          32.70302867843265,
                          39.87140496740516
                        ],
                        [
                          32.702557104575824,
                          39.871508289133956
                        ],
                        [
                          32.702718777436864,
                          39.871351081101245
                        ],
                        [
                          32.703612627256774,
                          39.869823904450456
                        ],
                        [
                          32.70293439830695,
                          39.8676050889605
                        ],
                        [
                          32.7031858692351,
                          39.86665737379946
                        ],
                        [
                          32.70188334999721,
                          39.86617675454502
                        ],
                        [
                          32.69995194731932,
                          39.865332340998705
                        ],
                        [
                          32.7004190517517,
                          39.86421848796687
                        ],
                        [
                          32.702332520209396,
                          39.85853213990754
                        ],
                        [
                          32.701137716195895,
                          39.858285099621256
                        ],
                        [
                          32.699107534300246,
                          39.85681187379823
                        ],
                        [
                          32.696084723327125,
                          39.8535554645031
                        ],
                        [
                          32.6946339595347,
                          39.8546199256943
                        ],
                        [
                          32.69315171672753,
                          39.852738011868865
                        ],
                        [
                          32.69224889812777,
                          39.8480802162025
                        ]
                      ]
                    ]
                  },
                  "type": "Feature",
                  "id": "0000dc9e3f0408d66b56",
                  "properties": {
                    "TIP": "Mahalle",
                    "IL_ID": 6,
                    "TIPKOD": 7,
                    "ILCE_ID": 1231,
                    "Nufus": 2620,
                    "ID": 14107,
                    "ADI": "Beytepe Mh."
                  }
                },
                {
                  "geometry": {
                    "type": "Polygon",
                    "coordinates": [
                      [
                        [
                          32.66898256558724,
                          39.873992126043035
                        ],
                        [
                          32.6710621372287,
                          39.87234823377204
                        ],
                        [
                          32.67371664835479,
                          39.8700619986072
                        ],
                        [
                          32.674138874200835,
                          39.86957243754997
                        ],
                        [
                          32.67256676805102,
                          39.8670526550132
                        ],
                        [
                          32.67211763969933,
                          39.86658100448592
                        ],
                        [
                          32.6736538056905,
                          39.86581748479988
                        ],
                        [
                          32.674165769704196,
                          39.865610843210106
                        ],
                        [
                          32.674242145999024,
                          39.865538971721435
                        ],
                        [
                          32.677076390421036,
                          39.864627158984035
                        ],
                        [
                          32.67773211992567,
                          39.864393631684436
                        ],
                        [
                          32.67929518216199,
                          39.864285821743714
                        ],
                        [
                          32.679093044809484,
                          39.862610487858376
                        ],
                        [
                          32.67826216559483,
                          39.86052189155116
                        ],
                        [
                          32.67923682527854,
                          39.86040061561383
                        ],
                        [
                          32.67967695776292,
                          39.86069709421936
                        ],
                        [
                          32.680395595401066,
                          39.86103843516732
                        ],
                        [
                          32.68157693611601,
                          39.86160436669016
                        ],
                        [
                          32.68189577940836,
                          39.861909830182285
                        ],
                        [
                          32.682196778978394,
                          39.86241735446865
                        ],
                        [
                          32.682596472630884,
                          39.863293193414066
                        ],
                        [
                          32.682951342742726,
                          39.86393551737535
                        ],
                        [
                          32.68362504953724,
                          39.86489669995977
                        ],
                        [
                          32.68492762871969,
                          39.86651367040929
                        ],
                        [
                          32.685394715513425,
                          39.86722335662921
                        ],
                        [
                          32.685547451312395,
                          39.86764105817293
                        ],
                        [
                          32.685888864992215,
                          39.86733109890122
                        ],
                        [
                          32.686001089083824,
                          39.8664462808056
                        ],
                        [
                          32.68630207659344,
                          39.8655030576015
                        ],
                        [
                          32.686553588387405,
                          39.8650808415414
                        ],
                        [
                          32.68689491252103,
                          39.864766469237736
                        ],
                        [
                          32.687604621737485,
                          39.86440263004741
                        ],
                        [
                          32.6881571123917,
                          39.86414209777089
                        ],
                        [
                          32.6889026683783,
                          39.863953430721644
                        ],
                        [
                          32.690510637471895,
                          39.86389508209581
                        ],
                        [
                          32.69385690085822,
                          39.863931003920634
                        ],
                        [
                          32.695963460842826,
                          39.86411965603869
                        ],
                        [
                          32.69721658576948,
                          39.8642498893522
                        ],
                        [
                          32.69808790361718,
                          39.86432629700381
                        ],
                        [
                          32.7004190517517,
                          39.86421848796687
                        ],
                        [
                          32.69995194731932,
                          39.865332340998705
                        ],
                        [
                          32.70188334999721,
                          39.86617675454502
                        ],
                        [
                          32.7031858692351,
                          39.86665737379946
                        ],
                        [
                          32.70293439830695,
                          39.8676050889605
                        ],
                        [
                          32.703612627256774,
                          39.869823904450456
                        ],
                        [
                          32.702718777436864,
                          39.871351081101245
                        ],
                        [
                          32.702557104575824,
                          39.871508289133956
                        ],
                        [
                          32.70302867843265,
                          39.87140496740516
                        ],
                        [
                          32.702557104575824,
                          39.87176430942169
                        ],
                        [
                          32.701470115107206,
                          39.87290070325074
                        ],
                        [
                          32.699655481407184,
                          39.87481861333809
                        ],
                        [
                          32.697710678195605,
                          39.87385740286622
                        ],
                        [
                          32.69632276625089,
                          39.87346213180383
                        ],
                        [
                          32.69591399053433,
                          39.87337677608701
                        ],
                        [
                          32.69522683341058,
                          39.87334085923902
                        ],
                        [
                          32.693210065684355,
                          39.873628315441884
                        ],
                        [
                          32.69113499430879,
                          39.873920273579046
                        ],
                        [
                          32.69026361727471,
                          39.874064024445275
                        ],
                        [
                          32.68961684558964,
                          39.87400559599428
                        ],
                        [
                          32.689509021181436,
                          39.874593979951946
                        ],
                        [
                          32.68986834924362,
                          39.8755776513364
                        ],
                        [
                          32.68998513705662,
                          39.87586960052974
                        ],
                        [
                          32.690357909074166,
                          39.87774260336551
                        ],
                        [
                          32.691359603250206,
                          39.87813787070369
                        ],
                        [
                          32.69066784750341,
                          39.87911702930159
                        ],
                        [
                          32.691031653344844,
                          39.87924275854404
                        ],
                        [
                          32.691296685215754,
                          39.87934608227148
                        ],
                        [
                          32.691584125510026,
                          39.879467366511854
                        ],
                        [
                          32.69213211289681,
                          39.87967847353532
                        ],
                        [
                          32.692846267583604,
                          39.880985521693546
                        ],
                        [
                          32.69299899226949,
                          39.88119659619281
                        ],
                        [
                          32.69295408847748,
                          39.881398766640004
                        ],
                        [
                          32.692850749349645,
                          39.88149307952578
                        ],
                        [
                          32.69272500126273,
                          39.8815469968544
                        ],
                        [
                          32.69237464679948,
                          39.88153800692496
                        ],
                        [
                          32.69202429113725,
                          39.88151551232538
                        ],
                        [
                          32.69190302384275,
                          39.88151104666309
                        ],
                        [
                          32.691332626070306,
                          39.88149304992151
                        ],
                        [
                          32.69112154878477,
                          39.88190178669604
                        ],
                        [
                          32.69104966691487,
                          39.88197814667363
                        ],
                        [
                          32.690937362165805,
                          39.88204103828979
                        ],
                        [
                          32.689958159514596,
                          39.88220275996534
                        ],
                        [
                          32.69024112168633,
                          39.88355022777165
                        ],
                        [
                          32.68996264140706,
                          39.88400386785036
                        ],
                        [
                          32.68888474062173,
                          39.88354121961108
                        ],
                        [
                          32.68434822782222,
                          39.88160986207918
                        ],
                        [
                          32.677202157716955,
                          39.87854658801994
                        ],
                        [
                          32.67525279039478,
                          39.87763482500066
                        ],
                        [
                          32.67410292731512,
                          39.877100326012986
                        ],
                        [
                          32.67247694253801,
                          39.876224463691294
                        ],
                        [
                          32.67227039528264,
                          39.87596844144379
                        ],
                        [
                          32.67195591852913,
                          39.8757842478331
                        ],
                        [
                          32.670554554257606,
                          39.874953350833785
                        ],
                        [
                          32.66898256558724,
                          39.873992126043035
                        ]
                      ]
                    ]
                  },
                  "type": "Feature",
                  "id": "0000a6dd839835d7a81e",
                  "properties": {
                    "TIP": "Mahalle",
                    "IL_ID": 6,
                    "TIPKOD": 7,
                    "ILCE_ID": 1723,
                    "Nufus": 19903,
                    "ID": 15221,
                    "ADI": "Prof. Dr. Ahmet Taner Kışlalı Mh."
                  }
                },
                {
                  "geometry": {
                    "type": "Polygon",
                    "coordinates": [
                      [
                        [
                          32.62576910563264,
                          39.8564120847607
                        ],
                        [
                          32.62601162383065,
                          39.854345960159286
                        ],
                        [
                          32.626294589754565,
                          39.852890727411335
                        ],
                        [
                          32.626537106715354,
                          39.8522888588582
                        ],
                        [
                          32.62729621905877,
                          39.85087397843274
                        ],
                        [
                          32.628100171747725,
                          39.849849941585134
                        ],
                        [
                          32.62849998969277,
                          39.84938280664083
                        ],
                        [
                          32.629070391640965,
                          39.84977800961038
                        ],
                        [
                          32.62970366001512,
                          39.84972413030226
                        ],
                        [
                          32.63092094215861,
                          39.84989029011612
                        ],
                        [
                          32.632313274510246,
                          39.85018677253009
                        ],
                        [
                          32.63267711471393,
                          39.84927501750443
                        ],
                        [
                          32.633144266747195,
                          39.84869556670829
                        ],
                        [
                          32.6341683373052,
                          39.84821500297664
                        ],
                        [
                          32.63774357878846,
                          39.84814308773213
                        ],
                        [
                          32.6371327808752,
                          39.84697079209581
                        ],
                        [
                          32.635978437942484,
                          39.84490465735533
                        ],
                        [
                          32.63827814255958,
                          39.843759300049435
                        ],
                        [
                          32.63816129590051,
                          39.84357970979909
                        ],
                        [
                          32.636926162547795,
                          39.84258704493464
                        ],
                        [
                          32.632111217164834,
                          39.844392607070006
                        ],
                        [
                          32.63217408524182,
                          39.84379974277812
                        ],
                        [
                          32.63265020834802,
                          39.84365152875016
                        ],
                        [
                          32.63257828552769,
                          39.84344045231063
                        ],
                        [
                          32.63288822595625,
                          39.84330121605204
                        ],
                        [
                          32.63238519751572,
                          39.84108231072645
                        ],
                        [
                          32.63266814592607,
                          39.84100149357471
                        ],
                        [
                          32.63426268064027,
                          39.839892056027416
                        ],
                        [
                          32.63493636197828,
                          39.839388999961024
                        ],
                        [
                          32.63676447220673,
                          39.83885900780849
                        ],
                        [
                          32.641781583546674,
                          39.840422099945634
                        ],
                        [
                          32.64199267611067,
                          39.840098694900114
                        ],
                        [
                          32.64468760368295,
                          39.84063318004973
                        ],
                        [
                          32.64430130028781,
                          39.84204805149877
                        ],
                        [
                          32.64449445216678,
                          39.84411419155079
                        ],
                        [
                          32.64743195434891,
                          39.84451393437065
                        ],
                        [
                          32.6474498893497,
                          39.844729525576454
                        ],
                        [
                          32.647512834279645,
                          39.844904673686926
                        ],
                        [
                          32.647620616604435,
                          39.845133758414576
                        ],
                        [
                          32.64773288255379,
                          39.84528646155508
                        ],
                        [
                          32.64789007192202,
                          39.845367354288214
                        ],
                        [
                          32.64858177126678,
                          39.84535833299068
                        ],
                        [
                          32.6494576411706,
                          39.845308922733835
                        ],
                        [
                          32.65016286708563,
                          39.84522804770811
                        ],
                        [
                          32.650629939710015,
                          39.845111300495695
                        ],
                        [
                          32.65153726338757,
                          39.84487773592704
                        ],
                        [
                          32.6520268337408,
                          39.84269036779652
                        ],
                        [
                          32.65712027911749,
                          39.84264991686639
                        ],
                        [
                          32.659428908366124,
                          39.84132939174427
                        ],
                        [
                          32.657600856253005,
                          39.83994600512633
                        ],
                        [
                          32.66139625026547,
                          39.8389174489206
                        ],
                        [
                          32.663152505802664,
                          39.837870884041216
                        ],
                        [
                          32.668430057788974,
                          39.83527923974718
                        ],
                        [
                          32.67068481228747,
                          39.833392758624754
                        ],
                        [
                          32.67173135326172,
                          39.83018580245442
                        ],
                        [
                          32.67167747476551,
                          39.82608051355817
                        ],
                        [
                          32.66982696830877,
                          39.82219973758275
                        ],
                        [
                          32.666507679886614,
                          39.8219751552195
                        ],
                        [
                          32.665964210856636,
                          39.82126100754039
                        ],
                        [
                          32.66733408524034,
                          39.81847179854409
                        ],
                        [
                          32.66908135977154,
                          39.820344772947024
                        ],
                        [
                          32.67086903530743,
                          39.81988655758224
                        ],
                        [
                          32.67359984200017,
                          39.821934749342006
                        ],
                        [
                          32.676793391890804,
                          39.822060522013835
                        ],
                        [
                          32.67631281842715,
                          39.819720370154215
                        ],
                        [
                          32.67542795395142,
                          39.817622839510264
                        ],
                        [
                          32.67664512551987,
                          39.81532766082983
                        ],
                        [
                          32.678841514702945,
                          39.81512106461922
                        ],
                        [
                          32.67879660470466,
                          39.817663253661735
                        ],
                        [
                          32.682753694809236,
                          39.82365504579116
                        ],
                        [
                          32.684999514886385,
                          39.823767305672554
                        ],
                        [
                          32.69018277103748,
                          39.82338555622807
                        ],
                        [
                          32.693281946037445,
                          39.82731117911696
                        ],
                        [
                          32.702916386828804,
                          39.82288695398485
                        ],
                        [
                          32.70451543177512,
                          39.82264443797073
                        ],
                        [
                          32.70637039600087,
                          39.822680391471884
                        ],
                        [
                          32.70744389000615,
                          39.82285550934069
                        ],
                        [
                          32.70967624230557,
                          39.82381669444328
                        ],
                        [
                          32.70906983666182,
                          39.824512907114375
                        ],
                        [
                          32.711468379608796,
                          39.82484975784978
                        ],
                        [
                          32.712735015759215,
                          39.82552800257568
                        ],
                        [
                          32.71393425125966,
                          39.82569422602849
                        ],
                        [
                          32.714176733467795,
                          39.826448807813385
                        ],
                        [
                          32.71440585880662,
                          39.82929648073524
                        ],
                        [
                          32.710893437603325,
                          39.83173087034177
                        ],
                        [
                          32.70287148738863,
                          39.83898926892755
                        ],
                        [
                          32.69709980620631,
                          39.84186388889219
                        ],
                        [
                          32.694283611604796,
                          39.844841776903564
                        ],
                        [
                          32.69224889812777,
                          39.8480802162025
                        ],
                        [
                          32.69315171672753,
                          39.852738011868865
                        ],
                        [
                          32.6946339595347,
                          39.8546199256943
                        ],
                        [
                          32.696084723327125,
                          39.8535554645031
                        ],
                        [
                          32.699107534300246,
                          39.85681187379823
                        ],
                        [
                          32.701137716195895,
                          39.858285099621256
                        ],
                        [
                          32.702332520209396,
                          39.85853213990754
                        ],
                        [
                          32.7004190517517,
                          39.86421848796687
                        ],
                        [
                          32.69808790361718,
                          39.86432629700381
                        ],
                        [
                          32.69721658576948,
                          39.8642498893522
                        ],
                        [
                          32.695963460842826,
                          39.86411965603869
                        ],
                        [
                          32.69385690085822,
                          39.863931003920634
                        ],
                        [
                          32.690510637471895,
                          39.86389508209581
                        ],
                        [
                          32.6889026683783,
                          39.863953430721644
                        ],
                        [
                          32.6881571123917,
                          39.86414209777089
                        ],
                        [
                          32.687604621737485,
                          39.86440263004741
                        ],
                        [
                          32.68689491252103,
                          39.864766469237736
                        ],
                        [
                          32.686553588387405,
                          39.8650808415414
                        ],
                        [
                          32.68630207659344,
                          39.8655030576015
                        ],
                        [
                          32.686001089083824,
                          39.8664462808056
                        ],
                        [
                          32.685888864992215,
                          39.86733109890122
                        ],
                        [
                          32.685547451312395,
                          39.86764105817293
                        ],
                        [
                          32.685394715513425,
                          39.86722335662921
                        ],
                        [
                          32.68492762871969,
                          39.86651367040929
                        ],
                        [
                          32.68362504953724,
                          39.86489669995977
                        ],
                        [
                          32.682951342742726,
                          39.86393551737535
                        ],
                        [
                          32.682596472630884,
                          39.863293193414066
                        ],
                        [
                          32.682196778978394,
                          39.86241735446865
                        ],
                        [
                          32.68189577940836,
                          39.861909830182285
                        ],
                        [
                          32.68157693611601,
                          39.86160436669016
                        ],
                        [
                          32.680395595401066,
                          39.86103843516732
                        ],
                        [
                          32.67967695776292,
                          39.86069709421936
                        ],
                        [
                          32.67923682527854,
                          39.86040061561383
                        ],
                        [
                          32.67826216559483,
                          39.86052189155116
                        ],
                        [
                          32.679093044809484,
                          39.862610487858376
                        ],
                        [
                          32.67929518216199,
                          39.864285821743714
                        ],
                        [
                          32.67773211992567,
                          39.864393631684436
                        ],
                        [
                          32.677076390421036,
                          39.864627158984035
                        ],
                        [
                          32.674242145999024,
                          39.865538971721435
                        ],
                        [
                          32.674165769704196,
                          39.865610843210106
                        ],
                        [
                          32.6736538056905,
                          39.86581748479988
                        ],
                        [
                          32.67211763969933,
                          39.86658100448592
                        ],
                        [
                          32.672153587280874,
                          39.86500900872419
                        ],
                        [
                          32.67216703529376,
                          39.86484280221133
                        ],
                        [
                          32.671875144053864,
                          39.864788904716626
                        ],
                        [
                          32.668430057788974,
                          39.86439810963909
                        ],
                        [
                          32.66707364671655,
                          39.86398490970429
                        ],
                        [
                          32.666813121322086,
                          39.863931013208195
                        ],
                        [
                          32.66565876689454,
                          39.86379627735935
                        ],
                        [
                          32.6645628509605,
                          39.86357166896587
                        ],
                        [
                          32.66395643681585,
                          39.86314501000226
                        ],
                        [
                          32.66255961881153,
                          39.86241280355567
                        ],
                        [
                          32.66019251980127,
                          39.861150718850375
                        ],
                        [
                          32.659433477809,
                          39.86067007913104
                        ],
                        [
                          32.65736729294217,
                          39.86044102415491
                        ],
                        [
                          32.65738082911015,
                          39.860279337925164
                        ],
                        [
                          32.65630284449029,
                          39.86023439072393
                        ],
                        [
                          32.65553920413446,
                          39.85934514686816
                        ],
                        [
                          32.65539996007953,
                          39.859237328027305
                        ],
                        [
                          32.655386509869786,
                          39.85847823552621
                        ],
                        [
                          32.65341922529335,
                          39.85851861373261
                        ],
                        [
                          32.65221100402018,
                          39.858568062393104
                        ],
                        [
                          32.65209865674014,
                          39.85806504198635
                        ],
                        [
                          32.652044767939806,
                          39.857620367295
                        ],
                        [
                          32.65192802314584,
                          39.85682082001157
                        ],
                        [
                          32.65193250670021,
                          39.85620100309914
                        ],
                        [
                          32.65181119199696,
                          39.855235305338404
                        ],
                        [
                          32.648092184503064,
                          39.85524876276496
                        ],
                        [
                          32.646300059771924,
                          39.85450319663431
                        ],
                        [
                          32.6467806875129,
                          39.8540135949646
                        ],
                        [
                          32.645711645571005,
                          39.853384807450574
                        ],
                        [
                          32.645181690508466,
                          39.853164649992046
                        ],
                        [
                          32.644162041007135,
                          39.8525807815305
                        ],
                        [
                          32.643142467624905,
                          39.853519512257044
                        ],
                        [
                          32.641507541981944,
                          39.85274251549839
                        ],
                        [
                          32.64130541645817,
                          39.85283232206975
                        ],
                        [
                          32.64126049003993,
                          39.85296705093464
                        ],
                        [
                          32.64137733317895,
                          39.85384292406839
                        ],
                        [
                          32.63986362219089,
                          39.853196125245056
                        ],
                        [
                          32.63866886647568,
                          39.85321410215471
                        ],
                        [
                          32.63704740857819,
                          39.85317814072009
                        ],
                        [
                          32.636858813161936,
                          39.85524429496933
                        ],
                        [
                          32.636737480674384,
                          39.85736879787418
                        ],
                        [
                          32.634491725891,
                          39.856865723061105
                        ],
                        [
                          32.6318281809847,
                          39.85630883544301
                        ],
                        [
                          32.631522808048096,
                          39.85618753288007
                        ],
                        [
                          32.63146890846651,
                          39.85625040409483
                        ],
                        [
                          32.6312263168804,
                          39.856829807978905
                        ],
                        [
                          32.630956817914196,
                          39.857485606325255
                        ],
                        [
                          32.63055261126228,
                          39.85792572677047
                        ],
                        [
                          32.62671683797792,
                          39.859416919081724
                        ],
                        [
                          32.62606104158689,
                          39.857741583808966
                        ],
                        [
                          32.62576910563264,
                          39.8564120847607
                        ]
                      ]
                    ]
                  },
                  "type": "Feature",
                  "id": "0000a4f31e8aa1907ba8",
                  "properties": {
                    "TIP": "Mahalle",
                    "IL_ID": 6,
                    "TIPKOD": 7,
                    "ILCE_ID": 1723,
                    "Nufus": 11854,
                    "ID": 15173,
                    "ADI": "Alacaatlı Mh."
                  }
                },
                {
                  "geometry": {
                    "type": "Polygon",
                    "coordinates": [
                      [
                        [
                          32.62671683797792,
                          39.859416919081724
                        ],
                        [
                          32.63055261126228,
                          39.85792572677047
                        ],
                        [
                          32.630956817914196,
                          39.857485606325255
                        ],
                        [
                          32.6312263168804,
                          39.856829807978905
                        ],
                        [
                          32.63146890846651,
                          39.85625040409483
                        ],
                        [
                          32.631522808048096,
                          39.85618753288007
                        ],
                        [
                          32.6318281809847,
                          39.85630883544301
                        ],
                        [
                          32.634491725891,
                          39.856865723061105
                        ],
                        [
                          32.636737480674384,
                          39.85736879787418
                        ],
                        [
                          32.636858813161936,
                          39.85524429496933
                        ],
                        [
                          32.63704740857819,
                          39.85317814072009
                        ],
                        [
                          32.63866886647568,
                          39.85321410215471
                        ],
                        [
                          32.63986362219089,
                          39.853196125245056
                        ],
                        [
                          32.64137733317895,
                          39.85384292406839
                        ],
                        [
                          32.64126049003993,
                          39.85296705093464
                        ],
                        [
                          32.64130541645817,
                          39.85283232206975
                        ],
                        [
                          32.641507541981944,
                          39.85274251549839
                        ],
                        [
                          32.643142467624905,
                          39.853519512257044
                        ],
                        [
                          32.644162041007135,
                          39.8525807815305
                        ],
                        [
                          32.645181690508466,
                          39.853164649992046
                        ],
                        [
                          32.645711645571005,
                          39.853384807450574
                        ],
                        [
                          32.6467806875129,
                          39.8540135949646
                        ],
                        [
                          32.646300059771924,
                          39.85450319663431
                        ],
                        [
                          32.648092184503064,
                          39.85524876276496
                        ],
                        [
                          32.65181119199696,
                          39.855235305338404
                        ],
                        [
                          32.65193250670021,
                          39.85620100309914
                        ],
                        [
                          32.65192802314584,
                          39.85682082001157
                        ],
                        [
                          32.652044767939806,
                          39.857620367295
                        ],
                        [
                          32.65209865674014,
                          39.85806504198635
                        ],
                        [
                          32.65221100402018,
                          39.858568062393104
                        ],
                        [
                          32.65341922529335,
                          39.85851861373261
                        ],
                        [
                          32.655386509869786,
                          39.85847823552621
                        ],
                        [
                          32.65539996007953,
                          39.859237328027305
                        ],
                        [
                          32.65553920413446,
                          39.85934514686816
                        ],
                        [
                          32.65630284449029,
                          39.86023439072393
                        ],
                        [
                          32.65738082911015,
                          39.860279337925164
                        ],
                        [
                          32.65736729294217,
                          39.86044102415491
                        ],
                        [
                          32.659433477809,
                          39.86067007913104
                        ],
                        [
                          32.66019251980127,
                          39.861150718850375
                        ],
                        [
                          32.66255961881153,
                          39.86241280355567
                        ],
                        [
                          32.66395643681585,
                          39.86314501000226
                        ],
                        [
                          32.6645628509605,
                          39.86357166896587
                        ],
                        [
                          32.66565876689454,
                          39.86379627735935
                        ],
                        [
                          32.666813121322086,
                          39.863931013208195
                        ],
                        [
                          32.66707364671655,
                          39.86398490970429
                        ],
                        [
                          32.668430057788974,
                          39.86439810963909
                        ],
                        [
                          32.671875144053864,
                          39.864788904716626
                        ],
                        [
                          32.67216703529376,
                          39.86484280221133
                        ],
                        [
                          32.672153587280874,
                          39.86500900872419
                        ],
                        [
                          32.67211763969933,
                          39.86658100448592
                        ],
                        [
                          32.67256676805102,
                          39.8670526550132
                        ],
                        [
                          32.674138874200835,
                          39.86957243754997
                        ],
                        [
                          32.67371664835479,
                          39.8700619986072
                        ],
                        [
                          32.6710621372287,
                          39.87234823377204
                        ],
                        [
                          32.66898256558724,
                          39.873992126043035
                        ],
                        [
                          32.66849298986184,
                          39.87372708874047
                        ],
                        [
                          32.66795392799243,
                          39.87354744437292
                        ],
                        [
                          32.66753624577052,
                          39.87349806170852
                        ],
                        [
                          32.66737900025822,
                          39.87347562968323
                        ],
                        [
                          32.66563178295015,
                          39.8731118231886
                        ],
                        [
                          32.665205125327404,
                          39.87311626068394
                        ],
                        [
                          32.66346235406164,
                          39.873286934282916
                        ],
                        [
                          32.662272097131414,
                          39.87336779509573
                        ],
                        [
                          32.661463669789605,
                          39.87335881207103
                        ],
                        [
                          32.66095612555774,
                          39.87337677606359
                        ],
                        [
                          32.658301542998615,
                          39.873358816736705
                        ],
                        [
                          32.657025956753365,
                          39.87334985166444
                        ],
                        [
                          32.655682931391354,
                          39.87341721784874
                        ],
                        [
                          32.65539996007953,
                          39.873444181618304
                        ],
                        [
                          32.65513949128178,
                          39.873457646293595
                        ],
                        [
                          32.655018180365055,
                          39.873695710939046
                        ],
                        [
                          32.65429057051715,
                          39.8739067774491
                        ],
                        [
                          32.654039065831746,
                          39.87393823789276
                        ],
                        [
                          32.653630293961655,
                          39.87392479607919
                        ],
                        [
                          32.65293862859518,
                          39.87390232978394
                        ],
                        [
                          32.65195949424443,
                          39.87345765375119
                        ],
                        [
                          32.65114650214341,
                          39.873053377950036
                        ],
                        [
                          32.65068382925226,
                          39.87281986894375
                        ],
                        [
                          32.64912972973472,
                          39.872002377562104
                        ],
                        [
                          32.64785868580298,
                          39.87156667274524
                        ],
                        [
                          32.64753076926633,
                          39.87144987805254
                        ],
                        [
                          32.64557247442791,
                          39.87233918849386
                        ],
                        [
                          32.639567155051495,
                          39.86814861908649
                        ],
                        [
                          32.63775711754061,
                          39.866899957678825
                        ],
                        [
                          32.636391677988215,
                          39.866068967095615
                        ],
                        [
                          32.6351160785794,
                          39.86541321391611
                        ],
                        [
                          32.63379553368271,
                          39.86480233360535
                        ],
                        [
                          32.628648153066834,
                          39.86294289194339
                        ],
                        [
                          32.62671683797792,
                          39.859416919081724
                        ]
                      ]
                    ]
                  },
                  "type": "Feature",
                  "id": "0000140b89fc8b369a3e",
                  "properties": {
                    "TIP": "Mahalle",
                    "IL_ID": 6,
                    "TIPKOD": 7,
                    "ILCE_ID": 1723,
                    "Nufus": 17801,
                    "ID": 15231,
                    "ADI": "Yaşamkent Mh."
                  }
                },
                {
                  "geometry": {
                    "type": "Polygon",
                    "coordinates": [
                      [
                        [
                          32.64557247442791,
                          39.87233918849386
                        ],
                        [
                          32.64753076926633,
                          39.87144987805254
                        ],
                        [
                          32.64785868580298,
                          39.87156667274524
                        ],
                        [
                          32.64912972973472,
                          39.872002377562104
                        ],
                        [
                          32.65068382925226,
                          39.87281986894375
                        ],
                        [
                          32.65114650214341,
                          39.873053377950036
                        ],
                        [
                          32.65195949424443,
                          39.87345765375119
                        ],
                        [
                          32.65293862859518,
                          39.87390232978394
                        ],
                        [
                          32.653630293961655,
                          39.87392479607919
                        ],
                        [
                          32.654039065831746,
                          39.87393823789276
                        ],
                        [
                          32.65429057051715,
                          39.8739067774491
                        ],
                        [
                          32.655018180365055,
                          39.873695710939046
                        ],
                        [
                          32.65513949128178,
                          39.873457646293595
                        ],
                        [
                          32.65539996007953,
                          39.873444181618304
                        ],
                        [
                          32.655682931391354,
                          39.87341721784874
                        ],
                        [
                          32.657025956753365,
                          39.87334985166444
                        ],
                        [
                          32.658301542998615,
                          39.873358816736705
                        ],
                        [
                          32.66095612555774,
                          39.87337677606359
                        ],
                        [
                          32.661463669789605,
                          39.87335881207103
                        ],
                        [
                          32.662272097131414,
                          39.87336779509573
                        ],
                        [
                          32.66346235406164,
                          39.873286934282916
                        ],
                        [
                          32.665205125327404,
                          39.87311626068394
                        ],
                        [
                          32.66563178295015,
                          39.8731118231886
                        ],
                        [
                          32.66737900025822,
                          39.87347562968323
                        ],
                        [
                          32.66753624577052,
                          39.87349806170852
                        ],
                        [
                          32.66795392799243,
                          39.87354744437292
                        ],
                        [
                          32.66849298986184,
                          39.87372708874047
                        ],
                        [
                          32.66898256558724,
                          39.873992126043035
                        ],
                        [
                          32.670554554257606,
                          39.874953350833785
                        ],
                        [
                          32.67195591852913,
                          39.8757842478331
                        ],
                        [
                          32.67227039528264,
                          39.87596844144379
                        ],
                        [
                          32.67247694253801,
                          39.876224463691294
                        ],
                        [
                          32.67410292731512,
                          39.877100326012986
                        ],
                        [
                          32.67525279039478,
                          39.87763482500066
                        ],
                        [
                          32.677202157716955,
                          39.87854658801994
                        ],
                        [
                          32.67690114347933,
                          39.8788520453518
                        ],
                        [
                          32.67559863468826,
                          39.88048694014164
                        ],
                        [
                          32.67529321941153,
                          39.880671107177974
                        ],
                        [
                          32.67149782210323,
                          39.88190177711892
                        ],
                        [
                          32.66857376700017,
                          39.88285849799151
                        ],
                        [
                          32.66840764361671,
                          39.88297977308823
                        ],
                        [
                          32.668349194329096,
                          39.883092046773555
                        ],
                        [
                          32.66826833080548,
                          39.88325823796197
                        ],
                        [
                          32.668097724079125,
                          39.88380619557207
                        ],
                        [
                          32.66791349608284,
                          39.88433621998514
                        ],
                        [
                          32.66776530308397,
                          39.88452484679119
                        ],
                        [
                          32.66716795984984,
                          39.88497404901172
                        ],
                        [
                          32.66557790125083,
                          39.88623617720725
                        ],
                        [
                          32.662564101901815,
                          39.88414754800344
                        ],
                        [
                          32.660048798855115,
                          39.882395857539464
                        ],
                        [
                          32.657798466435636,
                          39.880841791033234
                        ],
                        [
                          32.65508112065957,
                          39.87894632017717
                        ],
                        [
                          32.65047723814962,
                          39.87574835650116
                        ],
                        [
                          32.64855935276214,
                          39.87441435726055
                        ],
                        [
                          32.64706359633285,
                          39.8733767999125
                        ],
                        [
                          32.64557247442791,
                          39.87233918849386
                        ]
                      ]
                    ]
                  },
                  "type": "Feature",
                  "id": "00009a4411f7c7b2efcb",
                  "properties": {
                    "TIP": "Mahalle",
                    "IL_ID": 6,
                    "TIPKOD": 7,
                    "ILCE_ID": 1723,
                    "Nufus": 7545,
                    "ID": 15212,
                    "ADI": "Konutkent Mh."
                  }
                },
                {
                  "geometry": {
                    "type": "Polygon",
                    "coordinates": [
                      [
                        [
                          32.628648153066834,
                          39.86294289194339
                        ],
                        [
                          32.63379553368271,
                          39.86480233360535
                        ],
                        [
                          32.6351160785794,
                          39.86541321391611
                        ],
                        [
                          32.636391677988215,
                          39.866068967095615
                        ],
                        [
                          32.63775711754061,
                          39.866899957678825
                        ],
                        [
                          32.639567155051495,
                          39.86814861908649
                        ],
                        [
                          32.64557247442791,
                          39.87233918849386
                        ],
                        [
                          32.64706359633285,
                          39.8733767999125
                        ],
                        [
                          32.64855935276214,
                          39.87441435726055
                        ],
                        [
                          32.65047723814962,
                          39.87574835650116
                        ],
                        [
                          32.65508112065957,
                          39.87894632017717
                        ],
                        [
                          32.657798466435636,
                          39.880841791033234
                        ],
                        [
                          32.660048798855115,
                          39.882395857539464
                        ],
                        [
                          32.662564101901815,
                          39.88414754800344
                        ],
                        [
                          32.66557790125083,
                          39.88623617720725
                        ],
                        [
                          32.66731167082867,
                          39.8874623648459
                        ],
                        [
                          32.66948110455301,
                          39.88896707894913
                        ],
                        [
                          32.67268805823022,
                          39.89099725751133
                        ],
                        [
                          32.67927277036429,
                          39.89499026924693
                        ],
                        [
                          32.67769169187062,
                          39.896342183329146
                        ],
                        [
                          32.676092658997476,
                          39.897658241024175
                        ],
                        [
                          32.67525279039478,
                          39.898201715448714
                        ],
                        [
                          32.67501469850583,
                          39.89828705736044
                        ],
                        [
                          32.674718246608556,
                          39.89833196065418
                        ],
                        [
                          32.67444877548671,
                          39.89832299158351
                        ],
                        [
                          32.674147839369404,
                          39.89827810365822
                        ],
                        [
                          32.67366277090148,
                          39.89816130505111
                        ],
                        [
                          32.673168648681504,
                          39.89800411241148
                        ],
                        [
                          32.671704457119944,
                          39.89739772893755
                        ],
                        [
                          32.67134058266268,
                          39.89728098730817
                        ],
                        [
                          32.670630933241576,
                          39.89716864626998
                        ],
                        [
                          32.66869057907813,
                          39.89688120658709
                        ],
                        [
                          32.66587437956276,
                          39.896535360414035
                        ],
                        [
                          32.66469311659661,
                          39.89640507044438
                        ],
                        [
                          32.66290541968158,
                          39.89627034809949
                        ],
                        [
                          32.65973437086473,
                          39.89604130223307
                        ],
                        [
                          32.659680486069995,
                          39.895789781865616
                        ],
                        [
                          32.65960409893651,
                          39.8947656783009
                        ],
                        [
                          32.66073153621887,
                          39.8930678538612
                        ],
                        [
                          32.66206104622227,
                          39.893395744566774
                        ],
                        [
                          32.6620834617806,
                          39.892852257742476
                        ],
                        [
                          32.65930768873154,
                          39.891383478309415
                        ],
                        [
                          32.65841388349521,
                          39.89211116869767
                        ],
                        [
                          32.656666599822906,
                          39.89114546820617
                        ],
                        [
                          32.65632526130556,
                          39.891127497901515
                        ],
                        [
                          32.654101920505724,
                          39.891819228578846
                        ],
                        [
                          32.65348208034652,
                          39.890467266817225
                        ],
                        [
                          32.65171695098081,
                          39.8886436282245
                        ],
                        [
                          32.64771494760237,
                          39.887314115171435
                        ],
                        [
                          32.64727476428018,
                          39.886752671172864
                        ],
                        [
                          32.647598111664365,
                          39.8861014027014
                        ],
                        [
                          32.64740048186399,
                          39.885818446922755
                        ],
                        [
                          32.646816557738596,
                          39.885742106400436
                        ],
                        [
                          32.64603060028692,
                          39.88555343993912
                        ],
                        [
                          32.645585925922084,
                          39.885674693710406
                        ],
                        [
                          32.644817808294924,
                          39.88544120370241
                        ],
                        [
                          32.64470105529288,
                          39.884987536797006
                        ],
                        [
                          32.64435967703234,
                          39.88492461986391
                        ],
                        [
                          32.644076760772485,
                          39.88514021659548
                        ],
                        [
                          32.643389515046394,
                          39.88514023813884
                        ],
                        [
                          32.64163783685093,
                          39.8847764014321
                        ],
                        [
                          32.63938753245688,
                          39.88355918362522
                        ],
                        [
                          32.638076010690675,
                          39.88344689387197
                        ],
                        [
                          32.63435245333128,
                          39.88264290851095
                        ],
                        [
                          32.63331941587392,
                          39.88291690221724
                        ],
                        [
                          32.63294212479473,
                          39.88232847711657
                        ],
                        [
                          32.63183266541532,
                          39.88252612868031
                        ],
                        [
                          32.630606511323556,
                          39.88163675730651
                        ],
                        [
                          32.630152887527316,
                          39.880176996723705
                        ],
                        [
                          32.63047620248706,
                          39.87943147182645
                        ],
                        [
                          32.62879191790645,
                          39.87844328086323
                        ],
                        [
                          32.63043135758129,
                          39.877580907466026
                        ],
                        [
                          32.632097677669975,
                          39.87605374374004
                        ],
                        [
                          32.63278491258375,
                          39.87495780022951
                        ],
                        [
                          32.63301844550175,
                          39.87433346767645
                        ],
                        [
                          32.63317117298397,
                          39.87344418310335
                        ],
                        [
                          32.63317117298397,
                          39.872658174271685
                        ],
                        [
                          32.63301844550175,
                          39.871256758579584
                        ],
                        [
                          32.63260976254757,
                          39.87016078304862
                        ],
                        [
                          32.63173840609225,
                          39.86842707260445
                        ],
                        [
                          32.63107358651288,
                          39.86722782065579
                        ],
                        [
                          32.62942070345766,
                          39.86424094944772
                        ],
                        [
                          32.628648153066834,
                          39.86294289194339
                        ]
                      ]
                    ]
                  },
                  "type": "Feature",
                  "id": "00005c297c163f249bff",
                  "properties": {
                    "TIP": "Mahalle",
                    "IL_ID": 6,
                    "TIPKOD": 7,
                    "ILCE_ID": 1922,
                    "Nufus": 1931,
                    "ID": 14327,
                    "ADI": "Fatih Sultan Mh."
                  }
                },
                {
                  "geometry": {
                    "type": "Polygon",
                    "coordinates": [
                      [
                        [
                          32.61140500779811,
                          39.88794746080562
                        ],
                        [
                          32.6115083426089,
                          39.88685597326202
                        ],
                        [
                          32.61191702300815,
                          39.88551754750498
                        ],
                        [
                          32.61243360720663,
                          39.8846820853011
                        ],
                        [
                          32.61334092256356,
                          39.88362205998226
                        ],
                        [
                          32.615083594294745,
                          39.88233299149418
                        ],
                        [
                          32.61655687243992,
                          39.8817535654054
                        ],
                        [
                          32.61837590762258,
                          39.881201115451695
                        ],
                        [
                          32.62393648788925,
                          39.879826674255455
                        ],
                        [
                          32.627624113843986,
                          39.87889241990007
                        ],
                        [
                          32.62879191790645,
                          39.87844328086323
                        ],
                        [
                          32.63047620248706,
                          39.87943147182645
                        ],
                        [
                          32.630152887527316,
                          39.880176996723705
                        ],
                        [
                          32.630606511323556,
                          39.88163675730651
                        ],
                        [
                          32.63183266541532,
                          39.88252612868031
                        ],
                        [
                          32.63294212479473,
                          39.88232847711657
                        ],
                        [
                          32.63331941587392,
                          39.88291690221724
                        ],
                        [
                          32.63435245333128,
                          39.88264290851095
                        ],
                        [
                          32.638076010690675,
                          39.88344689387197
                        ],
                        [
                          32.63938753245688,
                          39.88355918362522
                        ],
                        [
                          32.64163783685093,
                          39.8847764014321
                        ],
                        [
                          32.643389515046394,
                          39.88514023813884
                        ],
                        [
                          32.644076760772485,
                          39.88514021659548
                        ],
                        [
                          32.64435967703234,
                          39.88492461986391
                        ],
                        [
                          32.64470105529288,
                          39.884987536797006
                        ],
                        [
                          32.644817808294924,
                          39.88544120370241
                        ],
                        [
                          32.645585925922084,
                          39.885674693710406
                        ],
                        [
                          32.64603060028692,
                          39.88555343993912
                        ],
                        [
                          32.646816557738596,
                          39.885742106400436
                        ],
                        [
                          32.64740048186399,
                          39.885818446922755
                        ],
                        [
                          32.647598111664365,
                          39.8861014027014
                        ],
                        [
                          32.64727476428018,
                          39.886752671172864
                        ],
                        [
                          32.64771494760237,
                          39.887314115171435
                        ],
                        [
                          32.65171695098081,
                          39.8886436282245
                        ],
                        [
                          32.65348208034652,
                          39.890467266817225
                        ],
                        [
                          32.654101920505724,
                          39.891819228578846
                        ],
                        [
                          32.65632526130556,
                          39.891127497901515
                        ],
                        [
                          32.656666599822906,
                          39.89114546820617
                        ],
                        [
                          32.65841388349521,
                          39.89211116869767
                        ],
                        [
                          32.65930768873154,
                          39.891383478309415
                        ],
                        [
                          32.6620834617806,
                          39.892852257742476
                        ],
                        [
                          32.66206104622227,
                          39.893395744566774
                        ],
                        [
                          32.66073153621887,
                          39.8930678538612
                        ],
                        [
                          32.65960409893651,
                          39.8947656783009
                        ],
                        [
                          32.659680486069995,
                          39.895789781865616
                        ],
                        [
                          32.65973437086473,
                          39.89604130223307
                        ],
                        [
                          32.66018803660743,
                          39.896310752019986
                        ],
                        [
                          32.65690016472711,
                          39.898075969568204
                        ],
                        [
                          32.654640968887875,
                          39.898309540133
                        ],
                        [
                          32.65606479485402,
                          39.904772881255646
                        ],
                        [
                          32.656078244974935,
                          39.90660997013668
                        ],
                        [
                          32.65573242111413,
                          39.90897701856167
                        ],
                        [
                          32.65212564424072,
                          39.91049965491146
                        ],
                        [
                          32.652745492582746,
                          39.9112497861
                        ],
                        [
                          32.65302847120583,
                          39.911645014057086
                        ],
                        [
                          32.653252991167655,
                          39.912008820551044
                        ],
                        [
                          32.653688751628906,
                          39.91283075141919
                        ],
                        [
                          32.65387283270893,
                          39.913365291857865
                        ],
                        [
                          32.65390878667996,
                          39.91361235050138
                        ],
                        [
                          32.65389085280629,
                          39.91396717641928
                        ],
                        [
                          32.65388636933739,
                          39.91409740169292
                        ],
                        [
                          32.65393129023817,
                          39.91424115402323
                        ],
                        [
                          32.65407950320528,
                          39.91453309861813
                        ],
                        [
                          32.65484306819212,
                          39.91593000589277
                        ],
                        [
                          32.655471866940125,
                          39.91708433989804
                        ],
                        [
                          32.65603780838814,
                          39.91810393078601
                        ],
                        [
                          32.656132131659675,
                          39.91843625468393
                        ],
                        [
                          32.65614109840127,
                          39.91873721684731
                        ],
                        [
                          32.65612764828858,
                          39.919087572064676
                        ],
                        [
                          32.65604677513797,
                          39.91970736744442
                        ],
                        [
                          32.65584916158525,
                          39.92035870759237
                        ],
                        [
                          32.655611110897595,
                          39.92081680858438
                        ],
                        [
                          32.6550900874929,
                          39.921706115269984
                        ],
                        [
                          32.65357640596461,
                          39.92220470816414
                        ],
                        [
                          32.65002361574478,
                          39.923368008524456
                        ],
                        [
                          32.649354344438834,
                          39.923561141027356
                        ],
                        [
                          32.646839062849764,
                          39.92447298087611
                        ],
                        [
                          32.64621021127972,
                          39.92469756487885
                        ],
                        [
                          32.64483582997989,
                          39.92525451514661
                        ],
                        [
                          32.64286403196628,
                          39.925964155662925
                        ],
                        [
                          32.64243727978334,
                          39.926143836113596
                        ],
                        [
                          32.63818380290568,
                          39.92782368440171
                        ],
                        [
                          32.63532261430492,
                          39.92888817496881
                        ],
                        [
                          32.630399879895386,
                          39.92470201279635
                        ],
                        [
                          32.62552201591408,
                          39.92325124783341
                        ],
                        [
                          32.62581395256861,
                          39.92291435947594
                        ],
                        [
                          32.62645181187497,
                          39.92229001695162
                        ],
                        [
                          32.62827084486971,
                          39.920911184546206
                        ],
                        [
                          32.62969917549177,
                          39.91980625454226
                        ],
                        [
                          32.630440326564006,
                          39.91900222300809
                        ],
                        [
                          32.63087152673441,
                          39.918499143813335
                        ],
                        [
                          32.63132066291178,
                          39.91766820880866
                        ],
                        [
                          32.63162163824759,
                          39.91679682856963
                        ],
                        [
                          32.63184620494503,
                          39.915723365901364
                        ],
                        [
                          32.631599129807356,
                          39.91375155190053
                        ],
                        [
                          32.6310691020492,
                          39.91265562599786
                        ],
                        [
                          32.62856285997474,
                          39.909273450667776
                        ],
                        [
                          32.62584991634739,
                          39.90508729397328
                        ],
                        [
                          32.623069629107036,
                          39.89989952345957
                        ],
                        [
                          32.62218482363074,
                          39.898668856777796
                        ],
                        [
                          32.621237049594214,
                          39.89772563984096
                        ],
                        [
                          32.61997946099661,
                          39.896795822715035
                        ],
                        [
                          32.617369792793646,
                          39.89531817421279
                        ],
                        [
                          32.61560016263083,
                          39.894231167427186
                        ],
                        [
                          32.614535627091534,
                          39.893355302050736
                        ],
                        [
                          32.6134621963567,
                          39.89232670941872
                        ],
                        [
                          32.61274352198174,
                          39.89145985443125
                        ],
                        [
                          32.612051840606505,
                          39.89044023766007
                        ],
                        [
                          32.61153525449589,
                          39.889029913997916
                        ],
                        [
                          32.61140500779811,
                          39.88794746080562
                        ]
                      ]
                    ]
                  },
                  "type": "Feature",
                  "id": "0000a4f73fa1c568a6cf",
                  "properties": {
                    "TIP": "Mahalle",
                    "IL_ID": 6,
                    "TIPKOD": 7,
                    "ILCE_ID": 1922,
                    "Nufus": 6481,
                    "ID": 14321,
                    "ADI": "Bağlıca Mh."
                  }
                },
                {
                  "geometry": {
                    "type": "Polygon",
                    "coordinates": [
                      [
                        [
                          32.55682789033651,
                          39.84940077499528
                        ],
                        [
                          32.5669070053082,
                          39.84826438460776
                        ],
                        [
                          32.56848797259213,
                          39.847846639820276
                        ],
                        [
                          32.569669302948434,
                          39.84722231082114
                        ],
                        [
                          32.57101672794946,
                          39.84631504778619
                        ],
                        [
                          32.572171107320024,
                          39.845749088081725
                        ],
                        [
                          32.57554874500125,
                          39.844433091853176
                        ],
                        [
                          32.58312602535425,
                          39.84204802751262
                        ],
                        [
                          32.583997447326,
                          39.8414416402632
                        ],
                        [
                          32.5846801711126,
                          39.840525389256996
                        ],
                        [
                          32.586112987735355,
                          39.83699049928233
                        ],
                        [
                          32.58619831592445,
                          39.836712019254264
                        ],
                        [
                          32.590743730434085,
                          39.8220829665714
                        ],
                        [
                          32.59162414682422,
                          39.82104093802121
                        ],
                        [
                          32.59272006279223,
                          39.820421085221184
                        ],
                        [
                          32.5938609142363,
                          39.82030430481003
                        ],
                        [
                          32.597234047698294,
                          39.82112630982696
                        ],
                        [
                          32.60171669393625,
                          39.82280614717018
                        ],
                        [
                          32.603171961482126,
                          39.823758307850646
                        ],
                        [
                          32.60690898074114,
                          39.8276480691215
                        ],
                        [
                          32.60770394896196,
                          39.82889218331606
                        ],
                        [
                          32.6114409766046,
                          39.836999494464855
                        ],
                        [
                          32.61352050433166,
                          39.84311255492774
                        ],
                        [
                          32.615856160139174,
                          39.84677314571711
                        ],
                        [
                          32.6167994123188,
                          39.847393023714815
                        ],
                        [
                          32.619894074478296,
                          39.84774338281671
                        ],
                        [
                          32.62102151581623,
                          39.84802631822154
                        ],
                        [
                          32.625764620937964,
                          39.85066736346956
                        ],
                        [
                          32.626537106715354,
                          39.8522888588582
                        ],
                        [
                          32.626294589754565,
                          39.852890727411335
                        ],
                        [
                          32.62601162383065,
                          39.854345960159286
                        ],
                        [
                          32.62576910563264,
                          39.8564120847607
                        ],
                        [
                          32.62606104158689,
                          39.857741583808966
                        ],
                        [
                          32.62671683797792,
                          39.859416919081724
                        ],
                        [
                          32.628648153066834,
                          39.86294289194339
                        ],
                        [
                          32.62942070345766,
                          39.86424094944772
                        ],
                        [
                          32.63107358651288,
                          39.86722782065579
                        ],
                        [
                          32.63173840609225,
                          39.86842707260445
                        ],
                        [
                          32.63260976254757,
                          39.87016078304862
                        ],
                        [
                          32.63301844550175,
                          39.871256758579584
                        ],
                        [
                          32.63317117298397,
                          39.872658174271685
                        ],
                        [
                          32.63317117298397,
                          39.87344418310335
                        ],
                        [
                          32.63301844550175,
                          39.87433346767645
                        ],
                        [
                          32.63278491258375,
                          39.87495780022951
                        ],
                        [
                          32.632097677669975,
                          39.87605374374004
                        ],
                        [
                          32.63043135758129,
                          39.877580907466026
                        ],
                        [
                          32.62879191790645,
                          39.87844328086323
                        ],
                        [
                          32.627624113843986,
                          39.87889241990007
                        ],
                        [
                          32.62393648788925,
                          39.879826674255455
                        ],
                        [
                          32.61837590762258,
                          39.881201115451695
                        ],
                        [
                          32.61655687243992,
                          39.8817535654054
                        ],
                        [
                          32.615083594294745,
                          39.88233299149418
                        ],
                        [
                          32.61334092256356,
                          39.88362205998226
                        ],
                        [
                          32.61243360720663,
                          39.8846820853011
                        ],
                        [
                          32.61191702300815,
                          39.88551754750498
                        ],
                        [
                          32.6115083426089,
                          39.88685597326202
                        ],
                        [
                          32.61140500779811,
                          39.88794746080562
                        ],
                        [
                          32.61153525449589,
                          39.889029913997916
                        ],
                        [
                          32.612051840606505,
                          39.89044023766007
                        ],
                        [
                          32.61274352198174,
                          39.89145985443125
                        ],
                        [
                          32.6134621963567,
                          39.89232670941872
                        ],
                        [
                          32.614535627091534,
                          39.893355302050736
                        ],
                        [
                          32.61560016263083,
                          39.894231167427186
                        ],
                        [
                          32.617369792793646,
                          39.89531817421279
                        ],
                        [
                          32.61997946099661,
                          39.896795822715035
                        ],
                        [
                          32.621237049594214,
                          39.89772563984096
                        ],
                        [
                          32.62218482363074,
                          39.898668856777796
                        ],
                        [
                          32.623069629107036,
                          39.89989952345957
                        ],
                        [
                          32.62584991634739,
                          39.90508729397328
                        ],
                        [
                          32.62856285997474,
                          39.909273450667776
                        ],
                        [
                          32.6310691020492,
                          39.91265562599786
                        ],
                        [
                          32.631599129807356,
                          39.91375155190053
                        ],
                        [
                          32.63184620494503,
                          39.915723365901364
                        ],
                        [
                          32.63162163824759,
                          39.91679682856963
                        ],
                        [
                          32.63132066291178,
                          39.91766820880866
                        ],
                        [
                          32.63087152673441,
                          39.918499143813335
                        ],
                        [
                          32.630440326564006,
                          39.91900222300809
                        ],
                        [
                          32.62969917549177,
                          39.91980625454226
                        ],
                        [
                          32.62731864219674,
                          39.91644650302827
                        ],
                        [
                          32.61909005775289,
                          39.91575481446303
                        ],
                        [
                          32.616475968185554,
                          39.917174161355796
                        ],
                        [
                          32.612469489399146,
                          39.91520686398642
                        ],
                        [
                          32.60802733434699,
                          39.91256578481774
                        ],
                        [
                          32.601864895801775,
                          39.908685053034795
                        ],
                        [
                          32.60135283071207,
                          39.90871200827332
                        ],
                        [
                          32.59737337040718,
                          39.9119908671283
                        ],
                        [
                          32.59461103617561,
                          39.91384590291407
                        ],
                        [
                          32.59330394840819,
                          39.91162707908697
                        ],
                        [
                          32.59476373428153,
                          39.908595207182124
                        ],
                        [
                          32.5946963573485,
                          39.90411263366154
                        ],
                        [
                          32.59711284110209,
                          39.901103272417515
                        ],
                        [
                          32.59673101782719,
                          39.89992199616241
                        ],
                        [
                          32.59266165679479,
                          39.89257381379454
                        ],
                        [
                          32.58957592696952,
                          39.89114099915455
                        ],
                        [
                          32.58944565256752,
                          39.89102871493987
                        ],
                        [
                          32.58931995055508,
                          39.890911895520794
                        ],
                        [
                          32.589203134683764,
                          39.89079066172102
                        ],
                        [
                          32.58909537753325,
                          39.890664888914905
                        ],
                        [
                          32.58899202028893,
                          39.89053463519685
                        ],
                        [
                          32.58889772181143,
                          39.890399842491014
                        ],
                        [
                          32.588812395850496,
                          39.89026511202843
                        ],
                        [
                          32.588731556123854,
                          39.89012587354429
                        ],
                        [
                          32.588664175257485,
                          39.889986623229
                        ],
                        [
                          32.58860128065758,
                          39.889842935294816
                        ],
                        [
                          32.588547358645016,
                          39.889694665236895
                        ],
                        [
                          32.58850249550912,
                          39.889550934201075
                        ],
                        [
                          32.58846651871108,
                          39.88939821483253
                        ],
                        [
                          32.58843960081082,
                          39.88925003456701
                        ],
                        [
                          32.588421655540095,
                          39.889101776068046
                        ],
                        [
                          32.58841259662821,
                          39.888949103437604
                        ],
                        [
                          32.588313811299436,
                          39.8859667006784
                        ],
                        [
                          32.588304838653535,
                          39.88576902292926
                        ],
                        [
                          32.58828240703539,
                          39.88557142573147
                        ],
                        [
                          32.58825540281172,
                          39.885373788205904
                        ],
                        [
                          32.58821502587624,
                          39.88517613361479
                        ],
                        [
                          32.58817007632055,
                          39.88498301309727
                        ],
                        [
                          32.588111667751626,
                          39.884789902566105
                        ],
                        [
                          32.58804877281552,
                          39.88459672443408
                        ],
                        [
                          32.58797241882932,
                          39.88440813068987
                        ],
                        [
                          32.58789157844574,
                          39.88421946928122
                        ],
                        [
                          32.58779727896432,
                          39.8840308176247
                        ],
                        [
                          32.58769849304748,
                          39.88385110660077
                        ],
                        [
                          32.58696635273368,
                          39.88257555213177
                        ],
                        [
                          32.58552906149378,
                          39.87888347577789
                        ],
                        [
                          32.585439246304944,
                          39.8786723429205
                        ],
                        [
                          32.585344858308666,
                          39.878465744029455
                        ],
                        [
                          32.58524158359246,
                          39.87825912340486
                        ],
                        [
                          32.58512476311245,
                          39.87805704315255
                        ],
                        [
                          32.58500354231233,
                          39.87785486744944
                        ],
                        [
                          32.58487326214807,
                          39.87765722883055
                        ],
                        [
                          32.58473400886384,
                          39.87746410014083
                        ],
                        [
                          32.58459026890783,
                          39.87727097342622
                        ],
                        [
                          32.5844330692794,
                          39.87708686451706
                        ],
                        [
                          32.58281610796799,
                          39.87519585887714
                        ],
                        [
                          32.58263647279945,
                          39.87498922620094
                        ],
                        [
                          32.58244777788438,
                          39.874791635075546
                        ],
                        [
                          32.582259168905516,
                          39.8745985203122
                        ],
                        [
                          32.582057013520185,
                          39.874409874672914
                        ],
                        [
                          32.58185045741746,
                          39.87422120327389
                        ],
                        [
                          32.58163484139648,
                          39.8740415734245
                        ],
                        [
                          32.581414738304005,
                          39.87386187450104
                        ],
                        [
                          32.581190148111396,
                          39.87369118711017
                        ],
                        [
                          32.580956584147565,
                          39.87352500902738
                        ],
                        [
                          32.580718533004124,
                          39.873363337364815
                        ],
                        [
                          32.5804715079872,
                          39.87320610456137
                        ],
                        [
                          32.58022448238034,
                          39.873057880552984
                        ],
                        [
                          32.5799684828143,
                          39.87290966058198
                        ],
                        [
                          32.57970799591869,
                          39.87277038186479
                        ],
                        [
                          32.57944293537679,
                          39.87263570711182
                        ],
                        [
                          32.57916898700018,
                          39.87250544401793
                        ],
                        [
                          32.57889495161485,
                          39.87238414664079
                        ],
                        [
                          32.56748188960518,
                          39.86744792450033
                        ],
                        [
                          32.56736513536719,
                          39.86739400152454
                        ],
                        [
                          32.567252781940724,
                          39.867335597377895
                        ],
                        [
                          32.5671450019263,
                          39.86726822219815
                        ],
                        [
                          32.567041709045014,
                          39.867196409118684
                        ],
                        [
                          32.56694739055966,
                          39.86711550931898
                        ],
                        [
                          32.5668575592417,
                          39.86703467766961
                        ],
                        [
                          32.566776702359576,
                          39.86694933577738
                        ],
                        [
                          32.56670033267442,
                          39.86685948559003
                        ],
                        [
                          32.56663293745917,
                          39.866765195582026
                        ],
                        [
                          32.566579090290226,
                          39.86666636631995
                        ],
                        [
                          32.56652515679969,
                          39.86656756391267
                        ],
                        [
                          32.5664847713836,
                          39.86646872839765
                        ],
                        [
                          32.56645327419985,
                          39.866360974128526
                        ],
                        [
                          32.566430837843946,
                          39.86625762441941
                        ],
                        [
                          32.56641737602807,
                          39.86614983498181
                        ],
                        [
                          32.56641288875572,
                          39.86604204155187
                        ],
                        [
                          32.56641737602807,
                          39.8659387503028
                        ],
                        [
                          32.566430837843946,
                          39.86583094895752
                        ],
                        [
                          32.566448786929065,
                          39.865727651726935
                        ],
                        [
                          32.56648028411417,
                          39.865619815411435
                        ],
                        [
                          32.56652515679969,
                          39.86552101277541
                        ],
                        [
                          32.56725726917669,
                          39.86384565266102
                        ],
                        [
                          32.568317286931126,
                          39.862300558360964
                        ],
                        [
                          32.5684206648322,
                          39.862138865950065
                        ],
                        [
                          32.56851946915706,
                          39.861977131815
                        ],
                        [
                          32.56860481185611,
                          39.861810967027445
                        ],
                        [
                          32.568685667310945,
                          39.861640297400314
                        ],
                        [
                          32.56875297489862,
                          39.861469660152736
                        ],
                        [
                          32.56881588156601,
                          39.86129892688799
                        ],
                        [
                          32.56886532669751,
                          39.86112376285009
                        ],
                        [
                          32.568910198349634,
                          39.86094412096576
                        ],
                        [
                          32.568941608494555,
                          39.86076892025561
                        ],
                        [
                          32.568964130598104,
                          39.86058925966876
                        ],
                        [
                          32.56898207924416,
                          39.86040962758455
                        ],
                        [
                          32.56898656640519,
                          39.86022993014007
                        ],
                        [
                          32.56898207924416,
                          39.86005474235693
                        ],
                        [
                          32.56896861775991,
                          39.85987512164359
                        ],
                        [
                          32.56894618194893,
                          39.859695433613126
                        ],
                        [
                          32.568910198349634,
                          39.85951577757139
                        ],
                        [
                          32.56886981386361,
                          39.8593406021491
                        ],
                        [
                          32.568820368734244,
                          39.859165456839264
                        ],
                        [
                          32.56876194924033,
                          39.85899475063602
                        ],
                        [
                          32.56869015448481,
                          39.858824092438496
                        ],
                        [
                          32.56861378621066,
                          39.858653392024216
                        ],
                        [
                          32.56852395633813,
                          39.85848720280868
                        ],
                        [
                          32.56842963920272,
                          39.85832552124209
                        ],
                        [
                          32.56832626131061,
                          39.858163799134864
                        ],
                        [
                          32.566817173955215,
                          39.855935994538775
                        ],
                        [
                          32.56669135815405,
                          39.85576081862138
                        ],
                        [
                          32.566561141227695,
                          39.8555946299645
                        ],
                        [
                          32.56642186330023,
                          39.855423963711516
                        ],
                        [
                          32.566273610628905,
                          39.855262242963384
                        ],
                        [
                          32.56612095675432,
                          39.85510507299689
                        ],
                        [
                          32.56595924177688,
                          39.85495236873332
                        ],
                        [
                          32.56578855194836,
                          39.85480410302767
                        ],
                        [
                          32.56561337453158,
                          39.854655908210596
                        ],
                        [
                          32.56542922218881,
                          39.85451665888119
                        ],
                        [
                          32.56524058219554,
                          39.85438191698927
                        ],
                        [
                          32.565047454527225,
                          39.85425611914835
                        ],
                        [
                          32.564845351818526,
                          39.8541303936035
                        ],
                        [
                          32.55682789033651,
                          39.84940077499528
                        ]
                      ]
                    ]
                  },
                  "type": "Feature",
                  "id": "0000b31af7a736ca4772",
                  "properties": {
                    "TIP": "Mahalle",
                    "IL_ID": 6,
                    "TIPKOD": 7,
                    "ILCE_ID": 1922,
                    "Nufus": 3322,
                    "ID": 14340,
                    "ADI": "Yapracık Mh."
                  }
                },
                {
                  "geometry": {
                    "type": "Polygon",
                    "coordinates": [
                      [
                        [
                          32.70906983666182,
                          39.824512907114375
                        ],
                        [
                          32.70967624230557,
                          39.82381669444328
                        ],
                        [
                          32.71090239955388,
                          39.819715954166085
                        ],
                        [
                          32.710439737829354,
                          39.81901074247697
                        ],
                        [
                          32.71090688052887,
                          39.8162888223974
                        ],
                        [
                          32.71085302264344,
                          39.812852759865535
                        ],
                        [
                          32.71080812668846,
                          39.811357054720645
                        ],
                        [
                          32.710722729529635,
                          39.80966375054995
                        ],
                        [
                          32.711046135345875,
                          39.80845102148291
                        ],
                        [
                          32.711418916799644,
                          39.80488477104796
                        ],
                        [
                          32.71137850204755,
                          39.801385833782014
                        ],
                        [
                          32.7119804130664,
                          39.79885702861927
                        ],
                        [
                          32.71265410110889,
                          39.7976533216378
                        ],
                        [
                          32.71323799495476,
                          39.79630586887806
                        ],
                        [
                          32.71529969260816,
                          39.79549730382372
                        ],
                        [
                          32.71591054204015,
                          39.794374445301806
                        ],
                        [
                          32.71692560044692,
                          39.79415883862548
                        ],
                        [
                          32.71816976566395,
                          39.79370522392244
                        ],
                        [
                          32.72299376763358,
                          39.79328301637872
                        ],
                        [
                          32.72717092138591,
                          39.79259578262461
                        ],
                        [
                          32.731828649861214,
                          39.792020886582314
                        ],
                        [
                          32.732780915956916,
                          39.78981548747712
                        ],
                        [
                          32.73713324381736,
                          39.78975262668063
                        ],
                        [
                          32.73728142249721,
                          39.79027362915753
                        ],
                        [
                          32.739428438480466,
                          39.790233207129205
                        ],
                        [
                          32.741054392648174,
                          39.78988737291225
                        ],
                        [
                          32.741216090709536,
                          39.79009393439276
                        ],
                        [
                          32.744117652910774,
                          39.78967622506762
                        ],
                        [
                          32.744086210143436,
                          39.78929449820603
                        ],
                        [
                          32.747472841927255,
                          39.7888183931104
                        ],
                        [
                          32.747854621305024,
                          39.78892618062786
                        ],
                        [
                          32.74905835404484,
                          39.789932277292266
                        ],
                        [
                          32.74966917362573,
                          39.7908620679529
                        ],
                        [
                          32.74972757643426,
                          39.791221370794005
                        ],
                        [
                          32.75064384148064,
                          39.794706851026206
                        ],
                        [
                          32.75260219362922,
                          39.7983405255398
                        ],
                        [
                          32.75363075487871,
                          39.800186546167964
                        ],
                        [
                          32.75187010941153,
                          39.80053688153623
                        ],
                        [
                          32.749736621113996,
                          39.8008647606535
                        ],
                        [
                          32.75116489517547,
                          39.8032722926969
                        ],
                        [
                          32.75135801772255,
                          39.80669485776069
                        ],
                        [
                          32.75276387336161,
                          39.80981652852112
                        ],
                        [
                          32.75336579863228,
                          39.812691103168014
                        ],
                        [
                          32.75285371446581,
                          39.81412388769077
                        ],
                        [
                          32.75374755591789,
                          39.816854792501886
                        ],
                        [
                          32.752260830623214,
                          39.819001762972206
                        ],
                        [
                          32.7524539510917,
                          39.81994503484322
                        ],
                        [
                          32.752642592052055,
                          39.82222223474213
                        ],
                        [
                          32.753177159011905,
                          39.82236143493494
                        ],
                        [
                          32.75297947465109,
                          39.82286904274753
                        ],
                        [
                          32.75206770978843,
                          39.82292293224018
                        ],
                        [
                          32.75218899178276,
                          39.8234080025868
                        ],
                        [
                          32.75172634499049,
                          39.823376571738166
                        ],
                        [
                          32.75173530335459,
                          39.82399639231414
                        ],
                        [
                          32.751308660389206,
                          39.82559535943011
                        ],
                        [
                          32.75047319990764,
                          39.828761942516465
                        ],
                        [
                          32.74985781974502,
                          39.83160512823141
                        ],
                        [
                          32.74766149211451,
                          39.830729258729484
                        ],
                        [
                          32.7440502878467,
                          39.82929192814674
                        ],
                        [
                          32.74361904700803,
                          39.82917517149144
                        ],
                        [
                          32.74035814905095,
                          39.8286721406218
                        ],
                        [
                          32.73982368711648,
                          39.82862719319759
                        ],
                        [
                          32.7390151832002,
                          39.82861824507076
                        ],
                        [
                          32.73826060247619,
                          39.82871255979137
                        ],
                        [
                          32.737568905752,
                          39.82885178796048
                        ],
                        [
                          32.73590249094844,
                          39.829318939073104
                        ],
                        [
                          32.73477510621724,
                          39.829534484615515
                        ],
                        [
                          32.733908236579445,
                          39.8295120614996
                        ],
                        [
                          32.733742046955086,
                          39.83040140537566
                        ],
                        [
                          32.733279488715844,
                          39.831106575086615
                        ],
                        [
                          32.73051710479409,
                          39.833707204484575
                        ],
                        [
                          32.7296726858866,
                          39.83423719057448
                        ],
                        [
                          32.71816976566395,
                          39.83377902360448
                        ],
                        [
                          32.710893437603325,
                          39.83173087034177
                        ],
                        [
                          32.71440585880662,
                          39.82929648073524
                        ],
                        [
                          32.714176733467795,
                          39.826448807813385
                        ],
                        [
                          32.71393425125966,
                          39.82569422602849
                        ],
                        [
                          32.712735015759215,
                          39.82552800257568
                        ],
                        [
                          32.711468379608796,
                          39.82484975784978
                        ],
                        [
                          32.70906983666182,
                          39.824512907114375
                        ]
                      ]
                    ]
                  },
                  "type": "Feature",
                  "id": "00006183f326a96593b5",
                  "properties": {
                    "TIP": "Mahalle",
                    "IL_ID": 6,
                    "TIPKOD": 7,
                    "ILCE_ID": 1744,
                    "Nufus": 2965,
                    "ID": 14388,
                    "ADI": "Kızılcaşar Mh."
                  }
                },
                {
                  "geometry": {
                    "type": "Polygon",
                    "coordinates": [
                      [
                        [
                          32.749736621113996,
                          39.8008647606535
                        ],
                        [
                          32.75187010941153,
                          39.80053688153623
                        ],
                        [
                          32.75363075487871,
                          39.800186546167964
                        ],
                        [
                          32.753796998205324,
                          39.80019554223934
                        ],
                        [
                          32.75396315512424,
                          39.800208999765964
                        ],
                        [
                          32.754201235379334,
                          39.80020899328301
                        ],
                        [
                          32.75458746858858,
                          39.80023595125218
                        ],
                        [
                          32.754901863406246,
                          39.80024945578611
                        ],
                        [
                          32.755189383077116,
                          39.800191007441
                        ],
                        [
                          32.755584656697366,
                          39.800002384547064
                        ],
                        [
                          32.75607415990523,
                          39.79972840878899
                        ],
                        [
                          32.75647390906304,
                          39.79950387526086
                        ],
                        [
                          32.757062375554646,
                          39.799207380108875
                        ],
                        [
                          32.757619313921644,
                          39.798960345375725
                        ],
                        [
                          32.757888824140394,
                          39.79883459349147
                        ],
                        [
                          32.75806393218699,
                          39.798740260374636
                        ],
                        [
                          32.75820768765769,
                          39.79864141785724
                        ],
                        [
                          32.758373923509005,
                          39.798502167638155
                        ],
                        [
                          32.75865686836205,
                          39.79825517539767
                        ],
                        [
                          32.758845497827004,
                          39.79809799815466
                        ],
                        [
                          32.75901164650443,
                          39.79798122830143
                        ],
                        [
                          32.759088045520116,
                          39.797940793173616
                        ],
                        [
                          32.7591778810424,
                          39.79794073311611
                        ],
                        [
                          32.75952817852941,
                          39.79750510884653
                        ],
                        [
                          32.75983368656539,
                          39.79707387095765
                        ],
                        [
                          32.75999535481098,
                          39.79686729101755
                        ],
                        [
                          32.76021989839986,
                          39.79661125001412
                        ],
                        [
                          32.76060619489892,
                          39.79623848813391
                        ],
                        [
                          32.7608936984539,
                          39.79595548189496
                        ],
                        [
                          32.761167678766874,
                          39.79568597504613
                        ],
                        [
                          32.76147309575001,
                          39.79535808955983
                        ],
                        [
                          32.761756031984774,
                          39.795048156970026
                        ],
                        [
                          32.762056968474056,
                          39.794693318422816
                        ],
                        [
                          32.7622680713587,
                          39.79446425917037
                        ],
                        [
                          32.762384862484865,
                          39.7943160797559
                        ],
                        [
                          32.762519568307525,
                          39.79417236707058
                        ],
                        [
                          32.76273523505883,
                          39.79393425937583
                        ],
                        [
                          32.76294185784734,
                          39.7937231575418
                        ],
                        [
                          32.76318887445262,
                          39.79346266737148
                        ],
                        [
                          32.76344484779144,
                          39.79322010736958
                        ],
                        [
                          32.763920963378496,
                          39.79277997202888
                        ],
                        [
                          32.76424437274945,
                          39.79248797994475
                        ],
                        [
                          32.764527301275905,
                          39.79220950197009
                        ],
                        [
                          32.7647160059834,
                          39.79199843365579
                        ],
                        [
                          32.76486870926265,
                          39.79185465118481
                        ],
                        [
                          32.76518307231363,
                          39.79150885076583
                        ],
                        [
                          32.766085934818186,
                          39.790614963161936
                        ],
                        [
                          32.76635542260724,
                          39.79042182507633
                        ],
                        [
                          32.76747384528087,
                          39.790552139439065
                        ],
                        [
                          32.76776124329887,
                          39.79065545744475
                        ],
                        [
                          32.768547298996566,
                          39.791068622376095
                        ],
                        [
                          32.76891565016699,
                          39.791477361953525
                        ],
                        [
                          32.7692165654705,
                          39.79156723987468
                        ],
                        [
                          32.7695533931925,
                          39.791580706423936
                        ],
                        [
                          32.76983639306984,
                          39.79167055028892
                        ],
                        [
                          32.77002052342516,
                          39.79178732583697
                        ],
                        [
                          32.76997117514468,
                          39.791939998137806
                        ],
                        [
                          32.770074436178895,
                          39.7920298606151
                        ],
                        [
                          32.770290000785465,
                          39.79202983078728
                        ],
                        [
                          32.77082903948489,
                          39.791953515569105
                        ],
                        [
                          32.77092782131081,
                          39.791850165067444
                        ],
                        [
                          32.77107603693056,
                          39.79164803418358
                        ],
                        [
                          32.77152972523564,
                          39.79147738073305
                        ],
                        [
                          32.77194741294398,
                          39.791261809488894
                        ],
                        [
                          32.773038904637104,
                          39.79078568844279
                        ],
                        [
                          32.77369014255837,
                          39.79055212991834
                        ],
                        [
                          32.77457949498284,
                          39.790049041581604
                        ],
                        [
                          32.775868598665916,
                          39.789546008588815
                        ],
                        [
                          32.78123152154608,
                          39.7938085081235
                        ],
                        [
                          32.780261366387236,
                          39.796216016161296
                        ],
                        [
                          32.783962390521786,
                          39.79535361493973
                        ],
                        [
                          32.78811706617441,
                          39.797424243241096
                        ],
                        [
                          32.78847191369502,
                          39.798803144413085
                        ],
                        [
                          32.78817096932347,
                          39.80006527082641
                        ],
                        [
                          32.78820248456988,
                          39.80025838237243
                        ],
                        [
                          32.78836867136311,
                          39.80245930290344
                        ],
                        [
                          32.78863810004704,
                          39.80455685522891
                        ],
                        [
                          32.78968463727687,
                          39.80635352422486
                        ],
                        [
                          32.78909179601309,
                          39.80799289115684
                        ],
                        [
                          32.786594419548265,
                          39.81040037497574
                        ],
                        [
                          32.785974608085866,
                          39.812987512222385
                        ],
                        [
                          32.78506735847641,
                          39.81404302580922
                        ],
                        [
                          32.78171659564996,
                          39.81557469938063
                        ],
                        [
                          32.78367942999199,
                          39.81871427830147
                        ],
                        [
                          32.78701221752608,
                          39.818363977111645
                        ],
                        [
                          32.78530536589732,
                          39.82082532650094
                        ],
                        [
                          32.79666905397546,
                          39.82092415723824
                        ],
                        [
                          32.79585161698474,
                          39.826893469989926
                        ],
                        [
                          32.79589199821683,
                          39.82738753271713
                        ],
                        [
                          32.795977323965644,
                          39.827895129954044
                        ],
                        [
                          32.79590103878897,
                          39.82786360026332
                        ],
                        [
                          32.79370915001027,
                          39.82814207901006
                        ],
                        [
                          32.79382590499273,
                          39.82881584611361
                        ],
                        [
                          32.79389323708229,
                          39.829031475300404
                        ],
                        [
                          32.79392922787398,
                          39.8291886682067
                        ],
                        [
                          32.79386628703135,
                          39.829291965197044
                        ],
                        [
                          32.79362829968923,
                          39.82938630835344
                        ],
                        [
                          32.79320157424349,
                          39.829521051221484
                        ],
                        [
                          32.792792842598494,
                          39.829565965942614
                        ],
                        [
                          32.79260866742604,
                          39.82960189436957
                        ],
                        [
                          32.79239306408778,
                          39.82990732758054
                        ],
                        [
                          32.79222688388577,
                          39.83001063325496
                        ],
                        [
                          32.79182710314476,
                          39.83007802861449
                        ],
                        [
                          32.791683395230926,
                          39.83014537356687
                        ],
                        [
                          32.79156216035561,
                          39.83029809046317
                        ],
                        [
                          32.79140941109481,
                          39.83053612486273
                        ],
                        [
                          32.79127465746919,
                          39.83067089840622
                        ],
                        [
                          32.79073572728199,
                          39.830828103441924
                        ],
                        [
                          32.79040783865452,
                          39.83093587407627
                        ],
                        [
                          32.7902416552008,
                          39.83106611614518
                        ],
                        [
                          32.79012928747812,
                          39.83129972188722
                        ],
                        [
                          32.790075471474914,
                          39.83163209485512
                        ],
                        [
                          32.78998557715949,
                          39.831852177035636
                        ],
                        [
                          32.789792441881055,
                          39.83204532801795
                        ],
                        [
                          32.78941064774344,
                          39.83223397179186
                        ],
                        [
                          32.78897503558252,
                          39.832427076844155
                        ],
                        [
                          32.78886723010995,
                          39.83260226079273
                        ],
                        [
                          32.78872343189718,
                          39.832705571262885
                        ],
                        [
                          32.78840905557384,
                          39.83278640531606
                        ],
                        [
                          32.78805868541519,
                          39.83296156943357
                        ],
                        [
                          32.78777573630394,
                          39.83319513074575
                        ],
                        [
                          32.78762306745096,
                          39.83364877919042
                        ],
                        [
                          32.78719631674867,
                          39.83395870849017
                        ],
                        [
                          32.78682355422515,
                          39.834201239949984
                        ],
                        [
                          32.786257562218275,
                          39.83438542209449
                        ],
                        [
                          32.78583984724339,
                          39.83445277856939
                        ],
                        [
                          32.78479783420373,
                          39.83427311994315
                        ],
                        [
                          32.78398038768037,
                          39.83427311944595
                        ],
                        [
                          32.78311798436622,
                          39.83412037107524
                        ],
                        [
                          32.7822062313889,
                          39.833779051869264
                        ],
                        [
                          32.78173459320661,
                          39.833846444798546
                        ],
                        [
                          32.78148305768788,
                          39.83396319436576
                        ],
                        [
                          32.78114618339821,
                          39.83434950234543
                        ],
                        [
                          32.780935033606,
                          39.83470435232952
                        ],
                        [
                          32.78029279797516,
                          39.83531518813974
                        ],
                        [
                          32.78002773896445,
                          39.83546786911309
                        ],
                        [
                          32.77905757230634,
                          39.8364919820389
                        ],
                        [
                          32.777939190988356,
                          39.83748009854475
                        ],
                        [
                          32.7774720971553,
                          39.837560944822975
                        ],
                        [
                          32.777287894184845,
                          39.83764629757871
                        ],
                        [
                          32.777022913449365,
                          39.83807297354644
                        ],
                        [
                          32.774786093700826,
                          39.83868836266015
                        ],
                        [
                          32.77461092832884,
                          39.83843231796562
                        ],
                        [
                          32.77347906338774,
                          39.83725551493303
                        ],
                        [
                          32.77300747080482,
                          39.83675246686612
                        ],
                        [
                          32.77250435592509,
                          39.8362269637203
                        ],
                        [
                          32.77104908082289,
                          39.83485702237895
                        ],
                        [
                          32.7704742164414,
                          39.834313536081574
                        ],
                        [
                          32.77007891455332,
                          39.83402606988442
                        ],
                        [
                          32.76975104535048,
                          39.83384639911904
                        ],
                        [
                          32.768920128592455,
                          39.83347807887687
                        ],
                        [
                          32.76576700986774,
                          39.832157605988655
                        ],
                        [
                          32.76546608435519,
                          39.83223845218033
                        ],
                        [
                          32.76526394528111,
                          39.83231482642599
                        ],
                        [
                          32.76512019978117,
                          39.83239114542733
                        ],
                        [
                          32.76494501775282,
                          39.83254839740579
                        ],
                        [
                          32.76486423065874,
                          39.83267414803729
                        ],
                        [
                          32.76485518732332,
                          39.83279090413057
                        ],
                        [
                          32.7649226247481,
                          39.833356815915224
                        ],
                        [
                          32.76505284861424,
                          39.834362979840265
                        ],
                        [
                          32.76511572118834,
                          39.834866025319975
                        ],
                        [
                          32.76510676400208,
                          39.83516691363866
                        ],
                        [
                          32.76495406108026,
                          39.83620901332459
                        ],
                        [
                          32.764248851380664,
                          39.83636621396977
                        ],
                        [
                          32.76354372291943,
                          39.836500943083486
                        ],
                        [
                          32.76291489958319,
                          39.83650092946893
                        ],
                        [
                          32.762348946643975,
                          39.83641108561303
                        ],
                        [
                          32.7611811150663,
                          39.83602031960049
                        ],
                        [
                          32.75782594709982,
                          39.8347672096278
                        ],
                        [
                          32.75514442049792,
                          39.83376556273185
                        ],
                        [
                          32.74985781974502,
                          39.83160512823141
                        ],
                        [
                          32.75047319990764,
                          39.828761942516465
                        ],
                        [
                          32.751308660389206,
                          39.82559535943011
                        ],
                        [
                          32.75173530335459,
                          39.82399639231414
                        ],
                        [
                          32.75172634499049,
                          39.823376571738166
                        ],
                        [
                          32.75218899178276,
                          39.8234080025868
                        ],
                        [
                          32.75206770978843,
                          39.82292293224018
                        ],
                        [
                          32.75297947465109,
                          39.82286904274753
                        ],
                        [
                          32.753177159011905,
                          39.82236143493494
                        ],
                        [
                          32.752642592052055,
                          39.82222223474213
                        ],
                        [
                          32.7524539510917,
                          39.81994503484322
                        ],
                        [
                          32.752260830623214,
                          39.819001762972206
                        ],
                        [
                          32.75374755591789,
                          39.816854792501886
                        ],
                        [
                          32.75285371446581,
                          39.81412388769077
                        ],
                        [
                          32.75336579863228,
                          39.812691103168014
                        ],
                        [
                          32.75276387336161,
                          39.80981652852112
                        ],
                        [
                          32.75135801772255,
                          39.80669485776069
                        ],
                        [
                          32.75116489517547,
                          39.8032722926969
                        ],
                        [
                          32.749736621113996,
                          39.8008647606535
                        ]
                      ]
                    ]
                  },
                  "type": "Feature",
                  "id": "0000111e3ac6575739fc",
                  "properties": {
                    "TIP": "Mahalle",
                    "IL_ID": 6,
                    "TIPKOD": 7,
                    "ILCE_ID": 1744,
                    "Nufus": 1102,
                    "ID": 14401,
                    "ADI": "Taşpınar Mh."
                  }
                },
                {
                  "geometry": {
                    "type": "Polygon",
                    "coordinates": [
                      [
                        [
                          32.72475896142121,
                          39.84180997219043
                        ],
                        [
                          32.72519010969514,
                          39.840907203464134
                        ],
                        [
                          32.72837015967957,
                          39.83683330928795
                        ],
                        [
                          32.72883730652469,
                          39.83614158893436
                        ],
                        [
                          32.72922802988084,
                          39.83549485075655
                        ],
                        [
                          32.7296726858866,
                          39.83431353502207
                        ],
                        [
                          32.7296726858866,
                          39.83423719057448
                        ],
                        [
                          32.73051710479409,
                          39.833707204484575
                        ],
                        [
                          32.733279488715844,
                          39.831106575086615
                        ],
                        [
                          32.733742046955086,
                          39.83040140537566
                        ],
                        [
                          32.733908236579445,
                          39.8295120614996
                        ],
                        [
                          32.73477510621724,
                          39.829534484615515
                        ],
                        [
                          32.73590249094844,
                          39.829318939073104
                        ],
                        [
                          32.737568905752,
                          39.82885178796048
                        ],
                        [
                          32.73826060247619,
                          39.82871255979137
                        ],
                        [
                          32.7390151832002,
                          39.82861824507076
                        ],
                        [
                          32.73982368711648,
                          39.82862719319759
                        ],
                        [
                          32.74035814905095,
                          39.8286721406218
                        ],
                        [
                          32.74361904700803,
                          39.82917517149144
                        ],
                        [
                          32.7440502878467,
                          39.82929192814674
                        ],
                        [
                          32.74766149211451,
                          39.830729258729484
                        ],
                        [
                          32.74985781974502,
                          39.83160512823141
                        ],
                        [
                          32.75514442049792,
                          39.83376556273185
                        ],
                        [
                          32.75782594709982,
                          39.8347672096278
                        ],
                        [
                          32.7611811150663,
                          39.83602031960049
                        ],
                        [
                          32.762348946643975,
                          39.83641108561303
                        ],
                        [
                          32.76291489958319,
                          39.83650092946893
                        ],
                        [
                          32.76354372291943,
                          39.836500943083486
                        ],
                        [
                          32.764248851380664,
                          39.83636621396977
                        ],
                        [
                          32.76495406108026,
                          39.83620901332459
                        ],
                        [
                          32.76510676400208,
                          39.83516691363866
                        ],
                        [
                          32.76511572118834,
                          39.834866025319975
                        ],
                        [
                          32.76505284861424,
                          39.834362979840265
                        ],
                        [
                          32.7649226247481,
                          39.833356815915224
                        ],
                        [
                          32.76485518732332,
                          39.83279090413057
                        ],
                        [
                          32.76486423065874,
                          39.83267414803729
                        ],
                        [
                          32.76494501775282,
                          39.83254839740579
                        ],
                        [
                          32.76512019978117,
                          39.83239114542733
                        ],
                        [
                          32.76526394528111,
                          39.83231482642599
                        ],
                        [
                          32.76546608435519,
                          39.83223845218033
                        ],
                        [
                          32.76576700986774,
                          39.832157605988655
                        ],
                        [
                          32.768920128592455,
                          39.83347807887687
                        ],
                        [
                          32.76975104535048,
                          39.83384639911904
                        ],
                        [
                          32.77007891455332,
                          39.83402606988442
                        ],
                        [
                          32.7704742164414,
                          39.834313536081574
                        ],
                        [
                          32.77104908082289,
                          39.83485702237895
                        ],
                        [
                          32.77250435592509,
                          39.8362269637203
                        ],
                        [
                          32.77300747080482,
                          39.83675246686612
                        ],
                        [
                          32.77347906338774,
                          39.83725551493303
                        ],
                        [
                          32.77461092832884,
                          39.83843231796562
                        ],
                        [
                          32.774786093700826,
                          39.83868836266015
                        ],
                        [
                          32.777022913449365,
                          39.83807297354644
                        ],
                        [
                          32.777287894184845,
                          39.83764629757871
                        ],
                        [
                          32.7774720971553,
                          39.837560944822975
                        ],
                        [
                          32.777939190988356,
                          39.83748009854475
                        ],
                        [
                          32.77905757230634,
                          39.8364919820389
                        ],
                        [
                          32.78002773896445,
                          39.83546786911309
                        ],
                        [
                          32.78029279797516,
                          39.83531518813974
                        ],
                        [
                          32.780935033606,
                          39.83470435232952
                        ],
                        [
                          32.78114618339821,
                          39.83434950234543
                        ],
                        [
                          32.78148305768788,
                          39.83396319436576
                        ],
                        [
                          32.78173459320661,
                          39.833846444798546
                        ],
                        [
                          32.7822062313889,
                          39.833779051869264
                        ],
                        [
                          32.78311798436622,
                          39.83412037107524
                        ],
                        [
                          32.78398038768037,
                          39.83427311944595
                        ],
                        [
                          32.78479783420373,
                          39.83427311994315
                        ],
                        [
                          32.78583984724339,
                          39.83445277856939
                        ],
                        [
                          32.786257562218275,
                          39.83438542209449
                        ],
                        [
                          32.78682355422515,
                          39.834201239949984
                        ],
                        [
                          32.78719631674867,
                          39.83395870849017
                        ],
                        [
                          32.78762306745096,
                          39.83364877919042
                        ],
                        [
                          32.78777573630394,
                          39.83319513074575
                        ],
                        [
                          32.78805868541519,
                          39.83296156943357
                        ],
                        [
                          32.78840905557384,
                          39.83278640531606
                        ],
                        [
                          32.78872343189718,
                          39.832705571262885
                        ],
                        [
                          32.78886723010995,
                          39.83260226079273
                        ],
                        [
                          32.78897503558252,
                          39.832427076844155
                        ],
                        [
                          32.78941064774344,
                          39.83223397179186
                        ],
                        [
                          32.789792441881055,
                          39.83204532801795
                        ],
                        [
                          32.78998557715949,
                          39.831852177035636
                        ],
                        [
                          32.790075471474914,
                          39.83163209485512
                        ],
                        [
                          32.79012928747812,
                          39.83129972188722
                        ],
                        [
                          32.7902416552008,
                          39.83106611614518
                        ],
                        [
                          32.79040783865452,
                          39.83093587407627
                        ],
                        [
                          32.79073572728199,
                          39.830828103441924
                        ],
                        [
                          32.79127465746919,
                          39.83067089840622
                        ],
                        [
                          32.79140941109481,
                          39.83053612486273
                        ],
                        [
                          32.79156216035561,
                          39.83029809046317
                        ],
                        [
                          32.791683395230926,
                          39.83014537356687
                        ],
                        [
                          32.79182710314476,
                          39.83007802861449
                        ],
                        [
                          32.79222688388577,
                          39.83001063325496
                        ],
                        [
                          32.79239306408778,
                          39.82990732758054
                        ],
                        [
                          32.79260866742604,
                          39.82960189436957
                        ],
                        [
                          32.792792842598494,
                          39.829565965942614
                        ],
                        [
                          32.79320157424349,
                          39.829521051221484
                        ],
                        [
                          32.79362829968923,
                          39.82938630835344
                        ],
                        [
                          32.79386628703135,
                          39.829291965197044
                        ],
                        [
                          32.79392922787398,
                          39.8291886682067
                        ],
                        [
                          32.79389323708229,
                          39.829031475300404
                        ],
                        [
                          32.79382590499273,
                          39.82881584611361
                        ],
                        [
                          32.79370915001027,
                          39.82814207901006
                        ],
                        [
                          32.79590103878897,
                          39.82786360026332
                        ],
                        [
                          32.795977323965644,
                          39.827895129954044
                        ],
                        [
                          32.7961839652395,
                          39.82848349360752
                        ],
                        [
                          32.79643098710976,
                          39.82896859823524
                        ],
                        [
                          32.79670495768211,
                          39.8295659918416
                        ],
                        [
                          32.79695654157211,
                          39.830019603629026
                        ],
                        [
                          32.797140708849476,
                          39.83039238215996
                        ],
                        [
                          32.797275454682044,
                          39.83073826975197
                        ],
                        [
                          32.79739220555896,
                          39.831214348684085
                        ],
                        [
                          32.79744610377979,
                          39.83158719230071
                        ],
                        [
                          32.79744610377979,
                          39.83214408678105
                        ],
                        [
                          32.797257459881536,
                          39.83287625523373
                        ],
                        [
                          32.79700596283786,
                          39.8337745568871
                        ],
                        [
                          32.79688912541639,
                          39.83413841684364
                        ],
                        [
                          32.79688912541639,
                          39.83458754559308
                        ],
                        [
                          32.79692511514494,
                          39.83491090776632
                        ],
                        [
                          32.79700596283786,
                          39.83528369741631
                        ],
                        [
                          32.79719013002547,
                          39.83575982081067
                        ],
                        [
                          32.79750895630145,
                          39.83626287968136
                        ],
                        [
                          32.7977605381967,
                          39.836545883066194
                        ],
                        [
                          32.79875316991285,
                          39.837354347550566
                        ],
                        [
                          32.80115614391381,
                          39.83915997975961
                        ],
                        [
                          32.80337499142842,
                          39.8408263375184
                        ],
                        [
                          32.806011510075855,
                          39.84282059181321
                        ],
                        [
                          32.80556236661558,
                          39.84315743569572
                        ],
                        [
                          32.805342314003845,
                          39.84326975297063
                        ],
                        [
                          32.80510874433562,
                          39.84333713445719
                        ],
                        [
                          32.80489316757727,
                          39.84337307436233
                        ],
                        [
                          32.804655120024925,
                          39.843368534556696
                        ],
                        [
                          32.80435413758139,
                          39.843310186999105
                        ],
                        [
                          32.803172841725925,
                          39.84300027142162
                        ],
                        [
                          32.802301475467615,
                          39.84279816977221
                        ],
                        [
                          32.801910774479616,
                          39.84273077439406
                        ],
                        [
                          32.801160620917194,
                          39.84279815046713
                        ],
                        [
                          32.7979222321859,
                          39.84362907390877
                        ],
                        [
                          32.79527215744863,
                          39.84419949337559
                        ],
                        [
                          32.79451308627761,
                          39.84436119069176
                        ],
                        [
                          32.793259952043634,
                          39.844760973554784
                        ],
                        [
                          32.79282874767731,
                          39.84485530669224
                        ],
                        [
                          32.79266704556739,
                          39.845147262861545
                        ],
                        [
                          32.79215507328937,
                          39.84551549203022
                        ],
                        [
                          32.79167891780912,
                          39.845937764206305
                        ],
                        [
                          32.791130948772825,
                          39.84648574024065
                        ],
                        [
                          32.79060992770015,
                          39.846988745844186
                        ],
                        [
                          32.79035393669366,
                          39.84724032662604
                        ],
                        [
                          32.78998557715949,
                          39.8475592308449
                        ],
                        [
                          32.789729584577834,
                          39.847676008455245
                        ],
                        [
                          32.78954092632849,
                          39.84772088753519
                        ],
                        [
                          32.78934331267886,
                          39.84773435880224
                        ],
                        [
                          32.78925798134998,
                          39.84773439784265
                        ],
                        [
                          32.7840836344758,
                          39.85232475718929
                        ],
                        [
                          32.7779167147303,
                          39.848152085871575
                        ],
                        [
                          32.78199956164987,
                          39.844778907707116
                        ],
                        [
                          32.78023441271642,
                          39.845290981180796
                        ],
                        [
                          32.78007269054129,
                          39.845308947956205
                        ],
                        [
                          32.77990649016755,
                          39.84529992113225
                        ],
                        [
                          32.77906205028487,
                          39.84521459088875
                        ],
                        [
                          32.77799757756647,
                          39.845075381271585
                        ],
                        [
                          32.77782241773145,
                          39.84503943838413
                        ],
                        [
                          32.77649286378779,
                          39.84468463936603
                        ],
                        [
                          32.77402704157473,
                          39.84611743378332
                        ],
                        [
                          32.76906834713952,
                          39.84684501070687
                        ],
                        [
                          32.767298667307145,
                          39.84778374349007
                        ],
                        [
                          32.76573109522113,
                          39.847698442645076
                        ],
                        [
                          32.76301816778316,
                          39.84980051337188
                        ],
                        [
                          32.760799299533225,
                          39.85121088557473
                        ],
                        [
                          32.760004312447336,
                          39.850555077567435
                        ],
                        [
                          32.753186117248354,
                          39.84960734487416
                        ],
                        [
                          32.751380499850754,
                          39.8495939035495
                        ],
                        [
                          32.75111097240066,
                          39.850811097049416
                        ],
                        [
                          32.74975453819149,
                          39.850829072420716
                        ],
                        [
                          32.74966021507988,
                          39.851579146880816
                        ],
                        [
                          32.75034295738389,
                          39.85336232632754
                        ],
                        [
                          32.748838265144066,
                          39.8540675283408
                        ],
                        [
                          32.749525492237446,
                          39.85522631162055
                        ],
                        [
                          32.74630949138571,
                          39.85521734307193
                        ],
                        [
                          32.743996361305506,
                          39.85512304351874
                        ],
                        [
                          32.742069459393264,
                          39.85483108619378
                        ],
                        [
                          32.739931458438114,
                          39.85401361008319
                        ],
                        [
                          32.73635168386822,
                          39.855145446856724
                        ],
                        [
                          32.73543537645787,
                          39.85477266608066
                        ],
                        [
                          32.73514797333993,
                          39.85422017606206
                        ],
                        [
                          32.73392624259299,
                          39.85342969848997
                        ],
                        [
                          32.734662849512894,
                          39.85263023013184
                        ],
                        [
                          32.734052026139615,
                          39.85128720989268
                        ],
                        [
                          32.732214967876104,
                          39.85221696481092
                        ],
                        [
                          32.73227786072398,
                          39.84996219298353
                        ],
                        [
                          32.73271802341921,
                          39.849611831580546
                        ],
                        [
                          32.73207117572614,
                          39.84908182665245
                        ],
                        [
                          32.73208470201851,
                          39.8479949175887
                        ],
                        [
                          32.72795694574857,
                          39.84677317596636
                        ],
                        [
                          32.72742241882355,
                          39.847716440426325
                        ],
                        [
                          32.72575153025739,
                          39.84618479604839
                        ],
                        [
                          32.72624565706455,
                          39.84568618347157
                        ],
                        [
                          32.72625013736642,
                          39.845016977495085
                        ],
                        [
                          32.72757965825642,
                          39.84499000888959
                        ],
                        [
                          32.726735215039824,
                          39.84330120557415
                        ],
                        [
                          32.72588180420056,
                          39.843337131479686
                        ],
                        [
                          32.72591325258125,
                          39.84262299970912
                        ],
                        [
                          32.72475896142121,
                          39.84180997219043
                        ]
                      ]
                    ]
                  },
                  "type": "Feature",
                  "id": "00006461d6a7c11fcac3",
                  "properties": {
                    "TIP": "Mahalle",
                    "IL_ID": 6,
                    "TIPKOD": 7,
                    "ILCE_ID": 1231,
                    "Nufus": 6332,
                    "ID": 14088,
                    "ADI": "Ahlatlıbel Mh."
                  }
                },
                {
                  "geometry": {
                    "type": "Polygon",
                    "coordinates": [
                      [
                        [
                          32.719014193565044,
                          39.882795653941095
                        ],
                        [
                          32.72059523678594,
                          39.882512622987576
                        ],
                        [
                          32.72396843202764,
                          39.88147056714483
                        ],
                        [
                          32.72473199305338,
                          39.88111129912724
                        ],
                        [
                          32.72512273212731,
                          39.88043754609448
                        ],
                        [
                          32.72510481072071,
                          39.879988347858635
                        ],
                        [
                          32.724390622874196,
                          39.87866334700436
                        ],
                        [
                          32.72452089855432,
                          39.87799408597783
                        ],
                        [
                          32.72454778081682,
                          39.8778459361561
                        ],
                        [
                          32.72175405552375,
                          39.87910356819462
                        ],
                        [
                          32.720851230963234,
                          39.8779402162498
                        ],
                        [
                          32.72174061402556,
                          39.87736532745298
                        ],
                        [
                          32.72134081480876,
                          39.87652538186665
                        ],
                        [
                          32.72063564789193,
                          39.8757977748321
                        ],
                        [
                          32.721313845538,
                          39.87544294572261
                        ],
                        [
                          32.72167323418103,
                          39.87413589043125
                        ],
                        [
                          32.720262900068946,
                          39.8729635735045
                        ],
                        [
                          32.72132289273824,
                          39.87234374332954
                        ],
                        [
                          32.72366746920101,
                          39.87194395929394
                        ],
                        [
                          32.72634448213891,
                          39.87101867022643
                        ],
                        [
                          32.72700024051764,
                          39.87022819786881
                        ],
                        [
                          32.72765599468276,
                          39.86983294506508
                        ],
                        [
                          32.728922602379484,
                          39.868467506216696
                        ],
                        [
                          32.72985688887257,
                          39.86803627220114
                        ],
                        [
                          32.72971765970525,
                          39.86753323221325
                        ],
                        [
                          32.72938974669541,
                          39.866886465028934
                        ],
                        [
                          32.72920106269396,
                          39.865772565745864
                        ],
                        [
                          32.7290169446813,
                          39.8646541753397
                        ],
                        [
                          32.728873234181314,
                          39.86361209462563
                        ],
                        [
                          32.72981191511529,
                          39.863683954117995
                        ],
                        [
                          32.72981191511529,
                          39.86332463367289
                        ],
                        [
                          32.72971765970525,
                          39.86167174431434
                        ],
                        [
                          32.72999611784989,
                          39.860485928015095
                        ],
                        [
                          32.73004548550476,
                          39.86001884113188
                        ],
                        [
                          32.73097976171541,
                          39.859731360191134
                        ],
                        [
                          32.731640056525436,
                          39.85994695785797
                        ],
                        [
                          32.73210710224396,
                          39.860378180476296
                        ],
                        [
                          32.73266857090342,
                          39.86009069365472
                        ],
                        [
                          32.73369716106401,
                          39.85958767625625
                        ],
                        [
                          32.73486944310655,
                          39.859259767715585
                        ],
                        [
                          32.73664812943508,
                          39.85894084943627
                        ],
                        [
                          32.738292047040765,
                          39.85894085416787
                        ],
                        [
                          32.74020997484311,
                          39.859223802004145
                        ],
                        [
                          32.7409465363666,
                          39.85945737429621
                        ],
                        [
                          32.74383914718469,
                          39.85806945902887
                        ],
                        [
                          32.744319747835775,
                          39.85833896662163
                        ],
                        [
                          32.744804825706744,
                          39.85853665210727
                        ],
                        [
                          32.74508780826759,
                          39.858657896613884
                        ],
                        [
                          32.74525845886275,
                          39.858972285766285
                        ],
                        [
                          32.74555944412241,
                          39.85934508982874
                        ],
                        [
                          32.74574353226457,
                          39.859839196911814
                        ],
                        [
                          32.74585138346895,
                          39.860158043789276
                        ],
                        [
                          32.74595914841616,
                          39.86031530569366
                        ],
                        [
                          32.74612531812335,
                          39.860463511151515
                        ],
                        [
                          32.746305011965134,
                          39.86055785659796
                        ],
                        [
                          32.746538544571585,
                          39.86062074944164
                        ],
                        [
                          32.746965293661624,
                          39.86073748761958
                        ],
                        [
                          32.747382996075984,
                          39.86080483318732
                        ],
                        [
                          32.74944012747971,
                          39.86073751935197
                        ],
                        [
                          32.75154666071331,
                          39.85983917863701
                        ],
                        [
                          32.75347803473373,
                          39.859336100029374
                        ],
                        [
                          32.75543641850277,
                          39.859488840973704
                        ],
                        [
                          32.75616399808803,
                          39.859569655880385
                        ],
                        [
                          32.75692757637332,
                          39.85967296263576
                        ],
                        [
                          32.759231799544054,
                          39.860176014159315
                        ],
                        [
                          32.75979320486539,
                          39.86041409424903
                        ],
                        [
                          32.76040861109802,
                          39.860620726600004
                        ],
                        [
                          32.76136078233546,
                          39.86089920395988
                        ],
                        [
                          32.7626992332128,
                          39.86129444494961
                        ],
                        [
                          32.76354372291943,
                          39.86154593813778
                        ],
                        [
                          32.763943442731545,
                          39.86167624475634
                        ],
                        [
                          32.764248851380664,
                          39.86180645487363
                        ],
                        [
                          32.76458121694233,
                          39.86199963827089
                        ],
                        [
                          32.764823750960595,
                          39.86217478398055
                        ],
                        [
                          32.7650708491223,
                          39.86240832041503
                        ],
                        [
                          32.765241466219926,
                          39.86261052284788
                        ],
                        [
                          32.76547056293259,
                          39.86294735050156
                        ],
                        [
                          32.765614307937305,
                          39.86334263077805
                        ],
                        [
                          32.76572213808906,
                          39.863796248777334
                        ],
                        [
                          32.765879318416985,
                          39.86456428079362
                        ],
                        [
                          32.76595562614885,
                          39.86499102631303
                        ],
                        [
                          32.76600058395053,
                          39.865444640378136
                        ],
                        [
                          32.76596019083077,
                          39.865947706582666
                        ],
                        [
                          32.76644973024583,
                          39.866334006794325
                        ],
                        [
                          32.76731658129275,
                          39.86680112520955
                        ],
                        [
                          32.76792298506863,
                          39.86708859474712
                        ],
                        [
                          32.768484428544234,
                          39.86708860366725
                        ],
                        [
                          32.76902339069427,
                          39.866801138628084
                        ],
                        [
                          32.76940069694851,
                          39.866657391478064
                        ],
                        [
                          32.76970608920713,
                          39.866693344730024
                        ],
                        [
                          32.77042926061787,
                          39.867070641815964
                        ],
                        [
                          32.77082903948489,
                          39.86750176799876
                        ],
                        [
                          32.771318641577956,
                          39.86768142816688
                        ],
                        [
                          32.77195189123589,
                          39.86773536737935
                        ],
                        [
                          32.77249092112183,
                          39.86771741184074
                        ],
                        [
                          32.77302986202881,
                          39.867429931079904
                        ],
                        [
                          32.77335780677485,
                          39.86726826555701
                        ],
                        [
                          32.77368566434307,
                          39.86723233197725
                        ],
                        [
                          32.77399112984627,
                          39.86735809011522
                        ],
                        [
                          32.77438633039925,
                          39.86760959923621
                        ],
                        [
                          32.77450310760558,
                          39.86775336086622
                        ],
                        [
                          32.774925347372545,
                          39.868094723310676
                        ],
                        [
                          32.77523080914907,
                          39.86822047251703
                        ],
                        [
                          32.775536183889336,
                          39.868256400008775
                        ],
                        [
                          32.77576973552475,
                          39.86822045032418
                        ],
                        [
                          32.776191970028016,
                          39.86804078712861
                        ],
                        [
                          32.776447996743904,
                          39.86773534517811
                        ],
                        [
                          32.776636593205694,
                          39.86734011324279
                        ],
                        [
                          32.77684775193376,
                          39.86698075782925
                        ],
                        [
                          32.77705882410626,
                          39.866657423879936
                        ],
                        [
                          32.77738675584867,
                          39.86636990351151
                        ],
                        [
                          32.7778088975153,
                          39.866154336730624
                        ],
                        [
                          32.777948147043816,
                          39.86615437364421
                        ],
                        [
                          32.7780425300418,
                          39.86631605153084
                        ],
                        [
                          32.77829855209384,
                          39.86645977443462
                        ],
                        [
                          32.779237294097065,
                          39.86669330124256
                        ],
                        [
                          32.78082730570845,
                          39.86705264474088
                        ],
                        [
                          32.78139324187583,
                          39.86721436591652
                        ],
                        [
                          32.78167173091353,
                          39.86723228269191
                        ],
                        [
                          32.78209394088289,
                          39.86726821208853
                        ],
                        [
                          32.78244424551717,
                          39.867304145010344
                        ],
                        [
                          32.782704734290924,
                          39.86739398382585
                        ],
                        [
                          32.78286645227439,
                          39.86737606407348
                        ],
                        [
                          32.78309998705477,
                          39.86716048046852
                        ],
                        [
                          32.78328865727599,
                          39.86694484110498
                        ],
                        [
                          32.78354466610271,
                          39.86676515866907
                        ],
                        [
                          32.78382762700812,
                          39.866675356058394
                        ],
                        [
                          32.784106109368985,
                          39.866747256861835
                        ],
                        [
                          32.784294777720525,
                          39.86685499786829
                        ],
                        [
                          32.784483445721435,
                          39.866944811499415
                        ],
                        [
                          32.78469450202444,
                          39.86696285389347
                        ],
                        [
                          32.78499993442036,
                          39.86690894980092
                        ],
                        [
                          32.78537278975051,
                          39.866783133318904
                        ],
                        [
                          32.78598356343264,
                          39.86662149836569
                        ],
                        [
                          32.78656746755867,
                          39.866567566685035
                        ],
                        [
                          32.787128980214874,
                          39.866621465292006
                        ],
                        [
                          32.78776230352067,
                          39.86672922626051
                        ],
                        [
                          32.78818448815988,
                          39.86681904580302
                        ],
                        [
                          32.788440484639295,
                          39.86687295650375
                        ],
                        [
                          32.78916817241674,
                          39.86699873839081
                        ],
                        [
                          32.790313467151506,
                          39.86716044189656
                        ],
                        [
                          32.79139150135807,
                          39.86784317628491
                        ],
                        [
                          32.792235838680796,
                          39.86856185381696
                        ],
                        [
                          32.79251886145863,
                          39.86910078053506
                        ],
                        [
                          32.79270303679414,
                          39.86953199311716
                        ],
                        [
                          32.79303091800381,
                          39.869963197362324
                        ],
                        [
                          32.79354744930375,
                          39.87039434164786
                        ],
                        [
                          32.79429748698714,
                          39.87057403846099
                        ],
                        [
                          32.79504760522569,
                          39.87083003473253
                        ],
                        [
                          32.79626481352329,
                          39.87136902349392
                        ],
                        [
                          32.79692055185471,
                          39.87162060909924
                        ],
                        [
                          32.810130330495745,
                          39.872559334566276
                        ],
                        [
                          32.81101514521714,
                          39.87258178455713
                        ],
                        [
                          32.81181911639712,
                          39.88014110522118
                        ],
                        [
                          32.81209313145716,
                          39.88327619396237
                        ],
                        [
                          32.80968111920733,
                          39.883249297639374
                        ],
                        [
                          32.809564382486585,
                          39.882755230476135
                        ],
                        [
                          32.80908374603098,
                          39.88190184182561
                        ],
                        [
                          32.809029853998894,
                          39.881690695684995
                        ],
                        [
                          32.80894006257825,
                          39.8809900375135
                        ],
                        [
                          32.80880533225317,
                          39.87974136779523
                        ],
                        [
                          32.80866603898748,
                          39.87906763117341
                        ],
                        [
                          32.80544114833459,
                          39.879018167942355
                        ],
                        [
                          32.805126737742405,
                          39.87898225244791
                        ],
                        [
                          32.80362655876592,
                          39.87889244129215
                        ],
                        [
                          32.80248115609073,
                          39.878856506860274
                        ],
                        [
                          32.801663679864475,
                          39.87869484776159
                        ],
                        [
                          32.80086419120883,
                          39.878546588748335
                        ],
                        [
                          32.80052729516692,
                          39.87851967773379
                        ],
                        [
                          32.79908103156264,
                          39.87822318813248
                        ],
                        [
                          32.797297926653314,
                          39.87830404262215
                        ],
                        [
                          32.79544289601854,
                          39.878488199352
                        ],
                        [
                          32.79544289601854,
                          39.8785915134052
                        ],
                        [
                          32.79513293168492,
                          39.88039261428518
                        ],
                        [
                          32.79481857522236,
                          39.88164576813813
                        ],
                        [
                          32.79478706203105,
                          39.88189280792586
                        ],
                        [
                          32.79523625323472,
                          39.88501445306288
                        ],
                        [
                          32.79527215744863,
                          39.88544565719184
                        ],
                        [
                          32.79532157953524,
                          39.886415854694654
                        ],
                        [
                          32.79522729870457,
                          39.88725128017282
                        ],
                        [
                          32.794998183005575,
                          39.88853589236836
                        ],
                        [
                          32.7950072236574,
                          39.888612221072606
                        ],
                        [
                          32.795177876572026,
                          39.88897151572233
                        ],
                        [
                          32.7955371766488,
                          39.88969022209897
                        ],
                        [
                          32.79589199821683,
                          39.89021569156567
                        ],
                        [
                          32.79495332414034,
                          39.89066037996886
                        ],
                        [
                          32.794346909548686,
                          39.89084456401858
                        ],
                        [
                          32.79400103721444,
                          39.89106011618099
                        ],
                        [
                          32.79049764649058,
                          39.89876319934855
                        ],
                        [
                          32.78808563700879,
                          39.903838654093825
                        ],
                        [
                          32.78775326222324,
                          39.90567126259774
                        ],
                        [
                          32.78639680016123,
                          39.90798891025568
                        ],
                        [
                          32.78609593574562,
                          39.90868957891424
                        ],
                        [
                          32.78353123275954,
                          39.90859076042274
                        ],
                        [
                          32.777831373797206,
                          39.908325730707006
                        ],
                        [
                          32.77207771393348,
                          39.90810564141449
                        ],
                        [
                          32.7684889069887,
                          39.90796638726095
                        ],
                        [
                          32.76366499123786,
                          39.90778227059537
                        ],
                        [
                          32.75892637583296,
                          39.90758463868757
                        ],
                        [
                          32.74953445079516,
                          39.90722081358696
                        ],
                        [
                          32.743668494212415,
                          39.9069917351174
                        ],
                        [
                          32.7339217626282,
                          39.90660096511024
                        ],
                        [
                          32.73183760997447,
                          39.90649320178896
                        ],
                        [
                          32.73187362272945,
                          39.90630898692942
                        ],
                        [
                          32.73191402937002,
                          39.90617426603631
                        ],
                        [
                          32.73203972924334,
                          39.905940736300934
                        ],
                        [
                          32.73220592164136,
                          39.905716114472554
                        ],
                        [
                          32.732726983454356,
                          39.90512326728543
                        ],
                        [
                          32.73367915501002,
                          39.89692613730843
                        ],
                        [
                          32.7301487870299,
                          39.89482404572443
                        ],
                        [
                          32.72874744424902,
                          39.89399761899136
                        ],
                        [
                          32.72784916177291,
                          39.8935305001703
                        ],
                        [
                          32.727188842429726,
                          39.89322508624922
                        ],
                        [
                          32.72533382538176,
                          39.89253785753531
                        ],
                        [
                          32.724561308106495,
                          39.89225037740944
                        ],
                        [
                          32.72315092772666,
                          39.8914778551482
                        ],
                        [
                          32.72269728239138,
                          39.891221827047254
                        ],
                        [
                          32.721601373786335,
                          39.89040886616227
                        ],
                        [
                          32.72064917569995,
                          39.88946557117089
                        ],
                        [
                          32.71965647109169,
                          39.88827982372534
                        ],
                        [
                          32.719288200301996,
                          39.887898040364306
                        ],
                        [
                          32.720887161430866,
                          39.88754321546043
                        ],
                        [
                          32.72131841222013,
                          39.88646072766347
                        ],
                        [
                          32.71907261393099,
                          39.88355915061221
                        ],
                        [
                          32.719014193565044,
                          39.882795653941095
                        ]
                      ]
                    ]
                  },
                  "type": "Feature",
                  "id": "0000bf7667119eba08a8",
                  "properties": {
                    "TIP": "Mahalle",
                    "IL_ID": 6,
                    "TIPKOD": 7,
                    "ILCE_ID": 1231,
                    "Nufus": 25668,
                    "ID": 14192,
                    "ADI": "Üniversiteler Mh."
                  }
                },
                {
                  "geometry": {
                    "type": "Polygon",
                    "coordinates": [
                      [
                        [
                          32.73277186977238,
                          39.91090840792909
                        ],
                        [
                          32.7328077960434,
                          39.910823041852154
                        ],
                        [
                          32.733499525062946,
                          39.909879803447744
                        ],
                        [
                          32.734177723378146,
                          39.908792898390246
                        ],
                        [
                          32.734429289695946,
                          39.908321231529
                        ],
                        [
                          32.73449218117843,
                          39.90813259650404
                        ],
                        [
                          32.73451466702784,
                          39.90799335887659
                        ],
                        [
                          32.73451914696658,
                          39.907836133224194
                        ],
                        [
                          32.73450562099706,
                          39.90767898111468
                        ],
                        [
                          32.73444272952287,
                          39.90747686470443
                        ],
                        [
                          32.73432599250562,
                          39.90724328854882
                        ],
                        [
                          32.73407890589111,
                          39.90693786615514
                        ],
                        [
                          32.7339217626282,
                          39.90660096511024
                        ],
                        [
                          32.743668494212415,
                          39.9069917351174
                        ],
                        [
                          32.74953445079516,
                          39.90722081358696
                        ],
                        [
                          32.75892637583296,
                          39.90758463868757
                        ],
                        [
                          32.76366499123786,
                          39.90778227059537
                        ],
                        [
                          32.7684889069887,
                          39.90796638726095
                        ],
                        [
                          32.77207771393348,
                          39.90810564141449
                        ],
                        [
                          32.777831373797206,
                          39.908325730707006
                        ],
                        [
                          32.78353123275954,
                          39.90859076042274
                        ],
                        [
                          32.78609593574562,
                          39.90868957891424
                        ],
                        [
                          32.78603746771477,
                          39.911932484160715
                        ],
                        [
                          32.785988127214814,
                          39.91337872953166
                        ],
                        [
                          32.78579050664738,
                          39.914088419279615
                        ],
                        [
                          32.785543458869675,
                          39.914596007242146
                        ],
                        [
                          32.78527841356545,
                          39.91502268379075
                        ],
                        [
                          32.78491012171931,
                          39.91546283816021
                        ],
                        [
                          32.78438459096597,
                          39.9159344970491
                        ],
                        [
                          32.78353123275954,
                          39.91649594408525
                        ],
                        [
                          32.781545920097756,
                          39.917502067567845
                        ],
                        [
                          32.780126597961605,
                          39.91820717481763
                        ],
                        [
                          32.77743610052815,
                          39.91713374748333
                        ],
                        [
                          32.77637161077142,
                          39.916729464475345
                        ],
                        [
                          32.77574725878673,
                          39.91658575864163
                        ],
                        [
                          32.77493430369368,
                          39.916509394205384
                        ],
                        [
                          32.77421564253029,
                          39.916522847513896
                        ],
                        [
                          32.77094582077878,
                          39.91689118371958
                        ],
                        [
                          32.76997117514468,
                          39.91691361751504
                        ],
                        [
                          32.7688258232452,
                          39.916877713147635
                        ],
                        [
                          32.7546503476298,
                          39.91517092322423
                        ],
                        [
                          32.75324451803975,
                          39.914901388397595
                        ],
                        [
                          32.747302108899525,
                          39.91306440200332
                        ],
                        [
                          32.74555496466885,
                          39.912736447533256
                        ],
                        [
                          32.744279346111725,
                          39.912570292203455
                        ],
                        [
                          32.74331814216166,
                          39.912547810375344
                        ],
                        [
                          32.737851908404046,
                          39.912323232629234
                        ],
                        [
                          32.736095642423415,
                          39.91205825724507
                        ],
                        [
                          32.734613484092655,
                          39.911631529360484
                        ],
                        [
                          32.73277186977238,
                          39.91090840792909
                        ]
                      ]
                    ]
                  },
                  "type": "Feature",
                  "id": "0000a2e746848ed003f1",
                  "properties": {
                    "TIP": "Mahalle",
                    "IL_ID": 6,
                    "TIPKOD": 7,
                    "ILCE_ID": 1231,
                    "Nufus": 7565,
                    "ID": 14169,
                    "ADI": "Mustafa Kemal Mh."
                  }
                }
              ]
            },
            "popup_min_width": 50,
            "_view_module": "jupyter-leaflet",
            "_model_module_version": "^0.15.0",
            "_view_count": null,
            "_view_module_version": "^0.15.0",
            "base": false,
            "popup": null,
            "popup_max_width": 300,
            "popup_max_height": null,
            "point_style": {},
            "_model_module": "jupyter-leaflet",
            "options": []
          }
        },
        "ec216b47a6804669ab88017d6aa8bcf7": {
          "model_module": "jupyter-leaflet",
          "model_name": "LeafletMapStyleModel",
          "model_module_version": "^0.15.0",
          "state": {
            "_view_name": "StyleView",
            "_model_name": "LeafletMapStyleModel",
            "_view_module": "@jupyter-widgets/base",
            "_model_module_version": "^0.15.0",
            "_view_count": null,
            "cursor": "move",
            "_view_module_version": "1.2.0",
            "_model_module": "jupyter-leaflet"
          }
        },
        "ad98d5b7231341f0b38c73c1665ff94e": {
          "model_module": "@jupyter-widgets/controls",
          "model_name": "HBoxModel",
          "model_module_version": "1.5.0",
          "state": {
            "_view_name": "HBoxView",
            "_dom_classes": [],
            "_model_name": "HBoxModel",
            "_view_module": "@jupyter-widgets/controls",
            "_model_module_version": "1.5.0",
            "_view_count": null,
            "_view_module_version": "1.5.0",
            "box_style": "",
            "layout": "IPY_MODEL_a2f4c3a9522b4c55a0c6c32de216fd34",
            "_model_module": "@jupyter-widgets/controls",
            "children": [
              "IPY_MODEL_69ea9b3749834421a20a5cc00338503d"
            ]
          }
        },
        "11600aae8a5244a98e1356f9812f9ea1": {
          "model_module": "@jupyter-widgets/controls",
          "model_name": "VBoxModel",
          "model_module_version": "1.5.0",
          "state": {
            "_view_name": "VBoxView",
            "_dom_classes": [],
            "_model_name": "VBoxModel",
            "_view_module": "@jupyter-widgets/controls",
            "_model_module_version": "1.5.0",
            "_view_count": null,
            "_view_module_version": "1.5.0",
            "box_style": "",
            "layout": "IPY_MODEL_02e75997b37d45e6a1a144edfc14ba39",
            "_model_module": "@jupyter-widgets/controls",
            "children": [
              "IPY_MODEL_e41a2aea8932424fa020c326db0ff2e7"
            ]
          }
        },
        "a2f4c3a9522b4c55a0c6c32de216fd34": {
          "model_module": "@jupyter-widgets/base",
          "model_name": "LayoutModel",
          "model_module_version": "1.2.0",
          "state": {
            "_view_name": "LayoutView",
            "grid_template_rows": null,
            "right": null,
            "justify_content": null,
            "_view_module": "@jupyter-widgets/base",
            "overflow": null,
            "_model_module_version": "1.2.0",
            "_view_count": null,
            "flex_flow": null,
            "width": null,
            "min_width": null,
            "border": null,
            "align_items": null,
            "bottom": null,
            "_model_module": "@jupyter-widgets/base",
            "top": null,
            "grid_column": null,
            "overflow_y": null,
            "overflow_x": null,
            "grid_auto_flow": null,
            "grid_area": null,
            "grid_template_columns": null,
            "flex": null,
            "_model_name": "LayoutModel",
            "justify_items": null,
            "grid_row": null,
            "max_height": null,
            "align_content": null,
            "visibility": null,
            "align_self": null,
            "height": null,
            "min_height": null,
            "padding": null,
            "grid_auto_rows": null,
            "grid_gap": null,
            "max_width": null,
            "order": null,
            "_view_module_version": "1.2.0",
            "grid_template_areas": null,
            "object_position": null,
            "object_fit": null,
            "grid_auto_columns": null,
            "margin": null,
            "display": null,
            "left": null
          }
        },
        "69ea9b3749834421a20a5cc00338503d": {
          "model_module": "@jupyter-widgets/controls",
          "model_name": "ToggleButtonModel",
          "model_module_version": "1.5.0",
          "state": {
            "_view_name": "ToggleButtonView",
            "style": "IPY_MODEL_9e6738f66efe46c9b39f335fedf7a376",
            "_dom_classes": [],
            "description": "",
            "_model_name": "ToggleButtonModel",
            "button_style": "",
            "_view_module": "@jupyter-widgets/controls",
            "_model_module_version": "1.5.0",
            "tooltip": "Search location/data",
            "_view_count": null,
            "disabled": false,
            "_view_module_version": "1.5.0",
            "value": false,
            "description_tooltip": null,
            "_model_module": "@jupyter-widgets/controls",
            "layout": "IPY_MODEL_e9bdadb1fed44851b8fab4fa48d5dba1",
            "icon": "globe"
          }
        },
        "02e75997b37d45e6a1a144edfc14ba39": {
          "model_module": "@jupyter-widgets/base",
          "model_name": "LayoutModel",
          "model_module_version": "1.2.0",
          "state": {
            "_view_name": "LayoutView",
            "grid_template_rows": null,
            "right": null,
            "justify_content": null,
            "_view_module": "@jupyter-widgets/base",
            "overflow": null,
            "_model_module_version": "1.2.0",
            "_view_count": null,
            "flex_flow": null,
            "width": null,
            "min_width": null,
            "border": null,
            "align_items": null,
            "bottom": null,
            "_model_module": "@jupyter-widgets/base",
            "top": null,
            "grid_column": null,
            "overflow_y": null,
            "overflow_x": null,
            "grid_auto_flow": null,
            "grid_area": null,
            "grid_template_columns": null,
            "flex": null,
            "_model_name": "LayoutModel",
            "justify_items": null,
            "grid_row": null,
            "max_height": null,
            "align_content": null,
            "visibility": null,
            "align_self": null,
            "height": null,
            "min_height": null,
            "padding": null,
            "grid_auto_rows": null,
            "grid_gap": null,
            "max_width": null,
            "order": null,
            "_view_module_version": "1.2.0",
            "grid_template_areas": null,
            "object_position": null,
            "object_fit": null,
            "grid_auto_columns": null,
            "margin": null,
            "display": null,
            "left": null
          }
        },
        "e41a2aea8932424fa020c326db0ff2e7": {
          "model_module": "@jupyter-widgets/controls",
          "model_name": "ToggleButtonModel",
          "model_module_version": "1.5.0",
          "state": {
            "_view_name": "ToggleButtonView",
            "style": "IPY_MODEL_6ec0e96a5a39493d84e949b794ba376d",
            "_dom_classes": [],
            "description": "",
            "_model_name": "ToggleButtonModel",
            "button_style": "",
            "_view_module": "@jupyter-widgets/controls",
            "_model_module_version": "1.5.0",
            "tooltip": "Toolbar",
            "_view_count": null,
            "disabled": false,
            "_view_module_version": "1.5.0",
            "value": false,
            "description_tooltip": null,
            "_model_module": "@jupyter-widgets/controls",
            "layout": "IPY_MODEL_8a7e8cd969a24378926b23b86bd98601",
            "icon": "wrench"
          }
        },
        "9e6738f66efe46c9b39f335fedf7a376": {
          "model_module": "@jupyter-widgets/controls",
          "model_name": "DescriptionStyleModel",
          "model_module_version": "1.5.0",
          "state": {
            "_view_name": "StyleView",
            "_model_name": "DescriptionStyleModel",
            "description_width": "",
            "_view_module": "@jupyter-widgets/base",
            "_model_module_version": "1.5.0",
            "_view_count": null,
            "_view_module_version": "1.2.0",
            "_model_module": "@jupyter-widgets/controls"
          }
        },
        "e9bdadb1fed44851b8fab4fa48d5dba1": {
          "model_module": "@jupyter-widgets/base",
          "model_name": "LayoutModel",
          "model_module_version": "1.2.0",
          "state": {
            "_view_name": "LayoutView",
            "grid_template_rows": null,
            "right": null,
            "justify_content": null,
            "_view_module": "@jupyter-widgets/base",
            "overflow": null,
            "_model_module_version": "1.2.0",
            "_view_count": null,
            "flex_flow": null,
            "width": "28px",
            "min_width": null,
            "border": null,
            "align_items": null,
            "bottom": null,
            "_model_module": "@jupyter-widgets/base",
            "top": null,
            "grid_column": null,
            "overflow_y": null,
            "overflow_x": null,
            "grid_auto_flow": null,
            "grid_area": null,
            "grid_template_columns": null,
            "flex": null,
            "_model_name": "LayoutModel",
            "justify_items": null,
            "grid_row": null,
            "max_height": null,
            "align_content": null,
            "visibility": null,
            "align_self": null,
            "height": "28px",
            "min_height": null,
            "padding": "0px 0px 0px 4px",
            "grid_auto_rows": null,
            "grid_gap": null,
            "max_width": null,
            "order": null,
            "_view_module_version": "1.2.0",
            "grid_template_areas": null,
            "object_position": null,
            "object_fit": null,
            "grid_auto_columns": null,
            "margin": null,
            "display": null,
            "left": null
          }
        },
        "6ec0e96a5a39493d84e949b794ba376d": {
          "model_module": "@jupyter-widgets/controls",
          "model_name": "DescriptionStyleModel",
          "model_module_version": "1.5.0",
          "state": {
            "_view_name": "StyleView",
            "_model_name": "DescriptionStyleModel",
            "description_width": "",
            "_view_module": "@jupyter-widgets/base",
            "_model_module_version": "1.5.0",
            "_view_count": null,
            "_view_module_version": "1.2.0",
            "_model_module": "@jupyter-widgets/controls"
          }
        },
        "8a7e8cd969a24378926b23b86bd98601": {
          "model_module": "@jupyter-widgets/base",
          "model_name": "LayoutModel",
          "model_module_version": "1.2.0",
          "state": {
            "_view_name": "LayoutView",
            "grid_template_rows": null,
            "right": null,
            "justify_content": null,
            "_view_module": "@jupyter-widgets/base",
            "overflow": null,
            "_model_module_version": "1.2.0",
            "_view_count": null,
            "flex_flow": null,
            "width": "28px",
            "min_width": null,
            "border": null,
            "align_items": null,
            "bottom": null,
            "_model_module": "@jupyter-widgets/base",
            "top": null,
            "grid_column": null,
            "overflow_y": null,
            "overflow_x": null,
            "grid_auto_flow": null,
            "grid_area": null,
            "grid_template_columns": null,
            "flex": null,
            "_model_name": "LayoutModel",
            "justify_items": null,
            "grid_row": null,
            "max_height": null,
            "align_content": null,
            "visibility": null,
            "align_self": null,
            "height": "28px",
            "min_height": null,
            "padding": "0px 0px 0px 4px",
            "grid_auto_rows": null,
            "grid_gap": null,
            "max_width": null,
            "order": null,
            "_view_module_version": "1.2.0",
            "grid_template_areas": null,
            "object_position": null,
            "object_fit": null,
            "grid_auto_columns": null,
            "margin": null,
            "display": null,
            "left": null
          }
        }
      }
    }
  },
  "cells": [
    {
      "cell_type": "markdown",
      "metadata": {
        "id": "view-in-github",
        "colab_type": "text"
      },
      "source": [
        "<a href=\"https://colab.research.google.com/github/celikn/GEE_Repository/blob/main/GEE_Image_Export_AOI_20220222.ipynb\" target=\"_parent\"><img src=\"https://colab.research.google.com/assets/colab-badge.svg\" alt=\"Open In Colab\"/></a>"
      ]
    },
    {
      "cell_type": "code",
      "execution_count": 1,
      "metadata": {
        "colab": {
          "base_uri": "https://localhost:8080/"
        },
        "id": "Pd5wyBfj79Pn",
        "outputId": "5bc4af03-69b5-4fd7-d075-488c25631543"
      },
      "outputs": [
        {
          "output_type": "stream",
          "name": "stdout",
          "text": [
            "Mounted at /content/drive\n"
          ]
        }
      ],
      "source": [
        "from google.colab import drive\n",
        "drive.mount('/content/drive')"
      ]
    },
    {
      "cell_type": "code",
      "source": [
        "!pip install earthengine-api\n",
        "!pip install earthengine-api --upgrade\n",
        "\n",
        "!pip install geetools\n",
        "!pip install --upgrade geetools\n",
        "!pip install geemap"
      ],
      "metadata": {
        "colab": {
          "base_uri": "https://localhost:8080/",
          "height": 1000
        },
        "id": "juHxN4i98Nqe",
        "outputId": "99f86940-185a-432f-f7d2-f869ac67d537"
      },
      "execution_count": 2,
      "outputs": [
        {
          "output_type": "stream",
          "name": "stdout",
          "text": [
            "Requirement already satisfied: earthengine-api in /usr/local/lib/python3.7/dist-packages (0.1.299)\n",
            "Requirement already satisfied: google-api-python-client<2,>=1.12.1 in /usr/local/lib/python3.7/dist-packages (from earthengine-api) (1.12.10)\n",
            "Requirement already satisfied: httplib2shim in /usr/local/lib/python3.7/dist-packages (from earthengine-api) (0.0.3)\n",
            "Requirement already satisfied: future in /usr/local/lib/python3.7/dist-packages (from earthengine-api) (0.16.0)\n",
            "Requirement already satisfied: httplib2<1dev,>=0.9.2 in /usr/local/lib/python3.7/dist-packages (from earthengine-api) (0.17.4)\n",
            "Requirement already satisfied: google-cloud-storage in /usr/local/lib/python3.7/dist-packages (from earthengine-api) (1.18.1)\n",
            "Requirement already satisfied: six in /usr/local/lib/python3.7/dist-packages (from earthengine-api) (1.15.0)\n",
            "Requirement already satisfied: google-auth>=1.4.1 in /usr/local/lib/python3.7/dist-packages (from earthengine-api) (1.35.0)\n",
            "Requirement already satisfied: google-auth-httplib2>=0.0.3 in /usr/local/lib/python3.7/dist-packages (from earthengine-api) (0.0.4)\n",
            "Requirement already satisfied: uritemplate<4dev,>=3.0.0 in /usr/local/lib/python3.7/dist-packages (from google-api-python-client<2,>=1.12.1->earthengine-api) (3.0.1)\n",
            "Requirement already satisfied: google-api-core<3dev,>=1.21.0 in /usr/local/lib/python3.7/dist-packages (from google-api-python-client<2,>=1.12.1->earthengine-api) (1.26.3)\n",
            "Requirement already satisfied: pytz in /usr/local/lib/python3.7/dist-packages (from google-api-core<3dev,>=1.21.0->google-api-python-client<2,>=1.12.1->earthengine-api) (2018.9)\n",
            "Requirement already satisfied: setuptools>=40.3.0 in /usr/local/lib/python3.7/dist-packages (from google-api-core<3dev,>=1.21.0->google-api-python-client<2,>=1.12.1->earthengine-api) (57.4.0)\n",
            "Requirement already satisfied: packaging>=14.3 in /usr/local/lib/python3.7/dist-packages (from google-api-core<3dev,>=1.21.0->google-api-python-client<2,>=1.12.1->earthengine-api) (21.3)\n",
            "Requirement already satisfied: requests<3.0.0dev,>=2.18.0 in /usr/local/lib/python3.7/dist-packages (from google-api-core<3dev,>=1.21.0->google-api-python-client<2,>=1.12.1->earthengine-api) (2.23.0)\n",
            "Requirement already satisfied: protobuf>=3.12.0 in /usr/local/lib/python3.7/dist-packages (from google-api-core<3dev,>=1.21.0->google-api-python-client<2,>=1.12.1->earthengine-api) (3.17.3)\n",
            "Requirement already satisfied: googleapis-common-protos<2.0dev,>=1.6.0 in /usr/local/lib/python3.7/dist-packages (from google-api-core<3dev,>=1.21.0->google-api-python-client<2,>=1.12.1->earthengine-api) (1.54.0)\n",
            "Requirement already satisfied: rsa<5,>=3.1.4 in /usr/local/lib/python3.7/dist-packages (from google-auth>=1.4.1->earthengine-api) (4.8)\n",
            "Requirement already satisfied: cachetools<5.0,>=2.0.0 in /usr/local/lib/python3.7/dist-packages (from google-auth>=1.4.1->earthengine-api) (4.2.4)\n",
            "Requirement already satisfied: pyasn1-modules>=0.2.1 in /usr/local/lib/python3.7/dist-packages (from google-auth>=1.4.1->earthengine-api) (0.2.8)\n",
            "Requirement already satisfied: pyparsing!=3.0.5,>=2.0.2 in /usr/local/lib/python3.7/dist-packages (from packaging>=14.3->google-api-core<3dev,>=1.21.0->google-api-python-client<2,>=1.12.1->earthengine-api) (3.0.7)\n",
            "Requirement already satisfied: pyasn1<0.5.0,>=0.4.6 in /usr/local/lib/python3.7/dist-packages (from pyasn1-modules>=0.2.1->google-auth>=1.4.1->earthengine-api) (0.4.8)\n",
            "Requirement already satisfied: chardet<4,>=3.0.2 in /usr/local/lib/python3.7/dist-packages (from requests<3.0.0dev,>=2.18.0->google-api-core<3dev,>=1.21.0->google-api-python-client<2,>=1.12.1->earthengine-api) (3.0.4)\n",
            "Requirement already satisfied: idna<3,>=2.5 in /usr/local/lib/python3.7/dist-packages (from requests<3.0.0dev,>=2.18.0->google-api-core<3dev,>=1.21.0->google-api-python-client<2,>=1.12.1->earthengine-api) (2.10)\n",
            "Requirement already satisfied: certifi>=2017.4.17 in /usr/local/lib/python3.7/dist-packages (from requests<3.0.0dev,>=2.18.0->google-api-core<3dev,>=1.21.0->google-api-python-client<2,>=1.12.1->earthengine-api) (2021.10.8)\n",
            "Requirement already satisfied: urllib3!=1.25.0,!=1.25.1,<1.26,>=1.21.1 in /usr/local/lib/python3.7/dist-packages (from requests<3.0.0dev,>=2.18.0->google-api-core<3dev,>=1.21.0->google-api-python-client<2,>=1.12.1->earthengine-api) (1.24.3)\n",
            "Requirement already satisfied: google-cloud-core<2.0dev,>=1.0.0 in /usr/local/lib/python3.7/dist-packages (from google-cloud-storage->earthengine-api) (1.0.3)\n",
            "Requirement already satisfied: google-resumable-media<0.5.0dev,>=0.3.1 in /usr/local/lib/python3.7/dist-packages (from google-cloud-storage->earthengine-api) (0.4.1)\n",
            "Requirement already satisfied: earthengine-api in /usr/local/lib/python3.7/dist-packages (0.1.299)\n",
            "Collecting earthengine-api\n",
            "  Downloading earthengine-api-0.1.300.tar.gz (236 kB)\n",
            "\u001b[K     |████████████████████████████████| 236 kB 12.5 MB/s \n",
            "\u001b[?25hRequirement already satisfied: future in /usr/local/lib/python3.7/dist-packages (from earthengine-api) (0.16.0)\n",
            "Requirement already satisfied: google-cloud-storage in /usr/local/lib/python3.7/dist-packages (from earthengine-api) (1.18.1)\n",
            "Requirement already satisfied: google-api-python-client<2,>=1.12.1 in /usr/local/lib/python3.7/dist-packages (from earthengine-api) (1.12.10)\n",
            "Requirement already satisfied: google-auth>=1.4.1 in /usr/local/lib/python3.7/dist-packages (from earthengine-api) (1.35.0)\n",
            "Requirement already satisfied: google-auth-httplib2>=0.0.3 in /usr/local/lib/python3.7/dist-packages (from earthengine-api) (0.0.4)\n",
            "Requirement already satisfied: httplib2<1dev,>=0.9.2 in /usr/local/lib/python3.7/dist-packages (from earthengine-api) (0.17.4)\n",
            "Requirement already satisfied: httplib2shim in /usr/local/lib/python3.7/dist-packages (from earthengine-api) (0.0.3)\n",
            "Requirement already satisfied: six in /usr/local/lib/python3.7/dist-packages (from earthengine-api) (1.15.0)\n",
            "Requirement already satisfied: google-api-core<3dev,>=1.21.0 in /usr/local/lib/python3.7/dist-packages (from google-api-python-client<2,>=1.12.1->earthengine-api) (1.26.3)\n",
            "Requirement already satisfied: uritemplate<4dev,>=3.0.0 in /usr/local/lib/python3.7/dist-packages (from google-api-python-client<2,>=1.12.1->earthengine-api) (3.0.1)\n",
            "Requirement already satisfied: setuptools>=40.3.0 in /usr/local/lib/python3.7/dist-packages (from google-api-core<3dev,>=1.21.0->google-api-python-client<2,>=1.12.1->earthengine-api) (57.4.0)\n",
            "Requirement already satisfied: pytz in /usr/local/lib/python3.7/dist-packages (from google-api-core<3dev,>=1.21.0->google-api-python-client<2,>=1.12.1->earthengine-api) (2018.9)\n",
            "Requirement already satisfied: protobuf>=3.12.0 in /usr/local/lib/python3.7/dist-packages (from google-api-core<3dev,>=1.21.0->google-api-python-client<2,>=1.12.1->earthengine-api) (3.17.3)\n",
            "Requirement already satisfied: googleapis-common-protos<2.0dev,>=1.6.0 in /usr/local/lib/python3.7/dist-packages (from google-api-core<3dev,>=1.21.0->google-api-python-client<2,>=1.12.1->earthengine-api) (1.54.0)\n",
            "Requirement already satisfied: packaging>=14.3 in /usr/local/lib/python3.7/dist-packages (from google-api-core<3dev,>=1.21.0->google-api-python-client<2,>=1.12.1->earthengine-api) (21.3)\n",
            "Requirement already satisfied: requests<3.0.0dev,>=2.18.0 in /usr/local/lib/python3.7/dist-packages (from google-api-core<3dev,>=1.21.0->google-api-python-client<2,>=1.12.1->earthengine-api) (2.23.0)\n",
            "Requirement already satisfied: pyasn1-modules>=0.2.1 in /usr/local/lib/python3.7/dist-packages (from google-auth>=1.4.1->earthengine-api) (0.2.8)\n",
            "Requirement already satisfied: rsa<5,>=3.1.4 in /usr/local/lib/python3.7/dist-packages (from google-auth>=1.4.1->earthengine-api) (4.8)\n",
            "Requirement already satisfied: cachetools<5.0,>=2.0.0 in /usr/local/lib/python3.7/dist-packages (from google-auth>=1.4.1->earthengine-api) (4.2.4)\n",
            "Requirement already satisfied: pyparsing!=3.0.5,>=2.0.2 in /usr/local/lib/python3.7/dist-packages (from packaging>=14.3->google-api-core<3dev,>=1.21.0->google-api-python-client<2,>=1.12.1->earthengine-api) (3.0.7)\n",
            "Requirement already satisfied: pyasn1<0.5.0,>=0.4.6 in /usr/local/lib/python3.7/dist-packages (from pyasn1-modules>=0.2.1->google-auth>=1.4.1->earthengine-api) (0.4.8)\n",
            "Requirement already satisfied: urllib3!=1.25.0,!=1.25.1,<1.26,>=1.21.1 in /usr/local/lib/python3.7/dist-packages (from requests<3.0.0dev,>=2.18.0->google-api-core<3dev,>=1.21.0->google-api-python-client<2,>=1.12.1->earthengine-api) (1.24.3)\n",
            "Requirement already satisfied: certifi>=2017.4.17 in /usr/local/lib/python3.7/dist-packages (from requests<3.0.0dev,>=2.18.0->google-api-core<3dev,>=1.21.0->google-api-python-client<2,>=1.12.1->earthengine-api) (2021.10.8)\n",
            "Requirement already satisfied: chardet<4,>=3.0.2 in /usr/local/lib/python3.7/dist-packages (from requests<3.0.0dev,>=2.18.0->google-api-core<3dev,>=1.21.0->google-api-python-client<2,>=1.12.1->earthengine-api) (3.0.4)\n",
            "Requirement already satisfied: idna<3,>=2.5 in /usr/local/lib/python3.7/dist-packages (from requests<3.0.0dev,>=2.18.0->google-api-core<3dev,>=1.21.0->google-api-python-client<2,>=1.12.1->earthengine-api) (2.10)\n",
            "Requirement already satisfied: google-cloud-core<2.0dev,>=1.0.0 in /usr/local/lib/python3.7/dist-packages (from google-cloud-storage->earthengine-api) (1.0.3)\n",
            "Requirement already satisfied: google-resumable-media<0.5.0dev,>=0.3.1 in /usr/local/lib/python3.7/dist-packages (from google-cloud-storage->earthengine-api) (0.4.1)\n",
            "Building wheels for collected packages: earthengine-api\n",
            "  Building wheel for earthengine-api (setup.py) ... \u001b[?25l\u001b[?25hdone\n",
            "  Created wheel for earthengine-api: filename=earthengine_api-0.1.300-py3-none-any.whl size=265522 sha256=56083178b3a83a9f37495dbf118b683f63db65bd69acc026c953a290044c50fd\n",
            "  Stored in directory: /root/.cache/pip/wheels/f1/44/b9/ec79598e6147ec21b1dcbd669b963afcdd1e9326b48127fd85\n",
            "Successfully built earthengine-api\n",
            "Installing collected packages: earthengine-api\n",
            "  Attempting uninstall: earthengine-api\n",
            "    Found existing installation: earthengine-api 0.1.299\n",
            "    Uninstalling earthengine-api-0.1.299:\n",
            "      Successfully uninstalled earthengine-api-0.1.299\n",
            "Successfully installed earthengine-api-0.1.300\n",
            "Collecting geetools\n",
            "  Downloading geetools-0.6.14.tar.gz (74 kB)\n",
            "\u001b[K     |████████████████████████████████| 74 kB 2.9 MB/s \n",
            "\u001b[?25hRequirement already satisfied: requests in /usr/local/lib/python3.7/dist-packages (from geetools) (2.23.0)\n",
            "Collecting pyshp\n",
            "  Downloading pyshp-2.2.0-py3-none-any.whl (44 kB)\n",
            "\u001b[K     |████████████████████████████████| 44 kB 2.7 MB/s \n",
            "\u001b[?25hRequirement already satisfied: pandas in /usr/local/lib/python3.7/dist-packages (from geetools) (1.3.5)\n",
            "Requirement already satisfied: numpy>=1.17.3 in /usr/local/lib/python3.7/dist-packages (from pandas->geetools) (1.21.5)\n",
            "Requirement already satisfied: pytz>=2017.3 in /usr/local/lib/python3.7/dist-packages (from pandas->geetools) (2018.9)\n",
            "Requirement already satisfied: python-dateutil>=2.7.3 in /usr/local/lib/python3.7/dist-packages (from pandas->geetools) (2.8.2)\n",
            "Requirement already satisfied: six>=1.5 in /usr/local/lib/python3.7/dist-packages (from python-dateutil>=2.7.3->pandas->geetools) (1.15.0)\n",
            "Requirement already satisfied: idna<3,>=2.5 in /usr/local/lib/python3.7/dist-packages (from requests->geetools) (2.10)\n",
            "Requirement already satisfied: chardet<4,>=3.0.2 in /usr/local/lib/python3.7/dist-packages (from requests->geetools) (3.0.4)\n",
            "Requirement already satisfied: certifi>=2017.4.17 in /usr/local/lib/python3.7/dist-packages (from requests->geetools) (2021.10.8)\n",
            "Requirement already satisfied: urllib3!=1.25.0,!=1.25.1,<1.26,>=1.21.1 in /usr/local/lib/python3.7/dist-packages (from requests->geetools) (1.24.3)\n",
            "Building wheels for collected packages: geetools\n",
            "  Building wheel for geetools (setup.py) ... \u001b[?25l\u001b[?25hdone\n",
            "  Created wheel for geetools: filename=geetools-0.6.14-py3-none-any.whl size=92107 sha256=6e85ce5e73c6307ce9f88029427efb447a3b2b0d0b44e9dce8ec0857a9c3cf5e\n",
            "  Stored in directory: /root/.cache/pip/wheels/5c/55/29/0a09dcf6b39bba8c890e40171cac3e3607a5c4b354b7e9447c\n",
            "Successfully built geetools\n",
            "Installing collected packages: pyshp, geetools\n",
            "Successfully installed geetools-0.6.14 pyshp-2.2.0\n",
            "Requirement already satisfied: geetools in /usr/local/lib/python3.7/dist-packages (0.6.14)\n",
            "Requirement already satisfied: requests in /usr/local/lib/python3.7/dist-packages (from geetools) (2.23.0)\n",
            "Requirement already satisfied: pandas in /usr/local/lib/python3.7/dist-packages (from geetools) (1.3.5)\n",
            "Requirement already satisfied: pyshp in /usr/local/lib/python3.7/dist-packages (from geetools) (2.2.0)\n",
            "Requirement already satisfied: numpy>=1.17.3 in /usr/local/lib/python3.7/dist-packages (from pandas->geetools) (1.21.5)\n",
            "Requirement already satisfied: python-dateutil>=2.7.3 in /usr/local/lib/python3.7/dist-packages (from pandas->geetools) (2.8.2)\n",
            "Requirement already satisfied: pytz>=2017.3 in /usr/local/lib/python3.7/dist-packages (from pandas->geetools) (2018.9)\n",
            "Requirement already satisfied: six>=1.5 in /usr/local/lib/python3.7/dist-packages (from python-dateutil>=2.7.3->pandas->geetools) (1.15.0)\n",
            "Requirement already satisfied: idna<3,>=2.5 in /usr/local/lib/python3.7/dist-packages (from requests->geetools) (2.10)\n",
            "Requirement already satisfied: certifi>=2017.4.17 in /usr/local/lib/python3.7/dist-packages (from requests->geetools) (2021.10.8)\n",
            "Requirement already satisfied: urllib3!=1.25.0,!=1.25.1,<1.26,>=1.21.1 in /usr/local/lib/python3.7/dist-packages (from requests->geetools) (1.24.3)\n",
            "Requirement already satisfied: chardet<4,>=3.0.2 in /usr/local/lib/python3.7/dist-packages (from requests->geetools) (3.0.4)\n",
            "Collecting geemap\n",
            "  Downloading geemap-0.11.5-py2.py3-none-any.whl (1.9 MB)\n",
            "\u001b[K     |████████████████████████████████| 1.9 MB 14.3 MB/s \n",
            "\u001b[?25hCollecting folium>=0.11.0\n",
            "  Downloading folium-0.12.1.post1-py2.py3-none-any.whl (95 kB)\n",
            "\u001b[K     |████████████████████████████████| 95 kB 3.7 MB/s \n",
            "\u001b[?25hCollecting xyzservices\n",
            "  Downloading xyzservices-2022.2.0-py3-none-any.whl (35 kB)\n",
            "Collecting owslib\n",
            "  Downloading OWSLib-0.25.0-py2.py3-none-any.whl (216 kB)\n",
            "\u001b[K     |████████████████████████████████| 216 kB 67.2 MB/s \n",
            "\u001b[?25hRequirement already satisfied: palettable in /usr/local/lib/python3.7/dist-packages (from geemap) (3.3.0)\n",
            "Collecting here-map-widget-for-jupyter>=1.1.1\n",
            "  Downloading here_map_widget_for_jupyter-1.1.3-py2.py3-none-any.whl (5.4 MB)\n",
            "\u001b[K     |████████████████████████████████| 5.4 MB 45.2 MB/s \n",
            "\u001b[?25hRequirement already satisfied: pyshp>=2.1.3 in /usr/local/lib/python3.7/dist-packages (from geemap) (2.2.0)\n",
            "Collecting ee-extra>=0.0.10\n",
            "  Downloading ee_extra-0.0.10.tar.gz (176 kB)\n",
            "\u001b[K     |████████████████████████████████| 176 kB 52.6 MB/s \n",
            "\u001b[?25hCollecting voila\n",
            "  Downloading voila-0.3.2-py3-none-any.whl (1.7 MB)\n",
            "\u001b[K     |████████████████████████████████| 1.7 MB 42.0 MB/s \n",
            "\u001b[?25hRequirement already satisfied: earthengine-api>=0.1.230 in /usr/local/lib/python3.7/dist-packages (from geemap) (0.1.300)\n",
            "Collecting ipynb-py-convert\n",
            "  Downloading ipynb-py-convert-0.4.6.tar.gz (3.9 kB)\n",
            "Collecting geojson\n",
            "  Downloading geojson-2.5.0-py2.py3-none-any.whl (14 kB)\n",
            "Requirement already satisfied: matplotlib in /usr/local/lib/python3.7/dist-packages (from geemap) (3.2.2)\n",
            "Requirement already satisfied: plotly in /usr/local/lib/python3.7/dist-packages (from geemap) (5.5.0)\n",
            "Requirement already satisfied: click in /usr/local/lib/python3.7/dist-packages (from geemap) (7.1.2)\n",
            "Collecting whiteboxgui>=0.6.0\n",
            "  Downloading whiteboxgui-0.7.0-py2.py3-none-any.whl (99 kB)\n",
            "\u001b[K     |████████████████████████████████| 99 kB 9.7 MB/s \n",
            "\u001b[?25hCollecting pycrs\n",
            "  Downloading PyCRS-1.0.2.tar.gz (36 kB)\n",
            "Collecting geocoder\n",
            "  Downloading geocoder-1.38.1-py2.py3-none-any.whl (98 kB)\n",
            "\u001b[K     |████████████████████████████████| 98 kB 6.2 MB/s \n",
            "\u001b[?25hCollecting jupyterlab>=3\n",
            "  Downloading jupyterlab-3.2.9-py3-none-any.whl (8.5 MB)\n",
            "\u001b[K     |████████████████████████████████| 8.5 MB 44.3 MB/s \n",
            "\u001b[?25hCollecting ipyfilechooser>=0.6.0\n",
            "  Downloading ipyfilechooser-0.6.0-py3-none-any.whl (11 kB)\n",
            "Collecting geeadd>=0.5.1\n",
            "  Downloading geeadd-0.5.5-py3-none-any.whl (30 kB)\n",
            "Requirement already satisfied: numpy in /usr/local/lib/python3.7/dist-packages (from geemap) (1.21.5)\n",
            "Collecting sankee\n",
            "  Downloading sankee-0.0.7.tar.gz (29 kB)\n",
            "Requirement already satisfied: googledrivedownloader in /usr/local/lib/python3.7/dist-packages (from geemap) (0.4)\n",
            "Collecting bqplot\n",
            "  Downloading bqplot-0.12.33-py2.py3-none-any.whl (1.2 MB)\n",
            "\u001b[K     |████████████████████████████████| 1.2 MB 51.6 MB/s \n",
            "\u001b[?25hCollecting ipyleaflet>=0.14.0\n",
            "  Downloading ipyleaflet-0.15.0-py2.py3-none-any.whl (3.3 MB)\n",
            "\u001b[K     |████████████████████████████████| 3.3 MB 60.3 MB/s \n",
            "\u001b[?25hRequirement already satisfied: pandas in /usr/local/lib/python3.7/dist-packages (from geemap) (1.3.5)\n",
            "Collecting mss\n",
            "  Downloading mss-6.1.0-py3-none-any.whl (76 kB)\n",
            "\u001b[K     |████████████████████████████████| 76 kB 4.4 MB/s \n",
            "\u001b[?25hRequirement already satisfied: pillow in /usr/local/lib/python3.7/dist-packages (from geemap) (7.1.2)\n",
            "Collecting python-box\n",
            "  Downloading python_box-5.4.1-py3-none-any.whl (21 kB)\n",
            "Collecting ffmpeg-python\n",
            "  Downloading ffmpeg_python-0.2.0-py3-none-any.whl (25 kB)\n",
            "Collecting colour\n",
            "  Downloading colour-0.1.5-py2.py3-none-any.whl (23 kB)\n",
            "Collecting ipyevents\n",
            "  Downloading ipyevents-2.0.1-py2.py3-none-any.whl (130 kB)\n",
            "\u001b[K     |████████████████████████████████| 130 kB 63.8 MB/s \n",
            "\u001b[?25hCollecting ipytree\n",
            "  Downloading ipytree-0.2.1-py2.py3-none-any.whl (1.3 MB)\n",
            "\u001b[K     |████████████████████████████████| 1.3 MB 49.3 MB/s \n",
            "\u001b[?25hRequirement already satisfied: httplib2shim in /usr/local/lib/python3.7/dist-packages (from earthengine-api>=0.1.230->geemap) (0.0.3)\n",
            "Requirement already satisfied: google-auth>=1.4.1 in /usr/local/lib/python3.7/dist-packages (from earthengine-api>=0.1.230->geemap) (1.35.0)\n",
            "Requirement already satisfied: google-api-python-client<2,>=1.12.1 in /usr/local/lib/python3.7/dist-packages (from earthengine-api>=0.1.230->geemap) (1.12.10)\n",
            "Requirement already satisfied: google-cloud-storage in /usr/local/lib/python3.7/dist-packages (from earthengine-api>=0.1.230->geemap) (1.18.1)\n",
            "Requirement already satisfied: google-auth-httplib2>=0.0.3 in /usr/local/lib/python3.7/dist-packages (from earthengine-api>=0.1.230->geemap) (0.0.4)\n",
            "Requirement already satisfied: httplib2<1dev,>=0.9.2 in /usr/local/lib/python3.7/dist-packages (from earthengine-api>=0.1.230->geemap) (0.17.4)\n",
            "Requirement already satisfied: six in /usr/local/lib/python3.7/dist-packages (from earthengine-api>=0.1.230->geemap) (1.15.0)\n",
            "Requirement already satisfied: future in /usr/local/lib/python3.7/dist-packages (from earthengine-api>=0.1.230->geemap) (0.16.0)\n",
            "Requirement already satisfied: branca>=0.3.0 in /usr/local/lib/python3.7/dist-packages (from folium>=0.11.0->geemap) (0.4.2)\n",
            "Requirement already satisfied: jinja2>=2.9 in /usr/local/lib/python3.7/dist-packages (from folium>=0.11.0->geemap) (2.11.3)\n",
            "Requirement already satisfied: requests in /usr/local/lib/python3.7/dist-packages (from folium>=0.11.0->geemap) (2.23.0)\n",
            "Collecting beautifulsoup4>=4.9.0\n",
            "  Downloading beautifulsoup4-4.10.0-py3-none-any.whl (97 kB)\n",
            "\u001b[K     |████████████████████████████████| 97 kB 7.1 MB/s \n",
            "\u001b[?25hCollecting logzero>=1.5.0\n",
            "  Downloading logzero-1.7.0-py2.py3-none-any.whl (16 kB)\n",
            "Collecting soupsieve>1.2\n",
            "  Downloading soupsieve-2.3.1-py3-none-any.whl (37 kB)\n",
            "Requirement already satisfied: uritemplate<4dev,>=3.0.0 in /usr/local/lib/python3.7/dist-packages (from google-api-python-client<2,>=1.12.1->earthengine-api>=0.1.230->geemap) (3.0.1)\n",
            "Requirement already satisfied: google-api-core<3dev,>=1.21.0 in /usr/local/lib/python3.7/dist-packages (from google-api-python-client<2,>=1.12.1->earthengine-api>=0.1.230->geemap) (1.26.3)\n",
            "Requirement already satisfied: packaging>=14.3 in /usr/local/lib/python3.7/dist-packages (from google-api-core<3dev,>=1.21.0->google-api-python-client<2,>=1.12.1->earthengine-api>=0.1.230->geemap) (21.3)\n",
            "Requirement already satisfied: googleapis-common-protos<2.0dev,>=1.6.0 in /usr/local/lib/python3.7/dist-packages (from google-api-core<3dev,>=1.21.0->google-api-python-client<2,>=1.12.1->earthengine-api>=0.1.230->geemap) (1.54.0)\n",
            "Requirement already satisfied: protobuf>=3.12.0 in /usr/local/lib/python3.7/dist-packages (from google-api-core<3dev,>=1.21.0->google-api-python-client<2,>=1.12.1->earthengine-api>=0.1.230->geemap) (3.17.3)\n",
            "Requirement already satisfied: setuptools>=40.3.0 in /usr/local/lib/python3.7/dist-packages (from google-api-core<3dev,>=1.21.0->google-api-python-client<2,>=1.12.1->earthengine-api>=0.1.230->geemap) (57.4.0)\n",
            "Requirement already satisfied: pytz in /usr/local/lib/python3.7/dist-packages (from google-api-core<3dev,>=1.21.0->google-api-python-client<2,>=1.12.1->earthengine-api>=0.1.230->geemap) (2018.9)\n",
            "Requirement already satisfied: pyasn1-modules>=0.2.1 in /usr/local/lib/python3.7/dist-packages (from google-auth>=1.4.1->earthengine-api>=0.1.230->geemap) (0.2.8)\n",
            "Requirement already satisfied: rsa<5,>=3.1.4 in /usr/local/lib/python3.7/dist-packages (from google-auth>=1.4.1->earthengine-api>=0.1.230->geemap) (4.8)\n",
            "Requirement already satisfied: cachetools<5.0,>=2.0.0 in /usr/local/lib/python3.7/dist-packages (from google-auth>=1.4.1->earthengine-api>=0.1.230->geemap) (4.2.4)\n",
            "Requirement already satisfied: ipywidgets<8,>=7.6.0 in /usr/local/lib/python3.7/dist-packages (from here-map-widget-for-jupyter>=1.1.1->geemap) (7.6.5)\n",
            "Collecting traittypes<3,>=0.2.1\n",
            "  Downloading traittypes-0.2.1-py2.py3-none-any.whl (8.6 kB)\n",
            "Requirement already satisfied: ipykernel>=4.5.1 in /usr/local/lib/python3.7/dist-packages (from ipywidgets<8,>=7.6.0->here-map-widget-for-jupyter>=1.1.1->geemap) (4.10.1)\n",
            "Requirement already satisfied: jupyterlab-widgets>=1.0.0 in /usr/local/lib/python3.7/dist-packages (from ipywidgets<8,>=7.6.0->here-map-widget-for-jupyter>=1.1.1->geemap) (1.0.2)\n",
            "Requirement already satisfied: ipython-genutils~=0.2.0 in /usr/local/lib/python3.7/dist-packages (from ipywidgets<8,>=7.6.0->here-map-widget-for-jupyter>=1.1.1->geemap) (0.2.0)\n",
            "Requirement already satisfied: nbformat>=4.2.0 in /usr/local/lib/python3.7/dist-packages (from ipywidgets<8,>=7.6.0->here-map-widget-for-jupyter>=1.1.1->geemap) (5.1.3)\n",
            "Requirement already satisfied: widgetsnbextension~=3.5.0 in /usr/local/lib/python3.7/dist-packages (from ipywidgets<8,>=7.6.0->here-map-widget-for-jupyter>=1.1.1->geemap) (3.5.2)\n",
            "Requirement already satisfied: ipython>=4.0.0 in /usr/local/lib/python3.7/dist-packages (from ipywidgets<8,>=7.6.0->here-map-widget-for-jupyter>=1.1.1->geemap) (5.5.0)\n",
            "Requirement already satisfied: traitlets>=4.3.1 in /usr/local/lib/python3.7/dist-packages (from ipywidgets<8,>=7.6.0->here-map-widget-for-jupyter>=1.1.1->geemap) (5.1.1)\n",
            "Requirement already satisfied: jupyter-client in /usr/local/lib/python3.7/dist-packages (from ipykernel>=4.5.1->ipywidgets<8,>=7.6.0->here-map-widget-for-jupyter>=1.1.1->geemap) (5.3.5)\n",
            "Requirement already satisfied: tornado>=4.0 in /usr/local/lib/python3.7/dist-packages (from ipykernel>=4.5.1->ipywidgets<8,>=7.6.0->here-map-widget-for-jupyter>=1.1.1->geemap) (5.1.1)\n",
            "Requirement already satisfied: pygments in /usr/local/lib/python3.7/dist-packages (from ipython>=4.0.0->ipywidgets<8,>=7.6.0->here-map-widget-for-jupyter>=1.1.1->geemap) (2.6.1)\n",
            "Requirement already satisfied: simplegeneric>0.8 in /usr/local/lib/python3.7/dist-packages (from ipython>=4.0.0->ipywidgets<8,>=7.6.0->here-map-widget-for-jupyter>=1.1.1->geemap) (0.8.1)\n",
            "Requirement already satisfied: pickleshare in /usr/local/lib/python3.7/dist-packages (from ipython>=4.0.0->ipywidgets<8,>=7.6.0->here-map-widget-for-jupyter>=1.1.1->geemap) (0.7.5)\n",
            "Requirement already satisfied: decorator in /usr/local/lib/python3.7/dist-packages (from ipython>=4.0.0->ipywidgets<8,>=7.6.0->here-map-widget-for-jupyter>=1.1.1->geemap) (4.4.2)\n",
            "Requirement already satisfied: pexpect in /usr/local/lib/python3.7/dist-packages (from ipython>=4.0.0->ipywidgets<8,>=7.6.0->here-map-widget-for-jupyter>=1.1.1->geemap) (4.8.0)\n",
            "Requirement already satisfied: prompt-toolkit<2.0.0,>=1.0.4 in /usr/local/lib/python3.7/dist-packages (from ipython>=4.0.0->ipywidgets<8,>=7.6.0->here-map-widget-for-jupyter>=1.1.1->geemap) (1.0.18)\n",
            "Requirement already satisfied: MarkupSafe>=0.23 in /usr/local/lib/python3.7/dist-packages (from jinja2>=2.9->folium>=0.11.0->geemap) (2.0.1)\n",
            "Requirement already satisfied: jupyter-core in /usr/local/lib/python3.7/dist-packages (from jupyterlab>=3->geemap) (4.9.2)\n",
            "Collecting jupyterlab-server~=2.3\n",
            "  Downloading jupyterlab_server-2.10.3-py3-none-any.whl (61 kB)\n",
            "\u001b[K     |████████████████████████████████| 61 kB 7.9 MB/s \n",
            "\u001b[?25hCollecting jupyter-server~=1.4\n",
            "  Downloading jupyter_server-1.13.5-py3-none-any.whl (397 kB)\n",
            "\u001b[K     |████████████████████████████████| 397 kB 53.1 MB/s \n",
            "\u001b[?25hCollecting nbclassic~=0.2\n",
            "  Downloading nbclassic-0.3.5-py3-none-any.whl (25 kB)\n",
            "Collecting tornado>=4.0\n",
            "  Downloading tornado-6.1-cp37-cp37m-manylinux2010_x86_64.whl (428 kB)\n",
            "\u001b[K     |████████████████████████████████| 428 kB 61.2 MB/s \n",
            "\u001b[?25hRequirement already satisfied: terminado>=0.8.3 in /usr/local/lib/python3.7/dist-packages (from jupyter-server~=1.4->jupyterlab>=3->geemap) (0.13.1)\n",
            "Collecting websocket-client\n",
            "  Downloading websocket_client-1.3.1-py3-none-any.whl (54 kB)\n",
            "\u001b[K     |████████████████████████████████| 54 kB 2.9 MB/s \n",
            "\u001b[?25hCollecting anyio<4,>=3.1.0\n",
            "  Downloading anyio-3.5.0-py3-none-any.whl (79 kB)\n",
            "\u001b[K     |████████████████████████████████| 79 kB 8.6 MB/s \n",
            "\u001b[?25hCollecting jupyter-client\n",
            "  Downloading jupyter_client-7.1.2-py3-none-any.whl (130 kB)\n",
            "\u001b[K     |████████████████████████████████| 130 kB 60.6 MB/s \n",
            "\u001b[?25hRequirement already satisfied: nbconvert in /usr/local/lib/python3.7/dist-packages (from jupyter-server~=1.4->jupyterlab>=3->geemap) (5.6.1)\n",
            "Requirement already satisfied: prometheus-client in /usr/local/lib/python3.7/dist-packages (from jupyter-server~=1.4->jupyterlab>=3->geemap) (0.13.1)\n",
            "Requirement already satisfied: argon2-cffi in /usr/local/lib/python3.7/dist-packages (from jupyter-server~=1.4->jupyterlab>=3->geemap) (21.3.0)\n",
            "Requirement already satisfied: Send2Trash in /usr/local/lib/python3.7/dist-packages (from jupyter-server~=1.4->jupyterlab>=3->geemap) (1.8.0)\n",
            "Requirement already satisfied: pyzmq>=17 in /usr/local/lib/python3.7/dist-packages (from jupyter-server~=1.4->jupyterlab>=3->geemap) (22.3.0)\n",
            "Collecting sniffio>=1.1\n",
            "  Downloading sniffio-1.2.0-py3-none-any.whl (10 kB)\n",
            "Requirement already satisfied: typing-extensions in /usr/local/lib/python3.7/dist-packages (from anyio<4,>=3.1.0->jupyter-server~=1.4->jupyterlab>=3->geemap) (3.10.0.2)\n",
            "Requirement already satisfied: idna>=2.8 in /usr/local/lib/python3.7/dist-packages (from anyio<4,>=3.1.0->jupyter-server~=1.4->jupyterlab>=3->geemap) (2.10)\n",
            "Requirement already satisfied: entrypoints in /usr/local/lib/python3.7/dist-packages (from jupyter-client->ipykernel>=4.5.1->ipywidgets<8,>=7.6.0->here-map-widget-for-jupyter>=1.1.1->geemap) (0.4)\n",
            "Requirement already satisfied: python-dateutil>=2.1 in /usr/local/lib/python3.7/dist-packages (from jupyter-client->ipykernel>=4.5.1->ipywidgets<8,>=7.6.0->here-map-widget-for-jupyter>=1.1.1->geemap) (2.8.2)\n",
            "Requirement already satisfied: nest-asyncio>=1.5 in /usr/local/lib/python3.7/dist-packages (from jupyter-client->ipykernel>=4.5.1->ipywidgets<8,>=7.6.0->here-map-widget-for-jupyter>=1.1.1->geemap) (1.5.4)\n",
            "Requirement already satisfied: jsonschema>=3.0.1 in /usr/local/lib/python3.7/dist-packages (from jupyterlab-server~=2.3->jupyterlab>=3->geemap) (4.3.3)\n",
            "Collecting json5\n",
            "  Downloading json5-0.9.6-py2.py3-none-any.whl (18 kB)\n",
            "Requirement already satisfied: babel in /usr/local/lib/python3.7/dist-packages (from jupyterlab-server~=2.3->jupyterlab>=3->geemap) (2.9.1)\n",
            "Requirement already satisfied: attrs>=17.4.0 in /usr/local/lib/python3.7/dist-packages (from jsonschema>=3.0.1->jupyterlab-server~=2.3->jupyterlab>=3->geemap) (21.4.0)\n",
            "Requirement already satisfied: importlib-resources>=1.4.0 in /usr/local/lib/python3.7/dist-packages (from jsonschema>=3.0.1->jupyterlab-server~=2.3->jupyterlab>=3->geemap) (5.4.0)\n",
            "Requirement already satisfied: pyrsistent!=0.17.0,!=0.17.1,!=0.17.2,>=0.14.0 in /usr/local/lib/python3.7/dist-packages (from jsonschema>=3.0.1->jupyterlab-server~=2.3->jupyterlab>=3->geemap) (0.18.1)\n",
            "Requirement already satisfied: importlib-metadata in /usr/local/lib/python3.7/dist-packages (from jsonschema>=3.0.1->jupyterlab-server~=2.3->jupyterlab>=3->geemap) (4.11.1)\n",
            "Requirement already satisfied: zipp>=3.1.0 in /usr/local/lib/python3.7/dist-packages (from importlib-resources>=1.4.0->jsonschema>=3.0.1->jupyterlab-server~=2.3->jupyterlab>=3->geemap) (3.7.0)\n",
            "Requirement already satisfied: notebook<7 in /usr/local/lib/python3.7/dist-packages (from nbclassic~=0.2->jupyterlab>=3->geemap) (5.3.1)\n",
            "Requirement already satisfied: pyparsing!=3.0.5,>=2.0.2 in /usr/local/lib/python3.7/dist-packages (from packaging>=14.3->google-api-core<3dev,>=1.21.0->google-api-python-client<2,>=1.12.1->earthengine-api>=0.1.230->geemap) (3.0.7)\n",
            "Requirement already satisfied: wcwidth in /usr/local/lib/python3.7/dist-packages (from prompt-toolkit<2.0.0,>=1.0.4->ipython>=4.0.0->ipywidgets<8,>=7.6.0->here-map-widget-for-jupyter>=1.1.1->geemap) (0.2.5)\n",
            "Requirement already satisfied: pyasn1<0.5.0,>=0.4.6 in /usr/local/lib/python3.7/dist-packages (from pyasn1-modules>=0.2.1->google-auth>=1.4.1->earthengine-api>=0.1.230->geemap) (0.4.8)\n",
            "Requirement already satisfied: urllib3!=1.25.0,!=1.25.1,<1.26,>=1.21.1 in /usr/local/lib/python3.7/dist-packages (from requests->folium>=0.11.0->geemap) (1.24.3)\n",
            "Requirement already satisfied: chardet<4,>=3.0.2 in /usr/local/lib/python3.7/dist-packages (from requests->folium>=0.11.0->geemap) (3.0.4)\n",
            "Requirement already satisfied: certifi>=2017.4.17 in /usr/local/lib/python3.7/dist-packages (from requests->folium>=0.11.0->geemap) (2021.10.8)\n",
            "Requirement already satisfied: ptyprocess in /usr/local/lib/python3.7/dist-packages (from terminado>=0.8.3->jupyter-server~=1.4->jupyterlab>=3->geemap) (0.7.0)\n",
            "Collecting whitebox\n",
            "  Downloading whitebox-2.1.2-py2.py3-none-any.whl (75 kB)\n",
            "\u001b[K     |████████████████████████████████| 75 kB 5.2 MB/s \n",
            "\u001b[?25hRequirement already satisfied: argon2-cffi-bindings in /usr/local/lib/python3.7/dist-packages (from argon2-cffi->jupyter-server~=1.4->jupyterlab>=3->geemap) (21.2.0)\n",
            "Requirement already satisfied: cffi>=1.0.1 in /usr/local/lib/python3.7/dist-packages (from argon2-cffi-bindings->argon2-cffi->jupyter-server~=1.4->jupyterlab>=3->geemap) (1.15.0)\n",
            "Requirement already satisfied: pycparser in /usr/local/lib/python3.7/dist-packages (from cffi>=1.0.1->argon2-cffi-bindings->argon2-cffi->jupyter-server~=1.4->jupyterlab>=3->geemap) (2.21)\n",
            "Collecting ratelim\n",
            "  Downloading ratelim-0.1.6-py2.py3-none-any.whl (4.0 kB)\n",
            "Requirement already satisfied: google-resumable-media<0.5.0dev,>=0.3.1 in /usr/local/lib/python3.7/dist-packages (from google-cloud-storage->earthengine-api>=0.1.230->geemap) (0.4.1)\n",
            "Requirement already satisfied: google-cloud-core<2.0dev,>=1.0.0 in /usr/local/lib/python3.7/dist-packages (from google-cloud-storage->earthengine-api>=0.1.230->geemap) (1.0.3)\n",
            "Requirement already satisfied: kiwisolver>=1.0.1 in /usr/local/lib/python3.7/dist-packages (from matplotlib->geemap) (1.3.2)\n",
            "Requirement already satisfied: cycler>=0.10 in /usr/local/lib/python3.7/dist-packages (from matplotlib->geemap) (0.11.0)\n",
            "Requirement already satisfied: bleach in /usr/local/lib/python3.7/dist-packages (from nbconvert->jupyter-server~=1.4->jupyterlab>=3->geemap) (4.1.0)\n",
            "Requirement already satisfied: pandocfilters>=1.4.1 in /usr/local/lib/python3.7/dist-packages (from nbconvert->jupyter-server~=1.4->jupyterlab>=3->geemap) (1.5.0)\n",
            "Requirement already satisfied: mistune<2,>=0.8.1 in /usr/local/lib/python3.7/dist-packages (from nbconvert->jupyter-server~=1.4->jupyterlab>=3->geemap) (0.8.4)\n",
            "Requirement already satisfied: defusedxml in /usr/local/lib/python3.7/dist-packages (from nbconvert->jupyter-server~=1.4->jupyterlab>=3->geemap) (0.7.1)\n",
            "Requirement already satisfied: testpath in /usr/local/lib/python3.7/dist-packages (from nbconvert->jupyter-server~=1.4->jupyterlab>=3->geemap) (0.5.0)\n",
            "Requirement already satisfied: webencodings in /usr/local/lib/python3.7/dist-packages (from bleach->nbconvert->jupyter-server~=1.4->jupyterlab>=3->geemap) (0.5.1)\n",
            "Collecting pyproj>=2\n",
            "  Downloading pyproj-3.2.1-cp37-cp37m-manylinux2010_x86_64.whl (6.3 MB)\n",
            "\u001b[K     |████████████████████████████████| 6.3 MB 41.3 MB/s \n",
            "\u001b[?25hRequirement already satisfied: pyyaml in /usr/local/lib/python3.7/dist-packages (from owslib->geemap) (3.13)\n",
            "Requirement already satisfied: tenacity>=6.2.0 in /usr/local/lib/python3.7/dist-packages (from plotly->geemap) (8.0.1)\n",
            "Requirement already satisfied: nbclient<0.6,>=0.4.0 in /usr/local/lib/python3.7/dist-packages (from voila->geemap) (0.5.11)\n",
            "Collecting websockets>=9.0\n",
            "  Downloading websockets-10.2-cp37-cp37m-manylinux_2_5_x86_64.manylinux1_x86_64.manylinux_2_12_x86_64.manylinux2010_x86_64.whl (111 kB)\n",
            "\u001b[K     |████████████████████████████████| 111 kB 56.9 MB/s \n",
            "\u001b[?25hCollecting nbconvert\n",
            "  Downloading nbconvert-6.4.2-py3-none-any.whl (558 kB)\n",
            "\u001b[K     |████████████████████████████████| 558 kB 50.6 MB/s \n",
            "\u001b[?25hRequirement already satisfied: jupyterlab-pygments in /usr/local/lib/python3.7/dist-packages (from nbconvert->jupyter-server~=1.4->jupyterlab>=3->geemap) (0.1.2)\n",
            "Building wheels for collected packages: ee-extra, ipynb-py-convert, pycrs, sankee\n",
            "  Building wheel for ee-extra (setup.py) ... \u001b[?25l\u001b[?25hdone\n",
            "  Created wheel for ee-extra: filename=ee_extra-0.0.10-py3-none-any.whl size=186748 sha256=8863e0d7907383f0146d38ddc1a3e6c060eacd9f81888ddad055b2265ef3d20a\n",
            "  Stored in directory: /root/.cache/pip/wheels/17/e0/8f/c3553eed58285eb5fec73002519406ef543a949fee1c96c3c8\n",
            "  Building wheel for ipynb-py-convert (setup.py) ... \u001b[?25l\u001b[?25hdone\n",
            "  Created wheel for ipynb-py-convert: filename=ipynb_py_convert-0.4.6-py3-none-any.whl size=4640 sha256=a1336cb7671b7389b63cb76ba47107a44bb662b65d8b7541a3ed8540c8fb7978\n",
            "  Stored in directory: /root/.cache/pip/wheels/af/31/a9/761b134adbbca3c92d491eff3bad785c0a0c0079695d6f0504\n",
            "  Building wheel for pycrs (setup.py) ... \u001b[?25l\u001b[?25hdone\n",
            "  Created wheel for pycrs: filename=PyCRS-1.0.2-py3-none-any.whl size=32704 sha256=792486ac5e34bf94faa5b96b9d1f1854f86a273de669c5e235fdcd1d6113b454\n",
            "  Stored in directory: /root/.cache/pip/wheels/3e/ce/32/1ec0aba6b9770681a423e82f0274c57d09ad2c20c2864901f9\n",
            "  Building wheel for sankee (setup.py) ... \u001b[?25l\u001b[?25hdone\n",
            "  Created wheel for sankee: filename=sankee-0.0.7-py3-none-any.whl size=27639 sha256=f0629451f7dc707e0cef890bb1359b211091a92360c2ae997436ac60f3c06382\n",
            "  Stored in directory: /root/.cache/pip/wheels/13/28/83/5726f82a8cb0baf76169d99ee0595c420afedb9020e22bbd4b\n",
            "Successfully built ee-extra ipynb-py-convert pycrs sankee\n",
            "Installing collected packages: tornado, jupyter-client, nbconvert, sniffio, websocket-client, anyio, soupsieve, jupyter-server, json5, xyzservices, whitebox, websockets, traittypes, ratelim, pyproj, nbclassic, logzero, jupyterlab-server, ipytree, ipyfilechooser, beautifulsoup4, whiteboxgui, voila, sankee, python-box, pycrs, owslib, mss, jupyterlab, ipynb-py-convert, ipyleaflet, ipyevents, here-map-widget-for-jupyter, geojson, geocoder, geeadd, folium, ffmpeg-python, ee-extra, colour, bqplot, geemap\n",
            "  Attempting uninstall: tornado\n",
            "    Found existing installation: tornado 5.1.1\n",
            "    Uninstalling tornado-5.1.1:\n",
            "      Successfully uninstalled tornado-5.1.1\n",
            "  Attempting uninstall: jupyter-client\n",
            "    Found existing installation: jupyter-client 5.3.5\n",
            "    Uninstalling jupyter-client-5.3.5:\n",
            "      Successfully uninstalled jupyter-client-5.3.5\n",
            "  Attempting uninstall: nbconvert\n",
            "    Found existing installation: nbconvert 5.6.1\n",
            "    Uninstalling nbconvert-5.6.1:\n",
            "      Successfully uninstalled nbconvert-5.6.1\n",
            "  Attempting uninstall: beautifulsoup4\n",
            "    Found existing installation: beautifulsoup4 4.6.3\n",
            "    Uninstalling beautifulsoup4-4.6.3:\n",
            "      Successfully uninstalled beautifulsoup4-4.6.3\n",
            "  Attempting uninstall: folium\n",
            "    Found existing installation: folium 0.8.3\n",
            "    Uninstalling folium-0.8.3:\n",
            "      Successfully uninstalled folium-0.8.3\n",
            "\u001b[31mERROR: pip's dependency resolver does not currently take into account all the packages that are installed. This behaviour is the source of the following dependency conflicts.\n",
            "google-colab 1.0.0 requires tornado~=5.1.0; python_version >= \"3.0\", but you have tornado 6.1 which is incompatible.\n",
            "datascience 0.10.6 requires folium==0.2.1, but you have folium 0.12.1.post1 which is incompatible.\u001b[0m\n",
            "Successfully installed anyio-3.5.0 beautifulsoup4-4.10.0 bqplot-0.12.33 colour-0.1.5 ee-extra-0.0.10 ffmpeg-python-0.2.0 folium-0.12.1.post1 geeadd-0.5.5 geemap-0.11.5 geocoder-1.38.1 geojson-2.5.0 here-map-widget-for-jupyter-1.1.3 ipyevents-2.0.1 ipyfilechooser-0.6.0 ipyleaflet-0.15.0 ipynb-py-convert-0.4.6 ipytree-0.2.1 json5-0.9.6 jupyter-client-7.1.2 jupyter-server-1.13.5 jupyterlab-3.2.9 jupyterlab-server-2.10.3 logzero-1.7.0 mss-6.1.0 nbclassic-0.3.5 nbconvert-6.4.2 owslib-0.25.0 pycrs-1.0.2 pyproj-3.2.1 python-box-5.4.1 ratelim-0.1.6 sankee-0.0.7 sniffio-1.2.0 soupsieve-2.3.1 tornado-6.1 traittypes-0.2.1 voila-0.3.2 websocket-client-1.3.1 websockets-10.2 whitebox-2.1.2 whiteboxgui-0.7.0 xyzservices-2022.2.0\n"
          ]
        },
        {
          "output_type": "display_data",
          "data": {
            "application/vnd.colab-display-data+json": {
              "pip_warning": {
                "packages": [
                  "jupyter_client",
                  "tornado"
                ]
              }
            }
          },
          "metadata": {}
        }
      ]
    },
    {
      "cell_type": "code",
      "source": [
        "import ee\n",
        "# Trigger the authentication flow.\n",
        "ee.Authenticate()\n",
        "\n",
        "# Initialize the library.\n",
        "ee.Initialize()"
      ],
      "metadata": {
        "id": "_nmJFN9-8Rh1"
      },
      "execution_count": null,
      "outputs": []
    },
    {
      "cell_type": "code",
      "source": [
        "import geemap\n",
        "import json\n",
        "import os\n",
        "import requests\n",
        "from geemap import geojson_to_ee, ee_to_geojson\n",
        "from ipyleaflet import GeoJSON"
      ],
      "metadata": {
        "id": "apO4rokW8lSB"
      },
      "execution_count": 4,
      "outputs": []
    },
    {
      "cell_type": "code",
      "source": [
        "file_path = os.path.abspath('/content/drive/MyDrive/AnkaraMahalleler.geojson')\n",
        "with open(file_path) as f:\n",
        "    json_data = json.load(f)\n",
        "    print (json_data)"
      ],
      "metadata": {
        "colab": {
          "base_uri": "https://localhost:8080/"
        },
        "id": "icD6KJ5F8uWO",
        "outputId": "9a70d12f-ac1a-4034-9366-13944c40ab07"
      },
      "execution_count": 6,
      "outputs": [
        {
          "output_type": "stream",
          "name": "stdout",
          "text": [
            "{'type': 'FeatureCollection', 'features': [{'geometry': {'coordinates': [[[32.66558686716756, 39.78868814216332], [32.668052809375844, 39.7884725142255], [32.669701191968194, 39.78859829878445], [32.66960239838077, 39.78763709837098], [32.66984938217096, 39.786671391273636], [32.67069834669936, 39.785499081124605], [32.672283843280205, 39.78401234640966], [32.676106192695705, 39.78152401610453], [32.67676641087531, 39.78016309363173], [32.67717965926069, 39.778986283510775], [32.67769617429968, 39.778424829919544], [32.67845973599038, 39.77813291676975], [32.67933112722727, 39.77809245287712], [32.6808223622315, 39.77857758213614], [32.68321182713863, 39.77998346280877], [32.68443804293345, 39.77981274180678], [32.68647722126645, 39.779669047994894], [32.688592724606494, 39.77960166898425], [32.68994919572909, 39.780010370250395], [32.69130116704963, 39.7801765824972], [32.69210065412178, 39.78003283248253], [32.693416743110284, 39.78056281381056], [32.694862956291246, 39.780028396230016], [32.69626433288352, 39.781577982649864], [32.69439591268315, 39.782054018832106], [32.69591399053433, 39.78267836128064], [32.69612066250064, 39.783136547832406], [32.69543342057885, 39.78423244511866], [32.6958466798497, 39.78496456051558], [32.69741420578942, 39.785283502070975], [32.69772412285413, 39.78562933533608], [32.69852364594182, 39.78600662219117], [32.698137372874776, 39.787385558481716], [32.69931411363439, 39.78758767443119], [32.70060322130792, 39.788265891351], [32.7012140723805, 39.78853540589052], [32.701667726911474, 39.788899192929016], [32.701991161369634, 39.789276478713894], [32.70373388067516, 39.79025118349053], [32.704740011348136, 39.790668871684], [32.70504094375561, 39.7905611021158], [32.70583144726144, 39.791091078901104], [32.706617463493174, 39.79171090393736], [32.70598415256525, 39.79210617234555], [32.70725077049837, 39.79222294856726], [32.71074522061471, 39.7963731745764], [32.71265410110889, 39.7976533216378], [32.7119804130664, 39.79885702861927], [32.71137850204755, 39.801385833782014], [32.711418916799644, 39.80488477104796], [32.711046135345875, 39.80845102148291], [32.710722729529635, 39.80966375054995], [32.71080812668846, 39.811357054720645], [32.71085302264344, 39.812852759865535], [32.71090688052887, 39.8162888223974], [32.710439737829354, 39.81901074247697], [32.71090239955388, 39.819715954166085], [32.70967624230557, 39.82381669444328], [32.70744389000615, 39.82285550934069], [32.70637039600087, 39.822680391471884], [32.70451543177512, 39.82264443797073], [32.702916386828804, 39.82288695398485], [32.693281946037445, 39.82731117911696], [32.69018277103748, 39.82338555622807], [32.684999514886385, 39.823767305672554], [32.682753694809236, 39.82365504579116], [32.67879660470466, 39.817663253661735], [32.678841514702945, 39.81512106461922], [32.678841514702945, 39.814200306536854], [32.678423790619526, 39.81237217207095], [32.67642505300538, 39.80938533182134], [32.674331969965976, 39.80657803717067], [32.67424662857889, 39.80475445666873], [32.672935120795515, 39.8045703588275], [32.67174488753552, 39.80386063783063], [32.673038393805875, 39.802041606144535], [32.67245452924996, 39.80167775530142], [32.671758335601986, 39.80099055565636], [32.671479805096226, 39.80028535991698], [32.67166850938099, 39.7999035579178], [32.66921610247164, 39.798668378904416], [32.668748941963194, 39.79790935450206], [32.67027610669004, 39.79717272640153], [32.669391276337954, 39.79560064592744], [32.66767099049971, 39.79281136528168], [32.666116889391624, 39.79018832582012], [32.66593274404959, 39.78977060396614], [32.665771013130204, 39.78924507424898], [32.66558686716756, 39.78868814216332]]], 'type': 'Polygon'}, 'id': '00000069d16f8a4d3ad4', 'properties': {'ADI': 'İncek Mh.', 'ID': 14380.0, 'ILCE_ID': 1744.0, 'IL_ID': 6, 'Nufus': 2292.0, 'TIP': 'Mahalle', 'TIPKOD': 7.0}, 'type': 'Feature'}, {'geometry': {'coordinates': [[[32.59488054386669, 39.819042202589756], [32.595316206220915, 39.818166339907215], [32.59543292891186, 39.81669311565856], [32.60301927580905, 39.82049293767433], [32.60704820413365, 39.81566901879493], [32.602309586385616, 39.812196992958945], [32.60604206505581, 39.80688350510584], [32.60897057187149, 39.80573811025109], [32.61253685473168, 39.80428286804854], [32.61584270476035, 39.80266588146587], [32.62405326444763, 39.7976488291077], [32.62718841544265, 39.79441037661573], [32.63041781786551, 39.79467093278284], [32.63313978237371, 39.79358393341421], [32.63338228321306, 39.788890247683575], [32.63876768981327, 39.78490621638898], [32.643075122308645, 39.786478278288065], [32.643874640297916, 39.784686091388906], [32.644391150448065, 39.782301073918646], [32.6457296670993, 39.779588188421954], [32.648258426976646, 39.78003284484662], [32.64830783405001, 39.78002383211746], [32.64830783405001, 39.77974535728178], [32.64837517593899, 39.779727452774225], [32.64837069222944, 39.780746997644194], [32.64944419018303, 39.78075151033648], [32.65494187598371, 39.7813578441645], [32.65859804232429, 39.78407977535103], [32.66028235606736, 39.78373389793292], [32.66425291981158, 39.78456933985451], [32.6645718169659, 39.7852700407839], [32.66558686716756, 39.78868814216332], [32.665771013130204, 39.78924507424898], [32.66593274404959, 39.78977060396614], [32.666116889391624, 39.79018832582012], [32.66767099049971, 39.79281136528168], [32.669391276337954, 39.79560064592744], [32.67027610669004, 39.79717272640153], [32.668748941963194, 39.79790935450206], [32.66921610247164, 39.798668378904416], [32.67166850938099, 39.7999035579178], [32.671479805096226, 39.80028535991698], [32.671758335601986, 39.80099055565636], [32.67245452924996, 39.80167775530142], [32.673038393805875, 39.802041606144535], [32.67174488753552, 39.80386063783063], [32.672935120795515, 39.8045703588275], [32.67424662857889, 39.80475445666873], [32.674331969965976, 39.80657803717067], [32.67642505300538, 39.80938533182134], [32.678423790619526, 39.81237217207095], [32.678841514702945, 39.814200306536854], [32.678841514702945, 39.81512106461922], [32.67664512551987, 39.81532766082983], [32.67542795395142, 39.817622839510264], [32.67631281842715, 39.819720370154215], [32.676793391890804, 39.822060522013835], [32.67359984200017, 39.821934749342006], [32.67086903530743, 39.81988655758224], [32.66908135977154, 39.820344772947024], [32.66733408524034, 39.81847179854409], [32.665964210856636, 39.82126100754039], [32.666507679886614, 39.8219751552195], [32.66982696830877, 39.82219973758275], [32.67167747476551, 39.82608051355817], [32.67173135326172, 39.83018580245442], [32.67068481228747, 39.833392758624754], [32.668430057788974, 39.83527923974718], [32.663152505802664, 39.837870884041216], [32.66139625026547, 39.8389174489206], [32.657600856253005, 39.83994600512633], [32.659428908366124, 39.84132939174427], [32.65712027911749, 39.84264991686639], [32.6520268337408, 39.84269036779652], [32.65153726338757, 39.84487773592704], [32.650629939710015, 39.845111300495695], [32.65016286708563, 39.84522804770811], [32.6494576411706, 39.845308922733835], [32.64858177126678, 39.84535833299068], [32.64789007192202, 39.845367354288214], [32.64773288255379, 39.84528646155508], [32.647620616604435, 39.845133758414576], [32.647512834279645, 39.844904673686926], [32.6474498893497, 39.844729525576454], [32.64743195434891, 39.84451393437065], [32.64449445216678, 39.84411419155079], [32.64430130028781, 39.84204805149877], [32.64468760368295, 39.84063318004973], [32.64199267611067, 39.840098694900114], [32.641781583546674, 39.840422099945634], [32.63676447220673, 39.83885900780849], [32.63493636197828, 39.839388999961024], [32.63426268064027, 39.839892056027416], [32.63266814592607, 39.84100149357471], [32.63238519751572, 39.84108231072645], [32.63288822595625, 39.84330121605204], [32.63257828552769, 39.84344045231063], [32.63265020834802, 39.84365152875016], [32.63217408524182, 39.84379974277812], [32.632111217164834, 39.844392607070006], [32.636926162547795, 39.84258704493464], [32.63816129590051, 39.84357970979909], [32.63827814255958, 39.843759300049435], [32.635978437942484, 39.84490465735533], [32.6371327808752, 39.84697079209581], [32.63774357878846, 39.84814308773213], [32.6341683373052, 39.84821500297664], [32.633144266747195, 39.84869556670829], [32.63267711471393, 39.84927501750443], [32.632313274510246, 39.85018677253009], [32.63092094215861, 39.84989029011612], [32.62970366001512, 39.84972413030226], [32.629070391640965, 39.84977800961038], [32.62849998969277, 39.84938280664083], [32.628100171747725, 39.849849941585134], [32.62729621905877, 39.85087397843274], [32.626537106715354, 39.8522888588582], [32.625764620937964, 39.85066736346956], [32.62102151581623, 39.84802631822154], [32.619894074478296, 39.84774338281671], [32.6167994123188, 39.847393023714815], [32.615856160139174, 39.84677314571711], [32.61352050433166, 39.84311255492774], [32.6114409766046, 39.836999494464855], [32.60770394896196, 39.82889218331606], [32.60690898074114, 39.8276480691215], [32.603171961482126, 39.823758307850646], [32.60171669393625, 39.82280614717018], [32.597234047698294, 39.82112630982696], [32.59488054386669, 39.819042202589756]]], 'type': 'Polygon'}, 'id': '000011ec35af1a02fc51', 'properties': {'ADI': 'Dodurga Mh.', 'ID': 15191.0, 'ILCE_ID': 1723.0, 'IL_ID': 6, 'Nufus': 8104.0, 'TIP': 'Mahalle', 'TIPKOD': 7.0}, 'type': 'Feature'}, {'geometry': {'coordinates': [[[32.66871299318858, 39.94830077604396], [32.67350105216763, 39.94722731812247], [32.68248872702943, 39.944599735562875], [32.68755066539216, 39.942430296520804], [32.69392421285138, 39.94011714126057], [32.69427008030769, 39.93996887589858], [32.694508127451876, 39.93986113747166], [32.69477315032284, 39.93973532004506], [32.69501119629706, 39.93961409015968], [32.69572084925779, 39.93921879005084], [32.696430583482766, 39.93875164954937], [32.70166324553156, 39.93463742886654], [32.70519813146517, 39.9318481159443], [32.70821196947126, 39.929499062871024], [32.708989005283975, 39.92898250196803], [32.710192765747834, 39.92832226327041], [32.71142796487628, 39.92773386192981], [32.71222289991101, 39.92741047260279], [32.713691682305814, 39.92693883538427], [32.714387849349556, 39.92674123162404], [32.71591054204015, 39.926395367042275], [32.7187087355027, 39.925771036183335], [32.72164178449414, 39.925146687253815], [32.72257157101015, 39.924993957107354], [32.722683841017364, 39.92461667897358], [32.72295327129846, 39.924522408219055], [32.72324079492992, 39.92451340902447], [32.72339795464272, 39.92439660288656], [32.72370339867758, 39.92400587076053], [32.724085180895585, 39.92317037694116], [32.724085180895585, 39.92265833915798], [32.72419744923824, 39.922366426418996], [32.724588276519405, 39.92150852007451], [32.7248352999573, 39.921050381902766], [32.72487570938501, 39.92066412095745], [32.72479489051359, 39.9202913223181], [32.72454778081682, 39.91998586878142], [32.72445800092528, 39.919738801991336], [32.72445352054474, 39.91937502122617], [32.72436365440907, 39.91901118746891], [32.72437261517783, 39.91887645379338], [32.724516418176535, 39.918553050356536], [32.72481281197461, 39.91813086188806], [32.72527549475877, 39.917753548222386], [32.72542817100125, 39.91738074316391], [32.725535957533786, 39.91725501826949], [32.72569768019923, 39.91716515049381], [32.7261513122007, 39.91710228342003], [32.72660494218596, 39.916931616062385], [32.72694182468797, 39.91671600371628], [32.72704512935518, 39.91668009778263], [32.72713947339276, 39.91668904894936], [32.72733264146063, 39.916716004524574], [32.72745834697833, 39.916675613093325], [32.727808667364144, 39.91635223559886], [32.72817699357565, 39.91583567250119], [32.728248849341234, 39.91579973353141], [32.72832975163545, 39.9158087188852], [32.72847346290087, 39.91584463967159], [32.72851835109037, 39.91583114434343], [32.728936129089305, 39.915202309375815], [32.72912920759893, 39.915054098755846], [32.73001403839753, 39.91464990442086], [32.73077764034642, 39.914380393918314], [32.73069225988652, 39.91392223117098], [32.73122228959853, 39.913495539334036], [32.73155915685609, 39.91303739539454], [32.73237667995596, 39.91127222065282], [32.73277186977238, 39.91090840792909], [32.734613484092655, 39.911631529360484], [32.736095642423415, 39.91205825724507], [32.737851908404046, 39.912323232629234], [32.74331814216166, 39.912547810375344], [32.744279346111725, 39.912570292203455], [32.74555496466885, 39.912736447533256], [32.747302108899525, 39.91306440200332], [32.75324451803975, 39.914901388397595], [32.7546503476298, 39.91517092322423], [32.7688258232452, 39.916877713147635], [32.76997117514468, 39.91691361751504], [32.77094582077878, 39.91689118371958], [32.77421564253029, 39.916522847513896], [32.77493430369368, 39.916509394205384], [32.77574725878673, 39.91658575864163], [32.77637161077142, 39.916729464475345], [32.77743610052815, 39.91713374748333], [32.780126597961605, 39.91820717481763], [32.7807419672209, 39.918431784829124], [32.78152344463788, 39.918633944009926], [32.78215232507252, 39.91868777705653], [32.78278111550051, 39.91868333070124], [32.78333360740934, 39.91861596197252], [32.78782516204244, 39.91807242809984], [32.788804286126926, 39.91805899616983], [32.7893388351538, 39.91814428623234], [32.789823870518056, 39.91840035955728], [32.79091981974965, 39.919056110234], [32.7942840550673, 39.92117613595424], [32.795074554962746, 39.92152645217125], [32.79546080503999, 39.92164774526541], [32.79918434908972, 39.922595498102076], [32.79829504002822, 39.92481427862687], [32.797859293821396, 39.92588784842267], [32.797625793008734, 39.92631002264375], [32.79751799672945, 39.92644927095156], [32.797149663210675, 39.92691638208061], [32.79604026349823, 39.92819198386304], [32.79479162541728, 39.92946312305593], [32.794319959618285, 39.929867337285174], [32.7938214276655, 39.93059046036136], [32.79361478157815, 39.9310531092392], [32.79351593571752, 39.93136752700781], [32.79345308072121, 39.93168647080966], [32.793444126033634, 39.932045762730375], [32.79347107619674, 39.93231972220156], [32.793524976501466, 39.93257572412369], [32.793637254360554, 39.9328677040799], [32.79379000026685, 39.93318659391536], [32.79397408719215, 39.933487536789364], [32.79421215982507, 39.933757031377965], [32.79448613639138, 39.934013100288894], [32.79615253857291, 39.93552671044879], [32.79687569383979, 39.9361690263825], [32.797100242014956, 39.93635318326898], [32.797320312520114, 39.93645646541167], [32.79714518603018, 39.9367753907783], [32.7960806446552, 39.93935357749731], [32.79600427345565, 39.93966349740631], [32.79585609422235, 39.94005875055438], [32.794773630176046, 39.939789242253234], [32.79253229361221, 39.939146949428995], [32.79043478962422, 39.938423770164235], [32.78930284273365, 39.938006089079906], [32.78667983922522, 39.937044836446276], [32.78492355488004, 39.9363621629751], [32.78411962874677, 39.93608368240371], [32.782367864054166, 39.935540206832506], [32.78019841706819, 39.93477666569091], [32.777552874229144, 39.93384240870358], [32.7761694933834, 39.93331236843746], [32.77561257048994, 39.933110250820825], [32.77494782429238, 39.9328722048232], [32.77475018224061, 39.93280483872397], [32.7744268062898, 39.93270603072743], [32.774368417659566, 39.932688013054054], [32.77363623172254, 39.93249941265742], [32.772814303233034, 39.93233319872651], [32.77228431773765, 39.93223438845991], [32.77005195818121, 39.93183018720586], [32.76783763574295, 39.93143935921921], [32.767797243352945, 39.93143487769619], [32.76774780786872, 39.93142588624815], [32.76526394528111, 39.930999193462476], [32.76490014561148, 39.93095429244814], [32.76452282265695, 39.930909388440035], [32.7638311320445, 39.93085996712463], [32.763431411791025, 39.9308330381102], [32.762762193370584, 39.93081055331557], [32.762425257024574, 39.9308060861208], [32.76223215547656, 39.93080157483322], [32.76180099164277, 39.93080608874529], [32.76042652629718, 39.93086001084193], [32.75980216251954, 39.9309049107799], [32.75958209684544, 39.93092283964908], [32.759595619485715, 39.93109802200081], [32.759564181497595, 39.93145285913217], [32.75983368656539, 39.931488809436516], [32.760004312447336, 39.93153373852607], [32.760183981794654, 39.931596593840545], [32.76039060976492, 39.93168645145643], [32.760565799636915, 39.931785211535875], [32.760731945505256, 39.93188409587843], [32.760911613567636, 39.93204127954444], [32.76114519880042, 39.93228379280638], [32.76127542750266, 39.93249041694775], [32.76142813594711, 39.93279583846629], [32.761535970536855, 39.93315515470336], [32.763638033165364, 39.93924128276804], [32.763399974988225, 39.941576849157805], [32.76335053736638, 39.94179251588517], [32.763301185848825, 39.941940666930776], [32.763184395774736, 39.94216074340706], [32.76253756926393, 39.94406523731549], [32.762281593641966, 39.94448290771249], [32.762137843927164, 39.94498145801833], [32.75836487959662, 39.94501295886751], [32.75390475474508, 39.945044363989766], [32.750760645946265, 39.94505336057263], [32.74475546519782, 39.94509377497836], [32.73876362819642, 39.94515670287171], [32.7374386467331, 39.94516114254218], [32.7310381752334, 39.94521956169555], [32.72805576916579, 39.94523748520171], [32.725365273931274, 39.945255453822746], [32.72328568542082, 39.9452779697692], [32.72002930729313, 39.94529587853466], [32.71794521560004, 39.945318396211], [32.71565901624579, 39.945322851852445], [32.71440585880662, 39.94539469280622], [32.713655749307016, 39.94546207621963], [32.712712525112046, 39.94556992608845], [32.712047799304834, 39.94567766576669], [32.71138746395558, 39.94579447882208], [32.710327454364524, 39.946037007154274], [32.709240547496044, 39.94635588487316], [32.70859820449061, 39.946567021661075], [32.70735409508181, 39.947043120535184], [32.70623113481432, 39.94755965647485], [32.70575509452401, 39.94784711161267], [32.703940450666664, 39.9489520338051], [32.701497089614975, 39.9505016258323], [32.69988455310892, 39.951534719370585], [32.69416234698661, 39.955136907771376], [32.692644156969, 39.95609811602517], [32.69140450774156, 39.95688419400926], [32.68989980870451, 39.95784087984146], [32.6893069039793, 39.9582181966468], [32.688341217819726, 39.95876616437855], [32.68733061629657, 39.95933659829534], [32.682870490734025, 39.961488066602826], [32.67882358518583, 39.963432886640426], [32.67572888631195, 39.96326222703027], [32.671142998550245, 39.96312743295814], [32.670967827675064, 39.962440274572955], [32.67092291422827, 39.961928214725596], [32.670163779175624, 39.95761185399195], [32.66995722726248, 39.95630924720589], [32.669737140396556, 39.95456200087485], [32.66969222641095, 39.954216172384896], [32.669629295073676, 39.9536188088271], [32.66933291381829, 39.95184462093517], [32.66883877074063, 39.948866696505064], [32.66871299318858, 39.94830077604396]]], 'type': 'Polygon'}, 'id': '000060764dfc2c4b098e', 'properties': {'ADI': 'Bahçekapı Mh.', 'ID': 14322.0, 'ILCE_ID': 1922.0, 'IL_ID': 6, 'Nufus': 7153.0, 'TIP': 'Mahalle', 'TIPKOD': 7.0}, 'type': 'Feature'}, {'geometry': {'coordinates': [[[32.65212564424072, 39.91049965491146], [32.65573242111413, 39.90897701856167], [32.656078244974935, 39.90660997013668], [32.65606479485402, 39.904772881255646], [32.654640968887875, 39.898309540133], [32.65690016472711, 39.898075969568204], [32.66018803660743, 39.896310752019986], [32.65973437086473, 39.89604130223307], [32.66290541968158, 39.89627034809949], [32.66469311659661, 39.89640507044438], [32.66587437956276, 39.896535360414035], [32.66869057907813, 39.89688120658709], [32.670630933241576, 39.89716864626998], [32.67134058266268, 39.89728098730817], [32.671704457119944, 39.89739772893755], [32.673168648681504, 39.89800411241148], [32.67366277090148, 39.89816130505111], [32.674147839369404, 39.89827810365822], [32.67444877548671, 39.89832299158351], [32.674718246608556, 39.89833196065418], [32.67501469850583, 39.89828705736044], [32.67525279039478, 39.898201715448714], [32.676092658997476, 39.897658241024175], [32.67769169187062, 39.896342183329146], [32.67927277036429, 39.89499026924693], [32.691831142521494, 39.90263045686043], [32.69346612843846, 39.90368144309437], [32.69441383947473, 39.904144051810796], [32.69574782528127, 39.90464266149645], [32.69676291150202, 39.9049031916963], [32.69801163128289, 39.905114219958975], [32.69885596716365, 39.90520411468933], [32.701586889682254, 39.90528494388435], [32.70815354289548, 39.905554464191496], [32.71118538997313, 39.90568467857314], [32.73183760997447, 39.90649320178896], [32.7339217626282, 39.90660096511024], [32.73407890589111, 39.90693786615514], [32.73432599250562, 39.90724328854882], [32.73444272952287, 39.90747686470443], [32.73450562099706, 39.90767898111468], [32.73451914696658, 39.907836133224194], [32.73451466702784, 39.90799335887659], [32.73449218117843, 39.90813259650404], [32.734429289695946, 39.908321231529], [32.734177723378146, 39.908792898390246], [32.733499525062946, 39.909879803447744], [32.7328077960434, 39.910823041852154], [32.73277186977238, 39.91090840792909], [32.73237667995596, 39.91127222065282], [32.73155915685609, 39.91303739539454], [32.73122228959853, 39.913495539334036], [32.73069225988652, 39.91392223117098], [32.73077764034642, 39.914380393918314], [32.73001403839753, 39.91464990442086], [32.72912920759893, 39.915054098755846], [32.728936129089305, 39.915202309375815], [32.72851835109037, 39.91583114434343], [32.72847346290087, 39.91584463967159], [32.72832975163545, 39.9158087188852], [32.728248849341234, 39.91579973353141], [32.72817699357565, 39.91583567250119], [32.727808667364144, 39.91635223559886], [32.72745834697833, 39.916675613093325], [32.72733264146063, 39.916716004524574], [32.72713947339276, 39.91668904894936], [32.72704512935518, 39.91668009778263], [32.72694182468797, 39.91671600371628], [32.72660494218596, 39.916931616062385], [32.7261513122007, 39.91710228342003], [32.72569768019923, 39.91716515049381], [32.725535957533786, 39.91725501826949], [32.72542817100125, 39.91738074316391], [32.72527549475877, 39.917753548222386], [32.72481281197461, 39.91813086188806], [32.724516418176535, 39.918553050356536], [32.72437261517783, 39.91887645379338], [32.72436365440907, 39.91901118746891], [32.72445352054474, 39.91937502122617], [32.72445800092528, 39.919738801991336], [32.72454778081682, 39.91998586878142], [32.72479489051359, 39.9202913223181], [32.72487570938501, 39.92066412095745], [32.7248352999573, 39.921050381902766], [32.724588276519405, 39.92150852007451], [32.72419744923824, 39.922366426418996], [32.724085180895585, 39.92265833915798], [32.724085180895585, 39.92317037694116], [32.72370339867758, 39.92400587076053], [32.72339795464272, 39.92439660288656], [32.72324079492992, 39.92451340902447], [32.72295327129846, 39.924522408219055], [32.722683841017364, 39.92461667897358], [32.72257157101015, 39.924993957107354], [32.72164178449414, 39.925146687253815], [32.7187087355027, 39.925771036183335], [32.71591054204015, 39.926395367042275], [32.714387849349556, 39.92674123162404], [32.713691682305814, 39.92693883538427], [32.71222289991101, 39.92741047260279], [32.71142796487628, 39.92773386192981], [32.710192765747834, 39.92832226327041], [32.708989005283975, 39.92898250196803], [32.70821196947126, 39.929499062871024], [32.70519813146517, 39.9318481159443], [32.70166324553156, 39.93463742886654], [32.696430583482766, 39.93875164954937], [32.69572084925779, 39.93921879005084], [32.69501119629706, 39.93961409015968], [32.69477315032284, 39.93973532004506], [32.694508127451876, 39.93986113747166], [32.69427008030769, 39.93996887589858], [32.69392421285138, 39.94011714126057], [32.68755066539216, 39.942430296520804], [32.68248872702943, 39.944599735562875], [32.67603878279253, 39.94396190851721], [32.673424675320874, 39.94248868848682], [32.67200540040678, 39.94191820850314], [32.671093602462676, 39.94000929156701], [32.671026189264644, 39.93642054845023], [32.669445156034925, 39.93525725444785], [32.666817604226594, 39.934767621258985], [32.664746998760435, 39.93474521363791], [32.66132443376714, 39.93523479288839], [32.65995896238468, 39.931102506424], [32.65723701801129, 39.932418605497276], [32.656787908792936, 39.93257574709659], [32.65629836112665, 39.93279133122677], [32.65564258086803, 39.93308331943815], [32.65559317732109, 39.93310579209408], [32.65504068368026, 39.931906527759494], [32.65486996875213, 39.93145287292573], [32.654793664260694, 39.93078807843381], [32.65469037289274, 39.93004701474082], [32.65452862426483, 39.9289286216091], [32.6544657698519, 39.927212844502805], [32.65441636573903, 39.922555065022], [32.65464993575964, 39.92251914579523], [32.65475322716825, 39.922451766520275], [32.6550900874929, 39.921706115269984], [32.655611110897595, 39.92081680858438], [32.65584916158525, 39.92035870759237], [32.65604677513797, 39.91970736744442], [32.65612764828858, 39.919087572064676], [32.65614109840127, 39.91873721684731], [32.656132131659675, 39.91843625468393], [32.65603780838814, 39.91810393078601], [32.655471866940125, 39.91708433989804], [32.65484306819212, 39.91593000589277], [32.65407950320528, 39.91453309861813], [32.65393129023817, 39.91424115402323], [32.65388636933739, 39.91409740169292], [32.65389085280629, 39.91396717641928], [32.65390878667996, 39.91361235050138], [32.65387283270893, 39.913365291857865], [32.653688751628906, 39.91283075141919], [32.653252991167655, 39.912008820551044], [32.65302847120583, 39.911645014057086], [32.652745492582746, 39.9112497861], [32.65212564424072, 39.91049965491146]]], 'type': 'Polygon'}, 'id': '000081db3d18d2df3519', 'properties': {'ADI': 'Erler Mh.', 'ID': 14324.0, 'ILCE_ID': 1922.0, 'IL_ID': 6, 'Nufus': 9469.0, 'TIP': 'Mahalle', 'TIPKOD': 7.0}, 'type': 'Feature'}, {'geometry': {'coordinates': [[[32.66557790125083, 39.88623617720725], [32.66716795984984, 39.88497404901172], [32.66776530308397, 39.88452484679119], [32.66791349608284, 39.88433621998514], [32.668097724079125, 39.88380619557207], [32.66826833080548, 39.88325823796197], [32.668349194329096, 39.883092046773555], [32.66840764361671, 39.88297977308823], [32.66857376700017, 39.88285849799151], [32.67149782210323, 39.88190177711892], [32.67529321941153, 39.880671107177974], [32.67559863468826, 39.88048694014164], [32.67690114347933, 39.8788520453518], [32.677202157716955, 39.87854658801994], [32.68434822782222, 39.88160986207918], [32.68888474062173, 39.88354121961108], [32.68996264140706, 39.88400386785036], [32.68811212028452, 39.887179431141966], [32.69000315081075, 39.888603204161186], [32.68963477321804, 39.888877191572064], [32.68927544433627, 39.8891467025402], [32.68959883176755, 39.889348869366444], [32.68981448028129, 39.889479080119614], [32.68982344407859, 39.89340921294393], [32.68998961894789, 39.89360685497037], [32.69065888378004, 39.8936068791273], [32.690685861137446, 39.893930253058], [32.690703788578695, 39.8940245811666], [32.69096882129826, 39.89532264947519], [32.69101372596099, 39.895448394122944], [32.691274189854326, 39.89608622289657], [32.691736852078726, 39.8971641837811], [32.69201980933504, 39.89817027262618], [32.69191655545274, 39.90072600493694], [32.691876132994665, 39.90163779306202], [32.691831142521494, 39.902342975428695], [32.691831142521494, 39.90263045686043], [32.67927277036429, 39.89499026924693], [32.67268805823022, 39.89099725751133], [32.66948110455301, 39.88896707894913], [32.66731167082867, 39.8874623648459], [32.66557790125083, 39.88623617720725]]], 'type': 'Polygon'}, 'id': '0000d3f6b1126b7e7c17', 'properties': {'ADI': 'Koru Mh.', 'ID': 15213.0, 'ILCE_ID': 1723.0, 'IL_ID': 6, 'Nufus': 14815.0, 'TIP': 'Mahalle', 'TIPKOD': 7.0}, 'type': 'Feature'}, {'geometry': {'coordinates': [[[32.69065888378004, 39.8936068791273], [32.695038172507594, 39.891114004132405], [32.696129625745776, 39.89121282731326], [32.69670008297323, 39.89070081841497], [32.69700095284831, 39.890489691204955], [32.697158152912465, 39.89030109058331], [32.69723451206701, 39.89002706392456], [32.6976747395805, 39.889366815432375], [32.69801163128289, 39.88887723735375], [32.69855510274272, 39.88858525216459], [32.699017732056625, 39.88827084342095], [32.69884252265384, 39.887889088572734], [32.69950276665442, 39.88767799468062], [32.69972287576848, 39.888109131819746], [32.700064242177405, 39.888225961693585], [32.70109729737985, 39.88783520376961], [32.7013353286423, 39.888131635553215], [32.70150157100216, 39.8885133958582], [32.70165428277117, 39.88996414906071], [32.70174408270045, 39.89069630388532], [32.70182043843243, 39.8911993959441], [32.70192824987115, 39.89172038962035], [32.702031579832486, 39.89204823893685], [32.70262441084593, 39.89345413708955], [32.70296576757232, 39.894244642629246], [32.70325326127048, 39.89479714056607], [32.70427284046967, 39.896405087891914], [32.70609195961474, 39.89903266721941], [32.706774648779216, 39.89990852136189], [32.70766846314726, 39.90113022027761], [32.70892609809067, 39.90254957410346], [32.710183803735056, 39.903941972981826], [32.71051617324098, 39.90429679649109], [32.71101916335714, 39.90488069183731], [32.71117642804739, 39.90530736581133], [32.71118538997313, 39.90568467857314], [32.70815354289548, 39.905554464191496], [32.701586889682254, 39.90528494388435], [32.69885596716365, 39.90520411468933], [32.69801163128289, 39.905114219958975], [32.69676291150202, 39.9049031916963], [32.69574782528127, 39.90464266149645], [32.69441383947473, 39.904144051810796], [32.69346612843846, 39.90368144309437], [32.691831142521494, 39.90263045686043], [32.691831142521494, 39.902342975428695], [32.691876132994665, 39.90163779306202], [32.69191655545274, 39.90072600493694], [32.69201980933504, 39.89817027262618], [32.691736852078726, 39.8971641837811], [32.691274189854326, 39.89608622289657], [32.69101372596099, 39.895448394122944], [32.69096882129826, 39.89532264947519], [32.690703788578695, 39.8940245811666], [32.690685861137446, 39.893930253058], [32.69065888378004, 39.8936068791273]]], 'type': 'Polygon'}, 'id': '0000f6a6d20173123dee', 'properties': {'ADI': 'Ümit Mh.', 'ID': 15228.0, 'ILCE_ID': 1723.0, 'IL_ID': 6, 'Nufus': 13707.0, 'TIP': 'Mahalle', 'TIPKOD': 7.0}, 'type': 'Feature'}, {'geometry': {'coordinates': [[[32.699655481407184, 39.87481861333809], [32.701470115107206, 39.87290070325074], [32.702557104575824, 39.87176430942169], [32.70302867843265, 39.87140496740516], [32.7058673830109, 39.87197090877505], [32.707834695212185, 39.871220842216516], [32.709492089089125, 39.86962633094902], [32.71066439056175, 39.868395644250484], [32.71358836412893, 39.86635199157493], [32.71762183162065, 39.86697626577857], [32.722364952516116, 39.86833719322684], [32.721834876802504, 39.869563421157906], [32.722225713128324, 39.8697341186116], [32.72239183534634, 39.869904821688884], [32.72259845378598, 39.87045275418705], [32.72366746920101, 39.87194395929394], [32.72132289273824, 39.87234374332954], [32.720262900068946, 39.8729635735045], [32.72167323418103, 39.87413589043125], [32.721313845538, 39.87544294572261], [32.72063564789193, 39.8757977748321], [32.72134081480876, 39.87652538186665], [32.72174061402556, 39.87736532745298], [32.720851230963234, 39.8779402162498], [32.72175405552375, 39.87910356819462], [32.72454778081682, 39.8778459361561], [32.72452089855432, 39.87799408597783], [32.724390622874196, 39.87866334700436], [32.72510481072071, 39.879988347858635], [32.72512273212731, 39.88043754609448], [32.72473199305338, 39.88111129912724], [32.72396843202764, 39.88147056714483], [32.72059523678594, 39.882512622987576], [32.719014193565044, 39.882795653941095], [32.71907261393099, 39.88355915061221], [32.72131841222013, 39.88646072766347], [32.720887161430866, 39.88754321546043], [32.719288200301996, 39.887898040364306], [32.71965647109169, 39.88827982372534], [32.72064917569995, 39.88946557117089], [32.721601373786335, 39.89040886616227], [32.72269728239138, 39.891221827047254], [32.72315092772666, 39.8914778551482], [32.724561308106495, 39.89225037740944], [32.72533382538176, 39.89253785753531], [32.727188842429726, 39.89322508624922], [32.72784916177291, 39.8935305001703], [32.72874744424902, 39.89399761899136], [32.7301487870299, 39.89482404572443], [32.73367915501002, 39.89692613730843], [32.732726983454356, 39.90512326728543], [32.73220592164136, 39.905716114472554], [32.73203972924334, 39.905940736300934], [32.73191402937002, 39.90617426603631], [32.73187362272945, 39.90630898692942], [32.73183760997447, 39.90649320178896], [32.71118538997313, 39.90568467857314], [32.71117642804739, 39.90530736581133], [32.71101916335714, 39.90488069183731], [32.71051617324098, 39.90429679649109], [32.710183803735056, 39.903941972981826], [32.70892609809067, 39.90254957410346], [32.70766846314726, 39.90113022027761], [32.706774648779216, 39.89990852136189], [32.70609195961474, 39.89903266721941], [32.70427284046967, 39.896405087891914], [32.70325326127048, 39.89479714056607], [32.70296576757232, 39.894244642629246], [32.70262441084593, 39.89345413708955], [32.702031579832486, 39.89204823893685], [32.70192824987115, 39.89172038962035], [32.70182043843243, 39.8911993959441], [32.70174408270045, 39.89069630388532], [32.70165428277117, 39.88996414906071], [32.70150157100216, 39.8885133958582], [32.7013353286423, 39.888131635553215], [32.70109729737985, 39.88783520376961], [32.70650965699774, 39.885638759458686], [32.708683603424404, 39.883159412271624], [32.70986039519025, 39.88233750192618], [32.711275181531924, 39.88099903375869], [32.71014330232133, 39.879916539767656], [32.70765950091316, 39.87774707433689], [32.70514418439471, 39.876300816082534], [32.70461867294476, 39.876098670195844], [32.703810234921704, 39.875914515971324], [32.70166324553156, 39.87550130221273], [32.70062123319338, 39.87519585553186], [32.70016757402157, 39.87503419439247], [32.699655481407184, 39.87481861333809]]], 'type': 'Polygon'}, 'id': '0000827ead0cd1a15f2a', 'properties': {'ADI': 'Mutlukent Mh.', 'ID': 14170.0, 'ILCE_ID': 1231.0, 'IL_ID': 6, 'Nufus': 17212.0, 'TIP': 'Mahalle', 'TIPKOD': 7.0}, 'type': 'Feature'}, {'geometry': {'coordinates': [[[32.68811212028452, 39.887179431141966], [32.68996264140706, 39.88400386785036], [32.69024112168633, 39.88355022777165], [32.689958159514596, 39.88220275996534], [32.690937362165805, 39.88204103828979], [32.69104966691487, 39.88197814667363], [32.69112154878477, 39.88190178669604], [32.691332626070306, 39.88149304992151], [32.69190302384275, 39.88151104666309], [32.69202429113725, 39.88151551232538], [32.69237464679948, 39.88153800692496], [32.69272500126273, 39.8815469968544], [32.692850749349645, 39.88149307952578], [32.69295408847748, 39.881398766640004], [32.69299899226949, 39.88119659619281], [32.692846267583604, 39.880985521693546], [32.69213211289681, 39.87967847353532], [32.691584125510026, 39.879467366511854], [32.691296685215754, 39.87934608227148], [32.691031653344844, 39.87924275854404], [32.69066784750341, 39.87911702930159], [32.691359603250206, 39.87813787070369], [32.690357909074166, 39.87774260336551], [32.68998513705662, 39.87586960052974], [32.68986834924362, 39.8755776513364], [32.689509021181436, 39.874593979951946], [32.68961684558964, 39.87400559599428], [32.69026361727471, 39.874064024445275], [32.69113499430879, 39.873920273579046], [32.693210065684355, 39.873628315441884], [32.69522683341058, 39.87334085923902], [32.69591399053433, 39.87337677608701], [32.69632276625089, 39.87346213180383], [32.697710678195605, 39.87385740286622], [32.699655481407184, 39.87481861333809], [32.70016757402157, 39.87503419439247], [32.70062123319338, 39.87519585553186], [32.70166324553156, 39.87550130221273], [32.703810234921704, 39.875914515971324], [32.70461867294476, 39.876098670195844], [32.70514418439471, 39.876300816082534], [32.70765950091316, 39.87774707433689], [32.71014330232133, 39.879916539767656], [32.711275181531924, 39.88099903375869], [32.70986039519025, 39.88233750192618], [32.708683603424404, 39.883159412271624], [32.70650965699774, 39.885638759458686], [32.70109729737985, 39.88783520376961], [32.700064242177405, 39.888225961693585], [32.69972287576848, 39.888109131819746], [32.69950276665442, 39.88767799468062], [32.69884252265384, 39.887889088572734], [32.699017732056625, 39.88827084342095], [32.69855510274272, 39.88858525216459], [32.69801163128289, 39.88887723735375], [32.6976747395805, 39.889366815432375], [32.69723451206701, 39.89002706392456], [32.697158152912465, 39.89030109058331], [32.69700095284831, 39.890489691204955], [32.69670008297323, 39.89070081841497], [32.696129625745776, 39.89121282731326], [32.695038172507594, 39.891114004132405], [32.69065888378004, 39.8936068791273], [32.68998961894789, 39.89360685497037], [32.68982344407859, 39.89340921294393], [32.68981448028129, 39.889479080119614], [32.68959883176755, 39.889348869366444], [32.68927544433627, 39.8891467025402], [32.68963477321804, 39.888877191572064], [32.69000315081075, 39.888603204161186], [32.68811212028452, 39.887179431141966]]], 'type': 'Polygon'}, 'id': '0000fea1a927b60b2f81', 'properties': {'ADI': 'Çayyolu Mh.', 'ID': 15186.0, 'ILCE_ID': 1723.0, 'IL_ID': 6, 'Nufus': 5569.0, 'TIP': 'Mahalle', 'TIPKOD': 7.0}, 'type': 'Feature'}, {'geometry': {'coordinates': [[[32.69224889812777, 39.8480802162025], [32.694283611604796, 39.844841776903564], [32.69709980620631, 39.84186388889219], [32.70287148738863, 39.83898926892755], [32.710893437603325, 39.83173087034177], [32.71816976566395, 39.83377902360448], [32.7296726858866, 39.83423719057448], [32.7296726858866, 39.83431353502207], [32.72922802988084, 39.83549485075655], [32.72883730652469, 39.83614158893436], [32.72837015967957, 39.83683330928795], [32.72519010969514, 39.840907203464134], [32.72475896142121, 39.84180997219043], [32.72591325258125, 39.84262299970912], [32.72588180420056, 39.843337131479686], [32.726735215039824, 39.84330120557415], [32.72757965825642, 39.84499000888959], [32.72625013736642, 39.845016977495085], [32.72624565706455, 39.84568618347157], [32.72575153025739, 39.84618479604839], [32.72742241882355, 39.847716440426325], [32.72795694574857, 39.84677317596636], [32.73208470201851, 39.8479949175887], [32.73207117572614, 39.84908182665245], [32.73271802341921, 39.849611831580546], [32.73227786072398, 39.84996219298353], [32.732214967876104, 39.85221696481092], [32.734052026139615, 39.85128720989268], [32.734662849512894, 39.85263023013184], [32.73392624259299, 39.85342969848997], [32.73514797333993, 39.85422017606206], [32.73543537645787, 39.85477266608066], [32.73635168386822, 39.855145446856724], [32.739931458438114, 39.85401361008319], [32.742069459393264, 39.85483108619378], [32.743996361305506, 39.85512304351874], [32.74630949138571, 39.85521734307193], [32.749525492237446, 39.85522631162055], [32.748838265144066, 39.8540675283408], [32.75034295738389, 39.85336232632754], [32.74966021507988, 39.851579146880816], [32.74975453819149, 39.850829072420716], [32.75111097240066, 39.850811097049416], [32.751380499850754, 39.8495939035495], [32.753186117248354, 39.84960734487416], [32.760004312447336, 39.850555077567435], [32.760799299533225, 39.85121088557473], [32.76301816778316, 39.84980051337188], [32.76573109522113, 39.847698442645076], [32.767298667307145, 39.84778374349007], [32.76906834713952, 39.84684501070687], [32.77402704157473, 39.84611743378332], [32.77649286378779, 39.84468463936603], [32.77782241773145, 39.84503943838413], [32.77799757756647, 39.845075381271585], [32.77906205028487, 39.84521459088875], [32.77990649016755, 39.84529992113225], [32.78007269054129, 39.845308947956205], [32.78023441271642, 39.845290981180796], [32.78199956164987, 39.844778907707116], [32.7779167147303, 39.848152085871575], [32.7840836344758, 39.85232475718929], [32.78925798134998, 39.84773439784265], [32.78934331267886, 39.84773435880224], [32.78954092632849, 39.84772088753519], [32.789729584577834, 39.847676008455245], [32.78998557715949, 39.8475592308449], [32.79035393669366, 39.84724032662604], [32.79060992770015, 39.846988745844186], [32.791130948772825, 39.84648574024065], [32.79167891780912, 39.845937764206305], [32.79215507328937, 39.84551549203022], [32.79266704556739, 39.845147262861545], [32.79282874767731, 39.84485530669224], [32.793259952043634, 39.844760973554784], [32.79451308627761, 39.84436119069176], [32.79527215744863, 39.84419949337559], [32.7979222321859, 39.84362907390877], [32.801160620917194, 39.84279815046713], [32.801910774479616, 39.84273077439406], [32.802301475467615, 39.84279816977221], [32.803172841725925, 39.84300027142162], [32.80435413758139, 39.843310186999105], [32.804655120024925, 39.843368534556696], [32.80489316757727, 39.84337307436233], [32.80510874433562, 39.84333713445719], [32.805342314003845, 39.84326975297063], [32.80556236661558, 39.84315743569572], [32.806011510075855, 39.84282059181321], [32.80884123166083, 39.84499001060093], [32.80982041107714, 39.84606798770245], [32.81045824142586, 39.84719990093727], [32.8108040576047, 39.84849793632918], [32.810853472117856, 39.84894263612389], [32.810853472117856, 39.84921212250048], [32.81081757342341, 39.84951303090884], [32.81069179876048, 39.85025415495044], [32.81061087589682, 39.8505685656726], [32.81049861683847, 39.850878501293444], [32.8098114578354, 39.8524819299638], [32.80964969672567, 39.85288622753977], [32.809474591539775, 39.853348818136205], [32.809151154075465, 39.85427407692633], [32.80907031607039, 39.85459301420851], [32.80896700862176, 39.85525328806202], [32.808944539237736, 39.85571589260821], [32.80891311652757, 39.85617852150376], [32.80894901589701, 39.85679835585685], [32.809016424031164, 39.857283480762064], [32.8091197314294, 39.85773711028601], [32.80926341462727, 39.858258139430966], [32.809353291850535, 39.85852762369393], [32.80973053426836, 39.85962360972051], [32.81011233797764, 39.86078244132378], [32.810188698546796, 39.86110132637854], [32.81024258996229, 39.86145615652892], [32.81027401226002, 39.861963687830865], [32.81027401226002, 39.862367940585706], [32.81020221444762, 39.86479340231569], [32.81024258996229, 39.865305446650545], [32.81045824142586, 39.86733563005892], [32.810655813920576, 39.869177139341986], [32.81097477001045, 39.87217754555823], [32.81101514521714, 39.87258178455713], [32.810130330495745, 39.872559334566276], [32.79692055185471, 39.87162060909924], [32.79626481352329, 39.87136902349392], [32.79504760522569, 39.87083003473253], [32.79429748698714, 39.87057403846099], [32.79354744930375, 39.87039434164786], [32.79303091800381, 39.869963197362324], [32.79270303679414, 39.86953199311716], [32.79251886145863, 39.86910078053506], [32.792235838680796, 39.86856185381696], [32.79139150135807, 39.86784317628491], [32.790313467151506, 39.86716044189656], [32.78916817241674, 39.86699873839081], [32.788440484639295, 39.86687295650375], [32.78818448815988, 39.86681904580302], [32.78776230352067, 39.86672922626051], [32.787128980214874, 39.866621465292006], [32.78656746755867, 39.866567566685035], [32.78598356343264, 39.86662149836569], [32.78537278975051, 39.866783133318904], [32.78499993442036, 39.86690894980092], [32.78469450202444, 39.86696285389347], [32.784483445721435, 39.866944811499415], [32.784294777720525, 39.86685499786829], [32.784106109368985, 39.866747256861835], [32.78382762700812, 39.866675356058394], [32.78354466610271, 39.86676515866907], [32.78328865727599, 39.86694484110498], [32.78309998705477, 39.86716048046852], [32.78286645227439, 39.86737606407348], [32.782704734290924, 39.86739398382585], [32.78244424551717, 39.867304145010344], [32.78209394088289, 39.86726821208853], [32.78167173091353, 39.86723228269191], [32.78139324187583, 39.86721436591652], [32.78082730570845, 39.86705264474088], [32.779237294097065, 39.86669330124256], [32.77829855209384, 39.86645977443462], [32.7780425300418, 39.86631605153084], [32.777948147043816, 39.86615437364421], [32.7778088975153, 39.866154336730624], [32.77738675584867, 39.86636990351151], [32.77705882410626, 39.866657423879936], [32.77684775193376, 39.86698075782925], [32.776636593205694, 39.86734011324279], [32.776447996743904, 39.86773534517811], [32.776191970028016, 39.86804078712861], [32.77576973552475, 39.86822045032418], [32.775536183889336, 39.868256400008775], [32.77523080914907, 39.86822047251703], [32.774925347372545, 39.868094723310676], [32.77450310760558, 39.86775336086622], [32.77438633039925, 39.86760959923621], [32.77399112984627, 39.86735809011522], [32.77368566434307, 39.86723233197725], [32.77335780677485, 39.86726826555701], [32.77302986202881, 39.867429931079904], [32.77249092112183, 39.86771741184074], [32.77195189123589, 39.86773536737935], [32.771318641577956, 39.86768142816688], [32.77082903948489, 39.86750176799876], [32.77042926061787, 39.867070641815964], [32.76970608920713, 39.866693344730024], [32.76940069694851, 39.866657391478064], [32.76902339069427, 39.866801138628084], [32.768484428544234, 39.86708860366725], [32.76792298506863, 39.86708859474712], [32.76731658129275, 39.86680112520955], [32.76644973024583, 39.866334006794325], [32.76596019083077, 39.865947706582666], [32.76600058395053, 39.865444640378136], [32.76595562614885, 39.86499102631303], [32.765879318416985, 39.86456428079362], [32.76572213808906, 39.863796248777334], [32.765614307937305, 39.86334263077805], [32.76547056293259, 39.86294735050156], [32.765241466219926, 39.86261052284788], [32.7650708491223, 39.86240832041503], [32.764823750960595, 39.86217478398055], [32.76458121694233, 39.86199963827089], [32.764248851380664, 39.86180645487363], [32.763943442731545, 39.86167624475634], [32.76354372291943, 39.86154593813778], [32.7626992332128, 39.86129444494961], [32.76136078233546, 39.86089920395988], [32.76040861109802, 39.860620726600004], [32.75979320486539, 39.86041409424903], [32.759231799544054, 39.860176014159315], [32.75692757637332, 39.85967296263576], [32.75616399808803, 39.859569655880385], [32.75543641850277, 39.859488840973704], [32.75347803473373, 39.859336100029374], [32.75154666071331, 39.85983917863701], [32.74944012747971, 39.86073751935197], [32.747382996075984, 39.86080483318732], [32.746965293661624, 39.86073748761958], [32.746538544571585, 39.86062074944164], [32.746305011965134, 39.86055785659796], [32.74612531812335, 39.860463511151515], [32.74595914841616, 39.86031530569366], [32.74585138346895, 39.860158043789276], [32.74574353226457, 39.859839196911814], [32.74555944412241, 39.85934508982874], [32.74525845886275, 39.858972285766285], [32.74508780826759, 39.858657896613884], [32.744804825706744, 39.85853665210727], [32.744319747835775, 39.85833896662163], [32.74383914718469, 39.85806945902887], [32.7409465363666, 39.85945737429621], [32.74020997484311, 39.859223802004145], [32.738292047040765, 39.85894085416787], [32.73664812943508, 39.85894084943627], [32.73486944310655, 39.859259767715585], [32.73369716106401, 39.85958767625625], [32.73266857090342, 39.86009069365472], [32.73210710224396, 39.860378180476296], [32.731640056525436, 39.85994695785797], [32.73097976171541, 39.859731360191134], [32.73004548550476, 39.86001884113188], [32.72999611784989, 39.860485928015095], [32.72971765970525, 39.86167174431434], [32.72981191511529, 39.86332463367289], [32.72981191511529, 39.863683954117995], [32.728873234181314, 39.86361209462563], [32.7290169446813, 39.8646541753397], [32.72920106269396, 39.865772565745864], [32.72938974669541, 39.866886465028934], [32.72971765970525, 39.86753323221325], [32.72985688887257, 39.86803627220114], [32.728922602379484, 39.868467506216696], [32.72765599468276, 39.86983294506508], [32.72700024051764, 39.87022819786881], [32.72634448213891, 39.87101867022643], [32.72366746920101, 39.87194395929394], [32.72259845378598, 39.87045275418705], [32.72239183534634, 39.869904821688884], [32.722225713128324, 39.8697341186116], [32.721834876802504, 39.869563421157906], [32.722364952516116, 39.86833719322684], [32.71762183162065, 39.86697626577857], [32.71358836412893, 39.86635199157493], [32.71066439056175, 39.868395644250484], [32.709492089089125, 39.86962633094902], [32.707834695212185, 39.871220842216516], [32.7058673830109, 39.87197090877505], [32.70302867843265, 39.87140496740516], [32.702557104575824, 39.871508289133956], [32.702718777436864, 39.871351081101245], [32.703612627256774, 39.869823904450456], [32.70293439830695, 39.8676050889605], [32.7031858692351, 39.86665737379946], [32.70188334999721, 39.86617675454502], [32.69995194731932, 39.865332340998705], [32.7004190517517, 39.86421848796687], [32.702332520209396, 39.85853213990754], [32.701137716195895, 39.858285099621256], [32.699107534300246, 39.85681187379823], [32.696084723327125, 39.8535554645031], [32.6946339595347, 39.8546199256943], [32.69315171672753, 39.852738011868865], [32.69224889812777, 39.8480802162025]]], 'type': 'Polygon'}, 'id': '0000dc9e3f0408d66b56', 'properties': {'ADI': 'Beytepe Mh.', 'ID': 14107.0, 'ILCE_ID': 1231.0, 'IL_ID': 6, 'Nufus': 2620.0, 'TIP': 'Mahalle', 'TIPKOD': 7.0}, 'type': 'Feature'}, {'geometry': {'coordinates': [[[32.66898256558724, 39.873992126043035], [32.6710621372287, 39.87234823377204], [32.67371664835479, 39.8700619986072], [32.674138874200835, 39.86957243754997], [32.67256676805102, 39.8670526550132], [32.67211763969933, 39.86658100448592], [32.6736538056905, 39.86581748479988], [32.674165769704196, 39.865610843210106], [32.674242145999024, 39.865538971721435], [32.677076390421036, 39.864627158984035], [32.67773211992567, 39.864393631684436], [32.67929518216199, 39.864285821743714], [32.679093044809484, 39.862610487858376], [32.67826216559483, 39.86052189155116], [32.67923682527854, 39.86040061561383], [32.67967695776292, 39.86069709421936], [32.680395595401066, 39.86103843516732], [32.68157693611601, 39.86160436669016], [32.68189577940836, 39.861909830182285], [32.682196778978394, 39.86241735446865], [32.682596472630884, 39.863293193414066], [32.682951342742726, 39.86393551737535], [32.68362504953724, 39.86489669995977], [32.68492762871969, 39.86651367040929], [32.685394715513425, 39.86722335662921], [32.685547451312395, 39.86764105817293], [32.685888864992215, 39.86733109890122], [32.686001089083824, 39.8664462808056], [32.68630207659344, 39.8655030576015], [32.686553588387405, 39.8650808415414], [32.68689491252103, 39.864766469237736], [32.687604621737485, 39.86440263004741], [32.6881571123917, 39.86414209777089], [32.6889026683783, 39.863953430721644], [32.690510637471895, 39.86389508209581], [32.69385690085822, 39.863931003920634], [32.695963460842826, 39.86411965603869], [32.69721658576948, 39.8642498893522], [32.69808790361718, 39.86432629700381], [32.7004190517517, 39.86421848796687], [32.69995194731932, 39.865332340998705], [32.70188334999721, 39.86617675454502], [32.7031858692351, 39.86665737379946], [32.70293439830695, 39.8676050889605], [32.703612627256774, 39.869823904450456], [32.702718777436864, 39.871351081101245], [32.702557104575824, 39.871508289133956], [32.70302867843265, 39.87140496740516], [32.702557104575824, 39.87176430942169], [32.701470115107206, 39.87290070325074], [32.699655481407184, 39.87481861333809], [32.697710678195605, 39.87385740286622], [32.69632276625089, 39.87346213180383], [32.69591399053433, 39.87337677608701], [32.69522683341058, 39.87334085923902], [32.693210065684355, 39.873628315441884], [32.69113499430879, 39.873920273579046], [32.69026361727471, 39.874064024445275], [32.68961684558964, 39.87400559599428], [32.689509021181436, 39.874593979951946], [32.68986834924362, 39.8755776513364], [32.68998513705662, 39.87586960052974], [32.690357909074166, 39.87774260336551], [32.691359603250206, 39.87813787070369], [32.69066784750341, 39.87911702930159], [32.691031653344844, 39.87924275854404], [32.691296685215754, 39.87934608227148], [32.691584125510026, 39.879467366511854], [32.69213211289681, 39.87967847353532], [32.692846267583604, 39.880985521693546], [32.69299899226949, 39.88119659619281], [32.69295408847748, 39.881398766640004], [32.692850749349645, 39.88149307952578], [32.69272500126273, 39.8815469968544], [32.69237464679948, 39.88153800692496], [32.69202429113725, 39.88151551232538], [32.69190302384275, 39.88151104666309], [32.691332626070306, 39.88149304992151], [32.69112154878477, 39.88190178669604], [32.69104966691487, 39.88197814667363], [32.690937362165805, 39.88204103828979], [32.689958159514596, 39.88220275996534], [32.69024112168633, 39.88355022777165], [32.68996264140706, 39.88400386785036], [32.68888474062173, 39.88354121961108], [32.68434822782222, 39.88160986207918], [32.677202157716955, 39.87854658801994], [32.67525279039478, 39.87763482500066], [32.67410292731512, 39.877100326012986], [32.67247694253801, 39.876224463691294], [32.67227039528264, 39.87596844144379], [32.67195591852913, 39.8757842478331], [32.670554554257606, 39.874953350833785], [32.66898256558724, 39.873992126043035]]], 'type': 'Polygon'}, 'id': '0000a6dd839835d7a81e', 'properties': {'ADI': 'Prof. Dr. Ahmet Taner Kışlalı Mh.', 'ID': 15221.0, 'ILCE_ID': 1723.0, 'IL_ID': 6, 'Nufus': 19903.0, 'TIP': 'Mahalle', 'TIPKOD': 7.0}, 'type': 'Feature'}, {'geometry': {'coordinates': [[[32.62576910563264, 39.8564120847607], [32.62601162383065, 39.854345960159286], [32.626294589754565, 39.852890727411335], [32.626537106715354, 39.8522888588582], [32.62729621905877, 39.85087397843274], [32.628100171747725, 39.849849941585134], [32.62849998969277, 39.84938280664083], [32.629070391640965, 39.84977800961038], [32.62970366001512, 39.84972413030226], [32.63092094215861, 39.84989029011612], [32.632313274510246, 39.85018677253009], [32.63267711471393, 39.84927501750443], [32.633144266747195, 39.84869556670829], [32.6341683373052, 39.84821500297664], [32.63774357878846, 39.84814308773213], [32.6371327808752, 39.84697079209581], [32.635978437942484, 39.84490465735533], [32.63827814255958, 39.843759300049435], [32.63816129590051, 39.84357970979909], [32.636926162547795, 39.84258704493464], [32.632111217164834, 39.844392607070006], [32.63217408524182, 39.84379974277812], [32.63265020834802, 39.84365152875016], [32.63257828552769, 39.84344045231063], [32.63288822595625, 39.84330121605204], [32.63238519751572, 39.84108231072645], [32.63266814592607, 39.84100149357471], [32.63426268064027, 39.839892056027416], [32.63493636197828, 39.839388999961024], [32.63676447220673, 39.83885900780849], [32.641781583546674, 39.840422099945634], [32.64199267611067, 39.840098694900114], [32.64468760368295, 39.84063318004973], [32.64430130028781, 39.84204805149877], [32.64449445216678, 39.84411419155079], [32.64743195434891, 39.84451393437065], [32.6474498893497, 39.844729525576454], [32.647512834279645, 39.844904673686926], [32.647620616604435, 39.845133758414576], [32.64773288255379, 39.84528646155508], [32.64789007192202, 39.845367354288214], [32.64858177126678, 39.84535833299068], [32.6494576411706, 39.845308922733835], [32.65016286708563, 39.84522804770811], [32.650629939710015, 39.845111300495695], [32.65153726338757, 39.84487773592704], [32.6520268337408, 39.84269036779652], [32.65712027911749, 39.84264991686639], [32.659428908366124, 39.84132939174427], [32.657600856253005, 39.83994600512633], [32.66139625026547, 39.8389174489206], [32.663152505802664, 39.837870884041216], [32.668430057788974, 39.83527923974718], [32.67068481228747, 39.833392758624754], [32.67173135326172, 39.83018580245442], [32.67167747476551, 39.82608051355817], [32.66982696830877, 39.82219973758275], [32.666507679886614, 39.8219751552195], [32.665964210856636, 39.82126100754039], [32.66733408524034, 39.81847179854409], [32.66908135977154, 39.820344772947024], [32.67086903530743, 39.81988655758224], [32.67359984200017, 39.821934749342006], [32.676793391890804, 39.822060522013835], [32.67631281842715, 39.819720370154215], [32.67542795395142, 39.817622839510264], [32.67664512551987, 39.81532766082983], [32.678841514702945, 39.81512106461922], [32.67879660470466, 39.817663253661735], [32.682753694809236, 39.82365504579116], [32.684999514886385, 39.823767305672554], [32.69018277103748, 39.82338555622807], [32.693281946037445, 39.82731117911696], [32.702916386828804, 39.82288695398485], [32.70451543177512, 39.82264443797073], [32.70637039600087, 39.822680391471884], [32.70744389000615, 39.82285550934069], [32.70967624230557, 39.82381669444328], [32.70906983666182, 39.824512907114375], [32.711468379608796, 39.82484975784978], [32.712735015759215, 39.82552800257568], [32.71393425125966, 39.82569422602849], [32.714176733467795, 39.826448807813385], [32.71440585880662, 39.82929648073524], [32.710893437603325, 39.83173087034177], [32.70287148738863, 39.83898926892755], [32.69709980620631, 39.84186388889219], [32.694283611604796, 39.844841776903564], [32.69224889812777, 39.8480802162025], [32.69315171672753, 39.852738011868865], [32.6946339595347, 39.8546199256943], [32.696084723327125, 39.8535554645031], [32.699107534300246, 39.85681187379823], [32.701137716195895, 39.858285099621256], [32.702332520209396, 39.85853213990754], [32.7004190517517, 39.86421848796687], [32.69808790361718, 39.86432629700381], [32.69721658576948, 39.8642498893522], [32.695963460842826, 39.86411965603869], [32.69385690085822, 39.863931003920634], [32.690510637471895, 39.86389508209581], [32.6889026683783, 39.863953430721644], [32.6881571123917, 39.86414209777089], [32.687604621737485, 39.86440263004741], [32.68689491252103, 39.864766469237736], [32.686553588387405, 39.8650808415414], [32.68630207659344, 39.8655030576015], [32.686001089083824, 39.8664462808056], [32.685888864992215, 39.86733109890122], [32.685547451312395, 39.86764105817293], [32.685394715513425, 39.86722335662921], [32.68492762871969, 39.86651367040929], [32.68362504953724, 39.86489669995977], [32.682951342742726, 39.86393551737535], [32.682596472630884, 39.863293193414066], [32.682196778978394, 39.86241735446865], [32.68189577940836, 39.861909830182285], [32.68157693611601, 39.86160436669016], [32.680395595401066, 39.86103843516732], [32.67967695776292, 39.86069709421936], [32.67923682527854, 39.86040061561383], [32.67826216559483, 39.86052189155116], [32.679093044809484, 39.862610487858376], [32.67929518216199, 39.864285821743714], [32.67773211992567, 39.864393631684436], [32.677076390421036, 39.864627158984035], [32.674242145999024, 39.865538971721435], [32.674165769704196, 39.865610843210106], [32.6736538056905, 39.86581748479988], [32.67211763969933, 39.86658100448592], [32.672153587280874, 39.86500900872419], [32.67216703529376, 39.86484280221133], [32.671875144053864, 39.864788904716626], [32.668430057788974, 39.86439810963909], [32.66707364671655, 39.86398490970429], [32.666813121322086, 39.863931013208195], [32.66565876689454, 39.86379627735935], [32.6645628509605, 39.86357166896587], [32.66395643681585, 39.86314501000226], [32.66255961881153, 39.86241280355567], [32.66019251980127, 39.861150718850375], [32.659433477809, 39.86067007913104], [32.65736729294217, 39.86044102415491], [32.65738082911015, 39.860279337925164], [32.65630284449029, 39.86023439072393], [32.65553920413446, 39.85934514686816], [32.65539996007953, 39.859237328027305], [32.655386509869786, 39.85847823552621], [32.65341922529335, 39.85851861373261], [32.65221100402018, 39.858568062393104], [32.65209865674014, 39.85806504198635], [32.652044767939806, 39.857620367295], [32.65192802314584, 39.85682082001157], [32.65193250670021, 39.85620100309914], [32.65181119199696, 39.855235305338404], [32.648092184503064, 39.85524876276496], [32.646300059771924, 39.85450319663431], [32.6467806875129, 39.8540135949646], [32.645711645571005, 39.853384807450574], [32.645181690508466, 39.853164649992046], [32.644162041007135, 39.8525807815305], [32.643142467624905, 39.853519512257044], [32.641507541981944, 39.85274251549839], [32.64130541645817, 39.85283232206975], [32.64126049003993, 39.85296705093464], [32.64137733317895, 39.85384292406839], [32.63986362219089, 39.853196125245056], [32.63866886647568, 39.85321410215471], [32.63704740857819, 39.85317814072009], [32.636858813161936, 39.85524429496933], [32.636737480674384, 39.85736879787418], [32.634491725891, 39.856865723061105], [32.6318281809847, 39.85630883544301], [32.631522808048096, 39.85618753288007], [32.63146890846651, 39.85625040409483], [32.6312263168804, 39.856829807978905], [32.630956817914196, 39.857485606325255], [32.63055261126228, 39.85792572677047], [32.62671683797792, 39.859416919081724], [32.62606104158689, 39.857741583808966], [32.62576910563264, 39.8564120847607]]], 'type': 'Polygon'}, 'id': '0000a4f31e8aa1907ba8', 'properties': {'ADI': 'Alacaatlı Mh.', 'ID': 15173.0, 'ILCE_ID': 1723.0, 'IL_ID': 6, 'Nufus': 11854.0, 'TIP': 'Mahalle', 'TIPKOD': 7.0}, 'type': 'Feature'}, {'geometry': {'coordinates': [[[32.62671683797792, 39.859416919081724], [32.63055261126228, 39.85792572677047], [32.630956817914196, 39.857485606325255], [32.6312263168804, 39.856829807978905], [32.63146890846651, 39.85625040409483], [32.631522808048096, 39.85618753288007], [32.6318281809847, 39.85630883544301], [32.634491725891, 39.856865723061105], [32.636737480674384, 39.85736879787418], [32.636858813161936, 39.85524429496933], [32.63704740857819, 39.85317814072009], [32.63866886647568, 39.85321410215471], [32.63986362219089, 39.853196125245056], [32.64137733317895, 39.85384292406839], [32.64126049003993, 39.85296705093464], [32.64130541645817, 39.85283232206975], [32.641507541981944, 39.85274251549839], [32.643142467624905, 39.853519512257044], [32.644162041007135, 39.8525807815305], [32.645181690508466, 39.853164649992046], [32.645711645571005, 39.853384807450574], [32.6467806875129, 39.8540135949646], [32.646300059771924, 39.85450319663431], [32.648092184503064, 39.85524876276496], [32.65181119199696, 39.855235305338404], [32.65193250670021, 39.85620100309914], [32.65192802314584, 39.85682082001157], [32.652044767939806, 39.857620367295], [32.65209865674014, 39.85806504198635], [32.65221100402018, 39.858568062393104], [32.65341922529335, 39.85851861373261], [32.655386509869786, 39.85847823552621], [32.65539996007953, 39.859237328027305], [32.65553920413446, 39.85934514686816], [32.65630284449029, 39.86023439072393], [32.65738082911015, 39.860279337925164], [32.65736729294217, 39.86044102415491], [32.659433477809, 39.86067007913104], [32.66019251980127, 39.861150718850375], [32.66255961881153, 39.86241280355567], [32.66395643681585, 39.86314501000226], [32.6645628509605, 39.86357166896587], [32.66565876689454, 39.86379627735935], [32.666813121322086, 39.863931013208195], [32.66707364671655, 39.86398490970429], [32.668430057788974, 39.86439810963909], [32.671875144053864, 39.864788904716626], [32.67216703529376, 39.86484280221133], [32.672153587280874, 39.86500900872419], [32.67211763969933, 39.86658100448592], [32.67256676805102, 39.8670526550132], [32.674138874200835, 39.86957243754997], [32.67371664835479, 39.8700619986072], [32.6710621372287, 39.87234823377204], [32.66898256558724, 39.873992126043035], [32.66849298986184, 39.87372708874047], [32.66795392799243, 39.87354744437292], [32.66753624577052, 39.87349806170852], [32.66737900025822, 39.87347562968323], [32.66563178295015, 39.8731118231886], [32.665205125327404, 39.87311626068394], [32.66346235406164, 39.873286934282916], [32.662272097131414, 39.87336779509573], [32.661463669789605, 39.87335881207103], [32.66095612555774, 39.87337677606359], [32.658301542998615, 39.873358816736705], [32.657025956753365, 39.87334985166444], [32.655682931391354, 39.87341721784874], [32.65539996007953, 39.873444181618304], [32.65513949128178, 39.873457646293595], [32.655018180365055, 39.873695710939046], [32.65429057051715, 39.8739067774491], [32.654039065831746, 39.87393823789276], [32.653630293961655, 39.87392479607919], [32.65293862859518, 39.87390232978394], [32.65195949424443, 39.87345765375119], [32.65114650214341, 39.873053377950036], [32.65068382925226, 39.87281986894375], [32.64912972973472, 39.872002377562104], [32.64785868580298, 39.87156667274524], [32.64753076926633, 39.87144987805254], [32.64557247442791, 39.87233918849386], [32.639567155051495, 39.86814861908649], [32.63775711754061, 39.866899957678825], [32.636391677988215, 39.866068967095615], [32.6351160785794, 39.86541321391611], [32.63379553368271, 39.86480233360535], [32.628648153066834, 39.86294289194339], [32.62671683797792, 39.859416919081724]]], 'type': 'Polygon'}, 'id': '0000140b89fc8b369a3e', 'properties': {'ADI': 'Yaşamkent Mh.', 'ID': 15231.0, 'ILCE_ID': 1723.0, 'IL_ID': 6, 'Nufus': 17801.0, 'TIP': 'Mahalle', 'TIPKOD': 7.0}, 'type': 'Feature'}, {'geometry': {'coordinates': [[[32.64557247442791, 39.87233918849386], [32.64753076926633, 39.87144987805254], [32.64785868580298, 39.87156667274524], [32.64912972973472, 39.872002377562104], [32.65068382925226, 39.87281986894375], [32.65114650214341, 39.873053377950036], [32.65195949424443, 39.87345765375119], [32.65293862859518, 39.87390232978394], [32.653630293961655, 39.87392479607919], [32.654039065831746, 39.87393823789276], [32.65429057051715, 39.8739067774491], [32.655018180365055, 39.873695710939046], [32.65513949128178, 39.873457646293595], [32.65539996007953, 39.873444181618304], [32.655682931391354, 39.87341721784874], [32.657025956753365, 39.87334985166444], [32.658301542998615, 39.873358816736705], [32.66095612555774, 39.87337677606359], [32.661463669789605, 39.87335881207103], [32.662272097131414, 39.87336779509573], [32.66346235406164, 39.873286934282916], [32.665205125327404, 39.87311626068394], [32.66563178295015, 39.8731118231886], [32.66737900025822, 39.87347562968323], [32.66753624577052, 39.87349806170852], [32.66795392799243, 39.87354744437292], [32.66849298986184, 39.87372708874047], [32.66898256558724, 39.873992126043035], [32.670554554257606, 39.874953350833785], [32.67195591852913, 39.8757842478331], [32.67227039528264, 39.87596844144379], [32.67247694253801, 39.876224463691294], [32.67410292731512, 39.877100326012986], [32.67525279039478, 39.87763482500066], [32.677202157716955, 39.87854658801994], [32.67690114347933, 39.8788520453518], [32.67559863468826, 39.88048694014164], [32.67529321941153, 39.880671107177974], [32.67149782210323, 39.88190177711892], [32.66857376700017, 39.88285849799151], [32.66840764361671, 39.88297977308823], [32.668349194329096, 39.883092046773555], [32.66826833080548, 39.88325823796197], [32.668097724079125, 39.88380619557207], [32.66791349608284, 39.88433621998514], [32.66776530308397, 39.88452484679119], [32.66716795984984, 39.88497404901172], [32.66557790125083, 39.88623617720725], [32.662564101901815, 39.88414754800344], [32.660048798855115, 39.882395857539464], [32.657798466435636, 39.880841791033234], [32.65508112065957, 39.87894632017717], [32.65047723814962, 39.87574835650116], [32.64855935276214, 39.87441435726055], [32.64706359633285, 39.8733767999125], [32.64557247442791, 39.87233918849386]]], 'type': 'Polygon'}, 'id': '00009a4411f7c7b2efcb', 'properties': {'ADI': 'Konutkent Mh.', 'ID': 15212.0, 'ILCE_ID': 1723.0, 'IL_ID': 6, 'Nufus': 7545.0, 'TIP': 'Mahalle', 'TIPKOD': 7.0}, 'type': 'Feature'}, {'geometry': {'coordinates': [[[32.628648153066834, 39.86294289194339], [32.63379553368271, 39.86480233360535], [32.6351160785794, 39.86541321391611], [32.636391677988215, 39.866068967095615], [32.63775711754061, 39.866899957678825], [32.639567155051495, 39.86814861908649], [32.64557247442791, 39.87233918849386], [32.64706359633285, 39.8733767999125], [32.64855935276214, 39.87441435726055], [32.65047723814962, 39.87574835650116], [32.65508112065957, 39.87894632017717], [32.657798466435636, 39.880841791033234], [32.660048798855115, 39.882395857539464], [32.662564101901815, 39.88414754800344], [32.66557790125083, 39.88623617720725], [32.66731167082867, 39.8874623648459], [32.66948110455301, 39.88896707894913], [32.67268805823022, 39.89099725751133], [32.67927277036429, 39.89499026924693], [32.67769169187062, 39.896342183329146], [32.676092658997476, 39.897658241024175], [32.67525279039478, 39.898201715448714], [32.67501469850583, 39.89828705736044], [32.674718246608556, 39.89833196065418], [32.67444877548671, 39.89832299158351], [32.674147839369404, 39.89827810365822], [32.67366277090148, 39.89816130505111], [32.673168648681504, 39.89800411241148], [32.671704457119944, 39.89739772893755], [32.67134058266268, 39.89728098730817], [32.670630933241576, 39.89716864626998], [32.66869057907813, 39.89688120658709], [32.66587437956276, 39.896535360414035], [32.66469311659661, 39.89640507044438], [32.66290541968158, 39.89627034809949], [32.65973437086473, 39.89604130223307], [32.659680486069995, 39.895789781865616], [32.65960409893651, 39.8947656783009], [32.66073153621887, 39.8930678538612], [32.66206104622227, 39.893395744566774], [32.6620834617806, 39.892852257742476], [32.65930768873154, 39.891383478309415], [32.65841388349521, 39.89211116869767], [32.656666599822906, 39.89114546820617], [32.65632526130556, 39.891127497901515], [32.654101920505724, 39.891819228578846], [32.65348208034652, 39.890467266817225], [32.65171695098081, 39.8886436282245], [32.64771494760237, 39.887314115171435], [32.64727476428018, 39.886752671172864], [32.647598111664365, 39.8861014027014], [32.64740048186399, 39.885818446922755], [32.646816557738596, 39.885742106400436], [32.64603060028692, 39.88555343993912], [32.645585925922084, 39.885674693710406], [32.644817808294924, 39.88544120370241], [32.64470105529288, 39.884987536797006], [32.64435967703234, 39.88492461986391], [32.644076760772485, 39.88514021659548], [32.643389515046394, 39.88514023813884], [32.64163783685093, 39.8847764014321], [32.63938753245688, 39.88355918362522], [32.638076010690675, 39.88344689387197], [32.63435245333128, 39.88264290851095], [32.63331941587392, 39.88291690221724], [32.63294212479473, 39.88232847711657], [32.63183266541532, 39.88252612868031], [32.630606511323556, 39.88163675730651], [32.630152887527316, 39.880176996723705], [32.63047620248706, 39.87943147182645], [32.62879191790645, 39.87844328086323], [32.63043135758129, 39.877580907466026], [32.632097677669975, 39.87605374374004], [32.63278491258375, 39.87495780022951], [32.63301844550175, 39.87433346767645], [32.63317117298397, 39.87344418310335], [32.63317117298397, 39.872658174271685], [32.63301844550175, 39.871256758579584], [32.63260976254757, 39.87016078304862], [32.63173840609225, 39.86842707260445], [32.63107358651288, 39.86722782065579], [32.62942070345766, 39.86424094944772], [32.628648153066834, 39.86294289194339]]], 'type': 'Polygon'}, 'id': '00005c297c163f249bff', 'properties': {'ADI': 'Fatih Sultan Mh.', 'ID': 14327.0, 'ILCE_ID': 1922.0, 'IL_ID': 6, 'Nufus': 1931.0, 'TIP': 'Mahalle', 'TIPKOD': 7.0}, 'type': 'Feature'}, {'geometry': {'coordinates': [[[32.61140500779811, 39.88794746080562], [32.6115083426089, 39.88685597326202], [32.61191702300815, 39.88551754750498], [32.61243360720663, 39.8846820853011], [32.61334092256356, 39.88362205998226], [32.615083594294745, 39.88233299149418], [32.61655687243992, 39.8817535654054], [32.61837590762258, 39.881201115451695], [32.62393648788925, 39.879826674255455], [32.627624113843986, 39.87889241990007], [32.62879191790645, 39.87844328086323], [32.63047620248706, 39.87943147182645], [32.630152887527316, 39.880176996723705], [32.630606511323556, 39.88163675730651], [32.63183266541532, 39.88252612868031], [32.63294212479473, 39.88232847711657], [32.63331941587392, 39.88291690221724], [32.63435245333128, 39.88264290851095], [32.638076010690675, 39.88344689387197], [32.63938753245688, 39.88355918362522], [32.64163783685093, 39.8847764014321], [32.643389515046394, 39.88514023813884], [32.644076760772485, 39.88514021659548], [32.64435967703234, 39.88492461986391], [32.64470105529288, 39.884987536797006], [32.644817808294924, 39.88544120370241], [32.645585925922084, 39.885674693710406], [32.64603060028692, 39.88555343993912], [32.646816557738596, 39.885742106400436], [32.64740048186399, 39.885818446922755], [32.647598111664365, 39.8861014027014], [32.64727476428018, 39.886752671172864], [32.64771494760237, 39.887314115171435], [32.65171695098081, 39.8886436282245], [32.65348208034652, 39.890467266817225], [32.654101920505724, 39.891819228578846], [32.65632526130556, 39.891127497901515], [32.656666599822906, 39.89114546820617], [32.65841388349521, 39.89211116869767], [32.65930768873154, 39.891383478309415], [32.6620834617806, 39.892852257742476], [32.66206104622227, 39.893395744566774], [32.66073153621887, 39.8930678538612], [32.65960409893651, 39.8947656783009], [32.659680486069995, 39.895789781865616], [32.65973437086473, 39.89604130223307], [32.66018803660743, 39.896310752019986], [32.65690016472711, 39.898075969568204], [32.654640968887875, 39.898309540133], [32.65606479485402, 39.904772881255646], [32.656078244974935, 39.90660997013668], [32.65573242111413, 39.90897701856167], [32.65212564424072, 39.91049965491146], [32.652745492582746, 39.9112497861], [32.65302847120583, 39.911645014057086], [32.653252991167655, 39.912008820551044], [32.653688751628906, 39.91283075141919], [32.65387283270893, 39.913365291857865], [32.65390878667996, 39.91361235050138], [32.65389085280629, 39.91396717641928], [32.65388636933739, 39.91409740169292], [32.65393129023817, 39.91424115402323], [32.65407950320528, 39.91453309861813], [32.65484306819212, 39.91593000589277], [32.655471866940125, 39.91708433989804], [32.65603780838814, 39.91810393078601], [32.656132131659675, 39.91843625468393], [32.65614109840127, 39.91873721684731], [32.65612764828858, 39.919087572064676], [32.65604677513797, 39.91970736744442], [32.65584916158525, 39.92035870759237], [32.655611110897595, 39.92081680858438], [32.6550900874929, 39.921706115269984], [32.65357640596461, 39.92220470816414], [32.65002361574478, 39.923368008524456], [32.649354344438834, 39.923561141027356], [32.646839062849764, 39.92447298087611], [32.64621021127972, 39.92469756487885], [32.64483582997989, 39.92525451514661], [32.64286403196628, 39.925964155662925], [32.64243727978334, 39.926143836113596], [32.63818380290568, 39.92782368440171], [32.63532261430492, 39.92888817496881], [32.630399879895386, 39.92470201279635], [32.62552201591408, 39.92325124783341], [32.62581395256861, 39.92291435947594], [32.62645181187497, 39.92229001695162], [32.62827084486971, 39.920911184546206], [32.62969917549177, 39.91980625454226], [32.630440326564006, 39.91900222300809], [32.63087152673441, 39.918499143813335], [32.63132066291178, 39.91766820880866], [32.63162163824759, 39.91679682856963], [32.63184620494503, 39.915723365901364], [32.631599129807356, 39.91375155190053], [32.6310691020492, 39.91265562599786], [32.62856285997474, 39.909273450667776], [32.62584991634739, 39.90508729397328], [32.623069629107036, 39.89989952345957], [32.62218482363074, 39.898668856777796], [32.621237049594214, 39.89772563984096], [32.61997946099661, 39.896795822715035], [32.617369792793646, 39.89531817421279], [32.61560016263083, 39.894231167427186], [32.614535627091534, 39.893355302050736], [32.6134621963567, 39.89232670941872], [32.61274352198174, 39.89145985443125], [32.612051840606505, 39.89044023766007], [32.61153525449589, 39.889029913997916], [32.61140500779811, 39.88794746080562]]], 'type': 'Polygon'}, 'id': '0000a4f73fa1c568a6cf', 'properties': {'ADI': 'Bağlıca Mh.', 'ID': 14321.0, 'ILCE_ID': 1922.0, 'IL_ID': 6, 'Nufus': 6481.0, 'TIP': 'Mahalle', 'TIPKOD': 7.0}, 'type': 'Feature'}, {'geometry': {'coordinates': [[[32.55682789033651, 39.84940077499528], [32.5669070053082, 39.84826438460776], [32.56848797259213, 39.847846639820276], [32.569669302948434, 39.84722231082114], [32.57101672794946, 39.84631504778619], [32.572171107320024, 39.845749088081725], [32.57554874500125, 39.844433091853176], [32.58312602535425, 39.84204802751262], [32.583997447326, 39.8414416402632], [32.5846801711126, 39.840525389256996], [32.586112987735355, 39.83699049928233], [32.58619831592445, 39.836712019254264], [32.590743730434085, 39.8220829665714], [32.59162414682422, 39.82104093802121], [32.59272006279223, 39.820421085221184], [32.5938609142363, 39.82030430481003], [32.597234047698294, 39.82112630982696], [32.60171669393625, 39.82280614717018], [32.603171961482126, 39.823758307850646], [32.60690898074114, 39.8276480691215], [32.60770394896196, 39.82889218331606], [32.6114409766046, 39.836999494464855], [32.61352050433166, 39.84311255492774], [32.615856160139174, 39.84677314571711], [32.6167994123188, 39.847393023714815], [32.619894074478296, 39.84774338281671], [32.62102151581623, 39.84802631822154], [32.625764620937964, 39.85066736346956], [32.626537106715354, 39.8522888588582], [32.626294589754565, 39.852890727411335], [32.62601162383065, 39.854345960159286], [32.62576910563264, 39.8564120847607], [32.62606104158689, 39.857741583808966], [32.62671683797792, 39.859416919081724], [32.628648153066834, 39.86294289194339], [32.62942070345766, 39.86424094944772], [32.63107358651288, 39.86722782065579], [32.63173840609225, 39.86842707260445], [32.63260976254757, 39.87016078304862], [32.63301844550175, 39.871256758579584], [32.63317117298397, 39.872658174271685], [32.63317117298397, 39.87344418310335], [32.63301844550175, 39.87433346767645], [32.63278491258375, 39.87495780022951], [32.632097677669975, 39.87605374374004], [32.63043135758129, 39.877580907466026], [32.62879191790645, 39.87844328086323], [32.627624113843986, 39.87889241990007], [32.62393648788925, 39.879826674255455], [32.61837590762258, 39.881201115451695], [32.61655687243992, 39.8817535654054], [32.615083594294745, 39.88233299149418], [32.61334092256356, 39.88362205998226], [32.61243360720663, 39.8846820853011], [32.61191702300815, 39.88551754750498], [32.6115083426089, 39.88685597326202], [32.61140500779811, 39.88794746080562], [32.61153525449589, 39.889029913997916], [32.612051840606505, 39.89044023766007], [32.61274352198174, 39.89145985443125], [32.6134621963567, 39.89232670941872], [32.614535627091534, 39.893355302050736], [32.61560016263083, 39.894231167427186], [32.617369792793646, 39.89531817421279], [32.61997946099661, 39.896795822715035], [32.621237049594214, 39.89772563984096], [32.62218482363074, 39.898668856777796], [32.623069629107036, 39.89989952345957], [32.62584991634739, 39.90508729397328], [32.62856285997474, 39.909273450667776], [32.6310691020492, 39.91265562599786], [32.631599129807356, 39.91375155190053], [32.63184620494503, 39.915723365901364], [32.63162163824759, 39.91679682856963], [32.63132066291178, 39.91766820880866], [32.63087152673441, 39.918499143813335], [32.630440326564006, 39.91900222300809], [32.62969917549177, 39.91980625454226], [32.62731864219674, 39.91644650302827], [32.61909005775289, 39.91575481446303], [32.616475968185554, 39.917174161355796], [32.612469489399146, 39.91520686398642], [32.60802733434699, 39.91256578481774], [32.601864895801775, 39.908685053034795], [32.60135283071207, 39.90871200827332], [32.59737337040718, 39.9119908671283], [32.59461103617561, 39.91384590291407], [32.59330394840819, 39.91162707908697], [32.59476373428153, 39.908595207182124], [32.5946963573485, 39.90411263366154], [32.59711284110209, 39.901103272417515], [32.59673101782719, 39.89992199616241], [32.59266165679479, 39.89257381379454], [32.58957592696952, 39.89114099915455], [32.58944565256752, 39.89102871493987], [32.58931995055508, 39.890911895520794], [32.589203134683764, 39.89079066172102], [32.58909537753325, 39.890664888914905], [32.58899202028893, 39.89053463519685], [32.58889772181143, 39.890399842491014], [32.588812395850496, 39.89026511202843], [32.588731556123854, 39.89012587354429], [32.588664175257485, 39.889986623229], [32.58860128065758, 39.889842935294816], [32.588547358645016, 39.889694665236895], [32.58850249550912, 39.889550934201075], [32.58846651871108, 39.88939821483253], [32.58843960081082, 39.88925003456701], [32.588421655540095, 39.889101776068046], [32.58841259662821, 39.888949103437604], [32.588313811299436, 39.8859667006784], [32.588304838653535, 39.88576902292926], [32.58828240703539, 39.88557142573147], [32.58825540281172, 39.885373788205904], [32.58821502587624, 39.88517613361479], [32.58817007632055, 39.88498301309727], [32.588111667751626, 39.884789902566105], [32.58804877281552, 39.88459672443408], [32.58797241882932, 39.88440813068987], [32.58789157844574, 39.88421946928122], [32.58779727896432, 39.8840308176247], [32.58769849304748, 39.88385110660077], [32.58696635273368, 39.88257555213177], [32.58552906149378, 39.87888347577789], [32.585439246304944, 39.8786723429205], [32.585344858308666, 39.878465744029455], [32.58524158359246, 39.87825912340486], [32.58512476311245, 39.87805704315255], [32.58500354231233, 39.87785486744944], [32.58487326214807, 39.87765722883055], [32.58473400886384, 39.87746410014083], [32.58459026890783, 39.87727097342622], [32.5844330692794, 39.87708686451706], [32.58281610796799, 39.87519585887714], [32.58263647279945, 39.87498922620094], [32.58244777788438, 39.874791635075546], [32.582259168905516, 39.8745985203122], [32.582057013520185, 39.874409874672914], [32.58185045741746, 39.87422120327389], [32.58163484139648, 39.8740415734245], [32.581414738304005, 39.87386187450104], [32.581190148111396, 39.87369118711017], [32.580956584147565, 39.87352500902738], [32.580718533004124, 39.873363337364815], [32.5804715079872, 39.87320610456137], [32.58022448238034, 39.873057880552984], [32.5799684828143, 39.87290966058198], [32.57970799591869, 39.87277038186479], [32.57944293537679, 39.87263570711182], [32.57916898700018, 39.87250544401793], [32.57889495161485, 39.87238414664079], [32.56748188960518, 39.86744792450033], [32.56736513536719, 39.86739400152454], [32.567252781940724, 39.867335597377895], [32.5671450019263, 39.86726822219815], [32.567041709045014, 39.867196409118684], [32.56694739055966, 39.86711550931898], [32.5668575592417, 39.86703467766961], [32.566776702359576, 39.86694933577738], [32.56670033267442, 39.86685948559003], [32.56663293745917, 39.866765195582026], [32.566579090290226, 39.86666636631995], [32.56652515679969, 39.86656756391267], [32.5664847713836, 39.86646872839765], [32.56645327419985, 39.866360974128526], [32.566430837843946, 39.86625762441941], [32.56641737602807, 39.86614983498181], [32.56641288875572, 39.86604204155187], [32.56641737602807, 39.8659387503028], [32.566430837843946, 39.86583094895752], [32.566448786929065, 39.865727651726935], [32.56648028411417, 39.865619815411435], [32.56652515679969, 39.86552101277541], [32.56725726917669, 39.86384565266102], [32.568317286931126, 39.862300558360964], [32.5684206648322, 39.862138865950065], [32.56851946915706, 39.861977131815], [32.56860481185611, 39.861810967027445], [32.568685667310945, 39.861640297400314], [32.56875297489862, 39.861469660152736], [32.56881588156601, 39.86129892688799], [32.56886532669751, 39.86112376285009], [32.568910198349634, 39.86094412096576], [32.568941608494555, 39.86076892025561], [32.568964130598104, 39.86058925966876], [32.56898207924416, 39.86040962758455], [32.56898656640519, 39.86022993014007], [32.56898207924416, 39.86005474235693], [32.56896861775991, 39.85987512164359], [32.56894618194893, 39.859695433613126], [32.568910198349634, 39.85951577757139], [32.56886981386361, 39.8593406021491], [32.568820368734244, 39.859165456839264], [32.56876194924033, 39.85899475063602], [32.56869015448481, 39.858824092438496], [32.56861378621066, 39.858653392024216], [32.56852395633813, 39.85848720280868], [32.56842963920272, 39.85832552124209], [32.56832626131061, 39.858163799134864], [32.566817173955215, 39.855935994538775], [32.56669135815405, 39.85576081862138], [32.566561141227695, 39.8555946299645], [32.56642186330023, 39.855423963711516], [32.566273610628905, 39.855262242963384], [32.56612095675432, 39.85510507299689], [32.56595924177688, 39.85495236873332], [32.56578855194836, 39.85480410302767], [32.56561337453158, 39.854655908210596], [32.56542922218881, 39.85451665888119], [32.56524058219554, 39.85438191698927], [32.565047454527225, 39.85425611914835], [32.564845351818526, 39.8541303936035], [32.55682789033651, 39.84940077499528]]], 'type': 'Polygon'}, 'id': '0000b31af7a736ca4772', 'properties': {'ADI': 'Yapracık Mh.', 'ID': 14340.0, 'ILCE_ID': 1922.0, 'IL_ID': 6, 'Nufus': 3322.0, 'TIP': 'Mahalle', 'TIPKOD': 7.0}, 'type': 'Feature'}, {'geometry': {'coordinates': [[[32.70906983666182, 39.824512907114375], [32.70967624230557, 39.82381669444328], [32.71090239955388, 39.819715954166085], [32.710439737829354, 39.81901074247697], [32.71090688052887, 39.8162888223974], [32.71085302264344, 39.812852759865535], [32.71080812668846, 39.811357054720645], [32.710722729529635, 39.80966375054995], [32.711046135345875, 39.80845102148291], [32.711418916799644, 39.80488477104796], [32.71137850204755, 39.801385833782014], [32.7119804130664, 39.79885702861927], [32.71265410110889, 39.7976533216378], [32.71323799495476, 39.79630586887806], [32.71529969260816, 39.79549730382372], [32.71591054204015, 39.794374445301806], [32.71692560044692, 39.79415883862548], [32.71816976566395, 39.79370522392244], [32.72299376763358, 39.79328301637872], [32.72717092138591, 39.79259578262461], [32.731828649861214, 39.792020886582314], [32.732780915956916, 39.78981548747712], [32.73713324381736, 39.78975262668063], [32.73728142249721, 39.79027362915753], [32.739428438480466, 39.790233207129205], [32.741054392648174, 39.78988737291225], [32.741216090709536, 39.79009393439276], [32.744117652910774, 39.78967622506762], [32.744086210143436, 39.78929449820603], [32.747472841927255, 39.7888183931104], [32.747854621305024, 39.78892618062786], [32.74905835404484, 39.789932277292266], [32.74966917362573, 39.7908620679529], [32.74972757643426, 39.791221370794005], [32.75064384148064, 39.794706851026206], [32.75260219362922, 39.7983405255398], [32.75363075487871, 39.800186546167964], [32.75187010941153, 39.80053688153623], [32.749736621113996, 39.8008647606535], [32.75116489517547, 39.8032722926969], [32.75135801772255, 39.80669485776069], [32.75276387336161, 39.80981652852112], [32.75336579863228, 39.812691103168014], [32.75285371446581, 39.81412388769077], [32.75374755591789, 39.816854792501886], [32.752260830623214, 39.819001762972206], [32.7524539510917, 39.81994503484322], [32.752642592052055, 39.82222223474213], [32.753177159011905, 39.82236143493494], [32.75297947465109, 39.82286904274753], [32.75206770978843, 39.82292293224018], [32.75218899178276, 39.8234080025868], [32.75172634499049, 39.823376571738166], [32.75173530335459, 39.82399639231414], [32.751308660389206, 39.82559535943011], [32.75047319990764, 39.828761942516465], [32.74985781974502, 39.83160512823141], [32.74766149211451, 39.830729258729484], [32.7440502878467, 39.82929192814674], [32.74361904700803, 39.82917517149144], [32.74035814905095, 39.8286721406218], [32.73982368711648, 39.82862719319759], [32.7390151832002, 39.82861824507076], [32.73826060247619, 39.82871255979137], [32.737568905752, 39.82885178796048], [32.73590249094844, 39.829318939073104], [32.73477510621724, 39.829534484615515], [32.733908236579445, 39.8295120614996], [32.733742046955086, 39.83040140537566], [32.733279488715844, 39.831106575086615], [32.73051710479409, 39.833707204484575], [32.7296726858866, 39.83423719057448], [32.71816976566395, 39.83377902360448], [32.710893437603325, 39.83173087034177], [32.71440585880662, 39.82929648073524], [32.714176733467795, 39.826448807813385], [32.71393425125966, 39.82569422602849], [32.712735015759215, 39.82552800257568], [32.711468379608796, 39.82484975784978], [32.70906983666182, 39.824512907114375]]], 'type': 'Polygon'}, 'id': '00006183f326a96593b5', 'properties': {'ADI': 'Kızılcaşar Mh.', 'ID': 14388.0, 'ILCE_ID': 1744.0, 'IL_ID': 6, 'Nufus': 2965.0, 'TIP': 'Mahalle', 'TIPKOD': 7.0}, 'type': 'Feature'}, {'geometry': {'coordinates': [[[32.749736621113996, 39.8008647606535], [32.75187010941153, 39.80053688153623], [32.75363075487871, 39.800186546167964], [32.753796998205324, 39.80019554223934], [32.75396315512424, 39.800208999765964], [32.754201235379334, 39.80020899328301], [32.75458746858858, 39.80023595125218], [32.754901863406246, 39.80024945578611], [32.755189383077116, 39.800191007441], [32.755584656697366, 39.800002384547064], [32.75607415990523, 39.79972840878899], [32.75647390906304, 39.79950387526086], [32.757062375554646, 39.799207380108875], [32.757619313921644, 39.798960345375725], [32.757888824140394, 39.79883459349147], [32.75806393218699, 39.798740260374636], [32.75820768765769, 39.79864141785724], [32.758373923509005, 39.798502167638155], [32.75865686836205, 39.79825517539767], [32.758845497827004, 39.79809799815466], [32.75901164650443, 39.79798122830143], [32.759088045520116, 39.797940793173616], [32.7591778810424, 39.79794073311611], [32.75952817852941, 39.79750510884653], [32.75983368656539, 39.79707387095765], [32.75999535481098, 39.79686729101755], [32.76021989839986, 39.79661125001412], [32.76060619489892, 39.79623848813391], [32.7608936984539, 39.79595548189496], [32.761167678766874, 39.79568597504613], [32.76147309575001, 39.79535808955983], [32.761756031984774, 39.795048156970026], [32.762056968474056, 39.794693318422816], [32.7622680713587, 39.79446425917037], [32.762384862484865, 39.7943160797559], [32.762519568307525, 39.79417236707058], [32.76273523505883, 39.79393425937583], [32.76294185784734, 39.7937231575418], [32.76318887445262, 39.79346266737148], [32.76344484779144, 39.79322010736958], [32.763920963378496, 39.79277997202888], [32.76424437274945, 39.79248797994475], [32.764527301275905, 39.79220950197009], [32.7647160059834, 39.79199843365579], [32.76486870926265, 39.79185465118481], [32.76518307231363, 39.79150885076583], [32.766085934818186, 39.790614963161936], [32.76635542260724, 39.79042182507633], [32.76747384528087, 39.790552139439065], [32.76776124329887, 39.79065545744475], [32.768547298996566, 39.791068622376095], [32.76891565016699, 39.791477361953525], [32.7692165654705, 39.79156723987468], [32.7695533931925, 39.791580706423936], [32.76983639306984, 39.79167055028892], [32.77002052342516, 39.79178732583697], [32.76997117514468, 39.791939998137806], [32.770074436178895, 39.7920298606151], [32.770290000785465, 39.79202983078728], [32.77082903948489, 39.791953515569105], [32.77092782131081, 39.791850165067444], [32.77107603693056, 39.79164803418358], [32.77152972523564, 39.79147738073305], [32.77194741294398, 39.791261809488894], [32.773038904637104, 39.79078568844279], [32.77369014255837, 39.79055212991834], [32.77457949498284, 39.790049041581604], [32.775868598665916, 39.789546008588815], [32.78123152154608, 39.7938085081235], [32.780261366387236, 39.796216016161296], [32.783962390521786, 39.79535361493973], [32.78811706617441, 39.797424243241096], [32.78847191369502, 39.798803144413085], [32.78817096932347, 39.80006527082641], [32.78820248456988, 39.80025838237243], [32.78836867136311, 39.80245930290344], [32.78863810004704, 39.80455685522891], [32.78968463727687, 39.80635352422486], [32.78909179601309, 39.80799289115684], [32.786594419548265, 39.81040037497574], [32.785974608085866, 39.812987512222385], [32.78506735847641, 39.81404302580922], [32.78171659564996, 39.81557469938063], [32.78367942999199, 39.81871427830147], [32.78701221752608, 39.818363977111645], [32.78530536589732, 39.82082532650094], [32.79666905397546, 39.82092415723824], [32.79585161698474, 39.826893469989926], [32.79589199821683, 39.82738753271713], [32.795977323965644, 39.827895129954044], [32.79590103878897, 39.82786360026332], [32.79370915001027, 39.82814207901006], [32.79382590499273, 39.82881584611361], [32.79389323708229, 39.829031475300404], [32.79392922787398, 39.8291886682067], [32.79386628703135, 39.829291965197044], [32.79362829968923, 39.82938630835344], [32.79320157424349, 39.829521051221484], [32.792792842598494, 39.829565965942614], [32.79260866742604, 39.82960189436957], [32.79239306408778, 39.82990732758054], [32.79222688388577, 39.83001063325496], [32.79182710314476, 39.83007802861449], [32.791683395230926, 39.83014537356687], [32.79156216035561, 39.83029809046317], [32.79140941109481, 39.83053612486273], [32.79127465746919, 39.83067089840622], [32.79073572728199, 39.830828103441924], [32.79040783865452, 39.83093587407627], [32.7902416552008, 39.83106611614518], [32.79012928747812, 39.83129972188722], [32.790075471474914, 39.83163209485512], [32.78998557715949, 39.831852177035636], [32.789792441881055, 39.83204532801795], [32.78941064774344, 39.83223397179186], [32.78897503558252, 39.832427076844155], [32.78886723010995, 39.83260226079273], [32.78872343189718, 39.832705571262885], [32.78840905557384, 39.83278640531606], [32.78805868541519, 39.83296156943357], [32.78777573630394, 39.83319513074575], [32.78762306745096, 39.83364877919042], [32.78719631674867, 39.83395870849017], [32.78682355422515, 39.834201239949984], [32.786257562218275, 39.83438542209449], [32.78583984724339, 39.83445277856939], [32.78479783420373, 39.83427311994315], [32.78398038768037, 39.83427311944595], [32.78311798436622, 39.83412037107524], [32.7822062313889, 39.833779051869264], [32.78173459320661, 39.833846444798546], [32.78148305768788, 39.83396319436576], [32.78114618339821, 39.83434950234543], [32.780935033606, 39.83470435232952], [32.78029279797516, 39.83531518813974], [32.78002773896445, 39.83546786911309], [32.77905757230634, 39.8364919820389], [32.777939190988356, 39.83748009854475], [32.7774720971553, 39.837560944822975], [32.777287894184845, 39.83764629757871], [32.777022913449365, 39.83807297354644], [32.774786093700826, 39.83868836266015], [32.77461092832884, 39.83843231796562], [32.77347906338774, 39.83725551493303], [32.77300747080482, 39.83675246686612], [32.77250435592509, 39.8362269637203], [32.77104908082289, 39.83485702237895], [32.7704742164414, 39.834313536081574], [32.77007891455332, 39.83402606988442], [32.76975104535048, 39.83384639911904], [32.768920128592455, 39.83347807887687], [32.76576700986774, 39.832157605988655], [32.76546608435519, 39.83223845218033], [32.76526394528111, 39.83231482642599], [32.76512019978117, 39.83239114542733], [32.76494501775282, 39.83254839740579], [32.76486423065874, 39.83267414803729], [32.76485518732332, 39.83279090413057], [32.7649226247481, 39.833356815915224], [32.76505284861424, 39.834362979840265], [32.76511572118834, 39.834866025319975], [32.76510676400208, 39.83516691363866], [32.76495406108026, 39.83620901332459], [32.764248851380664, 39.83636621396977], [32.76354372291943, 39.836500943083486], [32.76291489958319, 39.83650092946893], [32.762348946643975, 39.83641108561303], [32.7611811150663, 39.83602031960049], [32.75782594709982, 39.8347672096278], [32.75514442049792, 39.83376556273185], [32.74985781974502, 39.83160512823141], [32.75047319990764, 39.828761942516465], [32.751308660389206, 39.82559535943011], [32.75173530335459, 39.82399639231414], [32.75172634499049, 39.823376571738166], [32.75218899178276, 39.8234080025868], [32.75206770978843, 39.82292293224018], [32.75297947465109, 39.82286904274753], [32.753177159011905, 39.82236143493494], [32.752642592052055, 39.82222223474213], [32.7524539510917, 39.81994503484322], [32.752260830623214, 39.819001762972206], [32.75374755591789, 39.816854792501886], [32.75285371446581, 39.81412388769077], [32.75336579863228, 39.812691103168014], [32.75276387336161, 39.80981652852112], [32.75135801772255, 39.80669485776069], [32.75116489517547, 39.8032722926969], [32.749736621113996, 39.8008647606535]]], 'type': 'Polygon'}, 'id': '0000111e3ac6575739fc', 'properties': {'ADI': 'Taşpınar Mh.', 'ID': 14401.0, 'ILCE_ID': 1744.0, 'IL_ID': 6, 'Nufus': 1102.0, 'TIP': 'Mahalle', 'TIPKOD': 7.0}, 'type': 'Feature'}, {'geometry': {'coordinates': [[[32.72475896142121, 39.84180997219043], [32.72519010969514, 39.840907203464134], [32.72837015967957, 39.83683330928795], [32.72883730652469, 39.83614158893436], [32.72922802988084, 39.83549485075655], [32.7296726858866, 39.83431353502207], [32.7296726858866, 39.83423719057448], [32.73051710479409, 39.833707204484575], [32.733279488715844, 39.831106575086615], [32.733742046955086, 39.83040140537566], [32.733908236579445, 39.8295120614996], [32.73477510621724, 39.829534484615515], [32.73590249094844, 39.829318939073104], [32.737568905752, 39.82885178796048], [32.73826060247619, 39.82871255979137], [32.7390151832002, 39.82861824507076], [32.73982368711648, 39.82862719319759], [32.74035814905095, 39.8286721406218], [32.74361904700803, 39.82917517149144], [32.7440502878467, 39.82929192814674], [32.74766149211451, 39.830729258729484], [32.74985781974502, 39.83160512823141], [32.75514442049792, 39.83376556273185], [32.75782594709982, 39.8347672096278], [32.7611811150663, 39.83602031960049], [32.762348946643975, 39.83641108561303], [32.76291489958319, 39.83650092946893], [32.76354372291943, 39.836500943083486], [32.764248851380664, 39.83636621396977], [32.76495406108026, 39.83620901332459], [32.76510676400208, 39.83516691363866], [32.76511572118834, 39.834866025319975], [32.76505284861424, 39.834362979840265], [32.7649226247481, 39.833356815915224], [32.76485518732332, 39.83279090413057], [32.76486423065874, 39.83267414803729], [32.76494501775282, 39.83254839740579], [32.76512019978117, 39.83239114542733], [32.76526394528111, 39.83231482642599], [32.76546608435519, 39.83223845218033], [32.76576700986774, 39.832157605988655], [32.768920128592455, 39.83347807887687], [32.76975104535048, 39.83384639911904], [32.77007891455332, 39.83402606988442], [32.7704742164414, 39.834313536081574], [32.77104908082289, 39.83485702237895], [32.77250435592509, 39.8362269637203], [32.77300747080482, 39.83675246686612], [32.77347906338774, 39.83725551493303], [32.77461092832884, 39.83843231796562], [32.774786093700826, 39.83868836266015], [32.777022913449365, 39.83807297354644], [32.777287894184845, 39.83764629757871], [32.7774720971553, 39.837560944822975], [32.777939190988356, 39.83748009854475], [32.77905757230634, 39.8364919820389], [32.78002773896445, 39.83546786911309], [32.78029279797516, 39.83531518813974], [32.780935033606, 39.83470435232952], [32.78114618339821, 39.83434950234543], [32.78148305768788, 39.83396319436576], [32.78173459320661, 39.833846444798546], [32.7822062313889, 39.833779051869264], [32.78311798436622, 39.83412037107524], [32.78398038768037, 39.83427311944595], [32.78479783420373, 39.83427311994315], [32.78583984724339, 39.83445277856939], [32.786257562218275, 39.83438542209449], [32.78682355422515, 39.834201239949984], [32.78719631674867, 39.83395870849017], [32.78762306745096, 39.83364877919042], [32.78777573630394, 39.83319513074575], [32.78805868541519, 39.83296156943357], [32.78840905557384, 39.83278640531606], [32.78872343189718, 39.832705571262885], [32.78886723010995, 39.83260226079273], [32.78897503558252, 39.832427076844155], [32.78941064774344, 39.83223397179186], [32.789792441881055, 39.83204532801795], [32.78998557715949, 39.831852177035636], [32.790075471474914, 39.83163209485512], [32.79012928747812, 39.83129972188722], [32.7902416552008, 39.83106611614518], [32.79040783865452, 39.83093587407627], [32.79073572728199, 39.830828103441924], [32.79127465746919, 39.83067089840622], [32.79140941109481, 39.83053612486273], [32.79156216035561, 39.83029809046317], [32.791683395230926, 39.83014537356687], [32.79182710314476, 39.83007802861449], [32.79222688388577, 39.83001063325496], [32.79239306408778, 39.82990732758054], [32.79260866742604, 39.82960189436957], [32.792792842598494, 39.829565965942614], [32.79320157424349, 39.829521051221484], [32.79362829968923, 39.82938630835344], [32.79386628703135, 39.829291965197044], [32.79392922787398, 39.8291886682067], [32.79389323708229, 39.829031475300404], [32.79382590499273, 39.82881584611361], [32.79370915001027, 39.82814207901006], [32.79590103878897, 39.82786360026332], [32.795977323965644, 39.827895129954044], [32.7961839652395, 39.82848349360752], [32.79643098710976, 39.82896859823524], [32.79670495768211, 39.8295659918416], [32.79695654157211, 39.830019603629026], [32.797140708849476, 39.83039238215996], [32.797275454682044, 39.83073826975197], [32.79739220555896, 39.831214348684085], [32.79744610377979, 39.83158719230071], [32.79744610377979, 39.83214408678105], [32.797257459881536, 39.83287625523373], [32.79700596283786, 39.8337745568871], [32.79688912541639, 39.83413841684364], [32.79688912541639, 39.83458754559308], [32.79692511514494, 39.83491090776632], [32.79700596283786, 39.83528369741631], [32.79719013002547, 39.83575982081067], [32.79750895630145, 39.83626287968136], [32.7977605381967, 39.836545883066194], [32.79875316991285, 39.837354347550566], [32.80115614391381, 39.83915997975961], [32.80337499142842, 39.8408263375184], [32.806011510075855, 39.84282059181321], [32.80556236661558, 39.84315743569572], [32.805342314003845, 39.84326975297063], [32.80510874433562, 39.84333713445719], [32.80489316757727, 39.84337307436233], [32.804655120024925, 39.843368534556696], [32.80435413758139, 39.843310186999105], [32.803172841725925, 39.84300027142162], [32.802301475467615, 39.84279816977221], [32.801910774479616, 39.84273077439406], [32.801160620917194, 39.84279815046713], [32.7979222321859, 39.84362907390877], [32.79527215744863, 39.84419949337559], [32.79451308627761, 39.84436119069176], [32.793259952043634, 39.844760973554784], [32.79282874767731, 39.84485530669224], [32.79266704556739, 39.845147262861545], [32.79215507328937, 39.84551549203022], [32.79167891780912, 39.845937764206305], [32.791130948772825, 39.84648574024065], [32.79060992770015, 39.846988745844186], [32.79035393669366, 39.84724032662604], [32.78998557715949, 39.8475592308449], [32.789729584577834, 39.847676008455245], [32.78954092632849, 39.84772088753519], [32.78934331267886, 39.84773435880224], [32.78925798134998, 39.84773439784265], [32.7840836344758, 39.85232475718929], [32.7779167147303, 39.848152085871575], [32.78199956164987, 39.844778907707116], [32.78023441271642, 39.845290981180796], [32.78007269054129, 39.845308947956205], [32.77990649016755, 39.84529992113225], [32.77906205028487, 39.84521459088875], [32.77799757756647, 39.845075381271585], [32.77782241773145, 39.84503943838413], [32.77649286378779, 39.84468463936603], [32.77402704157473, 39.84611743378332], [32.76906834713952, 39.84684501070687], [32.767298667307145, 39.84778374349007], [32.76573109522113, 39.847698442645076], [32.76301816778316, 39.84980051337188], [32.760799299533225, 39.85121088557473], [32.760004312447336, 39.850555077567435], [32.753186117248354, 39.84960734487416], [32.751380499850754, 39.8495939035495], [32.75111097240066, 39.850811097049416], [32.74975453819149, 39.850829072420716], [32.74966021507988, 39.851579146880816], [32.75034295738389, 39.85336232632754], [32.748838265144066, 39.8540675283408], [32.749525492237446, 39.85522631162055], [32.74630949138571, 39.85521734307193], [32.743996361305506, 39.85512304351874], [32.742069459393264, 39.85483108619378], [32.739931458438114, 39.85401361008319], [32.73635168386822, 39.855145446856724], [32.73543537645787, 39.85477266608066], [32.73514797333993, 39.85422017606206], [32.73392624259299, 39.85342969848997], [32.734662849512894, 39.85263023013184], [32.734052026139615, 39.85128720989268], [32.732214967876104, 39.85221696481092], [32.73227786072398, 39.84996219298353], [32.73271802341921, 39.849611831580546], [32.73207117572614, 39.84908182665245], [32.73208470201851, 39.8479949175887], [32.72795694574857, 39.84677317596636], [32.72742241882355, 39.847716440426325], [32.72575153025739, 39.84618479604839], [32.72624565706455, 39.84568618347157], [32.72625013736642, 39.845016977495085], [32.72757965825642, 39.84499000888959], [32.726735215039824, 39.84330120557415], [32.72588180420056, 39.843337131479686], [32.72591325258125, 39.84262299970912], [32.72475896142121, 39.84180997219043]]], 'type': 'Polygon'}, 'id': '00006461d6a7c11fcac3', 'properties': {'ADI': 'Ahlatlıbel Mh.', 'ID': 14088.0, 'ILCE_ID': 1231.0, 'IL_ID': 6, 'Nufus': 6332.0, 'TIP': 'Mahalle', 'TIPKOD': 7.0}, 'type': 'Feature'}, {'geometry': {'coordinates': [[[32.719014193565044, 39.882795653941095], [32.72059523678594, 39.882512622987576], [32.72396843202764, 39.88147056714483], [32.72473199305338, 39.88111129912724], [32.72512273212731, 39.88043754609448], [32.72510481072071, 39.879988347858635], [32.724390622874196, 39.87866334700436], [32.72452089855432, 39.87799408597783], [32.72454778081682, 39.8778459361561], [32.72175405552375, 39.87910356819462], [32.720851230963234, 39.8779402162498], [32.72174061402556, 39.87736532745298], [32.72134081480876, 39.87652538186665], [32.72063564789193, 39.8757977748321], [32.721313845538, 39.87544294572261], [32.72167323418103, 39.87413589043125], [32.720262900068946, 39.8729635735045], [32.72132289273824, 39.87234374332954], [32.72366746920101, 39.87194395929394], [32.72634448213891, 39.87101867022643], [32.72700024051764, 39.87022819786881], [32.72765599468276, 39.86983294506508], [32.728922602379484, 39.868467506216696], [32.72985688887257, 39.86803627220114], [32.72971765970525, 39.86753323221325], [32.72938974669541, 39.866886465028934], [32.72920106269396, 39.865772565745864], [32.7290169446813, 39.8646541753397], [32.728873234181314, 39.86361209462563], [32.72981191511529, 39.863683954117995], [32.72981191511529, 39.86332463367289], [32.72971765970525, 39.86167174431434], [32.72999611784989, 39.860485928015095], [32.73004548550476, 39.86001884113188], [32.73097976171541, 39.859731360191134], [32.731640056525436, 39.85994695785797], [32.73210710224396, 39.860378180476296], [32.73266857090342, 39.86009069365472], [32.73369716106401, 39.85958767625625], [32.73486944310655, 39.859259767715585], [32.73664812943508, 39.85894084943627], [32.738292047040765, 39.85894085416787], [32.74020997484311, 39.859223802004145], [32.7409465363666, 39.85945737429621], [32.74383914718469, 39.85806945902887], [32.744319747835775, 39.85833896662163], [32.744804825706744, 39.85853665210727], [32.74508780826759, 39.858657896613884], [32.74525845886275, 39.858972285766285], [32.74555944412241, 39.85934508982874], [32.74574353226457, 39.859839196911814], [32.74585138346895, 39.860158043789276], [32.74595914841616, 39.86031530569366], [32.74612531812335, 39.860463511151515], [32.746305011965134, 39.86055785659796], [32.746538544571585, 39.86062074944164], [32.746965293661624, 39.86073748761958], [32.747382996075984, 39.86080483318732], [32.74944012747971, 39.86073751935197], [32.75154666071331, 39.85983917863701], [32.75347803473373, 39.859336100029374], [32.75543641850277, 39.859488840973704], [32.75616399808803, 39.859569655880385], [32.75692757637332, 39.85967296263576], [32.759231799544054, 39.860176014159315], [32.75979320486539, 39.86041409424903], [32.76040861109802, 39.860620726600004], [32.76136078233546, 39.86089920395988], [32.7626992332128, 39.86129444494961], [32.76354372291943, 39.86154593813778], [32.763943442731545, 39.86167624475634], [32.764248851380664, 39.86180645487363], [32.76458121694233, 39.86199963827089], [32.764823750960595, 39.86217478398055], [32.7650708491223, 39.86240832041503], [32.765241466219926, 39.86261052284788], [32.76547056293259, 39.86294735050156], [32.765614307937305, 39.86334263077805], [32.76572213808906, 39.863796248777334], [32.765879318416985, 39.86456428079362], [32.76595562614885, 39.86499102631303], [32.76600058395053, 39.865444640378136], [32.76596019083077, 39.865947706582666], [32.76644973024583, 39.866334006794325], [32.76731658129275, 39.86680112520955], [32.76792298506863, 39.86708859474712], [32.768484428544234, 39.86708860366725], [32.76902339069427, 39.866801138628084], [32.76940069694851, 39.866657391478064], [32.76970608920713, 39.866693344730024], [32.77042926061787, 39.867070641815964], [32.77082903948489, 39.86750176799876], [32.771318641577956, 39.86768142816688], [32.77195189123589, 39.86773536737935], [32.77249092112183, 39.86771741184074], [32.77302986202881, 39.867429931079904], [32.77335780677485, 39.86726826555701], [32.77368566434307, 39.86723233197725], [32.77399112984627, 39.86735809011522], [32.77438633039925, 39.86760959923621], [32.77450310760558, 39.86775336086622], [32.774925347372545, 39.868094723310676], [32.77523080914907, 39.86822047251703], [32.775536183889336, 39.868256400008775], [32.77576973552475, 39.86822045032418], [32.776191970028016, 39.86804078712861], [32.776447996743904, 39.86773534517811], [32.776636593205694, 39.86734011324279], [32.77684775193376, 39.86698075782925], [32.77705882410626, 39.866657423879936], [32.77738675584867, 39.86636990351151], [32.7778088975153, 39.866154336730624], [32.777948147043816, 39.86615437364421], [32.7780425300418, 39.86631605153084], [32.77829855209384, 39.86645977443462], [32.779237294097065, 39.86669330124256], [32.78082730570845, 39.86705264474088], [32.78139324187583, 39.86721436591652], [32.78167173091353, 39.86723228269191], [32.78209394088289, 39.86726821208853], [32.78244424551717, 39.867304145010344], [32.782704734290924, 39.86739398382585], [32.78286645227439, 39.86737606407348], [32.78309998705477, 39.86716048046852], [32.78328865727599, 39.86694484110498], [32.78354466610271, 39.86676515866907], [32.78382762700812, 39.866675356058394], [32.784106109368985, 39.866747256861835], [32.784294777720525, 39.86685499786829], [32.784483445721435, 39.866944811499415], [32.78469450202444, 39.86696285389347], [32.78499993442036, 39.86690894980092], [32.78537278975051, 39.866783133318904], [32.78598356343264, 39.86662149836569], [32.78656746755867, 39.866567566685035], [32.787128980214874, 39.866621465292006], [32.78776230352067, 39.86672922626051], [32.78818448815988, 39.86681904580302], [32.788440484639295, 39.86687295650375], [32.78916817241674, 39.86699873839081], [32.790313467151506, 39.86716044189656], [32.79139150135807, 39.86784317628491], [32.792235838680796, 39.86856185381696], [32.79251886145863, 39.86910078053506], [32.79270303679414, 39.86953199311716], [32.79303091800381, 39.869963197362324], [32.79354744930375, 39.87039434164786], [32.79429748698714, 39.87057403846099], [32.79504760522569, 39.87083003473253], [32.79626481352329, 39.87136902349392], [32.79692055185471, 39.87162060909924], [32.810130330495745, 39.872559334566276], [32.81101514521714, 39.87258178455713], [32.81181911639712, 39.88014110522118], [32.81209313145716, 39.88327619396237], [32.80968111920733, 39.883249297639374], [32.809564382486585, 39.882755230476135], [32.80908374603098, 39.88190184182561], [32.809029853998894, 39.881690695684995], [32.80894006257825, 39.8809900375135], [32.80880533225317, 39.87974136779523], [32.80866603898748, 39.87906763117341], [32.80544114833459, 39.879018167942355], [32.805126737742405, 39.87898225244791], [32.80362655876592, 39.87889244129215], [32.80248115609073, 39.878856506860274], [32.801663679864475, 39.87869484776159], [32.80086419120883, 39.878546588748335], [32.80052729516692, 39.87851967773379], [32.79908103156264, 39.87822318813248], [32.797297926653314, 39.87830404262215], [32.79544289601854, 39.878488199352], [32.79544289601854, 39.8785915134052], [32.79513293168492, 39.88039261428518], [32.79481857522236, 39.88164576813813], [32.79478706203105, 39.88189280792586], [32.79523625323472, 39.88501445306288], [32.79527215744863, 39.88544565719184], [32.79532157953524, 39.886415854694654], [32.79522729870457, 39.88725128017282], [32.794998183005575, 39.88853589236836], [32.7950072236574, 39.888612221072606], [32.795177876572026, 39.88897151572233], [32.7955371766488, 39.88969022209897], [32.79589199821683, 39.89021569156567], [32.79495332414034, 39.89066037996886], [32.794346909548686, 39.89084456401858], [32.79400103721444, 39.89106011618099], [32.79049764649058, 39.89876319934855], [32.78808563700879, 39.903838654093825], [32.78775326222324, 39.90567126259774], [32.78639680016123, 39.90798891025568], [32.78609593574562, 39.90868957891424], [32.78353123275954, 39.90859076042274], [32.777831373797206, 39.908325730707006], [32.77207771393348, 39.90810564141449], [32.7684889069887, 39.90796638726095], [32.76366499123786, 39.90778227059537], [32.75892637583296, 39.90758463868757], [32.74953445079516, 39.90722081358696], [32.743668494212415, 39.9069917351174], [32.7339217626282, 39.90660096511024], [32.73183760997447, 39.90649320178896], [32.73187362272945, 39.90630898692942], [32.73191402937002, 39.90617426603631], [32.73203972924334, 39.905940736300934], [32.73220592164136, 39.905716114472554], [32.732726983454356, 39.90512326728543], [32.73367915501002, 39.89692613730843], [32.7301487870299, 39.89482404572443], [32.72874744424902, 39.89399761899136], [32.72784916177291, 39.8935305001703], [32.727188842429726, 39.89322508624922], [32.72533382538176, 39.89253785753531], [32.724561308106495, 39.89225037740944], [32.72315092772666, 39.8914778551482], [32.72269728239138, 39.891221827047254], [32.721601373786335, 39.89040886616227], [32.72064917569995, 39.88946557117089], [32.71965647109169, 39.88827982372534], [32.719288200301996, 39.887898040364306], [32.720887161430866, 39.88754321546043], [32.72131841222013, 39.88646072766347], [32.71907261393099, 39.88355915061221], [32.719014193565044, 39.882795653941095]]], 'type': 'Polygon'}, 'id': '0000bf7667119eba08a8', 'properties': {'ADI': 'Üniversiteler Mh.', 'ID': 14192.0, 'ILCE_ID': 1231.0, 'IL_ID': 6, 'Nufus': 25668.0, 'TIP': 'Mahalle', 'TIPKOD': 7.0}, 'type': 'Feature'}, {'geometry': {'coordinates': [[[32.73277186977238, 39.91090840792909], [32.7328077960434, 39.910823041852154], [32.733499525062946, 39.909879803447744], [32.734177723378146, 39.908792898390246], [32.734429289695946, 39.908321231529], [32.73449218117843, 39.90813259650404], [32.73451466702784, 39.90799335887659], [32.73451914696658, 39.907836133224194], [32.73450562099706, 39.90767898111468], [32.73444272952287, 39.90747686470443], [32.73432599250562, 39.90724328854882], [32.73407890589111, 39.90693786615514], [32.7339217626282, 39.90660096511024], [32.743668494212415, 39.9069917351174], [32.74953445079516, 39.90722081358696], [32.75892637583296, 39.90758463868757], [32.76366499123786, 39.90778227059537], [32.7684889069887, 39.90796638726095], [32.77207771393348, 39.90810564141449], [32.777831373797206, 39.908325730707006], [32.78353123275954, 39.90859076042274], [32.78609593574562, 39.90868957891424], [32.78603746771477, 39.911932484160715], [32.785988127214814, 39.91337872953166], [32.78579050664738, 39.914088419279615], [32.785543458869675, 39.914596007242146], [32.78527841356545, 39.91502268379075], [32.78491012171931, 39.91546283816021], [32.78438459096597, 39.9159344970491], [32.78353123275954, 39.91649594408525], [32.781545920097756, 39.917502067567845], [32.780126597961605, 39.91820717481763], [32.77743610052815, 39.91713374748333], [32.77637161077142, 39.916729464475345], [32.77574725878673, 39.91658575864163], [32.77493430369368, 39.916509394205384], [32.77421564253029, 39.916522847513896], [32.77094582077878, 39.91689118371958], [32.76997117514468, 39.91691361751504], [32.7688258232452, 39.916877713147635], [32.7546503476298, 39.91517092322423], [32.75324451803975, 39.914901388397595], [32.747302108899525, 39.91306440200332], [32.74555496466885, 39.912736447533256], [32.744279346111725, 39.912570292203455], [32.74331814216166, 39.912547810375344], [32.737851908404046, 39.912323232629234], [32.736095642423415, 39.91205825724507], [32.734613484092655, 39.911631529360484], [32.73277186977238, 39.91090840792909]]], 'type': 'Polygon'}, 'id': '0000a2e746848ed003f1', 'properties': {'ADI': 'Mustafa Kemal Mh.', 'ID': 14169.0, 'ILCE_ID': 1231.0, 'IL_ID': 6, 'Nufus': 7565.0, 'TIP': 'Mahalle', 'TIPKOD': 7.0}, 'type': 'Feature'}]}\n"
          ]
        }
      ]
    },
    {
      "cell_type": "code",
      "source": [
        "mahalleler=ee.FeatureCollection(json_data)\n",
        "aoi_geometry = mahalleler.geometry()\n"
      ],
      "metadata": {
        "id": "SgBq_Zg9BtSo"
      },
      "execution_count": 7,
      "outputs": []
    },
    {
      "cell_type": "code",
      "source": [
        "s2= ee.ImageCollection('COPERNICUS/S2')\\\n",
        ".filterDate(\"2020-11-01\",\"2020-12-31\")\\\n",
        ".filterBounds(aoi_geometry)\\\n",
        ".filter(ee.Filter.lt('CLOUDY_PIXEL_PERCENTAGE', 5))\\\n",
        ".map(lambda image: image.clip(aoi_geometry.bounds())) ## tum imageleri clip yapalim. \n",
        "\n",
        "\n",
        " ## .select([\"B2\", \"B3\", \"B4\", \"B5\", \"B6\", \"B7\", \"B8\", \"B8A\", \"B11\", \"B12\"])\n",
        "## CollectionInfo\n",
        "images_info= s2.aggregate_array('system:index').getInfo()\n",
        "print(images_info)\n",
        "print(\"image sayisi:\"+str(len(images_info)))\n",
        "\n",
        "\n"
      ],
      "metadata": {
        "colab": {
          "base_uri": "https://localhost:8080/"
        },
        "id": "RG1hrK2NDQ9X",
        "outputId": "67195dca-1ee3-49ee-db24-646c94c5f81c"
      },
      "execution_count": 8,
      "outputs": [
        {
          "output_type": "stream",
          "name": "stdout",
          "text": [
            "['20201102T084119_20201102T084124_T36TVK', '20201117T084241_20201117T084312_T36TVK', '20201127T084311_20201127T084312_T36TVK', '20201202T084329_20201202T084324_T36TVK', '20201207T084341_20201207T084335_T36TVK']\n",
            "image sayisi:5\n"
          ]
        }
      ]
    },
    {
      "cell_type": "code",
      "source": [
        "json_layer = GeoJSON(\n",
        "    data=json_data,\n",
        "    name='Ankara Mahalleler JSON',\n",
        "    hover_style={'fillColor': 'red', 'fillOpacity': 0.5},\n",
        ")\n",
        "lon,lat =32.717443, 39.824942 ## Ankara\n",
        "Map = geemap.Map(center=[lat,lon], zoom=14) ## Haritayi olusturur. \n",
        "## Harita da gormek icin rgb bandlarini visualize ediyoruz. \n",
        "rgb = ['B4','B3','B2']\n",
        "rgbViz = {\"min\":0.0, \"max\":3000,\"bands\":rgb}\n",
        "firstImageClipped = s2.first().clip(aoi_geometry)\n",
        "Map.centerObject(aoi_geometry,12)\n",
        "Map.addLayer(mahalleler, {}, 'Mahalleler');\n",
        "Map.addLayer(firstImageClipped, rgbViz, \"S2\")\n",
        "Map.add_layer(json_layer)\n",
        "Map\n"
      ],
      "metadata": {
        "colab": {
          "base_uri": "https://localhost:8080/",
          "height": 621,
          "referenced_widgets": [
            "1d3f3e9eda774d40b7da98c3e90907f4",
            "7cbde69beb3a4e95a1bdf75c1736b1cd",
            "96a87df258a8436cb490bd7b7cf2bc84",
            "f3c125c92df04e6cb451843e9bf0d476",
            "7cac4f6c148148349a1933390015fb07",
            "d983bd112c62440d9fdd8fc42032623f",
            "c7be556e86ec497fbc41ce59deafc5e1",
            "0c4ea5f7d2af4764989af55f9980f8ae",
            "88c56d6850d94beba2d2d1896728f6e3",
            "2e5b5739f9f749b6a7820a137928b774",
            "2bd74a5f90684ee4b98405d0bb620d30",
            "a4bced3a1123478c9792f7d1908f6523",
            "c34cf78ef6ee46b8ac7db99e6caede04",
            "0adc8dc340614964a91aa0cc6b3d3fb4",
            "128b403b50c347d49d3416590df6036e",
            "f534af8d68cb4ac787324c621a238f19",
            "75c8ca602bd747eab793df4d7827fe31",
            "ec216b47a6804669ab88017d6aa8bcf7",
            "ad98d5b7231341f0b38c73c1665ff94e",
            "11600aae8a5244a98e1356f9812f9ea1",
            "a2f4c3a9522b4c55a0c6c32de216fd34",
            "69ea9b3749834421a20a5cc00338503d",
            "02e75997b37d45e6a1a144edfc14ba39",
            "e41a2aea8932424fa020c326db0ff2e7",
            "9e6738f66efe46c9b39f335fedf7a376",
            "e9bdadb1fed44851b8fab4fa48d5dba1",
            "6ec0e96a5a39493d84e949b794ba376d",
            "8a7e8cd969a24378926b23b86bd98601"
          ]
        },
        "id": "htXXtcDO87yK",
        "outputId": "ac7b8175-d317-43bc-822f-364fa99a7d6f"
      },
      "execution_count": 9,
      "outputs": [
        {
          "output_type": "display_data",
          "data": {
            "application/vnd.jupyter.widget-view+json": {
              "model_id": "1d3f3e9eda774d40b7da98c3e90907f4",
              "version_minor": 0,
              "version_major": 2
            },
            "text/plain": [
              "Map(center=[39.86462429494558, 32.69548924623127], controls=(WidgetControl(options=['position', 'transparent_b…"
            ]
          },
          "metadata": {
            "application/vnd.jupyter.widget-view+json": {
              "colab": {
                "custom_widget_manager": {
                  "url": "https://ssl.gstatic.com/colaboratory-static/widgets/colab-cdn-widget-manager/a8874ba6619b6106/manager.min.js"
                }
              }
            }
          }
        }
      ]
    },
    {
      "cell_type": "code",
      "source": [
        "############# Calisan Ornek Sentinel Imageleri Tiff olarak Google Drive'a indirme ################################\n",
        "## Read More : https://github.com/gee-community/gee_tools\n",
        "import geetools\n",
        "images_info= s2.aggregate_array('system:index').getInfo()\n",
        "print(images_info)\n",
        "print(\"image sayisi:\"+str(len(images_info)))\n",
        "\n",
        "data_type = 'float32'\n",
        "name_pattern = 'S2SR_{system_date}'\n",
        "date_pattern = 'yMMdd' # dd: day, MMM: month (JAN), y: year\n",
        "scale = 10\n",
        "folder_name = 'SentinelImages_Ankara_Clipped'\n",
        "\n",
        "tasks = geetools.batch.Export.imagecollection.toDrive(\n",
        "            collection=s2,\n",
        "            folder=folder_name,\n",
        "            namePattern=name_pattern,\n",
        "            scale=scale,\n",
        "            datePattern=date_pattern,\n",
        "            verbose=True,\n",
        "            maxPixels=1e10)"
      ],
      "metadata": {
        "colab": {
          "base_uri": "https://localhost:8080/"
        },
        "id": "K1BmwJ6xHN9l",
        "outputId": "8f312993-c45d-4c87-b0cd-039fc09dec70"
      },
      "execution_count": null,
      "outputs": [
        {
          "output_type": "stream",
          "name": "stdout",
          "text": [
            "['20201102T084119_20201102T084124_T36TVK', '20201117T084241_20201117T084312_T36TVK', '20201127T084311_20201127T084312_T36TVK', '20201202T084329_20201202T084324_T36TVK', '20201207T084341_20201207T084335_T36TVK']\n",
            "image sayisi:5\n",
            "exporting S2SR_20201102 to folder 'SentinelImages_Ankara_Clipped' in GDrive\n",
            "exporting S2SR_20201117 to folder 'SentinelImages_Ankara_Clipped' in GDrive\n",
            "exporting S2SR_20201127 to folder 'SentinelImages_Ankara_Clipped' in GDrive\n",
            "exporting S2SR_20201202 to folder 'SentinelImages_Ankara_Clipped' in GDrive\n",
            "exporting S2SR_20201207 to folder 'SentinelImages_Ankara_Clipped' in GDrive\n"
          ]
        }
      ]
    },
    {
      "cell_type": "code",
      "source": [
        ""
      ],
      "metadata": {
        "id": "TUgDpN-vKVaM"
      },
      "execution_count": null,
      "outputs": []
    }
  ]
}