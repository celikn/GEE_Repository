{
  "nbformat": 4,
  "nbformat_minor": 0,
  "metadata": {
    "colab": {
      "name": "Raster Data Modification.ipynb",
      "provenance": [],
      "collapsed_sections": [],
      "authorship_tag": "ABX9TyO8RKX8kFUOV8Ziset96KAY",
      "include_colab_link": true
    },
    "kernelspec": {
      "name": "python3",
      "display_name": "Python 3"
    },
    "language_info": {
      "name": "python"
    }
  },
  "cells": [
    {
      "cell_type": "markdown",
      "metadata": {
        "id": "view-in-github",
        "colab_type": "text"
      },
      "source": [
        "<a href=\"https://colab.research.google.com/github/celikn/GEE_Repository/blob/main/Raster_Data_Modification.ipynb\" target=\"_parent\"><img src=\"https://colab.research.google.com/assets/colab-badge.svg\" alt=\"Open In Colab\"/></a>"
      ]
    },
    {
      "cell_type": "code",
      "source": [
        "!pip install rasterio\n",
        "!pip install fiona"
      ],
      "metadata": {
        "id": "r2m0H3misyp2"
      },
      "execution_count": null,
      "outputs": []
    },
    {
      "cell_type": "markdown",
      "source": [
        "Verilen iki raster path bilgisi ile ndvi hesabi\n",
        "\n",
        "\n"
      ],
      "metadata": {
        "id": "Ltr81oK9rOdE"
      }
    },
    {
      "cell_type": "code",
      "source": [
        "import rasterio\n",
        "from rasterio import plot\n",
        "import matplotlib.pyplot as plt\n",
        "import numpy as np\n",
        "%matplotlib inline\n",
        "import os\n",
        "\n",
        "def createIndexImage(bandPaths,outputPath,indexType,showImage,plotAfterProcess):\n",
        "        if indexType==\"NDVI\":\n",
        "           band_a = rasterio.open(bandPaths[0]) #red\n",
        "           band_b= rasterio.open(bandPaths[1]) #red\n",
        "           print(f\"First Band weigth/width: {band_a.height},{band_a.width}\")\n",
        "           print(f\"First Crs : {band_a.crs}\")\n",
        "\n",
        "           #generate nir and red objects as arrays in float64 format\n",
        "           red = band_a.read(1).astype('float64')\n",
        "           nir = band_b.read(1).astype('float64')\n",
        "           #ndvi calculation, empty cells or nodata cells are reported as 0\n",
        "           ndvi=np.where(\n",
        "              (nir+red)==0., \n",
        "              0, \n",
        "              (nir-red)/(nir+red))\n",
        "           \n",
        "           ndviImage = rasterio.open(outputPath,'w',driver='Gtiff',\n",
        "                          width=band_a.width, \n",
        "                          height = band_a.height, \n",
        "                          count=1, crs=band_a.crs, \n",
        "                          transform=band_a.transform, \n",
        "                          dtype='float64')\n",
        "           ndviImage.write(ndvi,1)\n",
        "           ndviImage.close()     \n",
        "           \n",
        "\n",
        "        if showImage==True:\n",
        "          fig, (ax1, ax2) = plt.subplots(1, 2, figsize=(12, 6))\n",
        "          plot.show(band_a, ax=ax1, cmap='Blues') #red\n",
        "          plot.show(band_b, ax=ax2, cmap='Blues') #nir\n",
        "          fig.tight_layout()\n",
        "\n",
        "        if plotAfterProcess==True:\n",
        "          ndvi = rasterio.open(outputPath)\n",
        "          fig = plt.figure(figsize=(18,12))\n",
        "          plot.show(ndvi)\n",
        "        \n",
        "indexType=\"NDVI\"\n",
        "showImage=False\n",
        "plotAfterProcess=False\n",
        "bandPaths=['/content/torchgeotest/Onera Satellite Change Detection dataset - Images/cupertino/imgs_1_rect/B04.tif','/content/torchgeotest/Onera Satellite Change Detection dataset - Images/cupertino/imgs_1_rect/B08.tif']\n",
        "outputPath=\"/content/ndviImage.tif\"\n",
        "\n",
        "createIndexImage(bandPaths,outputPath,indexType=\"NDVI\",showImage=True,plotAfterProcess=True)\n",
        "\n"
      ],
      "metadata": {
        "id": "6apb7-MYrNDy"
      },
      "execution_count": null,
      "outputs": []
    },
    {
      "cell_type": "markdown",
      "source": [
        "\n",
        "Multiband raster verisinin her bir bandindan ayri bir tif olusturma"
      ],
      "metadata": {
        "id": "mbdJIc5DsVCV"
      }
    },
    {
      "cell_type": "code",
      "source": [
        "## Creating Seperate Bands \n",
        "bands = {\n",
        "    \"B1\": \"Coastal Aerosol\",\n",
        "    \"B2\": \"Blue\",\n",
        "    \"B3\": \"Green\",\n",
        "    \"B4\": \"Red\",\n",
        "    \"B5\": \"Vegetation Red Edge 1\",\n",
        "    \"B6\": \"Vegetation Red Edge 2\",\n",
        "    \"B7\": \"Vegetation Red Edge 3\",\n",
        "    \"B8\": \"NIR 1\",\n",
        "    \"B8A\": \"NIR 2\",\n",
        "    \"B9\": \"Water Vapour\",\n",
        "    \"B10\": \"SWIR 1\",\n",
        "    \"B11\": \"SWIR 2\",\n",
        "    \"B12\": \"SWIR 3\"\n",
        "}\n",
        "\n",
        "import os\n",
        "import rasterio\n",
        "\n",
        "out_folder =\"/content/drive/MyDrive/SentinelImages_Ankara_Clipped_2016/All_Bands\"\n",
        "input_tif =\"/content/drive/MyDrive/SentinelImages_Ankara_Clipped_2016/S2SR_20160929.tif\"\n",
        "#out_folder =\"/content/drive/MyDrive/SentinelImages_Ankara_Clipped_2020/All_Bands\"\n",
        "#input_tif =\"/content/drive/MyDrive/SentinelImages_Ankara_Clipped_2020/S2SR_20200928.tif\"\n",
        "src_raster = rasterio.open(input_tif)\n",
        "for band in range(1, src_raster.count + 1):\n",
        "        single_band = src_raster.read(band)\n",
        "\n",
        "        # get the output name\n",
        "        out_name = os.path.basename(input_tif)\n",
        "        file, ext = os.path.splitext(out_name)\n",
        "        name = file + \"_\" + \"B\" + str(band) + \".tif\"\n",
        "        out_img = os.path.join(out_folder, name)\n",
        "\n",
        "        print(out_img + \" done\")\n",
        "\n",
        "        # Copy the metadata\n",
        "        out_meta = src_raster.meta.copy()\n",
        "\n",
        "        out_meta.update({\"count\": 1})\n",
        "\n",
        "        # save the clipped raster to disk\n",
        "        with rasterio.open(out_img, \"w\", **out_meta) as dest:\n",
        "               dest.write(single_band, 1)\n"
      ],
      "metadata": {
        "id": "C1O2-cdzsUWl"
      },
      "execution_count": null,
      "outputs": []
    },
    {
      "cell_type": "markdown",
      "source": [
        "\n",
        "Raster bounding box verisini geojson olarak olusturma\n"
      ],
      "metadata": {
        "id": "jXjqq-sSrbPS"
      }
    },
    {
      "cell_type": "code",
      "source": [
        "# imports\n",
        "from shapely.geometry import box, mapping\n",
        "import fiona\n",
        "import rasterio\n",
        "\n",
        "out_folder =\"/content/drive/MyDrive/SentinelImages_Ankara_Clipped_2016/All_Bands\"\n",
        "input_tif =\"/content/drive/MyDrive/SentinelImages_Ankara_Clipped_2016/S2SR_20160929.tif\"\n",
        "#out_folder =\"/content/drive/MyDrive/SentinelImages_Ankara_Clipped_2020/All_Bands\"\n",
        "#input_tif =\"/content/drive/MyDrive/SentinelImages_Ankara_Clipped_2020/S2SR_20200928.tif\"\n",
        "raster = rasterio.open(input_tif)\n",
        "output_fileName='/content/drive/MyDrive/SentinelImages_Ankara_Clipped_2016/ankara.geojson'\n",
        "#output_fileName='/content/drive/MyDrive/SentinelImages_Ankara_Clipped_2020/ankara.geojson'\n",
        "\n",
        "# create a Polygon from the raster bounds\n",
        "bbox = box(*raster.bounds)\n",
        "\n",
        "# create a schema with no properties\n",
        "schema = {'geometry': 'Polygon', 'properties': {}}\n",
        "\n",
        "# create shapefile\n",
        "#with fiona.open(output_fileName, 'w', driver='ESRI Shapefile',\n",
        "#                crs=raster.crs.to_dict(), schema=schema) as c:\n",
        "#    c.write({'geometry': mapping(bbox), 'properties': {}})\n",
        "\n",
        "\n",
        "with fiona.open(output_fileName,'w',  driver =\"GeoJSON\", schema=schema, encoding = 'utf-8', crs=raster.crs.to_dict()) as geojson:\n",
        "     geojson.write({'geometry': mapping(bbox), 'properties': {}})"
      ],
      "metadata": {
        "id": "GHIudvM8rl8z"
      },
      "execution_count": null,
      "outputs": []
    }
  ]
}